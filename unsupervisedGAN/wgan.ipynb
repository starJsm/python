{
 "cells": [
  {
   "cell_type": "code",
   "execution_count": 1,
   "metadata": {},
   "outputs": [],
   "source": [
    "# pytorch\n",
    "import torch\n",
    "from torch import nn\n",
    "import pytorch_lightning as pl\n",
    "from torch.utils.data import Dataset, DataLoader\n",
    "from torch.nn import functional as F\n",
    "from torch import optim\n",
    "from torch.autograd import Variable\n",
    "\n",
    "# Helper libraries\n",
    "import numpy as np\n",
    "import pandas as pd\n",
    "import time\n",
    "import matplotlib.pyplot as plt\n",
    "import seaborn as sns\n",
    "from qqdm.notebook import qqdm\n",
    "import random\n",
    "from sklearn.decomposition import KernelPCA, PCA, IncrementalPCA\n",
    "#sys\n",
    "import os\n",
    "import glob\n",
    "import math"
   ]
  },
  {
   "cell_type": "code",
   "execution_count": 2,
   "metadata": {},
   "outputs": [],
   "source": [
    "def same_seeds(seed):\n",
    "    # python random\n",
    "    random.seed(seed)\n",
    "    # Numpy\n",
    "    np.random.seed(seed)\n",
    "    # Torch\n",
    "    torch.manual_seed(seed)\n",
    "    if torch.cuda.is_available():\n",
    "        torch.cuda.manual_seed(seed)\n",
    "        torch.cuda.manual_seed_all(seed)\n",
    "    torch.backends.cudnn.benchmark = False\n",
    "    torch.backends.cudnn.deterministic = True\n",
    "\n",
    "# 为了结果可复现\n",
    "Seed = 42\n",
    "same_seeds(Seed)"
   ]
  },
  {
   "cell_type": "code",
   "execution_count": 3,
   "metadata": {},
   "outputs": [],
   "source": [
    "# 加载数据\n",
    "raw_data = pd.read_csv('/home/jsm/code/python/IoT-botnet/data/UNSW-NB15 - CSV Files/unsw15_train.csv')\n",
    "temp = raw_data.loc[raw_data['attack_cat'] == 'Normal']\n",
    "temp = temp.drop(['attack_cat', 'label'], axis=1, inplace=False)\n",
    "temp = temp.sample(1000*3, random_state=Seed)\n",
    "# temp = gdata.iloc[:,-3]\n",
    "# gdata = pd.concat([gdata, temp], axis=1)\n",
    "# gdata.columns = range(gdata.shape[-1])\n",
    "# print(gdata.values.shape)"
   ]
  },
  {
   "cell_type": "code",
   "execution_count": 4,
   "metadata": {},
   "outputs": [
    {
     "name": "stdout",
     "output_type": "stream",
     "text": [
      "(3000, 128)\n"
     ]
    }
   ],
   "source": [
    "ipca = IncrementalPCA(n_components=128, batch_size=150)\n",
    "tr_data = ipca.fit_transform(temp.values)\n",
    "print(tr_data.shape)"
   ]
  },
  {
   "cell_type": "code",
   "execution_count": 5,
   "metadata": {},
   "outputs": [],
   "source": [
    "class MyDataset(Dataset):\n",
    "    def __init__(self, data):\n",
    "        # 在数据1维处增加1个维度 example: (64, 197) --> (64, 1, 197)\n",
    "        self.data = data.unsqueeze(1)\n",
    "        # self.data = torch.FloatTensor(self.data)\n",
    "    \n",
    "    def __getitem__(self, index):\n",
    "        return self.data[index]\n",
    "    \n",
    "    def __len__(self):\n",
    "        return len(self.data)\n",
    "\n",
    "dataset = MyDataset(torch.from_numpy(tr_data).float())"
   ]
  },
  {
   "cell_type": "code",
   "execution_count": 6,
   "metadata": {},
   "outputs": [],
   "source": [
    "#在处理好数据后定义\n",
    "# InputLength = 64\n",
    "workspace_dir = '.'"
   ]
  },
  {
   "cell_type": "code",
   "execution_count": 7,
   "metadata": {},
   "outputs": [],
   "source": [
    "# 网络参数初始化\n",
    "def weights_init(m):\n",
    "    classname = m.__class__.__name__\n",
    "    # 初始化网络层\n",
    "    if classname.find('Conv') != -1:\n",
    "        m.weight.data.normal_(0.0, 0.02)\n",
    "    elif classname.find('BatchNorm') != -1:\n",
    "        m.weight.data.normal_(1.0, 0.02)\n",
    "        m.bias.data.fill_(0)"
   ]
  },
  {
   "cell_type": "code",
   "execution_count": 8,
   "metadata": {},
   "outputs": [],
   "source": [
    "# 生成器\n",
    "class Generator(nn.Module):\n",
    "    \"\"\"\n",
    "    Input shape: (N, 1, in_dim)\n",
    "    Output shape: (N, 1, in_dim)\n",
    "    \"\"\"\n",
    "    def __init__(self, in_dim, dim=32):\n",
    "        super(Generator, self).__init__()\n",
    "        self.in_dim = in_dim\n",
    "        self.dim = dim\n",
    "        self.inlayer = nn.Sequential(\n",
    "            nn.Linear(self.in_dim, self.in_dim, bias=False),\n",
    "            # tf 默认为0.3， torch 默认为0.01\n",
    "            nn.LeakyReLU(negative_slope=0.2)\n",
    "        )\n",
    "        self.midlayer = nn.Sequential(\n",
    "            # tf中一维卷积filter表示卷积核的个数，与torch中的out_channel相同\n",
    "            nn.Conv1d(1, 32, kernel_size=3, padding=1),\n",
    "            nn.LeakyReLU(negative_slope=0.2),\n",
    "\n",
    "            nn.Conv1d(32, 32, kernel_size=3, padding=1),\n",
    "            nn.LeakyReLU(negative_slope=0.2),\n",
    "\n",
    "            nn.Conv1d(32, 32, kernel_size=3, padding=1),\n",
    "            nn.LeakyReLU(negative_slope=0.2)\n",
    "        )\n",
    "        self.outlayer = nn.Sequential(\n",
    "            nn.Conv1d(32, 1, kernel_size=3, padding=1),\n",
    "            nn.Tanh()\n",
    "        )\n",
    "        self.apply(weights_init)\n",
    "\n",
    "    def forward(self, x):\n",
    "        y = self.inlayer(x)\n",
    "        y = self.midlayer(y)\n",
    "        y = self.outlayer(y)\n",
    "        return y"
   ]
  },
  {
   "cell_type": "code",
   "execution_count": 9,
   "metadata": {},
   "outputs": [],
   "source": [
    "# 判别器\n",
    "class Discriminator(nn.Module):\n",
    "    \"\"\"\n",
    "    Input shape: (N, 1, in_dim)\n",
    "    Output shape: (N, )\n",
    "    \"\"\"\n",
    "    def __init__(self, in_dim, in_channel=1, batch=32):\n",
    "        super(Discriminator, self).__init__()\n",
    "        self.in_channel = in_channel\n",
    "        self.in_dim = in_dim\n",
    "        self.batch = batch\n",
    "        # self.channel = channel\n",
    "        self.inlayer = nn.Sequential(\n",
    "            nn.Conv1d(in_channel, 32, kernel_size=3, padding=1),\n",
    "            nn.LeakyReLU(negative_slope=0.2),\n",
    "            nn.MaxPool1d(kernel_size = 2) # shape: (N, 32, in_dim/2)\n",
    "        )\n",
    "        self.midlayer1 = nn.Sequential(\n",
    "            nn.Conv1d(32, 32, kernel_size=3, padding=1),\n",
    "            nn.LeakyReLU(negative_slope=0.2),\n",
    "            nn.MaxPool1d(kernel_size=2), # shape: (N, 32, in_dim/2/2)\n",
    "            nn.Flatten(), # shape: (N, 32*in_dim/2/2)\n",
    "        )\n",
    "        self.temp_dim = 32 * math.floor(math.floor(self.in_dim / 2) / 2)\n",
    "        self.midlayer2 = nn.Sequential(\n",
    "            nn.Linear(self.temp_dim, 64),\n",
    "            nn.Dropout(0.4),\n",
    "            nn.LeakyReLU(negative_slope=0.2)\n",
    "        )\n",
    "        self.outlayer = nn.Linear(64, 1)\n",
    "    \n",
    "    def forward(self, x):\n",
    "        y = self.inlayer(x)\n",
    "        y = self.midlayer1(y)\n",
    "        y = self.midlayer2(y)\n",
    "        y = self.outlayer(y)\n",
    "        y = y.view(-1)\n",
    "        return y        "
   ]
  },
  {
   "cell_type": "code",
   "execution_count": 10,
   "metadata": {},
   "outputs": [],
   "source": [
    "# Trainnig hyperparmeters\n",
    "batch_size = 128\n",
    "in_dim = tr_data.shape[-1]\n",
    "z_dim = in_dim\n",
    "z_sample = Variable(torch.randn(batch_size, 1, z_dim)).cuda()\n",
    "lr = 1e-4\n",
    "\n",
    "n_epoch = 1000\n",
    "n_critic = 10\n",
    "# 待改\n",
    "clip_value = 0.1\n",
    "\n",
    "ckpt_dir = os.path.join(workspace_dir, 'checkpoints')\n",
    "os.makedirs(ckpt_dir, exist_ok=True)\n",
    "\n",
    "# Model\n",
    "G = Generator(in_dim).cuda()\n",
    "D = Discriminator(in_dim, 1).cuda()\n",
    "G.train()\n",
    "D.train()\n",
    "\n",
    "# Loss\n",
    "criterion = nn.BCELoss()\n",
    "\n",
    "# Optimizer\n",
    "opt_D = torch.optim.RMSprop(D.parameters(), lr=lr)\n",
    "opt_G = torch.optim.RMSprop(D.parameters(), lr=lr)\n",
    "\n",
    "#DataLoader\n",
    "dataloader = DataLoader(dataset, batch_size=batch_size, shuffle=True, num_workers=1)"
   ]
  },
  {
   "cell_type": "code",
   "execution_count": 11,
   "metadata": {},
   "outputs": [
    {
     "data": {
      "application/vnd.jupyter.widget-view+json": {
       "model_id": "5525a338183a4966867356e1abedb29d",
       "version_major": 2,
       "version_minor": 0
      },
      "text/plain": [
       "IpythonBar(children=(HTML(value='  0.0%'), FloatProgress(value=0.0)))"
      ]
     },
     "metadata": {},
     "output_type": "display_data"
    },
    {
     "data": {
      "text/plain": [
       "\u001b[K\u001b[F\u001b[K\u001b[F\u001b[K\u001b[F \u001b[1mIters\u001b[0m    \u001b[1mElapsed Time\u001b[0m       \u001b[1mSpeed\u001b[0m            \u001b[1mLoss_D\u001b[0m           \u001b[1mLoss_G\u001b[0m   \u001b[1mEpoch\u001b[0m   \n",
       " \u001b[99m24/\u001b[93m24\u001b[0m\u001b[0m  \u001b[99m00:00:00<\u001b[93m00:00:00\u001b[0m\u001b[0m  \u001b[99m30.86it/s\u001b[0m  \u001b[99m-7.189898948562125e+17\u001b[0m  \u001b[99m-17.2088\u001b[0m   \u001b[99m133\u001b[0m    \n",
       " \u001b[1mStep\u001b[0m                                                                           \n",
       " \u001b[99m3192\u001b[0m                                                                           "
      ]
     },
     "metadata": {},
     "output_type": "display_data"
    },
    {
     "data": {
      "application/vnd.jupyter.widget-view+json": {
       "model_id": "d0b64824a25c4bc793a9324558bafb8f",
       "version_major": 2,
       "version_minor": 0
      },
      "text/plain": [
       "IpythonBar(children=(HTML(value='  0.0%'), FloatProgress(value=0.0)))"
      ]
     },
     "metadata": {},
     "output_type": "display_data"
    },
    {
     "data": {
      "text/plain": [
       "\u001b[K\u001b[F\u001b[K\u001b[F\u001b[K\u001b[F \u001b[1mIters\u001b[0m    \u001b[1mElapsed Time\u001b[0m       \u001b[1mSpeed\u001b[0m            \u001b[1mLoss_D\u001b[0m           \u001b[1mLoss_G\u001b[0m   \u001b[1mEpoch\u001b[0m   \n",
       " \u001b[99m24/\u001b[93m24\u001b[0m\u001b[0m  \u001b[99m00:00:00<\u001b[93m00:00:00\u001b[0m\u001b[0m  \u001b[99m32.06it/s\u001b[0m  \u001b[99m-5.886706914909225e+17\u001b[0m  \u001b[99m-17.0163\u001b[0m   \u001b[99m134\u001b[0m    \n",
       " \u001b[1mStep\u001b[0m                                                                           \n",
       " \u001b[99m3216\u001b[0m                                                                           "
      ]
     },
     "metadata": {},
     "output_type": "display_data"
    },
    {
     "data": {
      "application/vnd.jupyter.widget-view+json": {
       "model_id": "9be7a3f9c636414d84ac7c27d2032372",
       "version_major": 2,
       "version_minor": 0
      },
      "text/plain": [
       "IpythonBar(children=(HTML(value='  0.0%'), FloatProgress(value=0.0)))"
      ]
     },
     "metadata": {},
     "output_type": "display_data"
    },
    {
     "data": {
      "text/plain": [
       "\u001b[K\u001b[F\u001b[K\u001b[F\u001b[K\u001b[F \u001b[1mIters\u001b[0m    \u001b[1mElapsed Time\u001b[0m       \u001b[1mSpeed\u001b[0m            \u001b[1mLoss_D\u001b[0m           \u001b[1mLoss_G\u001b[0m   \u001b[1mEpoch\u001b[0m   \n",
       " \u001b[99m24/\u001b[93m24\u001b[0m\u001b[0m  \u001b[99m00:00:00<\u001b[93m00:00:00\u001b[0m\u001b[0m  \u001b[99m29.84it/s\u001b[0m  \u001b[99m-6.167360006678118e+17\u001b[0m  \u001b[99m-16.9896\u001b[0m   \u001b[99m135\u001b[0m    \n",
       " \u001b[1mStep\u001b[0m                                                                           \n",
       " \u001b[99m3240\u001b[0m                                                                           "
      ]
     },
     "metadata": {},
     "output_type": "display_data"
    },
    {
     "data": {
      "application/vnd.jupyter.widget-view+json": {
       "model_id": "5e0f5d0843e445eb8710b4cf3f40549f",
       "version_major": 2,
       "version_minor": 0
      },
      "text/plain": [
       "IpythonBar(children=(HTML(value='  0.0%'), FloatProgress(value=0.0)))"
      ]
     },
     "metadata": {},
     "output_type": "display_data"
    },
    {
     "data": {
      "text/plain": [
       "\u001b[K\u001b[F\u001b[K\u001b[F\u001b[K\u001b[F \u001b[1mIters\u001b[0m    \u001b[1mElapsed Time\u001b[0m       \u001b[1mSpeed\u001b[0m            \u001b[1mLoss_D\u001b[0m           \u001b[1mLoss_G\u001b[0m   \u001b[1mEpoch\u001b[0m   \n",
       " \u001b[99m24/\u001b[93m24\u001b[0m\u001b[0m  \u001b[99m00:00:00<\u001b[93m00:00:00\u001b[0m\u001b[0m  \u001b[99m31.05it/s\u001b[0m  \u001b[99m-5.819426424016077e+17\u001b[0m  \u001b[99m-17.3996\u001b[0m   \u001b[99m136\u001b[0m    \n",
       " \u001b[1mStep\u001b[0m                                                                           \n",
       " \u001b[99m3264\u001b[0m                                                                           "
      ]
     },
     "metadata": {},
     "output_type": "display_data"
    },
    {
     "data": {
      "application/vnd.jupyter.widget-view+json": {
       "model_id": "f318b3a6f1a44097af6b4e34e8d63133",
       "version_major": 2,
       "version_minor": 0
      },
      "text/plain": [
       "IpythonBar(children=(HTML(value='  0.0%'), FloatProgress(value=0.0)))"
      ]
     },
     "metadata": {},
     "output_type": "display_data"
    },
    {
     "data": {
      "text/plain": [
       "\u001b[K\u001b[F\u001b[K\u001b[F\u001b[K\u001b[F \u001b[1mIters\u001b[0m    \u001b[1mElapsed Time\u001b[0m       \u001b[1mSpeed\u001b[0m            \u001b[1mLoss_D\u001b[0m           \u001b[1mLoss_G\u001b[0m   \u001b[1mEpoch\u001b[0m   \n",
       " \u001b[99m24/\u001b[93m24\u001b[0m\u001b[0m  \u001b[99m00:00:00<\u001b[93m00:00:00\u001b[0m\u001b[0m  \u001b[99m30.80it/s\u001b[0m  \u001b[99m-5.548835581628252e+17\u001b[0m  \u001b[99m-17.6209\u001b[0m   \u001b[99m137\u001b[0m    \n",
       " \u001b[1mStep\u001b[0m                                                                           \n",
       " \u001b[99m3288\u001b[0m                                                                           "
      ]
     },
     "metadata": {},
     "output_type": "display_data"
    },
    {
     "data": {
      "application/vnd.jupyter.widget-view+json": {
       "model_id": "df6849a6af254010a00956197a86cd40",
       "version_major": 2,
       "version_minor": 0
      },
      "text/plain": [
       "IpythonBar(children=(HTML(value='  0.0%'), FloatProgress(value=0.0)))"
      ]
     },
     "metadata": {},
     "output_type": "display_data"
    },
    {
     "data": {
      "text/plain": [
       "\u001b[K\u001b[F\u001b[K\u001b[F\u001b[K\u001b[F \u001b[1mIters\u001b[0m    \u001b[1mElapsed Time\u001b[0m       \u001b[1mSpeed\u001b[0m            \u001b[1mLoss_D\u001b[0m           \u001b[1mLoss_G\u001b[0m   \u001b[1mEpoch\u001b[0m   \n",
       " \u001b[99m24/\u001b[93m24\u001b[0m\u001b[0m  \u001b[99m00:00:00<\u001b[93m00:00:00\u001b[0m\u001b[0m  \u001b[99m31.55it/s\u001b[0m  \u001b[99m-6.250757963644928e+17\u001b[0m  \u001b[99m-17.3548\u001b[0m   \u001b[99m138\u001b[0m    \n",
       " \u001b[1mStep\u001b[0m                                                                           \n",
       " \u001b[99m3312\u001b[0m                                                                           "
      ]
     },
     "metadata": {},
     "output_type": "display_data"
    },
    {
     "data": {
      "application/vnd.jupyter.widget-view+json": {
       "model_id": "7cd2c6944ab045f2834b203c30a1e14b",
       "version_major": 2,
       "version_minor": 0
      },
      "text/plain": [
       "IpythonBar(children=(HTML(value='  0.0%'), FloatProgress(value=0.0)))"
      ]
     },
     "metadata": {},
     "output_type": "display_data"
    },
    {
     "data": {
      "text/plain": [
       "\u001b[K\u001b[F\u001b[K\u001b[F\u001b[K\u001b[F \u001b[1mIters\u001b[0m    \u001b[1mElapsed Time\u001b[0m       \u001b[1mSpeed\u001b[0m            \u001b[1mLoss_D\u001b[0m           \u001b[1mLoss_G\u001b[0m   \u001b[1mEpoch\u001b[0m   \n",
       " \u001b[99m24/\u001b[93m24\u001b[0m\u001b[0m  \u001b[99m00:00:00<\u001b[93m00:00:00\u001b[0m\u001b[0m  \u001b[99m31.44it/s\u001b[0m  \u001b[99m-6.540778207287706e+17\u001b[0m  \u001b[99m-18.1291\u001b[0m   \u001b[99m139\u001b[0m    \n",
       " \u001b[1mStep\u001b[0m                                                                           \n",
       " \u001b[99m3336\u001b[0m                                                                           "
      ]
     },
     "metadata": {},
     "output_type": "display_data"
    },
    {
     "data": {
      "application/vnd.jupyter.widget-view+json": {
       "model_id": "87eeb9939c4a405e8a026ae7cb26232e",
       "version_major": 2,
       "version_minor": 0
      },
      "text/plain": [
       "IpythonBar(children=(HTML(value='  0.0%'), FloatProgress(value=0.0)))"
      ]
     },
     "metadata": {},
     "output_type": "display_data"
    },
    {
     "data": {
      "text/plain": [
       "\u001b[K\u001b[F\u001b[K\u001b[F\u001b[K\u001b[F \u001b[1mIters\u001b[0m    \u001b[1mElapsed Time\u001b[0m       \u001b[1mSpeed\u001b[0m           \u001b[1mLoss_D\u001b[0m           \u001b[1mLoss_G\u001b[0m   \u001b[1mEpoch\u001b[0m    \n",
       " \u001b[99m24/\u001b[93m24\u001b[0m\u001b[0m  \u001b[99m00:00:00<\u001b[93m00:00:00\u001b[0m\u001b[0m  \u001b[99m28.63it/s\u001b[0m  \u001b[99m-6.64576438787113e+17\u001b[0m  \u001b[99m-17.5515\u001b[0m   \u001b[99m140\u001b[0m     \n",
       " \u001b[1mStep\u001b[0m                                                                           \n",
       " \u001b[99m3360\u001b[0m                                                                           "
      ]
     },
     "metadata": {},
     "output_type": "display_data"
    },
    {
     "data": {
      "application/vnd.jupyter.widget-view+json": {
       "model_id": "bb73e400aa8d472c84411842ac674921",
       "version_major": 2,
       "version_minor": 0
      },
      "text/plain": [
       "IpythonBar(children=(HTML(value='  0.0%'), FloatProgress(value=0.0)))"
      ]
     },
     "metadata": {},
     "output_type": "display_data"
    },
    {
     "data": {
      "text/plain": [
       "\u001b[K\u001b[F\u001b[K\u001b[F\u001b[K\u001b[F \u001b[1mIters\u001b[0m    \u001b[1mElapsed Time\u001b[0m       \u001b[1mSpeed\u001b[0m           \u001b[1mLoss_D\u001b[0m          \u001b[1mLoss_G\u001b[0m   \u001b[1mEpoch\u001b[0m     \n",
       " \u001b[99m24/\u001b[93m24\u001b[0m\u001b[0m  \u001b[99m00:00:00<\u001b[93m00:00:00\u001b[0m\u001b[0m  \u001b[99m31.11it/s\u001b[0m  \u001b[99m-6.3226550289852e+17\u001b[0m  \u001b[99m-17.6057\u001b[0m   \u001b[99m141\u001b[0m      \n",
       " \u001b[1mStep\u001b[0m                                                                           \n",
       " \u001b[99m3384\u001b[0m                                                                           "
      ]
     },
     "metadata": {},
     "output_type": "display_data"
    },
    {
     "data": {
      "application/vnd.jupyter.widget-view+json": {
       "model_id": "6f2b1a90e70244d2856324b5e66fd853",
       "version_major": 2,
       "version_minor": 0
      },
      "text/plain": [
       "IpythonBar(children=(HTML(value='  0.0%'), FloatProgress(value=0.0)))"
      ]
     },
     "metadata": {},
     "output_type": "display_data"
    },
    {
     "data": {
      "text/plain": [
       "\u001b[K\u001b[F\u001b[K\u001b[F\u001b[K\u001b[F \u001b[1mIters\u001b[0m    \u001b[1mElapsed Time\u001b[0m       \u001b[1mSpeed\u001b[0m            \u001b[1mLoss_D\u001b[0m          \u001b[1mLoss_G\u001b[0m   \u001b[1mEpoch\u001b[0m    \n",
       " \u001b[99m24/\u001b[93m24\u001b[0m\u001b[0m  \u001b[99m00:00:00<\u001b[93m00:00:00\u001b[0m\u001b[0m  \u001b[99m32.14it/s\u001b[0m  \u001b[99m-6.371493961101476e+17\u001b[0m  \u001b[99m-18.199\u001b[0m   \u001b[99m142\u001b[0m     \n",
       " \u001b[1mStep\u001b[0m                                                                           \n",
       " \u001b[99m3408\u001b[0m                                                                           "
      ]
     },
     "metadata": {},
     "output_type": "display_data"
    },
    {
     "data": {
      "application/vnd.jupyter.widget-view+json": {
       "model_id": "6120574876694e97826d47e71d3454be",
       "version_major": 2,
       "version_minor": 0
      },
      "text/plain": [
       "IpythonBar(children=(HTML(value='  0.0%'), FloatProgress(value=0.0)))"
      ]
     },
     "metadata": {},
     "output_type": "display_data"
    },
    {
     "data": {
      "text/plain": [
       "\u001b[K\u001b[F\u001b[K\u001b[F\u001b[K\u001b[F \u001b[1mIters\u001b[0m    \u001b[1mElapsed Time\u001b[0m       \u001b[1mSpeed\u001b[0m            \u001b[1mLoss_D\u001b[0m           \u001b[1mLoss_G\u001b[0m   \u001b[1mEpoch\u001b[0m   \n",
       " \u001b[99m24/\u001b[93m24\u001b[0m\u001b[0m  \u001b[99m00:00:00<\u001b[93m00:00:00\u001b[0m\u001b[0m  \u001b[99m31.70it/s\u001b[0m  \u001b[99m-6.473611103531172e+17\u001b[0m  \u001b[99m-18.2283\u001b[0m   \u001b[99m143\u001b[0m    \n",
       " \u001b[1mStep\u001b[0m                                                                           \n",
       " \u001b[99m3432\u001b[0m                                                                           "
      ]
     },
     "metadata": {},
     "output_type": "display_data"
    },
    {
     "data": {
      "application/vnd.jupyter.widget-view+json": {
       "model_id": "d7aa58611b274e3ab6b31e5e04ae0353",
       "version_major": 2,
       "version_minor": 0
      },
      "text/plain": [
       "IpythonBar(children=(HTML(value='  0.0%'), FloatProgress(value=0.0)))"
      ]
     },
     "metadata": {},
     "output_type": "display_data"
    },
    {
     "data": {
      "text/plain": [
       "\u001b[K\u001b[F\u001b[K\u001b[F\u001b[K\u001b[F \u001b[1mIters\u001b[0m    \u001b[1mElapsed Time\u001b[0m       \u001b[1mSpeed\u001b[0m            \u001b[1mLoss_D\u001b[0m           \u001b[1mLoss_G\u001b[0m   \u001b[1mEpoch\u001b[0m   \n",
       " \u001b[99m24/\u001b[93m24\u001b[0m\u001b[0m  \u001b[99m00:00:00<\u001b[93m00:00:00\u001b[0m\u001b[0m  \u001b[99m31.92it/s\u001b[0m  \u001b[99m-6.699755219158303e+17\u001b[0m  \u001b[99m-18.0453\u001b[0m   \u001b[99m144\u001b[0m    \n",
       " \u001b[1mStep\u001b[0m                                                                           \n",
       " \u001b[99m3456\u001b[0m                                                                           "
      ]
     },
     "metadata": {},
     "output_type": "display_data"
    },
    {
     "data": {
      "application/vnd.jupyter.widget-view+json": {
       "model_id": "713ccc24d4234762b5ac97327d0975e6",
       "version_major": 2,
       "version_minor": 0
      },
      "text/plain": [
       "IpythonBar(children=(HTML(value='  0.0%'), FloatProgress(value=0.0)))"
      ]
     },
     "metadata": {},
     "output_type": "display_data"
    },
    {
     "data": {
      "text/plain": [
       "\u001b[K\u001b[F\u001b[K\u001b[F\u001b[K\u001b[F \u001b[1mIters\u001b[0m    \u001b[1mElapsed Time\u001b[0m       \u001b[1mSpeed\u001b[0m            \u001b[1mLoss_D\u001b[0m           \u001b[1mLoss_G\u001b[0m   \u001b[1mEpoch\u001b[0m   \n",
       " \u001b[99m24/\u001b[93m24\u001b[0m\u001b[0m  \u001b[99m00:00:00<\u001b[93m00:00:00\u001b[0m\u001b[0m  \u001b[99m29.24it/s\u001b[0m  \u001b[99m-6.035253684600832e+17\u001b[0m  \u001b[99m-18.0165\u001b[0m   \u001b[99m145\u001b[0m    \n",
       " \u001b[1mStep\u001b[0m                                                                           \n",
       " \u001b[99m3480\u001b[0m                                                                           "
      ]
     },
     "metadata": {},
     "output_type": "display_data"
    },
    {
     "data": {
      "application/vnd.jupyter.widget-view+json": {
       "model_id": "97bb9a6a74964c36b238dbc87ca84ae0",
       "version_major": 2,
       "version_minor": 0
      },
      "text/plain": [
       "IpythonBar(children=(HTML(value='  0.0%'), FloatProgress(value=0.0)))"
      ]
     },
     "metadata": {},
     "output_type": "display_data"
    },
    {
     "data": {
      "text/plain": [
       "\u001b[K\u001b[F\u001b[K\u001b[F\u001b[K\u001b[F \u001b[1mIters\u001b[0m    \u001b[1mElapsed Time\u001b[0m       \u001b[1mSpeed\u001b[0m            \u001b[1mLoss_D\u001b[0m           \u001b[1mLoss_G\u001b[0m   \u001b[1mEpoch\u001b[0m   \n",
       " \u001b[99m24/\u001b[93m24\u001b[0m\u001b[0m  \u001b[99m00:00:00<\u001b[93m00:00:00\u001b[0m\u001b[0m  \u001b[99m31.22it/s\u001b[0m  \u001b[99m-5.086512245186232e+17\u001b[0m  \u001b[99m-18.0036\u001b[0m   \u001b[99m146\u001b[0m    \n",
       " \u001b[1mStep\u001b[0m                                                                           \n",
       " \u001b[99m3504\u001b[0m                                                                           "
      ]
     },
     "metadata": {},
     "output_type": "display_data"
    },
    {
     "data": {
      "application/vnd.jupyter.widget-view+json": {
       "model_id": "02ff7cc3904f4410be00c329567cca8c",
       "version_major": 2,
       "version_minor": 0
      },
      "text/plain": [
       "IpythonBar(children=(HTML(value='  0.0%'), FloatProgress(value=0.0)))"
      ]
     },
     "metadata": {},
     "output_type": "display_data"
    },
    {
     "data": {
      "text/plain": [
       "\u001b[K\u001b[F\u001b[K\u001b[F\u001b[K\u001b[F \u001b[1mIters\u001b[0m    \u001b[1mElapsed Time\u001b[0m       \u001b[1mSpeed\u001b[0m            \u001b[1mLoss_D\u001b[0m            \u001b[1mLoss_G\u001b[0m   \u001b[1mEpoch\u001b[0m  \n",
       " \u001b[99m24/\u001b[93m24\u001b[0m\u001b[0m  \u001b[99m00:00:00<\u001b[93m00:00:00\u001b[0m\u001b[0m  \u001b[99m31.54it/s\u001b[0m  \u001b[99m-5.5016689379783475e+17\u001b[0m  \u001b[99m-18.4948\u001b[0m   \u001b[99m147\u001b[0m   \n",
       " \u001b[1mStep\u001b[0m                                                                           \n",
       " \u001b[99m3528\u001b[0m                                                                           "
      ]
     },
     "metadata": {},
     "output_type": "display_data"
    },
    {
     "data": {
      "application/vnd.jupyter.widget-view+json": {
       "model_id": "0578b8120e494ed1aa03499f61885354",
       "version_major": 2,
       "version_minor": 0
      },
      "text/plain": [
       "IpythonBar(children=(HTML(value='  0.0%'), FloatProgress(value=0.0)))"
      ]
     },
     "metadata": {},
     "output_type": "display_data"
    },
    {
     "data": {
      "text/plain": [
       "\u001b[K\u001b[F\u001b[K\u001b[F\u001b[K\u001b[F \u001b[1mIters\u001b[0m    \u001b[1mElapsed Time\u001b[0m       \u001b[1mSpeed\u001b[0m            \u001b[1mLoss_D\u001b[0m          \u001b[1mLoss_G\u001b[0m   \u001b[1mEpoch\u001b[0m    \n",
       " \u001b[99m24/\u001b[93m24\u001b[0m\u001b[0m  \u001b[99m00:00:00<\u001b[93m00:00:00\u001b[0m\u001b[0m  \u001b[99m31.25it/s\u001b[0m  \u001b[99m-6.387834765474529e+17\u001b[0m  \u001b[99m-18.537\u001b[0m   \u001b[99m148\u001b[0m     \n",
       " \u001b[1mStep\u001b[0m                                                                           \n",
       " \u001b[99m3552\u001b[0m                                                                           "
      ]
     },
     "metadata": {},
     "output_type": "display_data"
    },
    {
     "data": {
      "application/vnd.jupyter.widget-view+json": {
       "model_id": "f2d66efad51045a7aa83dfcd979e60f4",
       "version_major": 2,
       "version_minor": 0
      },
      "text/plain": [
       "IpythonBar(children=(HTML(value='  0.0%'), FloatProgress(value=0.0)))"
      ]
     },
     "metadata": {},
     "output_type": "display_data"
    },
    {
     "data": {
      "text/plain": [
       "\u001b[K\u001b[F\u001b[K\u001b[F\u001b[K\u001b[F \u001b[1mIters\u001b[0m    \u001b[1mElapsed Time\u001b[0m       \u001b[1mSpeed\u001b[0m            \u001b[1mLoss_D\u001b[0m           \u001b[1mLoss_G\u001b[0m   \u001b[1mEpoch\u001b[0m   \n",
       " \u001b[99m24/\u001b[93m24\u001b[0m\u001b[0m  \u001b[99m00:00:00<\u001b[93m00:00:00\u001b[0m\u001b[0m  \u001b[99m31.38it/s\u001b[0m  \u001b[99m-6.399941762885878e+17\u001b[0m  \u001b[99m-18.4304\u001b[0m   \u001b[99m149\u001b[0m    \n",
       " \u001b[1mStep\u001b[0m                                                                           \n",
       " \u001b[99m3576\u001b[0m                                                                           "
      ]
     },
     "metadata": {},
     "output_type": "display_data"
    },
    {
     "data": {
      "application/vnd.jupyter.widget-view+json": {
       "model_id": "d8efcb6dafa84352adbe56738c28cbf9",
       "version_major": 2,
       "version_minor": 0
      },
      "text/plain": [
       "IpythonBar(children=(HTML(value='  0.0%'), FloatProgress(value=0.0)))"
      ]
     },
     "metadata": {},
     "output_type": "display_data"
    },
    {
     "data": {
      "text/plain": [
       "\u001b[K\u001b[F\u001b[K\u001b[F\u001b[K\u001b[F \u001b[1mIters\u001b[0m    \u001b[1mElapsed Time\u001b[0m       \u001b[1mSpeed\u001b[0m            \u001b[1mLoss_D\u001b[0m           \u001b[1mLoss_G\u001b[0m   \u001b[1mEpoch\u001b[0m   \n",
       " \u001b[99m24/\u001b[93m24\u001b[0m\u001b[0m  \u001b[99m00:00:00<\u001b[93m00:00:00\u001b[0m\u001b[0m  \u001b[99m28.95it/s\u001b[0m  \u001b[99m-6.128372011551949e+17\u001b[0m  \u001b[99m-18.3545\u001b[0m   \u001b[99m150\u001b[0m    \n",
       " \u001b[1mStep\u001b[0m                                                                           \n",
       " \u001b[99m3600\u001b[0m                                                                           "
      ]
     },
     "metadata": {},
     "output_type": "display_data"
    },
    {
     "data": {
      "application/vnd.jupyter.widget-view+json": {
       "model_id": "a3ecb6e0b59a422c96c4b69dbfb33c3e",
       "version_major": 2,
       "version_minor": 0
      },
      "text/plain": [
       "IpythonBar(children=(HTML(value='  0.0%'), FloatProgress(value=0.0)))"
      ]
     },
     "metadata": {},
     "output_type": "display_data"
    },
    {
     "data": {
      "text/plain": [
       "\u001b[K\u001b[F\u001b[K\u001b[F\u001b[K\u001b[F \u001b[1mIters\u001b[0m    \u001b[1mElapsed Time\u001b[0m       \u001b[1mSpeed\u001b[0m            \u001b[1mLoss_D\u001b[0m           \u001b[1mLoss_G\u001b[0m   \u001b[1mEpoch\u001b[0m   \n",
       " \u001b[99m24/\u001b[93m24\u001b[0m\u001b[0m  \u001b[99m00:00:00<\u001b[93m00:00:00\u001b[0m\u001b[0m  \u001b[99m30.14it/s\u001b[0m  \u001b[99m-7.546906250932388e+17\u001b[0m  \u001b[99m-18.6095\u001b[0m   \u001b[99m151\u001b[0m    \n",
       " \u001b[1mStep\u001b[0m                                                                           \n",
       " \u001b[99m3624\u001b[0m                                                                           "
      ]
     },
     "metadata": {},
     "output_type": "display_data"
    },
    {
     "data": {
      "application/vnd.jupyter.widget-view+json": {
       "model_id": "f4ba2d3deeaf43e29ceca017064c9d47",
       "version_major": 2,
       "version_minor": 0
      },
      "text/plain": [
       "IpythonBar(children=(HTML(value='  0.0%'), FloatProgress(value=0.0)))"
      ]
     },
     "metadata": {},
     "output_type": "display_data"
    },
    {
     "data": {
      "text/plain": [
       "\u001b[K\u001b[F\u001b[K\u001b[F\u001b[K\u001b[F \u001b[1mIters\u001b[0m    \u001b[1mElapsed Time\u001b[0m       \u001b[1mSpeed\u001b[0m            \u001b[1mLoss_D\u001b[0m           \u001b[1mLoss_G\u001b[0m   \u001b[1mEpoch\u001b[0m   \n",
       " \u001b[99m24/\u001b[93m24\u001b[0m\u001b[0m  \u001b[99m00:00:00<\u001b[93m00:00:00\u001b[0m\u001b[0m  \u001b[99m31.61it/s\u001b[0m  \u001b[99m-6.764356337653514e+17\u001b[0m  \u001b[99m-18.1257\u001b[0m   \u001b[99m152\u001b[0m    \n",
       " \u001b[1mStep\u001b[0m                                                                           \n",
       " \u001b[99m3648\u001b[0m                                                                           "
      ]
     },
     "metadata": {},
     "output_type": "display_data"
    },
    {
     "data": {
      "application/vnd.jupyter.widget-view+json": {
       "model_id": "056bd6b62b5a48479fb80ad39877ff12",
       "version_major": 2,
       "version_minor": 0
      },
      "text/plain": [
       "IpythonBar(children=(HTML(value='  0.0%'), FloatProgress(value=0.0)))"
      ]
     },
     "metadata": {},
     "output_type": "display_data"
    },
    {
     "data": {
      "text/plain": [
       "\u001b[K\u001b[F\u001b[K\u001b[F\u001b[K\u001b[F \u001b[1mIters\u001b[0m    \u001b[1mElapsed Time\u001b[0m       \u001b[1mSpeed\u001b[0m            \u001b[1mLoss_D\u001b[0m          \u001b[1mLoss_G\u001b[0m   \u001b[1mEpoch\u001b[0m    \n",
       " \u001b[99m24/\u001b[93m24\u001b[0m\u001b[0m  \u001b[99m00:00:00<\u001b[93m00:00:00\u001b[0m\u001b[0m  \u001b[99m30.46it/s\u001b[0m  \u001b[99m-6.918411660600279e+17\u001b[0m  \u001b[99m-18.129\u001b[0m   \u001b[99m153\u001b[0m     \n",
       " \u001b[1mStep\u001b[0m                                                                           \n",
       " \u001b[99m3672\u001b[0m                                                                           "
      ]
     },
     "metadata": {},
     "output_type": "display_data"
    },
    {
     "data": {
      "application/vnd.jupyter.widget-view+json": {
       "model_id": "601709466c1048359a7f762a325ad712",
       "version_major": 2,
       "version_minor": 0
      },
      "text/plain": [
       "IpythonBar(children=(HTML(value='  0.0%'), FloatProgress(value=0.0)))"
      ]
     },
     "metadata": {},
     "output_type": "display_data"
    },
    {
     "data": {
      "text/plain": [
       "\u001b[K\u001b[F\u001b[K\u001b[F\u001b[K\u001b[F \u001b[1mIters\u001b[0m    \u001b[1mElapsed Time\u001b[0m       \u001b[1mSpeed\u001b[0m            \u001b[1mLoss_D\u001b[0m           \u001b[1mLoss_G\u001b[0m   \u001b[1mEpoch\u001b[0m   \n",
       " \u001b[99m24/\u001b[93m24\u001b[0m\u001b[0m  \u001b[99m00:00:00<\u001b[93m00:00:00\u001b[0m\u001b[0m  \u001b[99m30.80it/s\u001b[0m  \u001b[99m-4.890687849889792e+17\u001b[0m  \u001b[99m-18.3229\u001b[0m   \u001b[99m154\u001b[0m    \n",
       " \u001b[1mStep\u001b[0m                                                                           \n",
       " \u001b[99m3696\u001b[0m                                                                           "
      ]
     },
     "metadata": {},
     "output_type": "display_data"
    },
    {
     "data": {
      "application/vnd.jupyter.widget-view+json": {
       "model_id": "765c65ad04304339839f9ce98c7c3591",
       "version_major": 2,
       "version_minor": 0
      },
      "text/plain": [
       "IpythonBar(children=(HTML(value='  0.0%'), FloatProgress(value=0.0)))"
      ]
     },
     "metadata": {},
     "output_type": "display_data"
    },
    {
     "data": {
      "text/plain": [
       "\u001b[K\u001b[F\u001b[K\u001b[F\u001b[K\u001b[F \u001b[1mIters\u001b[0m    \u001b[1mElapsed Time\u001b[0m       \u001b[1mSpeed\u001b[0m            \u001b[1mLoss_D\u001b[0m           \u001b[1mLoss_G\u001b[0m   \u001b[1mEpoch\u001b[0m   \n",
       " \u001b[99m24/\u001b[93m24\u001b[0m\u001b[0m  \u001b[99m00:00:00<\u001b[93m00:00:00\u001b[0m\u001b[0m  \u001b[99m28.78it/s\u001b[0m  \u001b[99m-6.583753306454098e+17\u001b[0m  \u001b[99m-18.2229\u001b[0m   \u001b[99m155\u001b[0m    \n",
       " \u001b[1mStep\u001b[0m                                                                           \n",
       " \u001b[99m3720\u001b[0m                                                                           "
      ]
     },
     "metadata": {},
     "output_type": "display_data"
    },
    {
     "data": {
      "application/vnd.jupyter.widget-view+json": {
       "model_id": "def07a3bad5f48208fc34fee09c296b9",
       "version_major": 2,
       "version_minor": 0
      },
      "text/plain": [
       "IpythonBar(children=(HTML(value='  0.0%'), FloatProgress(value=0.0)))"
      ]
     },
     "metadata": {},
     "output_type": "display_data"
    },
    {
     "data": {
      "text/plain": [
       "\u001b[K\u001b[F\u001b[K\u001b[F\u001b[K\u001b[F \u001b[1mIters\u001b[0m    \u001b[1mElapsed Time\u001b[0m       \u001b[1mSpeed\u001b[0m            \u001b[1mLoss_D\u001b[0m           \u001b[1mLoss_G\u001b[0m   \u001b[1mEpoch\u001b[0m   \n",
       " \u001b[99m24/\u001b[93m24\u001b[0m\u001b[0m  \u001b[99m00:00:00<\u001b[93m00:00:00\u001b[0m\u001b[0m  \u001b[99m30.49it/s\u001b[0m  \u001b[99m-6.464673448386888e+17\u001b[0m  \u001b[99m-18.2457\u001b[0m   \u001b[99m156\u001b[0m    \n",
       " \u001b[1mStep\u001b[0m                                                                           \n",
       " \u001b[99m3744\u001b[0m                                                                           "
      ]
     },
     "metadata": {},
     "output_type": "display_data"
    },
    {
     "data": {
      "application/vnd.jupyter.widget-view+json": {
       "model_id": "e0551f30568d456091c4b4681d63e9f7",
       "version_major": 2,
       "version_minor": 0
      },
      "text/plain": [
       "IpythonBar(children=(HTML(value='  0.0%'), FloatProgress(value=0.0)))"
      ]
     },
     "metadata": {},
     "output_type": "display_data"
    },
    {
     "data": {
      "text/plain": [
       "\u001b[K\u001b[F\u001b[K\u001b[F\u001b[K\u001b[F \u001b[1mIters\u001b[0m    \u001b[1mElapsed Time\u001b[0m       \u001b[1mSpeed\u001b[0m            \u001b[1mLoss_D\u001b[0m           \u001b[1mLoss_G\u001b[0m   \u001b[1mEpoch\u001b[0m   \n",
       " \u001b[99m24/\u001b[93m24\u001b[0m\u001b[0m  \u001b[99m00:00:00<\u001b[93m00:00:00\u001b[0m\u001b[0m  \u001b[99m31.90it/s\u001b[0m  \u001b[99m-5.923450531925197e+17\u001b[0m  \u001b[99m-18.3561\u001b[0m   \u001b[99m157\u001b[0m    \n",
       " \u001b[1mStep\u001b[0m                                                                           \n",
       " \u001b[99m3768\u001b[0m                                                                           "
      ]
     },
     "metadata": {},
     "output_type": "display_data"
    },
    {
     "data": {
      "application/vnd.jupyter.widget-view+json": {
       "model_id": "4d1c4f248dbb44349cb83e445debd722",
       "version_major": 2,
       "version_minor": 0
      },
      "text/plain": [
       "IpythonBar(children=(HTML(value='  0.0%'), FloatProgress(value=0.0)))"
      ]
     },
     "metadata": {},
     "output_type": "display_data"
    },
    {
     "data": {
      "text/plain": [
       "\u001b[K\u001b[F\u001b[K\u001b[F\u001b[K\u001b[F \u001b[1mIters\u001b[0m    \u001b[1mElapsed Time\u001b[0m       \u001b[1mSpeed\u001b[0m            \u001b[1mLoss_D\u001b[0m           \u001b[1mLoss_G\u001b[0m   \u001b[1mEpoch\u001b[0m   \n",
       " \u001b[99m24/\u001b[93m24\u001b[0m\u001b[0m  \u001b[99m00:00:00<\u001b[93m00:00:00\u001b[0m\u001b[0m  \u001b[99m31.49it/s\u001b[0m  \u001b[99m-6.398568060545925e+17\u001b[0m  \u001b[99m-18.7462\u001b[0m   \u001b[99m158\u001b[0m    \n",
       " \u001b[1mStep\u001b[0m                                                                           \n",
       " \u001b[99m3792\u001b[0m                                                                           "
      ]
     },
     "metadata": {},
     "output_type": "display_data"
    },
    {
     "data": {
      "application/vnd.jupyter.widget-view+json": {
       "model_id": "11cb4234218f4e52a62558ec4ce7dc52",
       "version_major": 2,
       "version_minor": 0
      },
      "text/plain": [
       "IpythonBar(children=(HTML(value='  0.0%'), FloatProgress(value=0.0)))"
      ]
     },
     "metadata": {},
     "output_type": "display_data"
    },
    {
     "data": {
      "text/plain": [
       "\u001b[K\u001b[F\u001b[K\u001b[F\u001b[K\u001b[F \u001b[1mIters\u001b[0m    \u001b[1mElapsed Time\u001b[0m       \u001b[1mSpeed\u001b[0m            \u001b[1mLoss_D\u001b[0m            \u001b[1mLoss_G\u001b[0m   \u001b[1mEpoch\u001b[0m  \n",
       " \u001b[99m24/\u001b[93m24\u001b[0m\u001b[0m  \u001b[99m00:00:00<\u001b[93m00:00:00\u001b[0m\u001b[0m  \u001b[99m32.17it/s\u001b[0m  \u001b[99m-5.2413155796372685e+17\u001b[0m  \u001b[99m-18.2553\u001b[0m   \u001b[99m159\u001b[0m   \n",
       " \u001b[1mStep\u001b[0m                                                                           \n",
       " \u001b[99m3816\u001b[0m                                                                           "
      ]
     },
     "metadata": {},
     "output_type": "display_data"
    },
    {
     "data": {
      "application/vnd.jupyter.widget-view+json": {
       "model_id": "dc19eb7966264eac96949fb3b92d7051",
       "version_major": 2,
       "version_minor": 0
      },
      "text/plain": [
       "IpythonBar(children=(HTML(value='  0.0%'), FloatProgress(value=0.0)))"
      ]
     },
     "metadata": {},
     "output_type": "display_data"
    },
    {
     "data": {
      "text/plain": [
       "\u001b[K\u001b[F\u001b[K\u001b[F\u001b[K\u001b[F \u001b[1mIters\u001b[0m    \u001b[1mElapsed Time\u001b[0m       \u001b[1mSpeed\u001b[0m            \u001b[1mLoss_D\u001b[0m           \u001b[1mLoss_G\u001b[0m   \u001b[1mEpoch\u001b[0m   \n",
       " \u001b[99m24/\u001b[93m24\u001b[0m\u001b[0m  \u001b[99m00:00:00<\u001b[93m00:00:00\u001b[0m\u001b[0m  \u001b[99m29.45it/s\u001b[0m  \u001b[99m-5.575086421741404e+17\u001b[0m  \u001b[99m-18.3522\u001b[0m   \u001b[99m160\u001b[0m    \n",
       " \u001b[1mStep\u001b[0m                                                                           \n",
       " \u001b[99m3840\u001b[0m                                                                           "
      ]
     },
     "metadata": {},
     "output_type": "display_data"
    },
    {
     "data": {
      "application/vnd.jupyter.widget-view+json": {
       "model_id": "f03ff8fbf8604fe99950f6f7c56b23a1",
       "version_major": 2,
       "version_minor": 0
      },
      "text/plain": [
       "IpythonBar(children=(HTML(value='  0.0%'), FloatProgress(value=0.0)))"
      ]
     },
     "metadata": {},
     "output_type": "display_data"
    },
    {
     "data": {
      "text/plain": [
       "\u001b[K\u001b[F\u001b[K\u001b[F\u001b[K\u001b[F \u001b[1mIters\u001b[0m    \u001b[1mElapsed Time\u001b[0m       \u001b[1mSpeed\u001b[0m            \u001b[1mLoss_D\u001b[0m           \u001b[1mLoss_G\u001b[0m   \u001b[1mEpoch\u001b[0m   \n",
       " \u001b[99m24/\u001b[93m24\u001b[0m\u001b[0m  \u001b[99m00:00:00<\u001b[93m00:00:00\u001b[0m\u001b[0m  \u001b[99m30.66it/s\u001b[0m  \u001b[99m-5.901367528076083e+17\u001b[0m  \u001b[99m-18.2021\u001b[0m   \u001b[99m161\u001b[0m    \n",
       " \u001b[1mStep\u001b[0m                                                                           \n",
       " \u001b[99m3864\u001b[0m                                                                           "
      ]
     },
     "metadata": {},
     "output_type": "display_data"
    },
    {
     "data": {
      "application/vnd.jupyter.widget-view+json": {
       "model_id": "8b55f8c398234002b372925efcb8393e",
       "version_major": 2,
       "version_minor": 0
      },
      "text/plain": [
       "IpythonBar(children=(HTML(value='  0.0%'), FloatProgress(value=0.0)))"
      ]
     },
     "metadata": {},
     "output_type": "display_data"
    },
    {
     "data": {
      "text/plain": [
       "\u001b[K\u001b[F\u001b[K\u001b[F\u001b[K\u001b[F \u001b[1mIters\u001b[0m    \u001b[1mElapsed Time\u001b[0m       \u001b[1mSpeed\u001b[0m            \u001b[1mLoss_D\u001b[0m           \u001b[1mLoss_G\u001b[0m   \u001b[1mEpoch\u001b[0m   \n",
       " \u001b[99m24/\u001b[93m24\u001b[0m\u001b[0m  \u001b[99m00:00:00<\u001b[93m00:00:00\u001b[0m\u001b[0m  \u001b[99m31.19it/s\u001b[0m  \u001b[99m-6.449349692269527e+17\u001b[0m  \u001b[99m-18.1443\u001b[0m   \u001b[99m162\u001b[0m    \n",
       " \u001b[1mStep\u001b[0m                                                                           \n",
       " \u001b[99m3888\u001b[0m                                                                           "
      ]
     },
     "metadata": {},
     "output_type": "display_data"
    },
    {
     "data": {
      "application/vnd.jupyter.widget-view+json": {
       "model_id": "3ccb17c0bd0344babbbc1dd3ae33662d",
       "version_major": 2,
       "version_minor": 0
      },
      "text/plain": [
       "IpythonBar(children=(HTML(value='  0.0%'), FloatProgress(value=0.0)))"
      ]
     },
     "metadata": {},
     "output_type": "display_data"
    },
    {
     "data": {
      "text/plain": [
       "\u001b[K\u001b[F\u001b[K\u001b[F\u001b[K\u001b[F \u001b[1mIters\u001b[0m    \u001b[1mElapsed Time\u001b[0m       \u001b[1mSpeed\u001b[0m           \u001b[1mLoss_D\u001b[0m           \u001b[1mLoss_G\u001b[0m   \u001b[1mEpoch\u001b[0m    \n",
       " \u001b[99m24/\u001b[93m24\u001b[0m\u001b[0m  \u001b[99m00:00:00<\u001b[93m00:00:00\u001b[0m\u001b[0m  \u001b[99m31.21it/s\u001b[0m  \u001b[99m-6.75182396668117e+17\u001b[0m  \u001b[99m-18.5174\u001b[0m   \u001b[99m163\u001b[0m     \n",
       " \u001b[1mStep\u001b[0m                                                                           \n",
       " \u001b[99m3912\u001b[0m                                                                           "
      ]
     },
     "metadata": {},
     "output_type": "display_data"
    },
    {
     "data": {
      "application/vnd.jupyter.widget-view+json": {
       "model_id": "735229a4b5224e61a7dd48d954b0539d",
       "version_major": 2,
       "version_minor": 0
      },
      "text/plain": [
       "IpythonBar(children=(HTML(value='  0.0%'), FloatProgress(value=0.0)))"
      ]
     },
     "metadata": {},
     "output_type": "display_data"
    },
    {
     "data": {
      "text/plain": [
       "\u001b[K\u001b[F\u001b[K\u001b[F\u001b[K\u001b[F \u001b[1mIters\u001b[0m    \u001b[1mElapsed Time\u001b[0m       \u001b[1mSpeed\u001b[0m            \u001b[1mLoss_D\u001b[0m           \u001b[1mLoss_G\u001b[0m   \u001b[1mEpoch\u001b[0m   \n",
       " \u001b[99m24/\u001b[93m24\u001b[0m\u001b[0m  \u001b[99m00:00:00<\u001b[93m00:00:00\u001b[0m\u001b[0m  \u001b[99m31.63it/s\u001b[0m  \u001b[99m-6.195660061587538e+17\u001b[0m  \u001b[99m-18.6638\u001b[0m   \u001b[99m164\u001b[0m    \n",
       " \u001b[1mStep\u001b[0m                                                                           \n",
       " \u001b[99m3936\u001b[0m                                                                           "
      ]
     },
     "metadata": {},
     "output_type": "display_data"
    },
    {
     "data": {
      "application/vnd.jupyter.widget-view+json": {
       "model_id": "ea603232abfe4b9dbcf5df15be750872",
       "version_major": 2,
       "version_minor": 0
      },
      "text/plain": [
       "IpythonBar(children=(HTML(value='  0.0%'), FloatProgress(value=0.0)))"
      ]
     },
     "metadata": {},
     "output_type": "display_data"
    },
    {
     "data": {
      "text/plain": [
       "\u001b[K\u001b[F\u001b[K\u001b[F\u001b[K\u001b[F \u001b[1mIters\u001b[0m    \u001b[1mElapsed Time\u001b[0m       \u001b[1mSpeed\u001b[0m            \u001b[1mLoss_D\u001b[0m           \u001b[1mLoss_G\u001b[0m   \u001b[1mEpoch\u001b[0m   \n",
       " \u001b[99m24/\u001b[93m24\u001b[0m\u001b[0m  \u001b[99m00:00:00<\u001b[93m00:00:00\u001b[0m\u001b[0m  \u001b[99m29.49it/s\u001b[0m  \u001b[99m-6.057713958377226e+17\u001b[0m  \u001b[99m-18.5687\u001b[0m   \u001b[99m165\u001b[0m    \n",
       " \u001b[1mStep\u001b[0m                                                                           \n",
       " \u001b[99m3960\u001b[0m                                                                           "
      ]
     },
     "metadata": {},
     "output_type": "display_data"
    },
    {
     "data": {
      "application/vnd.jupyter.widget-view+json": {
       "model_id": "1b841b756c68450da7fcc8415fce65e3",
       "version_major": 2,
       "version_minor": 0
      },
      "text/plain": [
       "IpythonBar(children=(HTML(value='  0.0%'), FloatProgress(value=0.0)))"
      ]
     },
     "metadata": {},
     "output_type": "display_data"
    },
    {
     "data": {
      "text/plain": [
       "\u001b[K\u001b[F\u001b[K\u001b[F\u001b[K\u001b[F \u001b[1mIters\u001b[0m    \u001b[1mElapsed Time\u001b[0m       \u001b[1mSpeed\u001b[0m            \u001b[1mLoss_D\u001b[0m           \u001b[1mLoss_G\u001b[0m   \u001b[1mEpoch\u001b[0m   \n",
       " \u001b[99m24/\u001b[93m24\u001b[0m\u001b[0m  \u001b[99m00:00:00<\u001b[93m00:00:00\u001b[0m\u001b[0m  \u001b[99m30.69it/s\u001b[0m  \u001b[99m-6.534451205064622e+17\u001b[0m  \u001b[99m-18.8413\u001b[0m   \u001b[99m166\u001b[0m    \n",
       " \u001b[1mStep\u001b[0m                                                                           \n",
       " \u001b[99m3984\u001b[0m                                                                           "
      ]
     },
     "metadata": {},
     "output_type": "display_data"
    },
    {
     "data": {
      "application/vnd.jupyter.widget-view+json": {
       "model_id": "b9062d5eff0f45228ec0f09c1fc4b811",
       "version_major": 2,
       "version_minor": 0
      },
      "text/plain": [
       "IpythonBar(children=(HTML(value='  0.0%'), FloatProgress(value=0.0)))"
      ]
     },
     "metadata": {},
     "output_type": "display_data"
    },
    {
     "data": {
      "text/plain": [
       "\u001b[K\u001b[F\u001b[K\u001b[F\u001b[K\u001b[F \u001b[1mIters\u001b[0m    \u001b[1mElapsed Time\u001b[0m       \u001b[1mSpeed\u001b[0m            \u001b[1mLoss_D\u001b[0m          \u001b[1mLoss_G\u001b[0m   \u001b[1mEpoch\u001b[0m    \n",
       " \u001b[99m24/\u001b[93m24\u001b[0m\u001b[0m  \u001b[99m00:00:00<\u001b[93m00:00:00\u001b[0m\u001b[0m  \u001b[99m31.49it/s\u001b[0m  \u001b[99m-6.517318065124803e+17\u001b[0m  \u001b[99m-18.246\u001b[0m   \u001b[99m167\u001b[0m     \n",
       " \u001b[1mStep\u001b[0m                                                                           \n",
       " \u001b[99m4008\u001b[0m                                                                           "
      ]
     },
     "metadata": {},
     "output_type": "display_data"
    },
    {
     "data": {
      "application/vnd.jupyter.widget-view+json": {
       "model_id": "062cd00e0ca542b69c0cd2a9263262a6",
       "version_major": 2,
       "version_minor": 0
      },
      "text/plain": [
       "IpythonBar(children=(HTML(value='  0.0%'), FloatProgress(value=0.0)))"
      ]
     },
     "metadata": {},
     "output_type": "display_data"
    },
    {
     "data": {
      "text/plain": [
       "\u001b[K\u001b[F\u001b[K\u001b[F\u001b[K\u001b[F \u001b[1mIters\u001b[0m    \u001b[1mElapsed Time\u001b[0m       \u001b[1mSpeed\u001b[0m            \u001b[1mLoss_D\u001b[0m           \u001b[1mLoss_G\u001b[0m   \u001b[1mEpoch\u001b[0m   \n",
       " \u001b[99m24/\u001b[93m24\u001b[0m\u001b[0m  \u001b[99m00:00:00<\u001b[93m00:00:00\u001b[0m\u001b[0m  \u001b[99m30.92it/s\u001b[0m  \u001b[99m-5.659473939173212e+17\u001b[0m  \u001b[99m-18.6534\u001b[0m   \u001b[99m168\u001b[0m    \n",
       " \u001b[1mStep\u001b[0m                                                                           \n",
       " \u001b[99m4032\u001b[0m                                                                           "
      ]
     },
     "metadata": {},
     "output_type": "display_data"
    },
    {
     "data": {
      "application/vnd.jupyter.widget-view+json": {
       "model_id": "96350c989af94c68bbf02905fde6bc9a",
       "version_major": 2,
       "version_minor": 0
      },
      "text/plain": [
       "IpythonBar(children=(HTML(value='  0.0%'), FloatProgress(value=0.0)))"
      ]
     },
     "metadata": {},
     "output_type": "display_data"
    },
    {
     "data": {
      "text/plain": [
       "\u001b[K\u001b[F\u001b[K\u001b[F\u001b[K\u001b[F \u001b[1mIters\u001b[0m    \u001b[1mElapsed Time\u001b[0m       \u001b[1mSpeed\u001b[0m            \u001b[1mLoss_D\u001b[0m           \u001b[1mLoss_G\u001b[0m   \u001b[1mEpoch\u001b[0m   \n",
       " \u001b[99m24/\u001b[93m24\u001b[0m\u001b[0m  \u001b[99m00:00:00<\u001b[93m00:00:00\u001b[0m\u001b[0m  \u001b[99m32.30it/s\u001b[0m  \u001b[99m-4.539086021559583e+17\u001b[0m  \u001b[99m-18.9156\u001b[0m   \u001b[99m169\u001b[0m    \n",
       " \u001b[1mStep\u001b[0m                                                                           \n",
       " \u001b[99m4056\u001b[0m                                                                           "
      ]
     },
     "metadata": {},
     "output_type": "display_data"
    },
    {
     "data": {
      "application/vnd.jupyter.widget-view+json": {
       "model_id": "2d2b710a8c144130b1bebb8c6cfb6e50",
       "version_major": 2,
       "version_minor": 0
      },
      "text/plain": [
       "IpythonBar(children=(HTML(value='  0.0%'), FloatProgress(value=0.0)))"
      ]
     },
     "metadata": {},
     "output_type": "display_data"
    },
    {
     "data": {
      "text/plain": [
       "\u001b[K\u001b[F\u001b[K\u001b[F\u001b[K\u001b[F \u001b[1mIters\u001b[0m    \u001b[1mElapsed Time\u001b[0m       \u001b[1mSpeed\u001b[0m            \u001b[1mLoss_D\u001b[0m           \u001b[1mLoss_G\u001b[0m   \u001b[1mEpoch\u001b[0m   \n",
       " \u001b[99m24/\u001b[93m24\u001b[0m\u001b[0m  \u001b[99m00:00:00<\u001b[93m00:00:00\u001b[0m\u001b[0m  \u001b[99m28.46it/s\u001b[0m  \u001b[99m-7.508791680355533e+17\u001b[0m  \u001b[99m-19.0799\u001b[0m   \u001b[99m170\u001b[0m    \n",
       " \u001b[1mStep\u001b[0m                                                                           \n",
       " \u001b[99m4080\u001b[0m                                                                           "
      ]
     },
     "metadata": {},
     "output_type": "display_data"
    },
    {
     "data": {
      "application/vnd.jupyter.widget-view+json": {
       "model_id": "20c7af9f3bc246a7b4c38d83d1079185",
       "version_major": 2,
       "version_minor": 0
      },
      "text/plain": [
       "IpythonBar(children=(HTML(value='  0.0%'), FloatProgress(value=0.0)))"
      ]
     },
     "metadata": {},
     "output_type": "display_data"
    },
    {
     "data": {
      "text/plain": [
       "\u001b[K\u001b[F\u001b[K\u001b[F\u001b[K\u001b[F \u001b[1mIters\u001b[0m    \u001b[1mElapsed Time\u001b[0m       \u001b[1mSpeed\u001b[0m            \u001b[1mLoss_D\u001b[0m           \u001b[1mLoss_G\u001b[0m   \u001b[1mEpoch\u001b[0m   \n",
       " \u001b[99m24/\u001b[93m24\u001b[0m\u001b[0m  \u001b[99m00:00:00<\u001b[93m00:00:00\u001b[0m\u001b[0m  \u001b[99m30.78it/s\u001b[0m  \u001b[99m-5.987811132251832e+17\u001b[0m  \u001b[99m-19.0377\u001b[0m   \u001b[99m171\u001b[0m    \n",
       " \u001b[1mStep\u001b[0m                                                                           \n",
       " \u001b[99m4104\u001b[0m                                                                           "
      ]
     },
     "metadata": {},
     "output_type": "display_data"
    },
    {
     "data": {
      "application/vnd.jupyter.widget-view+json": {
       "model_id": "bf7116e1d28246ad90091bef4b89672f",
       "version_major": 2,
       "version_minor": 0
      },
      "text/plain": [
       "IpythonBar(children=(HTML(value='  0.0%'), FloatProgress(value=0.0)))"
      ]
     },
     "metadata": {},
     "output_type": "display_data"
    },
    {
     "data": {
      "text/plain": [
       "\u001b[K\u001b[F\u001b[K\u001b[F\u001b[K\u001b[F \u001b[1mIters\u001b[0m    \u001b[1mElapsed Time\u001b[0m       \u001b[1mSpeed\u001b[0m            \u001b[1mLoss_D\u001b[0m           \u001b[1mLoss_G\u001b[0m   \u001b[1mEpoch\u001b[0m   \n",
       " \u001b[99m24/\u001b[93m24\u001b[0m\u001b[0m  \u001b[99m00:00:00<\u001b[93m00:00:00\u001b[0m\u001b[0m  \u001b[99m30.91it/s\u001b[0m  \u001b[99m-5.603249037697352e+17\u001b[0m  \u001b[99m-19.2657\u001b[0m   \u001b[99m172\u001b[0m    \n",
       " \u001b[1mStep\u001b[0m                                                                           \n",
       " \u001b[99m4128\u001b[0m                                                                           "
      ]
     },
     "metadata": {},
     "output_type": "display_data"
    },
    {
     "data": {
      "application/vnd.jupyter.widget-view+json": {
       "model_id": "873d7c1b68874e609e7fbd5c8df5dd78",
       "version_major": 2,
       "version_minor": 0
      },
      "text/plain": [
       "IpythonBar(children=(HTML(value='  0.0%'), FloatProgress(value=0.0)))"
      ]
     },
     "metadata": {},
     "output_type": "display_data"
    },
    {
     "data": {
      "text/plain": [
       "\u001b[K\u001b[F\u001b[K\u001b[F\u001b[K\u001b[F \u001b[1mIters\u001b[0m    \u001b[1mElapsed Time\u001b[0m       \u001b[1mSpeed\u001b[0m            \u001b[1mLoss_D\u001b[0m           \u001b[1mLoss_G\u001b[0m   \u001b[1mEpoch\u001b[0m   \n",
       " \u001b[99m24/\u001b[93m24\u001b[0m\u001b[0m  \u001b[99m00:00:00<\u001b[93m00:00:00\u001b[0m\u001b[0m  \u001b[99m30.83it/s\u001b[0m  \u001b[99m-6.340582566076088e+17\u001b[0m  \u001b[99m-19.3748\u001b[0m   \u001b[99m173\u001b[0m    \n",
       " \u001b[1mStep\u001b[0m                                                                           \n",
       " \u001b[99m4152\u001b[0m                                                                           "
      ]
     },
     "metadata": {},
     "output_type": "display_data"
    },
    {
     "data": {
      "application/vnd.jupyter.widget-view+json": {
       "model_id": "e366adedf2604cb68a04e99406828103",
       "version_major": 2,
       "version_minor": 0
      },
      "text/plain": [
       "IpythonBar(children=(HTML(value='  0.0%'), FloatProgress(value=0.0)))"
      ]
     },
     "metadata": {},
     "output_type": "display_data"
    },
    {
     "data": {
      "text/plain": [
       "\u001b[K\u001b[F\u001b[K\u001b[F\u001b[K\u001b[F \u001b[1mIters\u001b[0m    \u001b[1mElapsed Time\u001b[0m       \u001b[1mSpeed\u001b[0m            \u001b[1mLoss_D\u001b[0m           \u001b[1mLoss_G\u001b[0m   \u001b[1mEpoch\u001b[0m   \n",
       " \u001b[99m24/\u001b[93m24\u001b[0m\u001b[0m  \u001b[99m00:00:00<\u001b[93m00:00:00\u001b[0m\u001b[0m  \u001b[99m30.34it/s\u001b[0m  \u001b[99m-6.675151584902513e+17\u001b[0m  \u001b[99m-19.2707\u001b[0m   \u001b[99m174\u001b[0m    \n",
       " \u001b[1mStep\u001b[0m                                                                           \n",
       " \u001b[99m4176\u001b[0m                                                                           "
      ]
     },
     "metadata": {},
     "output_type": "display_data"
    },
    {
     "data": {
      "application/vnd.jupyter.widget-view+json": {
       "model_id": "403eed41b3f546efaadc91752ebbbc34",
       "version_major": 2,
       "version_minor": 0
      },
      "text/plain": [
       "IpythonBar(children=(HTML(value='  0.0%'), FloatProgress(value=0.0)))"
      ]
     },
     "metadata": {},
     "output_type": "display_data"
    },
    {
     "data": {
      "text/plain": [
       "\u001b[K\u001b[F\u001b[K\u001b[F\u001b[K\u001b[F \u001b[1mIters\u001b[0m    \u001b[1mElapsed Time\u001b[0m       \u001b[1mSpeed\u001b[0m            \u001b[1mLoss_D\u001b[0m            \u001b[1mLoss_G\u001b[0m   \u001b[1mEpoch\u001b[0m  \n",
       " \u001b[99m24/\u001b[93m24\u001b[0m\u001b[0m  \u001b[99m00:00:00<\u001b[93m00:00:00\u001b[0m\u001b[0m  \u001b[99m28.26it/s\u001b[0m  \u001b[99m-5.1675517497114624e+17\u001b[0m  \u001b[99m-19.4124\u001b[0m   \u001b[99m175\u001b[0m   \n",
       " \u001b[1mStep\u001b[0m                                                                           \n",
       " \u001b[99m4200\u001b[0m                                                                           "
      ]
     },
     "metadata": {},
     "output_type": "display_data"
    },
    {
     "data": {
      "application/vnd.jupyter.widget-view+json": {
       "model_id": "b92e83d5119c4dbbbec3af4a226f34a0",
       "version_major": 2,
       "version_minor": 0
      },
      "text/plain": [
       "IpythonBar(children=(HTML(value='  0.0%'), FloatProgress(value=0.0)))"
      ]
     },
     "metadata": {},
     "output_type": "display_data"
    },
    {
     "data": {
      "text/plain": [
       "\u001b[K\u001b[F\u001b[K\u001b[F\u001b[K\u001b[F \u001b[1mIters\u001b[0m    \u001b[1mElapsed Time\u001b[0m       \u001b[1mSpeed\u001b[0m            \u001b[1mLoss_D\u001b[0m           \u001b[1mLoss_G\u001b[0m   \u001b[1mEpoch\u001b[0m   \n",
       " \u001b[99m24/\u001b[93m24\u001b[0m\u001b[0m  \u001b[99m00:00:00<\u001b[93m00:00:00\u001b[0m\u001b[0m  \u001b[99m30.54it/s\u001b[0m  \u001b[99m-5.589933951884984e+17\u001b[0m  \u001b[99m-19.6191\u001b[0m   \u001b[99m176\u001b[0m    \n",
       " \u001b[1mStep\u001b[0m                                                                           \n",
       " \u001b[99m4224\u001b[0m                                                                           "
      ]
     },
     "metadata": {},
     "output_type": "display_data"
    },
    {
     "data": {
      "application/vnd.jupyter.widget-view+json": {
       "model_id": "8447a4bc22414ffbb074878f36dcfc1d",
       "version_major": 2,
       "version_minor": 0
      },
      "text/plain": [
       "IpythonBar(children=(HTML(value='  0.0%'), FloatProgress(value=0.0)))"
      ]
     },
     "metadata": {},
     "output_type": "display_data"
    },
    {
     "data": {
      "text/plain": [
       "\u001b[K\u001b[F\u001b[K\u001b[F\u001b[K\u001b[F \u001b[1mIters\u001b[0m    \u001b[1mElapsed Time\u001b[0m       \u001b[1mSpeed\u001b[0m            \u001b[1mLoss_D\u001b[0m           \u001b[1mLoss_G\u001b[0m   \u001b[1mEpoch\u001b[0m   \n",
       " \u001b[99m24/\u001b[93m24\u001b[0m\u001b[0m  \u001b[99m00:00:00<\u001b[93m00:00:00\u001b[0m\u001b[0m  \u001b[99m31.99it/s\u001b[0m  \u001b[99m-5.514258346116383e+17\u001b[0m  \u001b[99m-19.4693\u001b[0m   \u001b[99m177\u001b[0m    \n",
       " \u001b[1mStep\u001b[0m                                                                           \n",
       " \u001b[99m4248\u001b[0m                                                                           "
      ]
     },
     "metadata": {},
     "output_type": "display_data"
    },
    {
     "data": {
      "application/vnd.jupyter.widget-view+json": {
       "model_id": "5247bb7b43ed4489b6072041cb70db5d",
       "version_major": 2,
       "version_minor": 0
      },
      "text/plain": [
       "IpythonBar(children=(HTML(value='  0.0%'), FloatProgress(value=0.0)))"
      ]
     },
     "metadata": {},
     "output_type": "display_data"
    },
    {
     "data": {
      "text/plain": [
       "\u001b[K\u001b[F\u001b[K\u001b[F\u001b[K\u001b[F \u001b[1mIters\u001b[0m    \u001b[1mElapsed Time\u001b[0m       \u001b[1mSpeed\u001b[0m            \u001b[1mLoss_D\u001b[0m           \u001b[1mLoss_G\u001b[0m   \u001b[1mEpoch\u001b[0m   \n",
       " \u001b[99m24/\u001b[93m24\u001b[0m\u001b[0m  \u001b[99m00:00:00<\u001b[93m00:00:00\u001b[0m\u001b[0m  \u001b[99m31.11it/s\u001b[0m  \u001b[99m-6.653822433713193e+17\u001b[0m  \u001b[99m-20.2926\u001b[0m   \u001b[99m178\u001b[0m    \n",
       " \u001b[1mStep\u001b[0m                                                                           \n",
       " \u001b[99m4272\u001b[0m                                                                           "
      ]
     },
     "metadata": {},
     "output_type": "display_data"
    },
    {
     "data": {
      "application/vnd.jupyter.widget-view+json": {
       "model_id": "170e8b3ba2a744b19d8caa7135ac10fa",
       "version_major": 2,
       "version_minor": 0
      },
      "text/plain": [
       "IpythonBar(children=(HTML(value='  0.0%'), FloatProgress(value=0.0)))"
      ]
     },
     "metadata": {},
     "output_type": "display_data"
    },
    {
     "data": {
      "text/plain": [
       "\u001b[K\u001b[F\u001b[K\u001b[F\u001b[K\u001b[F \u001b[1mIters\u001b[0m    \u001b[1mElapsed Time\u001b[0m       \u001b[1mSpeed\u001b[0m            \u001b[1mLoss_D\u001b[0m            \u001b[1mLoss_G\u001b[0m   \u001b[1mEpoch\u001b[0m  \n",
       " \u001b[99m24/\u001b[93m24\u001b[0m\u001b[0m  \u001b[99m00:00:00<\u001b[93m00:00:00\u001b[0m\u001b[0m  \u001b[99m31.66it/s\u001b[0m  \u001b[99m-4.7719378453109146e+17\u001b[0m  \u001b[99m-19.8073\u001b[0m   \u001b[99m179\u001b[0m   \n",
       " \u001b[1mStep\u001b[0m                                                                           \n",
       " \u001b[99m4296\u001b[0m                                                                           "
      ]
     },
     "metadata": {},
     "output_type": "display_data"
    },
    {
     "data": {
      "application/vnd.jupyter.widget-view+json": {
       "model_id": "9cc9f76f9cd0441693ac7a4bbdc4621b",
       "version_major": 2,
       "version_minor": 0
      },
      "text/plain": [
       "IpythonBar(children=(HTML(value='  0.0%'), FloatProgress(value=0.0)))"
      ]
     },
     "metadata": {},
     "output_type": "display_data"
    },
    {
     "data": {
      "text/plain": [
       "\u001b[K\u001b[F\u001b[K\u001b[F\u001b[K\u001b[F \u001b[1mIters\u001b[0m    \u001b[1mElapsed Time\u001b[0m       \u001b[1mSpeed\u001b[0m            \u001b[1mLoss_D\u001b[0m            \u001b[1mLoss_G\u001b[0m   \u001b[1mEpoch\u001b[0m  \n",
       " \u001b[99m24/\u001b[93m24\u001b[0m\u001b[0m  \u001b[99m00:00:00<\u001b[93m00:00:00\u001b[0m\u001b[0m  \u001b[99m27.97it/s\u001b[0m  \u001b[99m-5.4996729807765504e+17\u001b[0m  \u001b[99m-20.1212\u001b[0m   \u001b[99m180\u001b[0m   \n",
       " \u001b[1mStep\u001b[0m                                                                           \n",
       " \u001b[99m4320\u001b[0m                                                                           "
      ]
     },
     "metadata": {},
     "output_type": "display_data"
    },
    {
     "data": {
      "application/vnd.jupyter.widget-view+json": {
       "model_id": "00b9d9f9a2404907a2c78c7f883a16bc",
       "version_major": 2,
       "version_minor": 0
      },
      "text/plain": [
       "IpythonBar(children=(HTML(value='  0.0%'), FloatProgress(value=0.0)))"
      ]
     },
     "metadata": {},
     "output_type": "display_data"
    },
    {
     "data": {
      "text/plain": [
       "\u001b[K\u001b[F\u001b[K\u001b[F\u001b[K\u001b[F \u001b[1mIters\u001b[0m    \u001b[1mElapsed Time\u001b[0m       \u001b[1mSpeed\u001b[0m            \u001b[1mLoss_D\u001b[0m           \u001b[1mLoss_G\u001b[0m   \u001b[1mEpoch\u001b[0m   \n",
       " \u001b[99m24/\u001b[93m24\u001b[0m\u001b[0m  \u001b[99m00:00:00<\u001b[93m00:00:00\u001b[0m\u001b[0m  \u001b[99m30.98it/s\u001b[0m  \u001b[99m-5.416087076040868e+17\u001b[0m  \u001b[99m-20.0721\u001b[0m   \u001b[99m181\u001b[0m    \n",
       " \u001b[1mStep\u001b[0m                                                                           \n",
       " \u001b[99m4344\u001b[0m                                                                           "
      ]
     },
     "metadata": {},
     "output_type": "display_data"
    },
    {
     "data": {
      "application/vnd.jupyter.widget-view+json": {
       "model_id": "6131e6d437df48209b6cba992f840c8d",
       "version_major": 2,
       "version_minor": 0
      },
      "text/plain": [
       "IpythonBar(children=(HTML(value='  0.0%'), FloatProgress(value=0.0)))"
      ]
     },
     "metadata": {},
     "output_type": "display_data"
    },
    {
     "data": {
      "text/plain": [
       "\u001b[K\u001b[F\u001b[K\u001b[F\u001b[K\u001b[F \u001b[1mIters\u001b[0m    \u001b[1mElapsed Time\u001b[0m       \u001b[1mSpeed\u001b[0m            \u001b[1mLoss_D\u001b[0m            \u001b[1mLoss_G\u001b[0m   \u001b[1mEpoch\u001b[0m  \n",
       " \u001b[99m24/\u001b[93m24\u001b[0m\u001b[0m  \u001b[99m00:00:00<\u001b[93m00:00:00\u001b[0m\u001b[0m  \u001b[99m31.88it/s\u001b[0m  \u001b[99m-5.0078239775575245e+17\u001b[0m  \u001b[99m-20.1293\u001b[0m   \u001b[99m182\u001b[0m   \n",
       " \u001b[1mStep\u001b[0m                                                                           \n",
       " \u001b[99m4368\u001b[0m                                                                           "
      ]
     },
     "metadata": {},
     "output_type": "display_data"
    },
    {
     "data": {
      "application/vnd.jupyter.widget-view+json": {
       "model_id": "3a8ccfb846c7490b94cf081b95ef43cb",
       "version_major": 2,
       "version_minor": 0
      },
      "text/plain": [
       "IpythonBar(children=(HTML(value='  0.0%'), FloatProgress(value=0.0)))"
      ]
     },
     "metadata": {},
     "output_type": "display_data"
    },
    {
     "data": {
      "text/plain": [
       "\u001b[K\u001b[F\u001b[K\u001b[F\u001b[K\u001b[F \u001b[1mIters\u001b[0m    \u001b[1mElapsed Time\u001b[0m       \u001b[1mSpeed\u001b[0m            \u001b[1mLoss_D\u001b[0m           \u001b[1mLoss_G\u001b[0m   \u001b[1mEpoch\u001b[0m   \n",
       " \u001b[99m24/\u001b[93m24\u001b[0m\u001b[0m  \u001b[99m00:00:00<\u001b[93m00:00:00\u001b[0m\u001b[0m  \u001b[99m31.19it/s\u001b[0m  \u001b[99m-5.112953438249943e+17\u001b[0m  \u001b[99m-20.8496\u001b[0m   \u001b[99m183\u001b[0m    \n",
       " \u001b[1mStep\u001b[0m                                                                           \n",
       " \u001b[99m4392\u001b[0m                                                                           "
      ]
     },
     "metadata": {},
     "output_type": "display_data"
    },
    {
     "data": {
      "application/vnd.jupyter.widget-view+json": {
       "model_id": "ed6869e4183246d797cc93736e39be1e",
       "version_major": 2,
       "version_minor": 0
      },
      "text/plain": [
       "IpythonBar(children=(HTML(value='  0.0%'), FloatProgress(value=0.0)))"
      ]
     },
     "metadata": {},
     "output_type": "display_data"
    },
    {
     "data": {
      "text/plain": [
       "\u001b[K\u001b[F\u001b[K\u001b[F\u001b[K\u001b[F \u001b[1mIters\u001b[0m    \u001b[1mElapsed Time\u001b[0m       \u001b[1mSpeed\u001b[0m            \u001b[1mLoss_D\u001b[0m           \u001b[1mLoss_G\u001b[0m   \u001b[1mEpoch\u001b[0m   \n",
       " \u001b[99m24/\u001b[93m24\u001b[0m\u001b[0m  \u001b[99m00:00:00<\u001b[93m00:00:00\u001b[0m\u001b[0m  \u001b[99m31.68it/s\u001b[0m  \u001b[99m-6.582670974695506e+17\u001b[0m  \u001b[99m-20.5328\u001b[0m   \u001b[99m184\u001b[0m    \n",
       " \u001b[1mStep\u001b[0m                                                                           \n",
       " \u001b[99m4416\u001b[0m                                                                           "
      ]
     },
     "metadata": {},
     "output_type": "display_data"
    },
    {
     "data": {
      "application/vnd.jupyter.widget-view+json": {
       "model_id": "1df2ddb52945428cb033bf24ea2c356f",
       "version_major": 2,
       "version_minor": 0
      },
      "text/plain": [
       "IpythonBar(children=(HTML(value='  0.0%'), FloatProgress(value=0.0)))"
      ]
     },
     "metadata": {},
     "output_type": "display_data"
    },
    {
     "data": {
      "text/plain": [
       "\u001b[K\u001b[F\u001b[K\u001b[F\u001b[K\u001b[F \u001b[1mIters\u001b[0m    \u001b[1mElapsed Time\u001b[0m       \u001b[1mSpeed\u001b[0m            \u001b[1mLoss_D\u001b[0m          \u001b[1mLoss_G\u001b[0m   \u001b[1mEpoch\u001b[0m    \n",
       " \u001b[99m24/\u001b[93m24\u001b[0m\u001b[0m  \u001b[99m00:00:00<\u001b[93m00:00:00\u001b[0m\u001b[0m  \u001b[99m28.51it/s\u001b[0m  \u001b[99m-5.959390131063357e+17\u001b[0m  \u001b[99m-19.888\u001b[0m   \u001b[99m185\u001b[0m     \n",
       " \u001b[1mStep\u001b[0m                                                                           \n",
       " \u001b[99m4440\u001b[0m                                                                           "
      ]
     },
     "metadata": {},
     "output_type": "display_data"
    },
    {
     "data": {
      "application/vnd.jupyter.widget-view+json": {
       "model_id": "4e4ae741c68d459dad8146ca3ef30d05",
       "version_major": 2,
       "version_minor": 0
      },
      "text/plain": [
       "IpythonBar(children=(HTML(value='  0.0%'), FloatProgress(value=0.0)))"
      ]
     },
     "metadata": {},
     "output_type": "display_data"
    },
    {
     "data": {
      "text/plain": [
       "\u001b[K\u001b[F\u001b[K\u001b[F\u001b[K\u001b[F \u001b[1mIters\u001b[0m    \u001b[1mElapsed Time\u001b[0m       \u001b[1mSpeed\u001b[0m            \u001b[1mLoss_D\u001b[0m           \u001b[1mLoss_G\u001b[0m   \u001b[1mEpoch\u001b[0m   \n",
       " \u001b[99m24/\u001b[93m24\u001b[0m\u001b[0m  \u001b[99m00:00:00<\u001b[93m00:00:00\u001b[0m\u001b[0m  \u001b[99m30.26it/s\u001b[0m  \u001b[99m-5.628354667730698e+17\u001b[0m  \u001b[99m-20.6357\u001b[0m   \u001b[99m186\u001b[0m    \n",
       " \u001b[1mStep\u001b[0m                                                                           \n",
       " \u001b[99m4464\u001b[0m                                                                           "
      ]
     },
     "metadata": {},
     "output_type": "display_data"
    },
    {
     "data": {
      "application/vnd.jupyter.widget-view+json": {
       "model_id": "e71ecf29c44748e78b534c922f70d5db",
       "version_major": 2,
       "version_minor": 0
      },
      "text/plain": [
       "IpythonBar(children=(HTML(value='  0.0%'), FloatProgress(value=0.0)))"
      ]
     },
     "metadata": {},
     "output_type": "display_data"
    },
    {
     "data": {
      "text/plain": [
       "\u001b[K\u001b[F\u001b[K\u001b[F\u001b[K\u001b[F \u001b[1mIters\u001b[0m    \u001b[1mElapsed Time\u001b[0m       \u001b[1mSpeed\u001b[0m            \u001b[1mLoss_D\u001b[0m           \u001b[1mLoss_G\u001b[0m   \u001b[1mEpoch\u001b[0m   \n",
       " \u001b[99m24/\u001b[93m24\u001b[0m\u001b[0m  \u001b[99m00:00:00<\u001b[93m00:00:00\u001b[0m\u001b[0m  \u001b[99m48.84it/s\u001b[0m  \u001b[99m-6.161756620545065e+17\u001b[0m  \u001b[99m-20.4168\u001b[0m   \u001b[99m187\u001b[0m    \n",
       " \u001b[1mStep\u001b[0m                                                                           \n",
       " \u001b[99m4488\u001b[0m                                                                           "
      ]
     },
     "metadata": {},
     "output_type": "display_data"
    },
    {
     "data": {
      "application/vnd.jupyter.widget-view+json": {
       "model_id": "20f9bdd3f1b841078e7a5b7f11cbe8ac",
       "version_major": 2,
       "version_minor": 0
      },
      "text/plain": [
       "IpythonBar(children=(HTML(value='  0.0%'), FloatProgress(value=0.0)))"
      ]
     },
     "metadata": {},
     "output_type": "display_data"
    },
    {
     "data": {
      "text/plain": [
       "\u001b[K\u001b[F\u001b[K\u001b[F\u001b[K\u001b[F \u001b[1mIters\u001b[0m    \u001b[1mElapsed Time\u001b[0m       \u001b[1mSpeed\u001b[0m            \u001b[1mLoss_D\u001b[0m           \u001b[1mLoss_G\u001b[0m   \u001b[1mEpoch\u001b[0m   \n",
       " \u001b[99m24/\u001b[93m24\u001b[0m\u001b[0m  \u001b[99m00:00:00<\u001b[93m00:00:00\u001b[0m\u001b[0m  \u001b[99m56.09it/s\u001b[0m  \u001b[99m-6.558531196907684e+17\u001b[0m  \u001b[99m-20.3107\u001b[0m   \u001b[99m188\u001b[0m    \n",
       " \u001b[1mStep\u001b[0m                                                                           \n",
       " \u001b[99m4512\u001b[0m                                                                           "
      ]
     },
     "metadata": {},
     "output_type": "display_data"
    },
    {
     "data": {
      "application/vnd.jupyter.widget-view+json": {
       "model_id": "ac606b060b3e4c6190533156682eaccb",
       "version_major": 2,
       "version_minor": 0
      },
      "text/plain": [
       "IpythonBar(children=(HTML(value='  0.0%'), FloatProgress(value=0.0)))"
      ]
     },
     "metadata": {},
     "output_type": "display_data"
    },
    {
     "data": {
      "text/plain": [
       "\u001b[K\u001b[F\u001b[K\u001b[F\u001b[K\u001b[F \u001b[1mIters\u001b[0m    \u001b[1mElapsed Time\u001b[0m       \u001b[1mSpeed\u001b[0m            \u001b[1mLoss_D\u001b[0m           \u001b[1mLoss_G\u001b[0m   \u001b[1mEpoch\u001b[0m   \n",
       " \u001b[99m24/\u001b[93m24\u001b[0m\u001b[0m  \u001b[99m00:00:00<\u001b[93m00:00:00\u001b[0m\u001b[0m  \u001b[99m56.73it/s\u001b[0m  \u001b[99m-5.581042682387497e+17\u001b[0m  \u001b[99m-19.7645\u001b[0m   \u001b[99m189\u001b[0m    \n",
       " \u001b[1mStep\u001b[0m                                                                           \n",
       " \u001b[99m4536\u001b[0m                                                                           "
      ]
     },
     "metadata": {},
     "output_type": "display_data"
    },
    {
     "data": {
      "application/vnd.jupyter.widget-view+json": {
       "model_id": "9df43021e98d4464b6bca2e4543bee1b",
       "version_major": 2,
       "version_minor": 0
      },
      "text/plain": [
       "IpythonBar(children=(HTML(value='  0.0%'), FloatProgress(value=0.0)))"
      ]
     },
     "metadata": {},
     "output_type": "display_data"
    },
    {
     "data": {
      "text/plain": [
       "\u001b[K\u001b[F\u001b[K\u001b[F\u001b[K\u001b[F \u001b[1mIters\u001b[0m    \u001b[1mElapsed Time\u001b[0m       \u001b[1mSpeed\u001b[0m            \u001b[1mLoss_D\u001b[0m           \u001b[1mLoss_G\u001b[0m   \u001b[1mEpoch\u001b[0m   \n",
       " \u001b[99m24/\u001b[93m24\u001b[0m\u001b[0m  \u001b[99m00:00:00<\u001b[93m00:00:00\u001b[0m\u001b[0m  \u001b[99m43.49it/s\u001b[0m  \u001b[99m-5.832455636805222e+17\u001b[0m  \u001b[99m-20.3219\u001b[0m   \u001b[99m190\u001b[0m    \n",
       " \u001b[1mStep\u001b[0m                                                                           \n",
       " \u001b[99m4560\u001b[0m                                                                           "
      ]
     },
     "metadata": {},
     "output_type": "display_data"
    },
    {
     "data": {
      "application/vnd.jupyter.widget-view+json": {
       "model_id": "76ecf82318144340a18b7f226e79bef5",
       "version_major": 2,
       "version_minor": 0
      },
      "text/plain": [
       "IpythonBar(children=(HTML(value='  0.0%'), FloatProgress(value=0.0)))"
      ]
     },
     "metadata": {},
     "output_type": "display_data"
    },
    {
     "data": {
      "text/plain": [
       "\u001b[K\u001b[F\u001b[K\u001b[F\u001b[K\u001b[F \u001b[1mIters\u001b[0m    \u001b[1mElapsed Time\u001b[0m       \u001b[1mSpeed\u001b[0m            \u001b[1mLoss_D\u001b[0m           \u001b[1mLoss_G\u001b[0m   \u001b[1mEpoch\u001b[0m   \n",
       " \u001b[99m24/\u001b[93m24\u001b[0m\u001b[0m  \u001b[99m00:00:00<\u001b[93m00:00:00\u001b[0m\u001b[0m  \u001b[99m49.32it/s\u001b[0m  \u001b[99m-5.120186506773791e+17\u001b[0m  \u001b[99m-20.2422\u001b[0m   \u001b[99m191\u001b[0m    \n",
       " \u001b[1mStep\u001b[0m                                                                           \n",
       " \u001b[99m4584\u001b[0m                                                                           "
      ]
     },
     "metadata": {},
     "output_type": "display_data"
    },
    {
     "data": {
      "application/vnd.jupyter.widget-view+json": {
       "model_id": "5f38b414556e482ba4c9f51d122c1efa",
       "version_major": 2,
       "version_minor": 0
      },
      "text/plain": [
       "IpythonBar(children=(HTML(value='  0.0%'), FloatProgress(value=0.0)))"
      ]
     },
     "metadata": {},
     "output_type": "display_data"
    },
    {
     "data": {
      "text/plain": [
       "\u001b[K\u001b[F\u001b[K\u001b[F\u001b[K\u001b[F \u001b[1mIters\u001b[0m    \u001b[1mElapsed Time\u001b[0m       \u001b[1mSpeed\u001b[0m            \u001b[1mLoss_D\u001b[0m           \u001b[1mLoss_G\u001b[0m   \u001b[1mEpoch\u001b[0m   \n",
       " \u001b[99m24/\u001b[93m24\u001b[0m\u001b[0m  \u001b[99m00:00:00<\u001b[93m00:00:00\u001b[0m\u001b[0m  \u001b[99m57.36it/s\u001b[0m  \u001b[99m-6.308781941021737e+17\u001b[0m  \u001b[99m-20.7368\u001b[0m   \u001b[99m192\u001b[0m    \n",
       " \u001b[1mStep\u001b[0m                                                                           \n",
       " \u001b[99m4608\u001b[0m                                                                           "
      ]
     },
     "metadata": {},
     "output_type": "display_data"
    },
    {
     "data": {
      "application/vnd.jupyter.widget-view+json": {
       "model_id": "7b00ea641ca84bc6a99c143a9e7097db",
       "version_major": 2,
       "version_minor": 0
      },
      "text/plain": [
       "IpythonBar(children=(HTML(value='  0.0%'), FloatProgress(value=0.0)))"
      ]
     },
     "metadata": {},
     "output_type": "display_data"
    },
    {
     "data": {
      "text/plain": [
       "\u001b[K\u001b[F\u001b[K\u001b[F\u001b[K\u001b[F \u001b[1mIters\u001b[0m    \u001b[1mElapsed Time\u001b[0m       \u001b[1mSpeed\u001b[0m           \u001b[1mLoss_D\u001b[0m           \u001b[1mLoss_G\u001b[0m   \u001b[1mEpoch\u001b[0m    \n",
       " \u001b[99m24/\u001b[93m24\u001b[0m\u001b[0m  \u001b[99m00:00:00<\u001b[93m00:00:00\u001b[0m\u001b[0m  \u001b[99m47.43it/s\u001b[0m  \u001b[99m-6.58426045619241e+17\u001b[0m  \u001b[99m-19.7789\u001b[0m   \u001b[99m193\u001b[0m     \n",
       " \u001b[1mStep\u001b[0m                                                                           \n",
       " \u001b[99m4632\u001b[0m                                                                           "
      ]
     },
     "metadata": {},
     "output_type": "display_data"
    },
    {
     "data": {
      "application/vnd.jupyter.widget-view+json": {
       "model_id": "eef4f60483544524aa1dc100e7422664",
       "version_major": 2,
       "version_minor": 0
      },
      "text/plain": [
       "IpythonBar(children=(HTML(value='  0.0%'), FloatProgress(value=0.0)))"
      ]
     },
     "metadata": {},
     "output_type": "display_data"
    },
    {
     "data": {
      "text/plain": [
       "\u001b[K\u001b[F\u001b[K\u001b[F\u001b[K\u001b[F \u001b[1mIters\u001b[0m    \u001b[1mElapsed Time\u001b[0m       \u001b[1mSpeed\u001b[0m           \u001b[1mLoss_D\u001b[0m           \u001b[1mLoss_G\u001b[0m   \u001b[1mEpoch\u001b[0m    \n",
       " \u001b[99m24/\u001b[93m24\u001b[0m\u001b[0m  \u001b[99m00:00:00<\u001b[93m00:00:00\u001b[0m\u001b[0m  \u001b[99m49.74it/s\u001b[0m  \u001b[99m-5.88531053514195e+17\u001b[0m  \u001b[99m-20.3287\u001b[0m   \u001b[99m194\u001b[0m     \n",
       " \u001b[1mStep\u001b[0m                                                                           \n",
       " \u001b[99m4656\u001b[0m                                                                           "
      ]
     },
     "metadata": {},
     "output_type": "display_data"
    },
    {
     "data": {
      "application/vnd.jupyter.widget-view+json": {
       "model_id": "a4102ef5250e4d1ab86ebad1e8ddcb68",
       "version_major": 2,
       "version_minor": 0
      },
      "text/plain": [
       "IpythonBar(children=(HTML(value='  0.0%'), FloatProgress(value=0.0)))"
      ]
     },
     "metadata": {},
     "output_type": "display_data"
    },
    {
     "data": {
      "text/plain": [
       "\u001b[K\u001b[F\u001b[K\u001b[F\u001b[K\u001b[F \u001b[1mIters\u001b[0m    \u001b[1mElapsed Time\u001b[0m       \u001b[1mSpeed\u001b[0m            \u001b[1mLoss_D\u001b[0m           \u001b[1mLoss_G\u001b[0m   \u001b[1mEpoch\u001b[0m   \n",
       " \u001b[99m24/\u001b[93m24\u001b[0m\u001b[0m  \u001b[99m00:00:00<\u001b[93m00:00:00\u001b[0m\u001b[0m  \u001b[99m41.93it/s\u001b[0m  \u001b[99m-6.310941106980782e+17\u001b[0m  \u001b[99m-19.8952\u001b[0m   \u001b[99m195\u001b[0m    \n",
       " \u001b[1mStep\u001b[0m                                                                           \n",
       " \u001b[99m4680\u001b[0m                                                                           "
      ]
     },
     "metadata": {},
     "output_type": "display_data"
    },
    {
     "data": {
      "application/vnd.jupyter.widget-view+json": {
       "model_id": "3826f7721afb49519e26b7c0210c3413",
       "version_major": 2,
       "version_minor": 0
      },
      "text/plain": [
       "IpythonBar(children=(HTML(value='  0.0%'), FloatProgress(value=0.0)))"
      ]
     },
     "metadata": {},
     "output_type": "display_data"
    },
    {
     "data": {
      "text/plain": [
       "\u001b[K\u001b[F\u001b[K\u001b[F\u001b[K\u001b[F \u001b[1mIters\u001b[0m    \u001b[1mElapsed Time\u001b[0m       \u001b[1mSpeed\u001b[0m            \u001b[1mLoss_D\u001b[0m           \u001b[1mLoss_G\u001b[0m   \u001b[1mEpoch\u001b[0m   \n",
       " \u001b[99m24/\u001b[93m24\u001b[0m\u001b[0m  \u001b[99m00:00:00<\u001b[93m00:00:00\u001b[0m\u001b[0m  \u001b[99m47.92it/s\u001b[0m  \u001b[99m-6.977729625724027e+17\u001b[0m  \u001b[99m-20.0813\u001b[0m   \u001b[99m196\u001b[0m    \n",
       " \u001b[1mStep\u001b[0m                                                                           \n",
       " \u001b[99m4704\u001b[0m                                                                           "
      ]
     },
     "metadata": {},
     "output_type": "display_data"
    },
    {
     "data": {
      "application/vnd.jupyter.widget-view+json": {
       "model_id": "55b911fbd7864a529315981272064788",
       "version_major": 2,
       "version_minor": 0
      },
      "text/plain": [
       "IpythonBar(children=(HTML(value='  0.0%'), FloatProgress(value=0.0)))"
      ]
     },
     "metadata": {},
     "output_type": "display_data"
    },
    {
     "data": {
      "text/plain": [
       "\u001b[K\u001b[F\u001b[K\u001b[F\u001b[K\u001b[F \u001b[1mIters\u001b[0m    \u001b[1mElapsed Time\u001b[0m       \u001b[1mSpeed\u001b[0m            \u001b[1mLoss_D\u001b[0m           \u001b[1mLoss_G\u001b[0m   \u001b[1mEpoch\u001b[0m   \n",
       " \u001b[99m24/\u001b[93m24\u001b[0m\u001b[0m  \u001b[99m00:00:00<\u001b[93m00:00:00\u001b[0m\u001b[0m  \u001b[99m48.63it/s\u001b[0m  \u001b[99m-5.538788450532065e+17\u001b[0m  \u001b[99m-19.9452\u001b[0m   \u001b[99m197\u001b[0m    \n",
       " \u001b[1mStep\u001b[0m                                                                           \n",
       " \u001b[99m4728\u001b[0m                                                                           "
      ]
     },
     "metadata": {},
     "output_type": "display_data"
    },
    {
     "data": {
      "application/vnd.jupyter.widget-view+json": {
       "model_id": "88168bc623d74bbda96cf96ec59b346f",
       "version_major": 2,
       "version_minor": 0
      },
      "text/plain": [
       "IpythonBar(children=(HTML(value='  0.0%'), FloatProgress(value=0.0)))"
      ]
     },
     "metadata": {},
     "output_type": "display_data"
    },
    {
     "data": {
      "text/plain": [
       "\u001b[K\u001b[F\u001b[K\u001b[F\u001b[K\u001b[F \u001b[1mIters\u001b[0m    \u001b[1mElapsed Time\u001b[0m       \u001b[1mSpeed\u001b[0m            \u001b[1mLoss_D\u001b[0m           \u001b[1mLoss_G\u001b[0m   \u001b[1mEpoch\u001b[0m   \n",
       " \u001b[99m24/\u001b[93m24\u001b[0m\u001b[0m  \u001b[99m00:00:00<\u001b[93m00:00:00\u001b[0m\u001b[0m  \u001b[99m46.58it/s\u001b[0m  \u001b[99m-6.189544028158034e+17\u001b[0m  \u001b[99m-20.1615\u001b[0m   \u001b[99m198\u001b[0m    \n",
       " \u001b[1mStep\u001b[0m                                                                           \n",
       " \u001b[99m4752\u001b[0m                                                                           "
      ]
     },
     "metadata": {},
     "output_type": "display_data"
    },
    {
     "data": {
      "application/vnd.jupyter.widget-view+json": {
       "model_id": "b54f6e5ccce24982ace7b9e18af18647",
       "version_major": 2,
       "version_minor": 0
      },
      "text/plain": [
       "IpythonBar(children=(HTML(value='  0.0%'), FloatProgress(value=0.0)))"
      ]
     },
     "metadata": {},
     "output_type": "display_data"
    },
    {
     "data": {
      "text/plain": [
       "\u001b[K\u001b[F\u001b[K\u001b[F\u001b[K\u001b[F \u001b[1mIters\u001b[0m    \u001b[1mElapsed Time\u001b[0m       \u001b[1mSpeed\u001b[0m            \u001b[1mLoss_D\u001b[0m            \u001b[1mLoss_G\u001b[0m   \u001b[1mEpoch\u001b[0m  \n",
       " \u001b[99m24/\u001b[93m24\u001b[0m\u001b[0m  \u001b[99m00:00:00<\u001b[93m00:00:00\u001b[0m\u001b[0m  \u001b[99m46.16it/s\u001b[0m  \u001b[99m-5.1237461756687155e+17\u001b[0m  \u001b[99m-20.5448\u001b[0m   \u001b[99m199\u001b[0m   \n",
       " \u001b[1mStep\u001b[0m                                                                           \n",
       " \u001b[99m4776\u001b[0m                                                                           "
      ]
     },
     "metadata": {},
     "output_type": "display_data"
    },
    {
     "data": {
      "application/vnd.jupyter.widget-view+json": {
       "model_id": "be7e60daa098412d8eeb5e8299a2b018",
       "version_major": 2,
       "version_minor": 0
      },
      "text/plain": [
       "IpythonBar(children=(HTML(value='  0.0%'), FloatProgress(value=0.0)))"
      ]
     },
     "metadata": {},
     "output_type": "display_data"
    },
    {
     "data": {
      "text/plain": [
       "\u001b[K\u001b[F\u001b[K\u001b[F\u001b[K\u001b[F \u001b[1mIters\u001b[0m    \u001b[1mElapsed Time\u001b[0m       \u001b[1mSpeed\u001b[0m            \u001b[1mLoss_D\u001b[0m           \u001b[1mLoss_G\u001b[0m   \u001b[1mEpoch\u001b[0m   \n",
       " \u001b[99m24/\u001b[93m24\u001b[0m\u001b[0m  \u001b[99m00:00:00<\u001b[93m00:00:00\u001b[0m\u001b[0m  \u001b[99m39.69it/s\u001b[0m  \u001b[99m-6.241362636785582e+17\u001b[0m  \u001b[99m-20.1618\u001b[0m   \u001b[99m200\u001b[0m    \n",
       " \u001b[1mStep\u001b[0m                                                                           \n",
       " \u001b[99m4800\u001b[0m                                                                           "
      ]
     },
     "metadata": {},
     "output_type": "display_data"
    },
    {
     "data": {
      "application/vnd.jupyter.widget-view+json": {
       "model_id": "fea0b7a5ec1f400d805fafeee9dad6f5",
       "version_major": 2,
       "version_minor": 0
      },
      "text/plain": [
       "IpythonBar(children=(HTML(value='  0.0%'), FloatProgress(value=0.0)))"
      ]
     },
     "metadata": {},
     "output_type": "display_data"
    },
    {
     "data": {
      "text/plain": [
       "\u001b[K\u001b[F\u001b[K\u001b[F\u001b[K\u001b[F \u001b[1mIters\u001b[0m    \u001b[1mElapsed Time\u001b[0m       \u001b[1mSpeed\u001b[0m            \u001b[1mLoss_D\u001b[0m           \u001b[1mLoss_G\u001b[0m   \u001b[1mEpoch\u001b[0m   \n",
       " \u001b[99m24/\u001b[93m24\u001b[0m\u001b[0m  \u001b[99m00:00:00<\u001b[93m00:00:00\u001b[0m\u001b[0m  \u001b[99m48.27it/s\u001b[0m  \u001b[99m-5.360310225553326e+17\u001b[0m  \u001b[99m-19.8281\u001b[0m   \u001b[99m201\u001b[0m    \n",
       " \u001b[1mStep\u001b[0m                                                                           \n",
       " \u001b[99m4824\u001b[0m                                                                           "
      ]
     },
     "metadata": {},
     "output_type": "display_data"
    },
    {
     "data": {
      "application/vnd.jupyter.widget-view+json": {
       "model_id": "6645d9b0dcd24ca0bf192c952dc3ee62",
       "version_major": 2,
       "version_minor": 0
      },
      "text/plain": [
       "IpythonBar(children=(HTML(value='  0.0%'), FloatProgress(value=0.0)))"
      ]
     },
     "metadata": {},
     "output_type": "display_data"
    },
    {
     "data": {
      "text/plain": [
       "\u001b[K\u001b[F\u001b[K\u001b[F\u001b[K\u001b[F \u001b[1mIters\u001b[0m    \u001b[1mElapsed Time\u001b[0m       \u001b[1mSpeed\u001b[0m            \u001b[1mLoss_D\u001b[0m           \u001b[1mLoss_G\u001b[0m   \u001b[1mEpoch\u001b[0m   \n",
       " \u001b[99m24/\u001b[93m24\u001b[0m\u001b[0m  \u001b[99m00:00:00<\u001b[93m00:00:00\u001b[0m\u001b[0m  \u001b[99m48.08it/s\u001b[0m  \u001b[99m-6.114542904053596e+17\u001b[0m  \u001b[99m-20.3885\u001b[0m   \u001b[99m202\u001b[0m    \n",
       " \u001b[1mStep\u001b[0m                                                                           \n",
       " \u001b[99m4848\u001b[0m                                                                           "
      ]
     },
     "metadata": {},
     "output_type": "display_data"
    },
    {
     "data": {
      "application/vnd.jupyter.widget-view+json": {
       "model_id": "71eb9baf280f4d43a02602a96f3b6daa",
       "version_major": 2,
       "version_minor": 0
      },
      "text/plain": [
       "IpythonBar(children=(HTML(value='  0.0%'), FloatProgress(value=0.0)))"
      ]
     },
     "metadata": {},
     "output_type": "display_data"
    },
    {
     "data": {
      "text/plain": [
       "\u001b[K\u001b[F\u001b[K\u001b[F\u001b[K\u001b[F \u001b[1mIters\u001b[0m    \u001b[1mElapsed Time\u001b[0m       \u001b[1mSpeed\u001b[0m            \u001b[1mLoss_D\u001b[0m           \u001b[1mLoss_G\u001b[0m   \u001b[1mEpoch\u001b[0m   \n",
       " \u001b[99m24/\u001b[93m24\u001b[0m\u001b[0m  \u001b[99m00:00:00<\u001b[93m00:00:00\u001b[0m\u001b[0m  \u001b[99m47.64it/s\u001b[0m  \u001b[99m-5.562662283944919e+17\u001b[0m  \u001b[99m-20.7542\u001b[0m   \u001b[99m203\u001b[0m    \n",
       " \u001b[1mStep\u001b[0m                                                                           \n",
       " \u001b[99m4872\u001b[0m                                                                           "
      ]
     },
     "metadata": {},
     "output_type": "display_data"
    },
    {
     "data": {
      "application/vnd.jupyter.widget-view+json": {
       "model_id": "5968095c07da44b3a7b1820ca72bbd3d",
       "version_major": 2,
       "version_minor": 0
      },
      "text/plain": [
       "IpythonBar(children=(HTML(value='  0.0%'), FloatProgress(value=0.0)))"
      ]
     },
     "metadata": {},
     "output_type": "display_data"
    },
    {
     "data": {
      "text/plain": [
       "\u001b[K\u001b[F\u001b[K\u001b[F\u001b[K\u001b[F \u001b[1mIters\u001b[0m    \u001b[1mElapsed Time\u001b[0m       \u001b[1mSpeed\u001b[0m            \u001b[1mLoss_D\u001b[0m           \u001b[1mLoss_G\u001b[0m   \u001b[1mEpoch\u001b[0m   \n",
       " \u001b[99m24/\u001b[93m24\u001b[0m\u001b[0m  \u001b[99m00:00:00<\u001b[93m00:00:00\u001b[0m\u001b[0m  \u001b[99m48.70it/s\u001b[0m  \u001b[99m-7.029368876517294e+17\u001b[0m  \u001b[99m-20.5585\u001b[0m   \u001b[99m204\u001b[0m    \n",
       " \u001b[1mStep\u001b[0m                                                                           \n",
       " \u001b[99m4896\u001b[0m                                                                           "
      ]
     },
     "metadata": {},
     "output_type": "display_data"
    },
    {
     "data": {
      "application/vnd.jupyter.widget-view+json": {
       "model_id": "71780ce911a74f1ebbd495a9193b4b58",
       "version_major": 2,
       "version_minor": 0
      },
      "text/plain": [
       "IpythonBar(children=(HTML(value='  0.0%'), FloatProgress(value=0.0)))"
      ]
     },
     "metadata": {},
     "output_type": "display_data"
    },
    {
     "data": {
      "text/plain": [
       "\u001b[K\u001b[F\u001b[K\u001b[F\u001b[K\u001b[F \u001b[1mIters\u001b[0m    \u001b[1mElapsed Time\u001b[0m       \u001b[1mSpeed\u001b[0m            \u001b[1mLoss_D\u001b[0m           \u001b[1mLoss_G\u001b[0m   \u001b[1mEpoch\u001b[0m   \n",
       " \u001b[99m24/\u001b[93m24\u001b[0m\u001b[0m  \u001b[99m00:00:00<\u001b[93m00:00:00\u001b[0m\u001b[0m  \u001b[99m41.58it/s\u001b[0m  \u001b[99m-6.234682416452076e+17\u001b[0m  \u001b[99m-20.7119\u001b[0m   \u001b[99m205\u001b[0m    \n",
       " \u001b[1mStep\u001b[0m                                                                           \n",
       " \u001b[99m4920\u001b[0m                                                                           "
      ]
     },
     "metadata": {},
     "output_type": "display_data"
    },
    {
     "data": {
      "application/vnd.jupyter.widget-view+json": {
       "model_id": "4eb9ef0454c74394aabb9f0acb7a2e77",
       "version_major": 2,
       "version_minor": 0
      },
      "text/plain": [
       "IpythonBar(children=(HTML(value='  0.0%'), FloatProgress(value=0.0)))"
      ]
     },
     "metadata": {},
     "output_type": "display_data"
    },
    {
     "data": {
      "text/plain": [
       "\u001b[K\u001b[F\u001b[K\u001b[F\u001b[K\u001b[F \u001b[1mIters\u001b[0m    \u001b[1mElapsed Time\u001b[0m       \u001b[1mSpeed\u001b[0m            \u001b[1mLoss_D\u001b[0m           \u001b[1mLoss_G\u001b[0m   \u001b[1mEpoch\u001b[0m   \n",
       " \u001b[99m24/\u001b[93m24\u001b[0m\u001b[0m  \u001b[99m00:00:00<\u001b[93m00:00:00\u001b[0m\u001b[0m  \u001b[99m48.20it/s\u001b[0m  \u001b[99m-5.642013694524129e+17\u001b[0m  \u001b[99m-20.6273\u001b[0m   \u001b[99m206\u001b[0m    \n",
       " \u001b[1mStep\u001b[0m                                                                           \n",
       " \u001b[99m4944\u001b[0m                                                                           "
      ]
     },
     "metadata": {},
     "output_type": "display_data"
    },
    {
     "data": {
      "application/vnd.jupyter.widget-view+json": {
       "model_id": "e0d7f205f1294c4b8c28158fc240ee88",
       "version_major": 2,
       "version_minor": 0
      },
      "text/plain": [
       "IpythonBar(children=(HTML(value='  0.0%'), FloatProgress(value=0.0)))"
      ]
     },
     "metadata": {},
     "output_type": "display_data"
    },
    {
     "data": {
      "text/plain": [
       "\u001b[K\u001b[F\u001b[K\u001b[F\u001b[K\u001b[F \u001b[1mIters\u001b[0m    \u001b[1mElapsed Time\u001b[0m       \u001b[1mSpeed\u001b[0m            \u001b[1mLoss_D\u001b[0m           \u001b[1mLoss_G\u001b[0m   \u001b[1mEpoch\u001b[0m   \n",
       " \u001b[99m24/\u001b[93m24\u001b[0m\u001b[0m  \u001b[99m00:00:00<\u001b[93m00:00:00\u001b[0m\u001b[0m  \u001b[99m49.63it/s\u001b[0m  \u001b[99m-5.761928150636298e+17\u001b[0m  \u001b[99m-20.1706\u001b[0m   \u001b[99m207\u001b[0m    \n",
       " \u001b[1mStep\u001b[0m                                                                           \n",
       " \u001b[99m4968\u001b[0m                                                                           "
      ]
     },
     "metadata": {},
     "output_type": "display_data"
    },
    {
     "data": {
      "application/vnd.jupyter.widget-view+json": {
       "model_id": "6f14a72cc4384fab981f353b14b46eb9",
       "version_major": 2,
       "version_minor": 0
      },
      "text/plain": [
       "IpythonBar(children=(HTML(value='  0.0%'), FloatProgress(value=0.0)))"
      ]
     },
     "metadata": {},
     "output_type": "display_data"
    },
    {
     "data": {
      "text/plain": [
       "\u001b[K\u001b[F\u001b[K\u001b[F\u001b[K\u001b[F \u001b[1mIters\u001b[0m    \u001b[1mElapsed Time\u001b[0m       \u001b[1mSpeed\u001b[0m            \u001b[1mLoss_D\u001b[0m           \u001b[1mLoss_G\u001b[0m   \u001b[1mEpoch\u001b[0m   \n",
       " \u001b[99m24/\u001b[93m24\u001b[0m\u001b[0m  \u001b[99m00:00:00<\u001b[93m00:00:00\u001b[0m\u001b[0m  \u001b[99m45.15it/s\u001b[0m  \u001b[99m-5.070987141002035e+17\u001b[0m  \u001b[99m-20.7211\u001b[0m   \u001b[99m208\u001b[0m    \n",
       " \u001b[1mStep\u001b[0m                                                                           \n",
       " \u001b[99m4992\u001b[0m                                                                           "
      ]
     },
     "metadata": {},
     "output_type": "display_data"
    },
    {
     "data": {
      "application/vnd.jupyter.widget-view+json": {
       "model_id": "5d69bac25857492296bedd730e85d945",
       "version_major": 2,
       "version_minor": 0
      },
      "text/plain": [
       "IpythonBar(children=(HTML(value='  0.0%'), FloatProgress(value=0.0)))"
      ]
     },
     "metadata": {},
     "output_type": "display_data"
    },
    {
     "data": {
      "text/plain": [
       "\u001b[K\u001b[F\u001b[K\u001b[F\u001b[K\u001b[F \u001b[1mIters\u001b[0m    \u001b[1mElapsed Time\u001b[0m       \u001b[1mSpeed\u001b[0m            \u001b[1mLoss_D\u001b[0m          \u001b[1mLoss_G\u001b[0m   \u001b[1mEpoch\u001b[0m    \n",
       " \u001b[99m24/\u001b[93m24\u001b[0m\u001b[0m  \u001b[99m00:00:00<\u001b[93m00:00:00\u001b[0m\u001b[0m  \u001b[99m45.83it/s\u001b[0m  \u001b[99m-6.347642805115945e+17\u001b[0m  \u001b[99m-20.299\u001b[0m   \u001b[99m209\u001b[0m     \n",
       " \u001b[1mStep\u001b[0m                                                                           \n",
       " \u001b[99m5016\u001b[0m                                                                           "
      ]
     },
     "metadata": {},
     "output_type": "display_data"
    },
    {
     "data": {
      "application/vnd.jupyter.widget-view+json": {
       "model_id": "cb957190df854a108330393d1998ff28",
       "version_major": 2,
       "version_minor": 0
      },
      "text/plain": [
       "IpythonBar(children=(HTML(value='  0.0%'), FloatProgress(value=0.0)))"
      ]
     },
     "metadata": {},
     "output_type": "display_data"
    },
    {
     "data": {
      "text/plain": [
       "\u001b[K\u001b[F\u001b[K\u001b[F\u001b[K\u001b[F \u001b[1mIters\u001b[0m    \u001b[1mElapsed Time\u001b[0m       \u001b[1mSpeed\u001b[0m            \u001b[1mLoss_D\u001b[0m           \u001b[1mLoss_G\u001b[0m   \u001b[1mEpoch\u001b[0m   \n",
       " \u001b[99m24/\u001b[93m24\u001b[0m\u001b[0m  \u001b[99m00:00:00<\u001b[93m00:00:00\u001b[0m\u001b[0m  \u001b[99m40.84it/s\u001b[0m  \u001b[99m-6.420848289293271e+17\u001b[0m  \u001b[99m-20.4701\u001b[0m   \u001b[99m210\u001b[0m    \n",
       " \u001b[1mStep\u001b[0m                                                                           \n",
       " \u001b[99m5040\u001b[0m                                                                           "
      ]
     },
     "metadata": {},
     "output_type": "display_data"
    },
    {
     "data": {
      "application/vnd.jupyter.widget-view+json": {
       "model_id": "e0c4b83225fa4934a6792a5c8c67065e",
       "version_major": 2,
       "version_minor": 0
      },
      "text/plain": [
       "IpythonBar(children=(HTML(value='  0.0%'), FloatProgress(value=0.0)))"
      ]
     },
     "metadata": {},
     "output_type": "display_data"
    },
    {
     "data": {
      "text/plain": [
       "\u001b[K\u001b[F\u001b[K\u001b[F\u001b[K\u001b[F \u001b[1mIters\u001b[0m    \u001b[1mElapsed Time\u001b[0m       \u001b[1mSpeed\u001b[0m            \u001b[1mLoss_D\u001b[0m           \u001b[1mLoss_G\u001b[0m   \u001b[1mEpoch\u001b[0m   \n",
       " \u001b[99m24/\u001b[93m24\u001b[0m\u001b[0m  \u001b[99m00:00:00<\u001b[93m00:00:00\u001b[0m\u001b[0m  \u001b[99m48.55it/s\u001b[0m  \u001b[99m-5.579362147583918e+17\u001b[0m  \u001b[99m-21.3865\u001b[0m   \u001b[99m211\u001b[0m    \n",
       " \u001b[1mStep\u001b[0m                                                                           \n",
       " \u001b[99m5064\u001b[0m                                                                           "
      ]
     },
     "metadata": {},
     "output_type": "display_data"
    },
    {
     "data": {
      "application/vnd.jupyter.widget-view+json": {
       "model_id": "244d84e328e44297abb7f509fadf249f",
       "version_major": 2,
       "version_minor": 0
      },
      "text/plain": [
       "IpythonBar(children=(HTML(value='  0.0%'), FloatProgress(value=0.0)))"
      ]
     },
     "metadata": {},
     "output_type": "display_data"
    },
    {
     "data": {
      "text/plain": [
       "\u001b[K\u001b[F\u001b[K\u001b[F\u001b[K\u001b[F \u001b[1mIters\u001b[0m    \u001b[1mElapsed Time\u001b[0m       \u001b[1mSpeed\u001b[0m            \u001b[1mLoss_D\u001b[0m            \u001b[1mLoss_G\u001b[0m   \u001b[1mEpoch\u001b[0m  \n",
       " \u001b[99m24/\u001b[93m24\u001b[0m\u001b[0m  \u001b[99m00:00:00<\u001b[93m00:00:00\u001b[0m\u001b[0m  \u001b[99m48.78it/s\u001b[0m  \u001b[99m-5.5754437630204314e+17\u001b[0m  \u001b[99m-20.8841\u001b[0m   \u001b[99m212\u001b[0m   \n",
       " \u001b[1mStep\u001b[0m                                                                           \n",
       " \u001b[99m5088\u001b[0m                                                                           "
      ]
     },
     "metadata": {},
     "output_type": "display_data"
    },
    {
     "data": {
      "application/vnd.jupyter.widget-view+json": {
       "model_id": "5fa406b412a1494da7d460ed5ff14e3f",
       "version_major": 2,
       "version_minor": 0
      },
      "text/plain": [
       "IpythonBar(children=(HTML(value='  0.0%'), FloatProgress(value=0.0)))"
      ]
     },
     "metadata": {},
     "output_type": "display_data"
    },
    {
     "data": {
      "text/plain": [
       "\u001b[K\u001b[F\u001b[K\u001b[F\u001b[K\u001b[F \u001b[1mIters\u001b[0m    \u001b[1mElapsed Time\u001b[0m       \u001b[1mSpeed\u001b[0m            \u001b[1mLoss_D\u001b[0m            \u001b[1mLoss_G\u001b[0m   \u001b[1mEpoch\u001b[0m  \n",
       " \u001b[99m24/\u001b[93m24\u001b[0m\u001b[0m  \u001b[99m00:00:00<\u001b[93m00:00:00\u001b[0m\u001b[0m  \u001b[99m48.98it/s\u001b[0m  \u001b[99m-4.9353991466359194e+17\u001b[0m  \u001b[99m-21.0679\u001b[0m   \u001b[99m213\u001b[0m   \n",
       " \u001b[1mStep\u001b[0m                                                                           \n",
       " \u001b[99m5112\u001b[0m                                                                           "
      ]
     },
     "metadata": {},
     "output_type": "display_data"
    },
    {
     "data": {
      "application/vnd.jupyter.widget-view+json": {
       "model_id": "fdc012e9df414d2281b37bcfaef3c1a7",
       "version_major": 2,
       "version_minor": 0
      },
      "text/plain": [
       "IpythonBar(children=(HTML(value='  0.0%'), FloatProgress(value=0.0)))"
      ]
     },
     "metadata": {},
     "output_type": "display_data"
    },
    {
     "data": {
      "text/plain": [
       "\u001b[K\u001b[F\u001b[K\u001b[F\u001b[K\u001b[F \u001b[1mIters\u001b[0m    \u001b[1mElapsed Time\u001b[0m       \u001b[1mSpeed\u001b[0m            \u001b[1mLoss_D\u001b[0m           \u001b[1mLoss_G\u001b[0m   \u001b[1mEpoch\u001b[0m   \n",
       " \u001b[99m24/\u001b[93m24\u001b[0m\u001b[0m  \u001b[99m00:00:00<\u001b[93m00:00:00\u001b[0m\u001b[0m  \u001b[99m48.89it/s\u001b[0m  \u001b[99m-7.933516529490985e+17\u001b[0m  \u001b[99m-20.9047\u001b[0m   \u001b[99m214\u001b[0m    \n",
       " \u001b[1mStep\u001b[0m                                                                           \n",
       " \u001b[99m5136\u001b[0m                                                                           "
      ]
     },
     "metadata": {},
     "output_type": "display_data"
    },
    {
     "data": {
      "application/vnd.jupyter.widget-view+json": {
       "model_id": "0aa1aa0870354a588bd2507ea6ef9e52",
       "version_major": 2,
       "version_minor": 0
      },
      "text/plain": [
       "IpythonBar(children=(HTML(value='  0.0%'), FloatProgress(value=0.0)))"
      ]
     },
     "metadata": {},
     "output_type": "display_data"
    },
    {
     "data": {
      "text/plain": [
       "\u001b[K\u001b[F\u001b[K\u001b[F\u001b[K\u001b[F \u001b[1mIters\u001b[0m    \u001b[1mElapsed Time\u001b[0m       \u001b[1mSpeed\u001b[0m            \u001b[1mLoss_D\u001b[0m           \u001b[1mLoss_G\u001b[0m   \u001b[1mEpoch\u001b[0m   \n",
       " \u001b[99m24/\u001b[93m24\u001b[0m\u001b[0m  \u001b[99m00:00:00<\u001b[93m00:00:00\u001b[0m\u001b[0m  \u001b[99m42.26it/s\u001b[0m  \u001b[99m-5.801582724686807e+17\u001b[0m  \u001b[99m-21.0527\u001b[0m   \u001b[99m215\u001b[0m    \n",
       " \u001b[1mStep\u001b[0m                                                                           \n",
       " \u001b[99m5160\u001b[0m                                                                           "
      ]
     },
     "metadata": {},
     "output_type": "display_data"
    },
    {
     "data": {
      "application/vnd.jupyter.widget-view+json": {
       "model_id": "19adaf64797244b5b69b802551b420a0",
       "version_major": 2,
       "version_minor": 0
      },
      "text/plain": [
       "IpythonBar(children=(HTML(value='  0.0%'), FloatProgress(value=0.0)))"
      ]
     },
     "metadata": {},
     "output_type": "display_data"
    },
    {
     "data": {
      "text/plain": [
       "\u001b[K\u001b[F\u001b[K\u001b[F\u001b[K\u001b[F \u001b[1mIters\u001b[0m    \u001b[1mElapsed Time\u001b[0m       \u001b[1mSpeed\u001b[0m           \u001b[1mLoss_D\u001b[0m           \u001b[1mLoss_G\u001b[0m   \u001b[1mEpoch\u001b[0m    \n",
       " \u001b[99m24/\u001b[93m24\u001b[0m\u001b[0m  \u001b[99m00:00:00<\u001b[93m00:00:00\u001b[0m\u001b[0m  \u001b[99m44.99it/s\u001b[0m  \u001b[99m-6.47124028158378e+17\u001b[0m  \u001b[99m-21.4406\u001b[0m   \u001b[99m216\u001b[0m     \n",
       " \u001b[1mStep\u001b[0m                                                                           \n",
       " \u001b[99m5184\u001b[0m                                                                           "
      ]
     },
     "metadata": {},
     "output_type": "display_data"
    },
    {
     "data": {
      "application/vnd.jupyter.widget-view+json": {
       "model_id": "f77220903a5a47d3989dc8a44435f772",
       "version_major": 2,
       "version_minor": 0
      },
      "text/plain": [
       "IpythonBar(children=(HTML(value='  0.0%'), FloatProgress(value=0.0)))"
      ]
     },
     "metadata": {},
     "output_type": "display_data"
    },
    {
     "data": {
      "text/plain": [
       "\u001b[K\u001b[F\u001b[K\u001b[F\u001b[K\u001b[F \u001b[1mIters\u001b[0m    \u001b[1mElapsed Time\u001b[0m       \u001b[1mSpeed\u001b[0m            \u001b[1mLoss_D\u001b[0m            \u001b[1mLoss_G\u001b[0m   \u001b[1mEpoch\u001b[0m  \n",
       " \u001b[99m24/\u001b[93m24\u001b[0m\u001b[0m  \u001b[99m00:00:00<\u001b[93m00:00:00\u001b[0m\u001b[0m  \u001b[99m47.72it/s\u001b[0m  \u001b[99m-5.4365582645631386e+17\u001b[0m  \u001b[99m-21.3093\u001b[0m   \u001b[99m217\u001b[0m   \n",
       " \u001b[1mStep\u001b[0m                                                                           \n",
       " \u001b[99m5208\u001b[0m                                                                           "
      ]
     },
     "metadata": {},
     "output_type": "display_data"
    },
    {
     "data": {
      "application/vnd.jupyter.widget-view+json": {
       "model_id": "1510aefd968d4d54aa22307314e3d738",
       "version_major": 2,
       "version_minor": 0
      },
      "text/plain": [
       "IpythonBar(children=(HTML(value='  0.0%'), FloatProgress(value=0.0)))"
      ]
     },
     "metadata": {},
     "output_type": "display_data"
    },
    {
     "data": {
      "text/plain": [
       "\u001b[K\u001b[F\u001b[K\u001b[F\u001b[K\u001b[F \u001b[1mIters\u001b[0m    \u001b[1mElapsed Time\u001b[0m       \u001b[1mSpeed\u001b[0m            \u001b[1mLoss_D\u001b[0m           \u001b[1mLoss_G\u001b[0m   \u001b[1mEpoch\u001b[0m   \n",
       " \u001b[99m24/\u001b[93m24\u001b[0m\u001b[0m  \u001b[99m00:00:00<\u001b[93m00:00:00\u001b[0m\u001b[0m  \u001b[99m45.34it/s\u001b[0m  \u001b[99m-7.359266345315205e+17\u001b[0m  \u001b[99m-21.2336\u001b[0m   \u001b[99m218\u001b[0m    \n",
       " \u001b[1mStep\u001b[0m                                                                           \n",
       " \u001b[99m5232\u001b[0m                                                                           "
      ]
     },
     "metadata": {},
     "output_type": "display_data"
    },
    {
     "data": {
      "application/vnd.jupyter.widget-view+json": {
       "model_id": "0b37b046a7154bbd9f95adb97f60f132",
       "version_major": 2,
       "version_minor": 0
      },
      "text/plain": [
       "IpythonBar(children=(HTML(value='  0.0%'), FloatProgress(value=0.0)))"
      ]
     },
     "metadata": {},
     "output_type": "display_data"
    },
    {
     "data": {
      "text/plain": [
       "\u001b[K\u001b[F\u001b[K\u001b[F\u001b[K\u001b[F \u001b[1mIters\u001b[0m    \u001b[1mElapsed Time\u001b[0m       \u001b[1mSpeed\u001b[0m            \u001b[1mLoss_D\u001b[0m           \u001b[1mLoss_G\u001b[0m   \u001b[1mEpoch\u001b[0m   \n",
       " \u001b[99m24/\u001b[93m24\u001b[0m\u001b[0m  \u001b[99m00:00:00<\u001b[93m00:00:00\u001b[0m\u001b[0m  \u001b[99m47.28it/s\u001b[0m  \u001b[99m-6.821180472966513e+17\u001b[0m  \u001b[99m-22.0694\u001b[0m   \u001b[99m219\u001b[0m    \n",
       " \u001b[1mStep\u001b[0m                                                                           \n",
       " \u001b[99m5256\u001b[0m                                                                           "
      ]
     },
     "metadata": {},
     "output_type": "display_data"
    },
    {
     "data": {
      "application/vnd.jupyter.widget-view+json": {
       "model_id": "1f018b2b81114d2c8f1c1c7fc458fa05",
       "version_major": 2,
       "version_minor": 0
      },
      "text/plain": [
       "IpythonBar(children=(HTML(value='  0.0%'), FloatProgress(value=0.0)))"
      ]
     },
     "metadata": {},
     "output_type": "display_data"
    },
    {
     "data": {
      "text/plain": [
       "\u001b[K\u001b[F\u001b[K\u001b[F\u001b[K\u001b[F \u001b[1mIters\u001b[0m    \u001b[1mElapsed Time\u001b[0m       \u001b[1mSpeed\u001b[0m            \u001b[1mLoss_D\u001b[0m           \u001b[1mLoss_G\u001b[0m   \u001b[1mEpoch\u001b[0m   \n",
       " \u001b[99m24/\u001b[93m24\u001b[0m\u001b[0m  \u001b[99m00:00:00<\u001b[93m00:00:00\u001b[0m\u001b[0m  \u001b[99m41.56it/s\u001b[0m  \u001b[99m-5.947909855279841e+17\u001b[0m  \u001b[99m-21.6943\u001b[0m   \u001b[99m220\u001b[0m    \n",
       " \u001b[1mStep\u001b[0m                                                                           \n",
       " \u001b[99m5280\u001b[0m                                                                           "
      ]
     },
     "metadata": {},
     "output_type": "display_data"
    },
    {
     "data": {
      "application/vnd.jupyter.widget-view+json": {
       "model_id": "b6294d79872a4553986b2915e9fc6883",
       "version_major": 2,
       "version_minor": 0
      },
      "text/plain": [
       "IpythonBar(children=(HTML(value='  0.0%'), FloatProgress(value=0.0)))"
      ]
     },
     "metadata": {},
     "output_type": "display_data"
    },
    {
     "data": {
      "text/plain": [
       "\u001b[K\u001b[F\u001b[K\u001b[F\u001b[K\u001b[F \u001b[1mIters\u001b[0m    \u001b[1mElapsed Time\u001b[0m       \u001b[1mSpeed\u001b[0m            \u001b[1mLoss_D\u001b[0m           \u001b[1mLoss_G\u001b[0m   \u001b[1mEpoch\u001b[0m   \n",
       " \u001b[99m24/\u001b[93m24\u001b[0m\u001b[0m  \u001b[99m00:00:00<\u001b[93m00:00:00\u001b[0m\u001b[0m  \u001b[99m47.98it/s\u001b[0m  \u001b[99m-5.4239932518393446e+17\u001b[0m  \u001b[99m-21.636\u001b[0m   \u001b[99m221\u001b[0m    \n",
       " \u001b[1mStep\u001b[0m                                                                           \n",
       " \u001b[99m5304\u001b[0m                                                                           "
      ]
     },
     "metadata": {},
     "output_type": "display_data"
    },
    {
     "data": {
      "application/vnd.jupyter.widget-view+json": {
       "model_id": "81fc1da6b8814a49ba79388f25838d30",
       "version_major": 2,
       "version_minor": 0
      },
      "text/plain": [
       "IpythonBar(children=(HTML(value='  0.0%'), FloatProgress(value=0.0)))"
      ]
     },
     "metadata": {},
     "output_type": "display_data"
    },
    {
     "data": {
      "text/plain": [
       "\u001b[K\u001b[F\u001b[K\u001b[F\u001b[K\u001b[F \u001b[1mIters\u001b[0m    \u001b[1mElapsed Time\u001b[0m       \u001b[1mSpeed\u001b[0m            \u001b[1mLoss_D\u001b[0m            \u001b[1mLoss_G\u001b[0m   \u001b[1mEpoch\u001b[0m  \n",
       " \u001b[99m24/\u001b[93m24\u001b[0m\u001b[0m  \u001b[99m00:00:00<\u001b[93m00:00:00\u001b[0m\u001b[0m  \u001b[99m45.74it/s\u001b[0m  \u001b[99m-5.1394849974255616e+17\u001b[0m  \u001b[99m-21.7361\u001b[0m   \u001b[99m222\u001b[0m   \n",
       " \u001b[1mStep\u001b[0m                                                                           \n",
       " \u001b[99m5328\u001b[0m                                                                           "
      ]
     },
     "metadata": {},
     "output_type": "display_data"
    },
    {
     "data": {
      "application/vnd.jupyter.widget-view+json": {
       "model_id": "bbf1366423654245a35e767032da23a9",
       "version_major": 2,
       "version_minor": 0
      },
      "text/plain": [
       "IpythonBar(children=(HTML(value='  0.0%'), FloatProgress(value=0.0)))"
      ]
     },
     "metadata": {},
     "output_type": "display_data"
    },
    {
     "data": {
      "text/plain": [
       "\u001b[K\u001b[F\u001b[K\u001b[F\u001b[K\u001b[F \u001b[1mIters\u001b[0m    \u001b[1mElapsed Time\u001b[0m       \u001b[1mSpeed\u001b[0m            \u001b[1mLoss_D\u001b[0m           \u001b[1mLoss_G\u001b[0m   \u001b[1mEpoch\u001b[0m   \n",
       " \u001b[99m24/\u001b[93m24\u001b[0m\u001b[0m  \u001b[99m00:00:00<\u001b[93m00:00:00\u001b[0m\u001b[0m  \u001b[99m48.33it/s\u001b[0m  \u001b[99m-5.157179919087698e+17\u001b[0m  \u001b[99m-21.1452\u001b[0m   \u001b[99m223\u001b[0m    \n",
       " \u001b[1mStep\u001b[0m                                                                           \n",
       " \u001b[99m5352\u001b[0m                                                                           "
      ]
     },
     "metadata": {},
     "output_type": "display_data"
    },
    {
     "data": {
      "application/vnd.jupyter.widget-view+json": {
       "model_id": "f179443f507b437585e9f6880936bf10",
       "version_major": 2,
       "version_minor": 0
      },
      "text/plain": [
       "IpythonBar(children=(HTML(value='  0.0%'), FloatProgress(value=0.0)))"
      ]
     },
     "metadata": {},
     "output_type": "display_data"
    },
    {
     "data": {
      "text/plain": [
       "\u001b[K\u001b[F\u001b[K\u001b[F\u001b[K\u001b[F \u001b[1mIters\u001b[0m    \u001b[1mElapsed Time\u001b[0m       \u001b[1mSpeed\u001b[0m            \u001b[1mLoss_D\u001b[0m           \u001b[1mLoss_G\u001b[0m   \u001b[1mEpoch\u001b[0m   \n",
       " \u001b[99m24/\u001b[93m24\u001b[0m\u001b[0m  \u001b[99m00:00:00<\u001b[93m00:00:00\u001b[0m\u001b[0m  \u001b[99m48.51it/s\u001b[0m  \u001b[99m-6.380850117859082e+17\u001b[0m  \u001b[99m-21.4797\u001b[0m   \u001b[99m224\u001b[0m    \n",
       " \u001b[1mStep\u001b[0m                                                                           \n",
       " \u001b[99m5376\u001b[0m                                                                           "
      ]
     },
     "metadata": {},
     "output_type": "display_data"
    },
    {
     "data": {
      "application/vnd.jupyter.widget-view+json": {
       "model_id": "207115003c184186bb9c26abae2cf1c3",
       "version_major": 2,
       "version_minor": 0
      },
      "text/plain": [
       "IpythonBar(children=(HTML(value='  0.0%'), FloatProgress(value=0.0)))"
      ]
     },
     "metadata": {},
     "output_type": "display_data"
    },
    {
     "data": {
      "text/plain": [
       "\u001b[K\u001b[F\u001b[K\u001b[F\u001b[K\u001b[F \u001b[1mIters\u001b[0m    \u001b[1mElapsed Time\u001b[0m       \u001b[1mSpeed\u001b[0m            \u001b[1mLoss_D\u001b[0m           \u001b[1mLoss_G\u001b[0m   \u001b[1mEpoch\u001b[0m   \n",
       " \u001b[99m24/\u001b[93m24\u001b[0m\u001b[0m  \u001b[99m00:00:00<\u001b[93m00:00:00\u001b[0m\u001b[0m  \u001b[99m39.29it/s\u001b[0m  \u001b[99m-6.634563113163162e+17\u001b[0m  \u001b[99m-21.7904\u001b[0m   \u001b[99m225\u001b[0m    \n",
       " \u001b[1mStep\u001b[0m                                                                           \n",
       " \u001b[99m5400\u001b[0m                                                                           "
      ]
     },
     "metadata": {},
     "output_type": "display_data"
    },
    {
     "data": {
      "application/vnd.jupyter.widget-view+json": {
       "model_id": "a786531705bd41768e330dcb166e1982",
       "version_major": 2,
       "version_minor": 0
      },
      "text/plain": [
       "IpythonBar(children=(HTML(value='  0.0%'), FloatProgress(value=0.0)))"
      ]
     },
     "metadata": {},
     "output_type": "display_data"
    },
    {
     "data": {
      "text/plain": [
       "\u001b[K\u001b[F\u001b[K\u001b[F\u001b[K\u001b[F \u001b[1mIters\u001b[0m    \u001b[1mElapsed Time\u001b[0m       \u001b[1mSpeed\u001b[0m            \u001b[1mLoss_D\u001b[0m           \u001b[1mLoss_G\u001b[0m   \u001b[1mEpoch\u001b[0m   \n",
       " \u001b[99m24/\u001b[93m24\u001b[0m\u001b[0m  \u001b[99m00:00:00<\u001b[93m00:00:00\u001b[0m\u001b[0m  \u001b[99m45.93it/s\u001b[0m  \u001b[99m-5.498484477426401e+17\u001b[0m  \u001b[99m-22.0478\u001b[0m   \u001b[99m226\u001b[0m    \n",
       " \u001b[1mStep\u001b[0m                                                                           \n",
       " \u001b[99m5424\u001b[0m                                                                           "
      ]
     },
     "metadata": {},
     "output_type": "display_data"
    },
    {
     "data": {
      "application/vnd.jupyter.widget-view+json": {
       "model_id": "d67355cc978943e08bcc3cfcbbe31f76",
       "version_major": 2,
       "version_minor": 0
      },
      "text/plain": [
       "IpythonBar(children=(HTML(value='  0.0%'), FloatProgress(value=0.0)))"
      ]
     },
     "metadata": {},
     "output_type": "display_data"
    },
    {
     "data": {
      "text/plain": [
       "\u001b[K\u001b[F\u001b[K\u001b[F\u001b[K\u001b[F \u001b[1mIters\u001b[0m    \u001b[1mElapsed Time\u001b[0m       \u001b[1mSpeed\u001b[0m            \u001b[1mLoss_D\u001b[0m            \u001b[1mLoss_G\u001b[0m   \u001b[1mEpoch\u001b[0m  \n",
       " \u001b[99m24/\u001b[93m24\u001b[0m\u001b[0m  \u001b[99m00:00:00<\u001b[93m00:00:00\u001b[0m\u001b[0m  \u001b[99m46.66it/s\u001b[0m  \u001b[99m-5.1799683283655066e+17\u001b[0m  \u001b[99m-22.2477\u001b[0m   \u001b[99m227\u001b[0m   \n",
       " \u001b[1mStep\u001b[0m                                                                           \n",
       " \u001b[99m5448\u001b[0m                                                                           "
      ]
     },
     "metadata": {},
     "output_type": "display_data"
    },
    {
     "data": {
      "application/vnd.jupyter.widget-view+json": {
       "model_id": "12c2b2389b824305bdf65f07c9602205",
       "version_major": 2,
       "version_minor": 0
      },
      "text/plain": [
       "IpythonBar(children=(HTML(value='  0.0%'), FloatProgress(value=0.0)))"
      ]
     },
     "metadata": {},
     "output_type": "display_data"
    },
    {
     "data": {
      "text/plain": [
       "\u001b[K\u001b[F\u001b[K\u001b[F\u001b[K\u001b[F \u001b[1mIters\u001b[0m    \u001b[1mElapsed Time\u001b[0m       \u001b[1mSpeed\u001b[0m            \u001b[1mLoss_D\u001b[0m           \u001b[1mLoss_G\u001b[0m   \u001b[1mEpoch\u001b[0m   \n",
       " \u001b[99m24/\u001b[93m24\u001b[0m\u001b[0m  \u001b[99m00:00:00<\u001b[93m00:00:00\u001b[0m\u001b[0m  \u001b[99m48.56it/s\u001b[0m  \u001b[99m-4.998127315792691e+17\u001b[0m  \u001b[99m-22.2338\u001b[0m   \u001b[99m228\u001b[0m    \n",
       " \u001b[1mStep\u001b[0m                                                                           \n",
       " \u001b[99m5472\u001b[0m                                                                           "
      ]
     },
     "metadata": {},
     "output_type": "display_data"
    },
    {
     "data": {
      "application/vnd.jupyter.widget-view+json": {
       "model_id": "56db8df4835f4682b15b23fd412d272c",
       "version_major": 2,
       "version_minor": 0
      },
      "text/plain": [
       "IpythonBar(children=(HTML(value='  0.0%'), FloatProgress(value=0.0)))"
      ]
     },
     "metadata": {},
     "output_type": "display_data"
    },
    {
     "data": {
      "text/plain": [
       "\u001b[K\u001b[F\u001b[K\u001b[F\u001b[K\u001b[F \u001b[1mIters\u001b[0m    \u001b[1mElapsed Time\u001b[0m       \u001b[1mSpeed\u001b[0m           \u001b[1mLoss_D\u001b[0m           \u001b[1mLoss_G\u001b[0m   \u001b[1mEpoch\u001b[0m    \n",
       " \u001b[99m24/\u001b[93m24\u001b[0m\u001b[0m  \u001b[99m00:00:00<\u001b[93m00:00:00\u001b[0m\u001b[0m  \u001b[99m49.02it/s\u001b[0m  \u001b[99m-7.04052136039678e+17\u001b[0m  \u001b[99m-21.9842\u001b[0m   \u001b[99m229\u001b[0m     \n",
       " \u001b[1mStep\u001b[0m                                                                           \n",
       " \u001b[99m5496\u001b[0m                                                                           "
      ]
     },
     "metadata": {},
     "output_type": "display_data"
    },
    {
     "data": {
      "application/vnd.jupyter.widget-view+json": {
       "model_id": "dcc289a207ae4e0199311b2dfec49e93",
       "version_major": 2,
       "version_minor": 0
      },
      "text/plain": [
       "IpythonBar(children=(HTML(value='  0.0%'), FloatProgress(value=0.0)))"
      ]
     },
     "metadata": {},
     "output_type": "display_data"
    },
    {
     "data": {
      "text/plain": [
       "\u001b[K\u001b[F\u001b[K\u001b[F\u001b[K\u001b[F \u001b[1mIters\u001b[0m    \u001b[1mElapsed Time\u001b[0m       \u001b[1mSpeed\u001b[0m            \u001b[1mLoss_D\u001b[0m           \u001b[1mLoss_G\u001b[0m   \u001b[1mEpoch\u001b[0m   \n",
       " \u001b[99m24/\u001b[93m24\u001b[0m\u001b[0m  \u001b[99m00:00:00<\u001b[93m00:00:00\u001b[0m\u001b[0m  \u001b[99m40.87it/s\u001b[0m  \u001b[99m-6.729832359736115e+17\u001b[0m  \u001b[99m-21.8734\u001b[0m   \u001b[99m230\u001b[0m    \n",
       " \u001b[1mStep\u001b[0m                                                                           \n",
       " \u001b[99m5520\u001b[0m                                                                           "
      ]
     },
     "metadata": {},
     "output_type": "display_data"
    },
    {
     "data": {
      "application/vnd.jupyter.widget-view+json": {
       "model_id": "4e873e3ab01840948a75ebcfc3f1fcfb",
       "version_major": 2,
       "version_minor": 0
      },
      "text/plain": [
       "IpythonBar(children=(HTML(value='  0.0%'), FloatProgress(value=0.0)))"
      ]
     },
     "metadata": {},
     "output_type": "display_data"
    },
    {
     "data": {
      "text/plain": [
       "\u001b[K\u001b[F\u001b[K\u001b[F\u001b[K\u001b[F \u001b[1mIters\u001b[0m    \u001b[1mElapsed Time\u001b[0m       \u001b[1mSpeed\u001b[0m            \u001b[1mLoss_D\u001b[0m           \u001b[1mLoss_G\u001b[0m   \u001b[1mEpoch\u001b[0m   \n",
       " \u001b[99m24/\u001b[93m24\u001b[0m\u001b[0m  \u001b[99m00:00:00<\u001b[93m00:00:00\u001b[0m\u001b[0m  \u001b[99m48.24it/s\u001b[0m  \u001b[99m-6.540925954162688e+17\u001b[0m  \u001b[99m-21.7321\u001b[0m   \u001b[99m231\u001b[0m    \n",
       " \u001b[1mStep\u001b[0m                                                                           \n",
       " \u001b[99m5544\u001b[0m                                                                           "
      ]
     },
     "metadata": {},
     "output_type": "display_data"
    },
    {
     "data": {
      "application/vnd.jupyter.widget-view+json": {
       "model_id": "05ce76ff48e44baca84a62d3faf7e9f7",
       "version_major": 2,
       "version_minor": 0
      },
      "text/plain": [
       "IpythonBar(children=(HTML(value='  0.0%'), FloatProgress(value=0.0)))"
      ]
     },
     "metadata": {},
     "output_type": "display_data"
    },
    {
     "data": {
      "text/plain": [
       "\u001b[K\u001b[F\u001b[K\u001b[F\u001b[K\u001b[F \u001b[1mIters\u001b[0m    \u001b[1mElapsed Time\u001b[0m       \u001b[1mSpeed\u001b[0m            \u001b[1mLoss_D\u001b[0m          \u001b[1mLoss_G\u001b[0m   \u001b[1mEpoch\u001b[0m    \n",
       " \u001b[99m24/\u001b[93m24\u001b[0m\u001b[0m  \u001b[99m00:00:00<\u001b[93m00:00:00\u001b[0m\u001b[0m  \u001b[99m48.31it/s\u001b[0m  \u001b[99m-5.902480783599206e+17\u001b[0m  \u001b[99m-21.883\u001b[0m   \u001b[99m232\u001b[0m     \n",
       " \u001b[1mStep\u001b[0m                                                                           \n",
       " \u001b[99m5568\u001b[0m                                                                           "
      ]
     },
     "metadata": {},
     "output_type": "display_data"
    },
    {
     "data": {
      "application/vnd.jupyter.widget-view+json": {
       "model_id": "009fa425253243d1829974378d79aedc",
       "version_major": 2,
       "version_minor": 0
      },
      "text/plain": [
       "IpythonBar(children=(HTML(value='  0.0%'), FloatProgress(value=0.0)))"
      ]
     },
     "metadata": {},
     "output_type": "display_data"
    },
    {
     "data": {
      "text/plain": [
       "\u001b[K\u001b[F\u001b[K\u001b[F\u001b[K\u001b[F \u001b[1mIters\u001b[0m    \u001b[1mElapsed Time\u001b[0m       \u001b[1mSpeed\u001b[0m            \u001b[1mLoss_D\u001b[0m           \u001b[1mLoss_G\u001b[0m   \u001b[1mEpoch\u001b[0m   \n",
       " \u001b[99m24/\u001b[93m24\u001b[0m\u001b[0m  \u001b[99m00:00:00<\u001b[93m00:00:00\u001b[0m\u001b[0m  \u001b[99m48.30it/s\u001b[0m  \u001b[99m-5.893161735359037e+17\u001b[0m  \u001b[99m-21.3439\u001b[0m   \u001b[99m233\u001b[0m    \n",
       " \u001b[1mStep\u001b[0m                                                                           \n",
       " \u001b[99m5592\u001b[0m                                                                           "
      ]
     },
     "metadata": {},
     "output_type": "display_data"
    },
    {
     "data": {
      "application/vnd.jupyter.widget-view+json": {
       "model_id": "f259ba2ffbc44c34a52cbb6ed08312d9",
       "version_major": 2,
       "version_minor": 0
      },
      "text/plain": [
       "IpythonBar(children=(HTML(value='  0.0%'), FloatProgress(value=0.0)))"
      ]
     },
     "metadata": {},
     "output_type": "display_data"
    },
    {
     "data": {
      "text/plain": [
       "\u001b[K\u001b[F\u001b[K\u001b[F\u001b[K\u001b[F \u001b[1mIters\u001b[0m    \u001b[1mElapsed Time\u001b[0m       \u001b[1mSpeed\u001b[0m            \u001b[1mLoss_D\u001b[0m           \u001b[1mLoss_G\u001b[0m   \u001b[1mEpoch\u001b[0m   \n",
       " \u001b[99m24/\u001b[93m24\u001b[0m\u001b[0m  \u001b[99m00:00:00<\u001b[93m00:00:00\u001b[0m\u001b[0m  \u001b[99m47.98it/s\u001b[0m  \u001b[99m-5.617623090646221e+17\u001b[0m  \u001b[99m-21.9034\u001b[0m   \u001b[99m234\u001b[0m    \n",
       " \u001b[1mStep\u001b[0m                                                                           \n",
       " \u001b[99m5616\u001b[0m                                                                           "
      ]
     },
     "metadata": {},
     "output_type": "display_data"
    },
    {
     "data": {
      "application/vnd.jupyter.widget-view+json": {
       "model_id": "f36a605d3a544a5bb29e9e7cb0475714",
       "version_major": 2,
       "version_minor": 0
      },
      "text/plain": [
       "IpythonBar(children=(HTML(value='  0.0%'), FloatProgress(value=0.0)))"
      ]
     },
     "metadata": {},
     "output_type": "display_data"
    },
    {
     "data": {
      "text/plain": [
       "\u001b[K\u001b[F\u001b[K\u001b[F\u001b[K\u001b[F \u001b[1mIters\u001b[0m    \u001b[1mElapsed Time\u001b[0m       \u001b[1mSpeed\u001b[0m            \u001b[1mLoss_D\u001b[0m           \u001b[1mLoss_G\u001b[0m   \u001b[1mEpoch\u001b[0m   \n",
       " \u001b[99m24/\u001b[93m24\u001b[0m\u001b[0m  \u001b[99m00:00:00<\u001b[93m00:00:00\u001b[0m\u001b[0m  \u001b[99m40.74it/s\u001b[0m  \u001b[99m-5.366915885254574e+17\u001b[0m  \u001b[99m-22.1861\u001b[0m   \u001b[99m235\u001b[0m    \n",
       " \u001b[1mStep\u001b[0m                                                                           \n",
       " \u001b[99m5640\u001b[0m                                                                           "
      ]
     },
     "metadata": {},
     "output_type": "display_data"
    },
    {
     "data": {
      "application/vnd.jupyter.widget-view+json": {
       "model_id": "a1e2074c3ddc4dc49ab40cdb21badfce",
       "version_major": 2,
       "version_minor": 0
      },
      "text/plain": [
       "IpythonBar(children=(HTML(value='  0.0%'), FloatProgress(value=0.0)))"
      ]
     },
     "metadata": {},
     "output_type": "display_data"
    },
    {
     "data": {
      "text/plain": [
       "\u001b[K\u001b[F\u001b[K\u001b[F\u001b[K\u001b[F \u001b[1mIters\u001b[0m    \u001b[1mElapsed Time\u001b[0m       \u001b[1mSpeed\u001b[0m            \u001b[1mLoss_D\u001b[0m            \u001b[1mLoss_G\u001b[0m   \u001b[1mEpoch\u001b[0m  \n",
       " \u001b[99m24/\u001b[93m24\u001b[0m\u001b[0m  \u001b[99m00:00:00<\u001b[93m00:00:00\u001b[0m\u001b[0m  \u001b[99m47.39it/s\u001b[0m  \u001b[99m-5.4014941515585946e+17\u001b[0m  \u001b[99m-22.3653\u001b[0m   \u001b[99m236\u001b[0m   \n",
       " \u001b[1mStep\u001b[0m                                                                           \n",
       " \u001b[99m5664\u001b[0m                                                                           "
      ]
     },
     "metadata": {},
     "output_type": "display_data"
    },
    {
     "data": {
      "application/vnd.jupyter.widget-view+json": {
       "model_id": "c76efa2e8cfc46e78a4016ecc204d1b4",
       "version_major": 2,
       "version_minor": 0
      },
      "text/plain": [
       "IpythonBar(children=(HTML(value='  0.0%'), FloatProgress(value=0.0)))"
      ]
     },
     "metadata": {},
     "output_type": "display_data"
    },
    {
     "data": {
      "text/plain": [
       "\u001b[K\u001b[F\u001b[K\u001b[F\u001b[K\u001b[F \u001b[1mIters\u001b[0m    \u001b[1mElapsed Time\u001b[0m       \u001b[1mSpeed\u001b[0m           \u001b[1mLoss_D\u001b[0m           \u001b[1mLoss_G\u001b[0m   \u001b[1mEpoch\u001b[0m    \n",
       " \u001b[99m24/\u001b[93m24\u001b[0m\u001b[0m  \u001b[99m00:00:00<\u001b[93m00:00:00\u001b[0m\u001b[0m  \u001b[99m47.65it/s\u001b[0m  \u001b[99m-6.38889923016917e+17\u001b[0m  \u001b[99m-22.2759\u001b[0m   \u001b[99m237\u001b[0m     \n",
       " \u001b[1mStep\u001b[0m                                                                           \n",
       " \u001b[99m5688\u001b[0m                                                                           "
      ]
     },
     "metadata": {},
     "output_type": "display_data"
    },
    {
     "data": {
      "application/vnd.jupyter.widget-view+json": {
       "model_id": "2678f8146fe8409bb7a6119b54c7113b",
       "version_major": 2,
       "version_minor": 0
      },
      "text/plain": [
       "IpythonBar(children=(HTML(value='  0.0%'), FloatProgress(value=0.0)))"
      ]
     },
     "metadata": {},
     "output_type": "display_data"
    },
    {
     "data": {
      "text/plain": [
       "\u001b[K\u001b[F\u001b[K\u001b[F\u001b[K\u001b[F \u001b[1mIters\u001b[0m    \u001b[1mElapsed Time\u001b[0m       \u001b[1mSpeed\u001b[0m            \u001b[1mLoss_D\u001b[0m           \u001b[1mLoss_G\u001b[0m   \u001b[1mEpoch\u001b[0m   \n",
       " \u001b[99m24/\u001b[93m24\u001b[0m\u001b[0m  \u001b[99m00:00:00<\u001b[93m00:00:00\u001b[0m\u001b[0m  \u001b[99m47.78it/s\u001b[0m  \u001b[99m-6.474523698182226e+17\u001b[0m  \u001b[99m-22.2593\u001b[0m   \u001b[99m238\u001b[0m    \n",
       " \u001b[1mStep\u001b[0m                                                                           \n",
       " \u001b[99m5712\u001b[0m                                                                           "
      ]
     },
     "metadata": {},
     "output_type": "display_data"
    },
    {
     "data": {
      "application/vnd.jupyter.widget-view+json": {
       "model_id": "b6da2a933cb94e87b291c75d5089325d",
       "version_major": 2,
       "version_minor": 0
      },
      "text/plain": [
       "IpythonBar(children=(HTML(value='  0.0%'), FloatProgress(value=0.0)))"
      ]
     },
     "metadata": {},
     "output_type": "display_data"
    },
    {
     "data": {
      "text/plain": [
       "\u001b[K\u001b[F\u001b[K\u001b[F\u001b[K\u001b[F \u001b[1mIters\u001b[0m    \u001b[1mElapsed Time\u001b[0m       \u001b[1mSpeed\u001b[0m            \u001b[1mLoss_D\u001b[0m           \u001b[1mLoss_G\u001b[0m   \u001b[1mEpoch\u001b[0m   \n",
       " \u001b[99m24/\u001b[93m24\u001b[0m\u001b[0m  \u001b[99m00:00:00<\u001b[93m00:00:00\u001b[0m\u001b[0m  \u001b[99m46.82it/s\u001b[0m  \u001b[99m-6.468388423299236e+17\u001b[0m  \u001b[99m-22.6659\u001b[0m   \u001b[99m239\u001b[0m    \n",
       " \u001b[1mStep\u001b[0m                                                                           \n",
       " \u001b[99m5736\u001b[0m                                                                           "
      ]
     },
     "metadata": {},
     "output_type": "display_data"
    },
    {
     "data": {
      "application/vnd.jupyter.widget-view+json": {
       "model_id": "636c8daba97a4ef298b954f85d8834a5",
       "version_major": 2,
       "version_minor": 0
      },
      "text/plain": [
       "IpythonBar(children=(HTML(value='  0.0%'), FloatProgress(value=0.0)))"
      ]
     },
     "metadata": {},
     "output_type": "display_data"
    },
    {
     "data": {
      "text/plain": [
       "\u001b[K\u001b[F\u001b[K\u001b[F\u001b[K\u001b[F \u001b[1mIters\u001b[0m    \u001b[1mElapsed Time\u001b[0m       \u001b[1mSpeed\u001b[0m            \u001b[1mLoss_D\u001b[0m            \u001b[1mLoss_G\u001b[0m   \u001b[1mEpoch\u001b[0m  \n",
       " \u001b[99m24/\u001b[93m24\u001b[0m\u001b[0m  \u001b[99m00:00:00<\u001b[93m00:00:00\u001b[0m\u001b[0m  \u001b[99m41.74it/s\u001b[0m  \u001b[99m-5.4156022601324954e+17\u001b[0m  \u001b[99m-22.6682\u001b[0m   \u001b[99m240\u001b[0m   \n",
       " \u001b[1mStep\u001b[0m                                                                           \n",
       " \u001b[99m5760\u001b[0m                                                                           "
      ]
     },
     "metadata": {},
     "output_type": "display_data"
    },
    {
     "data": {
      "application/vnd.jupyter.widget-view+json": {
       "model_id": "d929e1feef844120b76f3b900eba1d67",
       "version_major": 2,
       "version_minor": 0
      },
      "text/plain": [
       "IpythonBar(children=(HTML(value='  0.0%'), FloatProgress(value=0.0)))"
      ]
     },
     "metadata": {},
     "output_type": "display_data"
    },
    {
     "data": {
      "text/plain": [
       "\u001b[K\u001b[F\u001b[K\u001b[F\u001b[K\u001b[F \u001b[1mIters\u001b[0m    \u001b[1mElapsed Time\u001b[0m       \u001b[1mSpeed\u001b[0m            \u001b[1mLoss_D\u001b[0m           \u001b[1mLoss_G\u001b[0m   \u001b[1mEpoch\u001b[0m   \n",
       " \u001b[99m24/\u001b[93m24\u001b[0m\u001b[0m  \u001b[99m00:00:00<\u001b[93m00:00:00\u001b[0m\u001b[0m  \u001b[99m48.45it/s\u001b[0m  \u001b[99m-6.525742385777869e+17\u001b[0m  \u001b[99m-22.7822\u001b[0m   \u001b[99m241\u001b[0m    \n",
       " \u001b[1mStep\u001b[0m                                                                           \n",
       " \u001b[99m5784\u001b[0m                                                                           "
      ]
     },
     "metadata": {},
     "output_type": "display_data"
    },
    {
     "data": {
      "application/vnd.jupyter.widget-view+json": {
       "model_id": "b52b865d6f244867b7df89b67934cf6d",
       "version_major": 2,
       "version_minor": 0
      },
      "text/plain": [
       "IpythonBar(children=(HTML(value='  0.0%'), FloatProgress(value=0.0)))"
      ]
     },
     "metadata": {},
     "output_type": "display_data"
    },
    {
     "data": {
      "text/plain": [
       "\u001b[K\u001b[F\u001b[K\u001b[F\u001b[K\u001b[F \u001b[1mIters\u001b[0m    \u001b[1mElapsed Time\u001b[0m       \u001b[1mSpeed\u001b[0m            \u001b[1mLoss_D\u001b[0m           \u001b[1mLoss_G\u001b[0m   \u001b[1mEpoch\u001b[0m   \n",
       " \u001b[99m24/\u001b[93m24\u001b[0m\u001b[0m  \u001b[99m00:00:00<\u001b[93m00:00:00\u001b[0m\u001b[0m  \u001b[99m49.66it/s\u001b[0m  \u001b[99m-6.503370072931697e+17\u001b[0m  \u001b[99m-22.9854\u001b[0m   \u001b[99m242\u001b[0m    \n",
       " \u001b[1mStep\u001b[0m                                                                           \n",
       " \u001b[99m5808\u001b[0m                                                                           "
      ]
     },
     "metadata": {},
     "output_type": "display_data"
    },
    {
     "data": {
      "application/vnd.jupyter.widget-view+json": {
       "model_id": "68f724ded63840f48fc6e138cda03f42",
       "version_major": 2,
       "version_minor": 0
      },
      "text/plain": [
       "IpythonBar(children=(HTML(value='  0.0%'), FloatProgress(value=0.0)))"
      ]
     },
     "metadata": {},
     "output_type": "display_data"
    },
    {
     "data": {
      "text/plain": [
       "\u001b[K\u001b[F\u001b[K\u001b[F\u001b[K\u001b[F \u001b[1mIters\u001b[0m    \u001b[1mElapsed Time\u001b[0m       \u001b[1mSpeed\u001b[0m            \u001b[1mLoss_D\u001b[0m           \u001b[1mLoss_G\u001b[0m   \u001b[1mEpoch\u001b[0m   \n",
       " \u001b[99m24/\u001b[93m24\u001b[0m\u001b[0m  \u001b[99m00:00:00<\u001b[93m00:00:00\u001b[0m\u001b[0m  \u001b[99m47.98it/s\u001b[0m  \u001b[99m-7.105343068412314e+17\u001b[0m  \u001b[99m-23.0005\u001b[0m   \u001b[99m243\u001b[0m    \n",
       " \u001b[1mStep\u001b[0m                                                                           \n",
       " \u001b[99m5832\u001b[0m                                                                           "
      ]
     },
     "metadata": {},
     "output_type": "display_data"
    },
    {
     "data": {
      "application/vnd.jupyter.widget-view+json": {
       "model_id": "3ef299ef89a940a8a93891d3c0b2d2db",
       "version_major": 2,
       "version_minor": 0
      },
      "text/plain": [
       "IpythonBar(children=(HTML(value='  0.0%'), FloatProgress(value=0.0)))"
      ]
     },
     "metadata": {},
     "output_type": "display_data"
    },
    {
     "data": {
      "text/plain": [
       "\u001b[K\u001b[F\u001b[K\u001b[F\u001b[K\u001b[F \u001b[1mIters\u001b[0m    \u001b[1mElapsed Time\u001b[0m       \u001b[1mSpeed\u001b[0m            \u001b[1mLoss_D\u001b[0m           \u001b[1mLoss_G\u001b[0m   \u001b[1mEpoch\u001b[0m   \n",
       " \u001b[99m24/\u001b[93m24\u001b[0m\u001b[0m  \u001b[99m00:00:00<\u001b[93m00:00:00\u001b[0m\u001b[0m  \u001b[99m48.16it/s\u001b[0m  \u001b[99m-6.427276996341924e+17\u001b[0m  \u001b[99m-23.0846\u001b[0m   \u001b[99m244\u001b[0m    \n",
       " \u001b[1mStep\u001b[0m                                                                           \n",
       " \u001b[99m5856\u001b[0m                                                                           "
      ]
     },
     "metadata": {},
     "output_type": "display_data"
    },
    {
     "data": {
      "application/vnd.jupyter.widget-view+json": {
       "model_id": "847a47e03a58457a903ca73a8d222aed",
       "version_major": 2,
       "version_minor": 0
      },
      "text/plain": [
       "IpythonBar(children=(HTML(value='  0.0%'), FloatProgress(value=0.0)))"
      ]
     },
     "metadata": {},
     "output_type": "display_data"
    },
    {
     "data": {
      "text/plain": [
       "\u001b[K\u001b[F\u001b[K\u001b[F\u001b[K\u001b[F \u001b[1mIters\u001b[0m    \u001b[1mElapsed Time\u001b[0m       \u001b[1mSpeed\u001b[0m            \u001b[1mLoss_D\u001b[0m          \u001b[1mLoss_G\u001b[0m   \u001b[1mEpoch\u001b[0m    \n",
       " \u001b[99m24/\u001b[93m24\u001b[0m\u001b[0m  \u001b[99m00:00:00<\u001b[93m00:00:00\u001b[0m\u001b[0m  \u001b[99m41.73it/s\u001b[0m  \u001b[99m-7.016131443713638e+17\u001b[0m  \u001b[99m-23.209\u001b[0m   \u001b[99m245\u001b[0m     \n",
       " \u001b[1mStep\u001b[0m                                                                           \n",
       " \u001b[99m5880\u001b[0m                                                                           "
      ]
     },
     "metadata": {},
     "output_type": "display_data"
    },
    {
     "data": {
      "application/vnd.jupyter.widget-view+json": {
       "model_id": "89f2e38d9daf4f4a95c850e7db8f4ab1",
       "version_major": 2,
       "version_minor": 0
      },
      "text/plain": [
       "IpythonBar(children=(HTML(value='  0.0%'), FloatProgress(value=0.0)))"
      ]
     },
     "metadata": {},
     "output_type": "display_data"
    },
    {
     "data": {
      "text/plain": [
       "\u001b[K\u001b[F\u001b[K\u001b[F\u001b[K\u001b[F \u001b[1mIters\u001b[0m    \u001b[1mElapsed Time\u001b[0m       \u001b[1mSpeed\u001b[0m            \u001b[1mLoss_D\u001b[0m          \u001b[1mLoss_G\u001b[0m   \u001b[1mEpoch\u001b[0m    \n",
       " \u001b[99m24/\u001b[93m24\u001b[0m\u001b[0m  \u001b[99m00:00:00<\u001b[93m00:00:00\u001b[0m\u001b[0m  \u001b[99m48.18it/s\u001b[0m  \u001b[99m-6.063949563696251e+17\u001b[0m  \u001b[99m-23.037\u001b[0m   \u001b[99m246\u001b[0m     \n",
       " \u001b[1mStep\u001b[0m                                                                           \n",
       " \u001b[99m5904\u001b[0m                                                                           "
      ]
     },
     "metadata": {},
     "output_type": "display_data"
    },
    {
     "data": {
      "application/vnd.jupyter.widget-view+json": {
       "model_id": "dd2ca21077564d26b56368b27a1389e3",
       "version_major": 2,
       "version_minor": 0
      },
      "text/plain": [
       "IpythonBar(children=(HTML(value='  0.0%'), FloatProgress(value=0.0)))"
      ]
     },
     "metadata": {},
     "output_type": "display_data"
    },
    {
     "data": {
      "text/plain": [
       "\u001b[K\u001b[F\u001b[K\u001b[F\u001b[K\u001b[F \u001b[1mIters\u001b[0m    \u001b[1mElapsed Time\u001b[0m       \u001b[1mSpeed\u001b[0m            \u001b[1mLoss_D\u001b[0m           \u001b[1mLoss_G\u001b[0m   \u001b[1mEpoch\u001b[0m   \n",
       " \u001b[99m24/\u001b[93m24\u001b[0m\u001b[0m  \u001b[99m00:00:00<\u001b[93m00:00:00\u001b[0m\u001b[0m  \u001b[99m45.52it/s\u001b[0m  \u001b[99m-6.417307174657065e+17\u001b[0m  \u001b[99m-23.0209\u001b[0m   \u001b[99m247\u001b[0m    \n",
       " \u001b[1mStep\u001b[0m                                                                           \n",
       " \u001b[99m5928\u001b[0m                                                                           "
      ]
     },
     "metadata": {},
     "output_type": "display_data"
    },
    {
     "data": {
      "application/vnd.jupyter.widget-view+json": {
       "model_id": "d4d62c5d5edc45bd822294004b15d98d",
       "version_major": 2,
       "version_minor": 0
      },
      "text/plain": [
       "IpythonBar(children=(HTML(value='  0.0%'), FloatProgress(value=0.0)))"
      ]
     },
     "metadata": {},
     "output_type": "display_data"
    },
    {
     "data": {
      "text/plain": [
       "\u001b[K\u001b[F\u001b[K\u001b[F\u001b[K\u001b[F \u001b[1mIters\u001b[0m    \u001b[1mElapsed Time\u001b[0m       \u001b[1mSpeed\u001b[0m           \u001b[1mLoss_D\u001b[0m           \u001b[1mLoss_G\u001b[0m   \u001b[1mEpoch\u001b[0m    \n",
       " \u001b[99m24/\u001b[93m24\u001b[0m\u001b[0m  \u001b[99m00:00:00<\u001b[93m00:00:00\u001b[0m\u001b[0m  \u001b[99m49.11it/s\u001b[0m  \u001b[99m-6.13617029777195e+17\u001b[0m  \u001b[99m-22.9607\u001b[0m   \u001b[99m248\u001b[0m     \n",
       " \u001b[1mStep\u001b[0m                                                                           \n",
       " \u001b[99m5952\u001b[0m                                                                           "
      ]
     },
     "metadata": {},
     "output_type": "display_data"
    },
    {
     "data": {
      "application/vnd.jupyter.widget-view+json": {
       "model_id": "dea28ae291d7436d80c60df37cba77b2",
       "version_major": 2,
       "version_minor": 0
      },
      "text/plain": [
       "IpythonBar(children=(HTML(value='  0.0%'), FloatProgress(value=0.0)))"
      ]
     },
     "metadata": {},
     "output_type": "display_data"
    },
    {
     "data": {
      "text/plain": [
       "\u001b[K\u001b[F\u001b[K\u001b[F\u001b[K\u001b[F \u001b[1mIters\u001b[0m    \u001b[1mElapsed Time\u001b[0m       \u001b[1mSpeed\u001b[0m            \u001b[1mLoss_D\u001b[0m           \u001b[1mLoss_G\u001b[0m   \u001b[1mEpoch\u001b[0m   \n",
       " \u001b[99m24/\u001b[93m24\u001b[0m\u001b[0m  \u001b[99m00:00:00<\u001b[93m00:00:00\u001b[0m\u001b[0m  \u001b[99m49.82it/s\u001b[0m  \u001b[99m-6.112972664010179e+17\u001b[0m  \u001b[99m-23.2118\u001b[0m   \u001b[99m249\u001b[0m    \n",
       " \u001b[1mStep\u001b[0m                                                                           \n",
       " \u001b[99m5976\u001b[0m                                                                           "
      ]
     },
     "metadata": {},
     "output_type": "display_data"
    },
    {
     "data": {
      "application/vnd.jupyter.widget-view+json": {
       "model_id": "f11380fa9f3745159f706e8f65d225b1",
       "version_major": 2,
       "version_minor": 0
      },
      "text/plain": [
       "IpythonBar(children=(HTML(value='  0.0%'), FloatProgress(value=0.0)))"
      ]
     },
     "metadata": {},
     "output_type": "display_data"
    },
    {
     "data": {
      "text/plain": [
       "\u001b[K\u001b[F\u001b[K\u001b[F\u001b[K\u001b[F \u001b[1mIters\u001b[0m    \u001b[1mElapsed Time\u001b[0m       \u001b[1mSpeed\u001b[0m           \u001b[1mLoss_D\u001b[0m           \u001b[1mLoss_G\u001b[0m   \u001b[1mEpoch\u001b[0m    \n",
       " \u001b[99m24/\u001b[93m24\u001b[0m\u001b[0m  \u001b[99m00:00:00<\u001b[93m00:00:00\u001b[0m\u001b[0m  \u001b[99m41.97it/s\u001b[0m  \u001b[99m-5.46145704897151e+17\u001b[0m  \u001b[99m-22.6849\u001b[0m   \u001b[99m250\u001b[0m     \n",
       " \u001b[1mStep\u001b[0m                                                                           \n",
       " \u001b[99m6000\u001b[0m                                                                           "
      ]
     },
     "metadata": {},
     "output_type": "display_data"
    },
    {
     "data": {
      "application/vnd.jupyter.widget-view+json": {
       "model_id": "cc6168caafb842c8a524394fb5482330",
       "version_major": 2,
       "version_minor": 0
      },
      "text/plain": [
       "IpythonBar(children=(HTML(value='  0.0%'), FloatProgress(value=0.0)))"
      ]
     },
     "metadata": {},
     "output_type": "display_data"
    },
    {
     "data": {
      "text/plain": [
       "\u001b[K\u001b[F\u001b[K\u001b[F\u001b[K\u001b[F \u001b[1mIters\u001b[0m    \u001b[1mElapsed Time\u001b[0m       \u001b[1mSpeed\u001b[0m            \u001b[1mLoss_D\u001b[0m          \u001b[1mLoss_G\u001b[0m   \u001b[1mEpoch\u001b[0m    \n",
       " \u001b[99m24/\u001b[93m24\u001b[0m\u001b[0m  \u001b[99m00:00:00<\u001b[93m00:00:00\u001b[0m\u001b[0m  \u001b[99m48.12it/s\u001b[0m  \u001b[99m-5.782220324921672e+17\u001b[0m  \u001b[99m-23.699\u001b[0m   \u001b[99m251\u001b[0m     \n",
       " \u001b[1mStep\u001b[0m                                                                           \n",
       " \u001b[99m6024\u001b[0m                                                                           "
      ]
     },
     "metadata": {},
     "output_type": "display_data"
    },
    {
     "data": {
      "application/vnd.jupyter.widget-view+json": {
       "model_id": "b121e0349dd3479f8f340803a207980b",
       "version_major": 2,
       "version_minor": 0
      },
      "text/plain": [
       "IpythonBar(children=(HTML(value='  0.0%'), FloatProgress(value=0.0)))"
      ]
     },
     "metadata": {},
     "output_type": "display_data"
    },
    {
     "data": {
      "text/plain": [
       "\u001b[K\u001b[F\u001b[K\u001b[F\u001b[K\u001b[F \u001b[1mIters\u001b[0m    \u001b[1mElapsed Time\u001b[0m       \u001b[1mSpeed\u001b[0m            \u001b[1mLoss_D\u001b[0m            \u001b[1mLoss_G\u001b[0m   \u001b[1mEpoch\u001b[0m  \n",
       " \u001b[99m24/\u001b[93m24\u001b[0m\u001b[0m  \u001b[99m00:00:00<\u001b[93m00:00:00\u001b[0m\u001b[0m  \u001b[99m45.84it/s\u001b[0m  \u001b[99m-4.9873864615788544e+17\u001b[0m  \u001b[99m-23.4462\u001b[0m   \u001b[99m252\u001b[0m   \n",
       " \u001b[1mStep\u001b[0m                                                                           \n",
       " \u001b[99m6048\u001b[0m                                                                           "
      ]
     },
     "metadata": {},
     "output_type": "display_data"
    },
    {
     "data": {
      "application/vnd.jupyter.widget-view+json": {
       "model_id": "9fce38fa8c4941d6bb9049e0450d827a",
       "version_major": 2,
       "version_minor": 0
      },
      "text/plain": [
       "IpythonBar(children=(HTML(value='  0.0%'), FloatProgress(value=0.0)))"
      ]
     },
     "metadata": {},
     "output_type": "display_data"
    },
    {
     "data": {
      "text/plain": [
       "\u001b[K\u001b[F\u001b[K\u001b[F\u001b[K\u001b[F \u001b[1mIters\u001b[0m    \u001b[1mElapsed Time\u001b[0m       \u001b[1mSpeed\u001b[0m            \u001b[1mLoss_D\u001b[0m          \u001b[1mLoss_G\u001b[0m   \u001b[1mEpoch\u001b[0m    \n",
       " \u001b[99m24/\u001b[93m24\u001b[0m\u001b[0m  \u001b[99m00:00:00<\u001b[93m00:00:00\u001b[0m\u001b[0m  \u001b[99m46.95it/s\u001b[0m  \u001b[99m-5.474924004827464e+17\u001b[0m  \u001b[99m-23.753\u001b[0m   \u001b[99m253\u001b[0m     \n",
       " \u001b[1mStep\u001b[0m                                                                           \n",
       " \u001b[99m6072\u001b[0m                                                                           "
      ]
     },
     "metadata": {},
     "output_type": "display_data"
    },
    {
     "data": {
      "application/vnd.jupyter.widget-view+json": {
       "model_id": "ed23701ac2e4454fb8876fbce203740c",
       "version_major": 2,
       "version_minor": 0
      },
      "text/plain": [
       "IpythonBar(children=(HTML(value='  0.0%'), FloatProgress(value=0.0)))"
      ]
     },
     "metadata": {},
     "output_type": "display_data"
    },
    {
     "data": {
      "text/plain": [
       "\u001b[K\u001b[F\u001b[K\u001b[F\u001b[K\u001b[F \u001b[1mIters\u001b[0m    \u001b[1mElapsed Time\u001b[0m       \u001b[1mSpeed\u001b[0m            \u001b[1mLoss_D\u001b[0m          \u001b[1mLoss_G\u001b[0m   \u001b[1mEpoch\u001b[0m    \n",
       " \u001b[99m24/\u001b[93m24\u001b[0m\u001b[0m  \u001b[99m00:00:00<\u001b[93m00:00:00\u001b[0m\u001b[0m  \u001b[99m47.37it/s\u001b[0m  \u001b[99m-7.572652690086298e+17\u001b[0m  \u001b[99m-23.721\u001b[0m   \u001b[99m254\u001b[0m     \n",
       " \u001b[1mStep\u001b[0m                                                                           \n",
       " \u001b[99m6096\u001b[0m                                                                           "
      ]
     },
     "metadata": {},
     "output_type": "display_data"
    },
    {
     "data": {
      "application/vnd.jupyter.widget-view+json": {
       "model_id": "1dc84c5658c64ce78864fde361a6c4a1",
       "version_major": 2,
       "version_minor": 0
      },
      "text/plain": [
       "IpythonBar(children=(HTML(value='  0.0%'), FloatProgress(value=0.0)))"
      ]
     },
     "metadata": {},
     "output_type": "display_data"
    },
    {
     "data": {
      "text/plain": [
       "\u001b[K\u001b[F\u001b[K\u001b[F\u001b[K\u001b[F \u001b[1mIters\u001b[0m    \u001b[1mElapsed Time\u001b[0m       \u001b[1mSpeed\u001b[0m            \u001b[1mLoss_D\u001b[0m           \u001b[1mLoss_G\u001b[0m   \u001b[1mEpoch\u001b[0m   \n",
       " \u001b[99m24/\u001b[93m24\u001b[0m\u001b[0m  \u001b[99m00:00:00<\u001b[93m00:00:00\u001b[0m\u001b[0m  \u001b[99m42.02it/s\u001b[0m  \u001b[99m-6.232490265144197e+17\u001b[0m  \u001b[99m-23.6109\u001b[0m   \u001b[99m255\u001b[0m    \n",
       " \u001b[1mStep\u001b[0m                                                                           \n",
       " \u001b[99m6120\u001b[0m                                                                           "
      ]
     },
     "metadata": {},
     "output_type": "display_data"
    },
    {
     "data": {
      "application/vnd.jupyter.widget-view+json": {
       "model_id": "645c54ab80884cb3a2052f16992b8c98",
       "version_major": 2,
       "version_minor": 0
      },
      "text/plain": [
       "IpythonBar(children=(HTML(value='  0.0%'), FloatProgress(value=0.0)))"
      ]
     },
     "metadata": {},
     "output_type": "display_data"
    },
    {
     "data": {
      "text/plain": [
       "\u001b[K\u001b[F\u001b[K\u001b[F\u001b[K\u001b[F \u001b[1mIters\u001b[0m    \u001b[1mElapsed Time\u001b[0m       \u001b[1mSpeed\u001b[0m           \u001b[1mLoss_D\u001b[0m           \u001b[1mLoss_G\u001b[0m   \u001b[1mEpoch\u001b[0m    \n",
       " \u001b[99m24/\u001b[93m24\u001b[0m\u001b[0m  \u001b[99m00:00:00<\u001b[93m00:00:00\u001b[0m\u001b[0m  \u001b[99m45.54it/s\u001b[0m  \u001b[99m-6.12545899293311e+17\u001b[0m  \u001b[99m-23.7605\u001b[0m   \u001b[99m256\u001b[0m     \n",
       " \u001b[1mStep\u001b[0m                                                                           \n",
       " \u001b[99m6144\u001b[0m                                                                           "
      ]
     },
     "metadata": {},
     "output_type": "display_data"
    },
    {
     "data": {
      "application/vnd.jupyter.widget-view+json": {
       "model_id": "9676a389aa4143f6887cf5a929caf9c0",
       "version_major": 2,
       "version_minor": 0
      },
      "text/plain": [
       "IpythonBar(children=(HTML(value='  0.0%'), FloatProgress(value=0.0)))"
      ]
     },
     "metadata": {},
     "output_type": "display_data"
    },
    {
     "data": {
      "text/plain": [
       "\u001b[K\u001b[F\u001b[K\u001b[F\u001b[K\u001b[F \u001b[1mIters\u001b[0m    \u001b[1mElapsed Time\u001b[0m       \u001b[1mSpeed\u001b[0m            \u001b[1mLoss_D\u001b[0m           \u001b[1mLoss_G\u001b[0m   \u001b[1mEpoch\u001b[0m   \n",
       " \u001b[99m24/\u001b[93m24\u001b[0m\u001b[0m  \u001b[99m00:00:00<\u001b[93m00:00:00\u001b[0m\u001b[0m  \u001b[99m48.13it/s\u001b[0m  \u001b[99m-5.083644925019423e+17\u001b[0m  \u001b[99m-23.6854\u001b[0m   \u001b[99m257\u001b[0m    \n",
       " \u001b[1mStep\u001b[0m                                                                           \n",
       " \u001b[99m6168\u001b[0m                                                                           "
      ]
     },
     "metadata": {},
     "output_type": "display_data"
    },
    {
     "data": {
      "application/vnd.jupyter.widget-view+json": {
       "model_id": "1618feadc5cd4d4c828612f138c164f3",
       "version_major": 2,
       "version_minor": 0
      },
      "text/plain": [
       "IpythonBar(children=(HTML(value='  0.0%'), FloatProgress(value=0.0)))"
      ]
     },
     "metadata": {},
     "output_type": "display_data"
    },
    {
     "data": {
      "text/plain": [
       "\u001b[K\u001b[F\u001b[K\u001b[F\u001b[K\u001b[F \u001b[1mIters\u001b[0m    \u001b[1mElapsed Time\u001b[0m       \u001b[1mSpeed\u001b[0m            \u001b[1mLoss_D\u001b[0m           \u001b[1mLoss_G\u001b[0m   \u001b[1mEpoch\u001b[0m   \n",
       " \u001b[99m24/\u001b[93m24\u001b[0m\u001b[0m  \u001b[99m00:00:00<\u001b[93m00:00:00\u001b[0m\u001b[0m  \u001b[99m48.54it/s\u001b[0m  \u001b[99m-5.509782646596567e+17\u001b[0m  \u001b[99m-23.9321\u001b[0m   \u001b[99m258\u001b[0m    \n",
       " \u001b[1mStep\u001b[0m                                                                           \n",
       " \u001b[99m6192\u001b[0m                                                                           "
      ]
     },
     "metadata": {},
     "output_type": "display_data"
    },
    {
     "data": {
      "application/vnd.jupyter.widget-view+json": {
       "model_id": "11b2d3ad902541eeacfca2bf9a291401",
       "version_major": 2,
       "version_minor": 0
      },
      "text/plain": [
       "IpythonBar(children=(HTML(value='  0.0%'), FloatProgress(value=0.0)))"
      ]
     },
     "metadata": {},
     "output_type": "display_data"
    },
    {
     "data": {
      "text/plain": [
       "\u001b[K\u001b[F\u001b[K\u001b[F\u001b[K\u001b[F \u001b[1mIters\u001b[0m    \u001b[1mElapsed Time\u001b[0m       \u001b[1mSpeed\u001b[0m            \u001b[1mLoss_D\u001b[0m           \u001b[1mLoss_G\u001b[0m   \u001b[1mEpoch\u001b[0m   \n",
       " \u001b[99m24/\u001b[93m24\u001b[0m\u001b[0m  \u001b[99m00:00:00<\u001b[93m00:00:00\u001b[0m\u001b[0m  \u001b[99m48.88it/s\u001b[0m  \u001b[99m-6.748701353658286e+17\u001b[0m  \u001b[99m-23.7137\u001b[0m   \u001b[99m259\u001b[0m    \n",
       " \u001b[1mStep\u001b[0m                                                                           \n",
       " \u001b[99m6216\u001b[0m                                                                           "
      ]
     },
     "metadata": {},
     "output_type": "display_data"
    },
    {
     "data": {
      "application/vnd.jupyter.widget-view+json": {
       "model_id": "79ea5ad5f1a142098f286d2ebb123893",
       "version_major": 2,
       "version_minor": 0
      },
      "text/plain": [
       "IpythonBar(children=(HTML(value='  0.0%'), FloatProgress(value=0.0)))"
      ]
     },
     "metadata": {},
     "output_type": "display_data"
    },
    {
     "data": {
      "text/plain": [
       "\u001b[K\u001b[F\u001b[K\u001b[F\u001b[K\u001b[F \u001b[1mIters\u001b[0m    \u001b[1mElapsed Time\u001b[0m       \u001b[1mSpeed\u001b[0m            \u001b[1mLoss_D\u001b[0m            \u001b[1mLoss_G\u001b[0m   \u001b[1mEpoch\u001b[0m  \n",
       " \u001b[99m24/\u001b[93m24\u001b[0m\u001b[0m  \u001b[99m00:00:00<\u001b[93m00:00:00\u001b[0m\u001b[0m  \u001b[99m42.01it/s\u001b[0m  \u001b[99m-5.2113580109489766e+17\u001b[0m  \u001b[99m-23.9541\u001b[0m   \u001b[99m260\u001b[0m   \n",
       " \u001b[1mStep\u001b[0m                                                                           \n",
       " \u001b[99m6240\u001b[0m                                                                           "
      ]
     },
     "metadata": {},
     "output_type": "display_data"
    },
    {
     "data": {
      "application/vnd.jupyter.widget-view+json": {
       "model_id": "60b53692b4244d039998368c79dd9391",
       "version_major": 2,
       "version_minor": 0
      },
      "text/plain": [
       "IpythonBar(children=(HTML(value='  0.0%'), FloatProgress(value=0.0)))"
      ]
     },
     "metadata": {},
     "output_type": "display_data"
    },
    {
     "data": {
      "text/plain": [
       "\u001b[K\u001b[F\u001b[K\u001b[F\u001b[K\u001b[F \u001b[1mIters\u001b[0m    \u001b[1mElapsed Time\u001b[0m       \u001b[1mSpeed\u001b[0m            \u001b[1mLoss_D\u001b[0m           \u001b[1mLoss_G\u001b[0m   \u001b[1mEpoch\u001b[0m   \n",
       " \u001b[99m24/\u001b[93m24\u001b[0m\u001b[0m  \u001b[99m00:00:00<\u001b[93m00:00:00\u001b[0m\u001b[0m  \u001b[99m47.56it/s\u001b[0m  \u001b[99m-5.420283087290368e+17\u001b[0m  \u001b[99m-23.8491\u001b[0m   \u001b[99m261\u001b[0m    \n",
       " \u001b[1mStep\u001b[0m                                                                           \n",
       " \u001b[99m6264\u001b[0m                                                                           "
      ]
     },
     "metadata": {},
     "output_type": "display_data"
    },
    {
     "data": {
      "application/vnd.jupyter.widget-view+json": {
       "model_id": "a866443f88094cc295568d7c215e1b8d",
       "version_major": 2,
       "version_minor": 0
      },
      "text/plain": [
       "IpythonBar(children=(HTML(value='  0.0%'), FloatProgress(value=0.0)))"
      ]
     },
     "metadata": {},
     "output_type": "display_data"
    },
    {
     "data": {
      "text/plain": [
       "\u001b[K\u001b[F\u001b[K\u001b[F\u001b[K\u001b[F \u001b[1mIters\u001b[0m    \u001b[1mElapsed Time\u001b[0m       \u001b[1mSpeed\u001b[0m            \u001b[1mLoss_D\u001b[0m            \u001b[1mLoss_G\u001b[0m   \u001b[1mEpoch\u001b[0m  \n",
       " \u001b[99m24/\u001b[93m24\u001b[0m\u001b[0m  \u001b[99m00:00:00<\u001b[93m00:00:00\u001b[0m\u001b[0m  \u001b[99m46.18it/s\u001b[0m  \u001b[99m-5.5638793058779136e+17\u001b[0m  \u001b[99m-23.8367\u001b[0m   \u001b[99m262\u001b[0m   \n",
       " \u001b[1mStep\u001b[0m                                                                           \n",
       " \u001b[99m6288\u001b[0m                                                                           "
      ]
     },
     "metadata": {},
     "output_type": "display_data"
    },
    {
     "data": {
      "application/vnd.jupyter.widget-view+json": {
       "model_id": "e43042fbcd3143d4bd25c83c09b5037b",
       "version_major": 2,
       "version_minor": 0
      },
      "text/plain": [
       "IpythonBar(children=(HTML(value='  0.0%'), FloatProgress(value=0.0)))"
      ]
     },
     "metadata": {},
     "output_type": "display_data"
    },
    {
     "data": {
      "text/plain": [
       "\u001b[K\u001b[F\u001b[K\u001b[F\u001b[K\u001b[F \u001b[1mIters\u001b[0m    \u001b[1mElapsed Time\u001b[0m       \u001b[1mSpeed\u001b[0m            \u001b[1mLoss_D\u001b[0m            \u001b[1mLoss_G\u001b[0m   \u001b[1mEpoch\u001b[0m  \n",
       " \u001b[99m24/\u001b[93m24\u001b[0m\u001b[0m  \u001b[99m00:00:00<\u001b[93m00:00:00\u001b[0m\u001b[0m  \u001b[99m47.91it/s\u001b[0m  \u001b[99m-5.5529003386771866e+17\u001b[0m  \u001b[99m-24.3976\u001b[0m   \u001b[99m263\u001b[0m   \n",
       " \u001b[1mStep\u001b[0m                                                                           \n",
       " \u001b[99m6312\u001b[0m                                                                           "
      ]
     },
     "metadata": {},
     "output_type": "display_data"
    },
    {
     "data": {
      "application/vnd.jupyter.widget-view+json": {
       "model_id": "98ec0453b1f7428a9d1fb7b2dcf8537b",
       "version_major": 2,
       "version_minor": 0
      },
      "text/plain": [
       "IpythonBar(children=(HTML(value='  0.0%'), FloatProgress(value=0.0)))"
      ]
     },
     "metadata": {},
     "output_type": "display_data"
    },
    {
     "data": {
      "text/plain": [
       "\u001b[K\u001b[F\u001b[K\u001b[F\u001b[K\u001b[F \u001b[1mIters\u001b[0m    \u001b[1mElapsed Time\u001b[0m       \u001b[1mSpeed\u001b[0m           \u001b[1mLoss_D\u001b[0m           \u001b[1mLoss_G\u001b[0m   \u001b[1mEpoch\u001b[0m    \n",
       " \u001b[99m24/\u001b[93m24\u001b[0m\u001b[0m  \u001b[99m00:00:00<\u001b[93m00:00:00\u001b[0m\u001b[0m  \u001b[99m49.02it/s\u001b[0m  \u001b[99m-6.31557486129709e+17\u001b[0m  \u001b[99m-24.4327\u001b[0m   \u001b[99m264\u001b[0m     \n",
       " \u001b[1mStep\u001b[0m                                                                           \n",
       " \u001b[99m6336\u001b[0m                                                                           "
      ]
     },
     "metadata": {},
     "output_type": "display_data"
    },
    {
     "data": {
      "application/vnd.jupyter.widget-view+json": {
       "model_id": "be940626d1914e408547823f03b87067",
       "version_major": 2,
       "version_minor": 0
      },
      "text/plain": [
       "IpythonBar(children=(HTML(value='  0.0%'), FloatProgress(value=0.0)))"
      ]
     },
     "metadata": {},
     "output_type": "display_data"
    },
    {
     "data": {
      "text/plain": [
       "\u001b[K\u001b[F\u001b[K\u001b[F\u001b[K\u001b[F \u001b[1mIters\u001b[0m    \u001b[1mElapsed Time\u001b[0m       \u001b[1mSpeed\u001b[0m            \u001b[1mLoss_D\u001b[0m           \u001b[1mLoss_G\u001b[0m   \u001b[1mEpoch\u001b[0m   \n",
       " \u001b[99m24/\u001b[93m24\u001b[0m\u001b[0m  \u001b[99m00:00:00<\u001b[93m00:00:00\u001b[0m\u001b[0m  \u001b[99m40.10it/s\u001b[0m  \u001b[99m-6.161627427928801e+17\u001b[0m  \u001b[99m-24.0416\u001b[0m   \u001b[99m265\u001b[0m    \n",
       " \u001b[1mStep\u001b[0m                                                                           \n",
       " \u001b[99m6360\u001b[0m                                                                           "
      ]
     },
     "metadata": {},
     "output_type": "display_data"
    },
    {
     "data": {
      "application/vnd.jupyter.widget-view+json": {
       "model_id": "e80d3532436a4828a2acb9e778179616",
       "version_major": 2,
       "version_minor": 0
      },
      "text/plain": [
       "IpythonBar(children=(HTML(value='  0.0%'), FloatProgress(value=0.0)))"
      ]
     },
     "metadata": {},
     "output_type": "display_data"
    },
    {
     "data": {
      "text/plain": [
       "\u001b[K\u001b[F\u001b[K\u001b[F\u001b[K\u001b[F \u001b[1mIters\u001b[0m    \u001b[1mElapsed Time\u001b[0m       \u001b[1mSpeed\u001b[0m            \u001b[1mLoss_D\u001b[0m           \u001b[1mLoss_G\u001b[0m   \u001b[1mEpoch\u001b[0m   \n",
       " \u001b[99m24/\u001b[93m24\u001b[0m\u001b[0m  \u001b[99m00:00:00<\u001b[93m00:00:00\u001b[0m\u001b[0m  \u001b[99m47.07it/s\u001b[0m  \u001b[99m-5.372649838393426e+17\u001b[0m  \u001b[99m-24.1351\u001b[0m   \u001b[99m266\u001b[0m    \n",
       " \u001b[1mStep\u001b[0m                                                                           \n",
       " \u001b[99m6384\u001b[0m                                                                           "
      ]
     },
     "metadata": {},
     "output_type": "display_data"
    },
    {
     "data": {
      "application/vnd.jupyter.widget-view+json": {
       "model_id": "238fe743142c412b92ccbefd93a9f5a8",
       "version_major": 2,
       "version_minor": 0
      },
      "text/plain": [
       "IpythonBar(children=(HTML(value='  0.0%'), FloatProgress(value=0.0)))"
      ]
     },
     "metadata": {},
     "output_type": "display_data"
    },
    {
     "data": {
      "text/plain": [
       "\u001b[K\u001b[F\u001b[K\u001b[F\u001b[K\u001b[F \u001b[1mIters\u001b[0m    \u001b[1mElapsed Time\u001b[0m       \u001b[1mSpeed\u001b[0m            \u001b[1mLoss_D\u001b[0m           \u001b[1mLoss_G\u001b[0m   \u001b[1mEpoch\u001b[0m   \n",
       " \u001b[99m24/\u001b[93m24\u001b[0m\u001b[0m  \u001b[99m00:00:00<\u001b[93m00:00:00\u001b[0m\u001b[0m  \u001b[99m48.63it/s\u001b[0m  \u001b[99m-5.768510102118072e+17\u001b[0m  \u001b[99m-24.0629\u001b[0m   \u001b[99m267\u001b[0m    \n",
       " \u001b[1mStep\u001b[0m                                                                           \n",
       " \u001b[99m6408\u001b[0m                                                                           "
      ]
     },
     "metadata": {},
     "output_type": "display_data"
    },
    {
     "data": {
      "application/vnd.jupyter.widget-view+json": {
       "model_id": "eb6cbd202f04412fb24b8303386aea55",
       "version_major": 2,
       "version_minor": 0
      },
      "text/plain": [
       "IpythonBar(children=(HTML(value='  0.0%'), FloatProgress(value=0.0)))"
      ]
     },
     "metadata": {},
     "output_type": "display_data"
    },
    {
     "data": {
      "text/plain": [
       "\u001b[K\u001b[F\u001b[K\u001b[F\u001b[K\u001b[F \u001b[1mIters\u001b[0m    \u001b[1mElapsed Time\u001b[0m       \u001b[1mSpeed\u001b[0m            \u001b[1mLoss_D\u001b[0m           \u001b[1mLoss_G\u001b[0m   \u001b[1mEpoch\u001b[0m   \n",
       " \u001b[99m24/\u001b[93m24\u001b[0m\u001b[0m  \u001b[99m00:00:00<\u001b[93m00:00:00\u001b[0m\u001b[0m  \u001b[99m48.86it/s\u001b[0m  \u001b[99m-6.202473597705912e+17\u001b[0m  \u001b[99m-24.3223\u001b[0m   \u001b[99m268\u001b[0m    \n",
       " \u001b[1mStep\u001b[0m                                                                           \n",
       " \u001b[99m6432\u001b[0m                                                                           "
      ]
     },
     "metadata": {},
     "output_type": "display_data"
    },
    {
     "data": {
      "application/vnd.jupyter.widget-view+json": {
       "model_id": "e5fb23e75bb049a69d74bb6e6bde984f",
       "version_major": 2,
       "version_minor": 0
      },
      "text/plain": [
       "IpythonBar(children=(HTML(value='  0.0%'), FloatProgress(value=0.0)))"
      ]
     },
     "metadata": {},
     "output_type": "display_data"
    },
    {
     "data": {
      "text/plain": [
       "\u001b[K\u001b[F\u001b[K\u001b[F\u001b[K\u001b[F \u001b[1mIters\u001b[0m    \u001b[1mElapsed Time\u001b[0m       \u001b[1mSpeed\u001b[0m            \u001b[1mLoss_D\u001b[0m           \u001b[1mLoss_G\u001b[0m   \u001b[1mEpoch\u001b[0m   \n",
       " \u001b[99m24/\u001b[93m24\u001b[0m\u001b[0m  \u001b[99m00:00:00<\u001b[93m00:00:00\u001b[0m\u001b[0m  \u001b[99m48.87it/s\u001b[0m  \u001b[99m-4.873422081359872e+17\u001b[0m  \u001b[99m-24.3847\u001b[0m   \u001b[99m269\u001b[0m    \n",
       " \u001b[1mStep\u001b[0m                                                                           \n",
       " \u001b[99m6456\u001b[0m                                                                           "
      ]
     },
     "metadata": {},
     "output_type": "display_data"
    },
    {
     "data": {
      "application/vnd.jupyter.widget-view+json": {
       "model_id": "42af716f883f411badb8fb1e2b5f676f",
       "version_major": 2,
       "version_minor": 0
      },
      "text/plain": [
       "IpythonBar(children=(HTML(value='  0.0%'), FloatProgress(value=0.0)))"
      ]
     },
     "metadata": {},
     "output_type": "display_data"
    },
    {
     "data": {
      "text/plain": [
       "\u001b[K\u001b[F\u001b[K\u001b[F\u001b[K\u001b[F \u001b[1mIters\u001b[0m    \u001b[1mElapsed Time\u001b[0m       \u001b[1mSpeed\u001b[0m            \u001b[1mLoss_D\u001b[0m           \u001b[1mLoss_G\u001b[0m   \u001b[1mEpoch\u001b[0m   \n",
       " \u001b[99m24/\u001b[93m24\u001b[0m\u001b[0m  \u001b[99m00:00:00<\u001b[93m00:00:00\u001b[0m\u001b[0m  \u001b[99m41.63it/s\u001b[0m  \u001b[99m-6.826759807282708e+17\u001b[0m  \u001b[99m-24.2485\u001b[0m   \u001b[99m270\u001b[0m    \n",
       " \u001b[1mStep\u001b[0m                                                                           \n",
       " \u001b[99m6480\u001b[0m                                                                           "
      ]
     },
     "metadata": {},
     "output_type": "display_data"
    },
    {
     "data": {
      "application/vnd.jupyter.widget-view+json": {
       "model_id": "160b843860044b9691479b39901e62e8",
       "version_major": 2,
       "version_minor": 0
      },
      "text/plain": [
       "IpythonBar(children=(HTML(value='  0.0%'), FloatProgress(value=0.0)))"
      ]
     },
     "metadata": {},
     "output_type": "display_data"
    },
    {
     "data": {
      "text/plain": [
       "\u001b[K\u001b[F\u001b[K\u001b[F\u001b[K\u001b[F \u001b[1mIters\u001b[0m    \u001b[1mElapsed Time\u001b[0m       \u001b[1mSpeed\u001b[0m            \u001b[1mLoss_D\u001b[0m           \u001b[1mLoss_G\u001b[0m   \u001b[1mEpoch\u001b[0m   \n",
       " \u001b[99m24/\u001b[93m24\u001b[0m\u001b[0m  \u001b[99m00:00:00<\u001b[93m00:00:00\u001b[0m\u001b[0m  \u001b[99m47.86it/s\u001b[0m  \u001b[99m-5.589328876892324e+17\u001b[0m  \u001b[99m-24.2575\u001b[0m   \u001b[99m271\u001b[0m    \n",
       " \u001b[1mStep\u001b[0m                                                                           \n",
       " \u001b[99m6504\u001b[0m                                                                           "
      ]
     },
     "metadata": {},
     "output_type": "display_data"
    },
    {
     "data": {
      "application/vnd.jupyter.widget-view+json": {
       "model_id": "d9517a1d03ba459ea8c691b84f160e4a",
       "version_major": 2,
       "version_minor": 0
      },
      "text/plain": [
       "IpythonBar(children=(HTML(value='  0.0%'), FloatProgress(value=0.0)))"
      ]
     },
     "metadata": {},
     "output_type": "display_data"
    },
    {
     "data": {
      "text/plain": [
       "\u001b[K\u001b[F\u001b[K\u001b[F\u001b[K\u001b[F \u001b[1mIters\u001b[0m    \u001b[1mElapsed Time\u001b[0m       \u001b[1mSpeed\u001b[0m            \u001b[1mLoss_D\u001b[0m           \u001b[1mLoss_G\u001b[0m   \u001b[1mEpoch\u001b[0m   \n",
       " \u001b[99m24/\u001b[93m24\u001b[0m\u001b[0m  \u001b[99m00:00:00<\u001b[93m00:00:00\u001b[0m\u001b[0m  \u001b[99m46.46it/s\u001b[0m  \u001b[99m-6.232966491117978e+17\u001b[0m  \u001b[99m-24.8715\u001b[0m   \u001b[99m272\u001b[0m    \n",
       " \u001b[1mStep\u001b[0m                                                                           \n",
       " \u001b[99m6528\u001b[0m                                                                           "
      ]
     },
     "metadata": {},
     "output_type": "display_data"
    },
    {
     "data": {
      "application/vnd.jupyter.widget-view+json": {
       "model_id": "5f7d22d9caa64e3298f123b58d2a1861",
       "version_major": 2,
       "version_minor": 0
      },
      "text/plain": [
       "IpythonBar(children=(HTML(value='  0.0%'), FloatProgress(value=0.0)))"
      ]
     },
     "metadata": {},
     "output_type": "display_data"
    },
    {
     "data": {
      "text/plain": [
       "\u001b[K\u001b[F\u001b[K\u001b[F\u001b[K\u001b[F \u001b[1mIters\u001b[0m    \u001b[1mElapsed Time\u001b[0m       \u001b[1mSpeed\u001b[0m            \u001b[1mLoss_D\u001b[0m            \u001b[1mLoss_G\u001b[0m   \u001b[1mEpoch\u001b[0m  \n",
       " \u001b[99m24/\u001b[93m24\u001b[0m\u001b[0m  \u001b[99m00:00:00<\u001b[93m00:00:00\u001b[0m\u001b[0m  \u001b[99m44.50it/s\u001b[0m  \u001b[99m-5.2520261972813414e+17\u001b[0m  \u001b[99m-23.8746\u001b[0m   \u001b[99m273\u001b[0m   \n",
       " \u001b[1mStep\u001b[0m                                                                           \n",
       " \u001b[99m6552\u001b[0m                                                                           "
      ]
     },
     "metadata": {},
     "output_type": "display_data"
    },
    {
     "data": {
      "application/vnd.jupyter.widget-view+json": {
       "model_id": "4fbb3b9314504a02996780fa19c35541",
       "version_major": 2,
       "version_minor": 0
      },
      "text/plain": [
       "IpythonBar(children=(HTML(value='  0.0%'), FloatProgress(value=0.0)))"
      ]
     },
     "metadata": {},
     "output_type": "display_data"
    },
    {
     "data": {
      "text/plain": [
       "\u001b[K\u001b[F\u001b[K\u001b[F\u001b[K\u001b[F \u001b[1mIters\u001b[0m    \u001b[1mElapsed Time\u001b[0m       \u001b[1mSpeed\u001b[0m            \u001b[1mLoss_D\u001b[0m            \u001b[1mLoss_G\u001b[0m   \u001b[1mEpoch\u001b[0m  \n",
       " \u001b[99m24/\u001b[93m24\u001b[0m\u001b[0m  \u001b[99m00:00:00<\u001b[93m00:00:00\u001b[0m\u001b[0m  \u001b[99m48.60it/s\u001b[0m  \u001b[99m-5.2661844710732595e+17\u001b[0m  \u001b[99m-24.3507\u001b[0m   \u001b[99m274\u001b[0m   \n",
       " \u001b[1mStep\u001b[0m                                                                           \n",
       " \u001b[99m6576\u001b[0m                                                                           "
      ]
     },
     "metadata": {},
     "output_type": "display_data"
    },
    {
     "data": {
      "application/vnd.jupyter.widget-view+json": {
       "model_id": "bfbf6c7d39fa4294ad0c0525e812f3f1",
       "version_major": 2,
       "version_minor": 0
      },
      "text/plain": [
       "IpythonBar(children=(HTML(value='  0.0%'), FloatProgress(value=0.0)))"
      ]
     },
     "metadata": {},
     "output_type": "display_data"
    },
    {
     "data": {
      "text/plain": [
       "\u001b[K\u001b[F\u001b[K\u001b[F\u001b[K\u001b[F \u001b[1mIters\u001b[0m    \u001b[1mElapsed Time\u001b[0m       \u001b[1mSpeed\u001b[0m            \u001b[1mLoss_D\u001b[0m           \u001b[1mLoss_G\u001b[0m   \u001b[1mEpoch\u001b[0m   \n",
       " \u001b[99m24/\u001b[93m24\u001b[0m\u001b[0m  \u001b[99m00:00:00<\u001b[93m00:00:00\u001b[0m\u001b[0m  \u001b[99m41.60it/s\u001b[0m  \u001b[99m-6.627342070547743e+17\u001b[0m  \u001b[99m-23.8197\u001b[0m   \u001b[99m275\u001b[0m    \n",
       " \u001b[1mStep\u001b[0m                                                                           \n",
       " \u001b[99m6600\u001b[0m                                                                           "
      ]
     },
     "metadata": {},
     "output_type": "display_data"
    },
    {
     "data": {
      "application/vnd.jupyter.widget-view+json": {
       "model_id": "3f407f36a16843699c5ab28b1c2c15c4",
       "version_major": 2,
       "version_minor": 0
      },
      "text/plain": [
       "IpythonBar(children=(HTML(value='  0.0%'), FloatProgress(value=0.0)))"
      ]
     },
     "metadata": {},
     "output_type": "display_data"
    },
    {
     "data": {
      "text/plain": [
       "\u001b[K\u001b[F\u001b[K\u001b[F\u001b[K\u001b[F \u001b[1mIters\u001b[0m    \u001b[1mElapsed Time\u001b[0m       \u001b[1mSpeed\u001b[0m            \u001b[1mLoss_D\u001b[0m           \u001b[1mLoss_G\u001b[0m   \u001b[1mEpoch\u001b[0m   \n",
       " \u001b[99m24/\u001b[93m24\u001b[0m\u001b[0m  \u001b[99m00:00:00<\u001b[93m00:00:00\u001b[0m\u001b[0m  \u001b[99m46.90it/s\u001b[0m  \u001b[99m-7.887032613842452e+17\u001b[0m  \u001b[99m-23.8633\u001b[0m   \u001b[99m276\u001b[0m    \n",
       " \u001b[1mStep\u001b[0m                                                                           \n",
       " \u001b[99m6624\u001b[0m                                                                           "
      ]
     },
     "metadata": {},
     "output_type": "display_data"
    },
    {
     "data": {
      "application/vnd.jupyter.widget-view+json": {
       "model_id": "0de1cda2cfa1429ba6f2d2d0561377f6",
       "version_major": 2,
       "version_minor": 0
      },
      "text/plain": [
       "IpythonBar(children=(HTML(value='  0.0%'), FloatProgress(value=0.0)))"
      ]
     },
     "metadata": {},
     "output_type": "display_data"
    },
    {
     "data": {
      "text/plain": [
       "\u001b[K\u001b[F\u001b[K\u001b[F\u001b[K\u001b[F \u001b[1mIters\u001b[0m    \u001b[1mElapsed Time\u001b[0m       \u001b[1mSpeed\u001b[0m            \u001b[1mLoss_D\u001b[0m           \u001b[1mLoss_G\u001b[0m   \u001b[1mEpoch\u001b[0m   \n",
       " \u001b[99m24/\u001b[93m24\u001b[0m\u001b[0m  \u001b[99m00:00:00<\u001b[93m00:00:00\u001b[0m\u001b[0m  \u001b[99m48.60it/s\u001b[0m  \u001b[99m-5.392377482177413e+17\u001b[0m  \u001b[99m-24.1598\u001b[0m   \u001b[99m277\u001b[0m    \n",
       " \u001b[1mStep\u001b[0m                                                                           \n",
       " \u001b[99m6648\u001b[0m                                                                           "
      ]
     },
     "metadata": {},
     "output_type": "display_data"
    },
    {
     "data": {
      "application/vnd.jupyter.widget-view+json": {
       "model_id": "55e39e0842604eaba36352e26524ab7f",
       "version_major": 2,
       "version_minor": 0
      },
      "text/plain": [
       "IpythonBar(children=(HTML(value='  0.0%'), FloatProgress(value=0.0)))"
      ]
     },
     "metadata": {},
     "output_type": "display_data"
    },
    {
     "data": {
      "text/plain": [
       "\u001b[K\u001b[F\u001b[K\u001b[F\u001b[K\u001b[F \u001b[1mIters\u001b[0m    \u001b[1mElapsed Time\u001b[0m       \u001b[1mSpeed\u001b[0m            \u001b[1mLoss_D\u001b[0m           \u001b[1mLoss_G\u001b[0m   \u001b[1mEpoch\u001b[0m   \n",
       " \u001b[99m24/\u001b[93m24\u001b[0m\u001b[0m  \u001b[99m00:00:00<\u001b[93m00:00:00\u001b[0m\u001b[0m  \u001b[99m48.35it/s\u001b[0m  \u001b[99m-5.871474555695923e+17\u001b[0m  \u001b[99m-23.9728\u001b[0m   \u001b[99m278\u001b[0m    \n",
       " \u001b[1mStep\u001b[0m                                                                           \n",
       " \u001b[99m6672\u001b[0m                                                                           "
      ]
     },
     "metadata": {},
     "output_type": "display_data"
    },
    {
     "data": {
      "application/vnd.jupyter.widget-view+json": {
       "model_id": "a4786c283eff49f1af64796287493be8",
       "version_major": 2,
       "version_minor": 0
      },
      "text/plain": [
       "IpythonBar(children=(HTML(value='  0.0%'), FloatProgress(value=0.0)))"
      ]
     },
     "metadata": {},
     "output_type": "display_data"
    },
    {
     "data": {
      "text/plain": [
       "\u001b[K\u001b[F\u001b[K\u001b[F\u001b[K\u001b[F \u001b[1mIters\u001b[0m    \u001b[1mElapsed Time\u001b[0m       \u001b[1mSpeed\u001b[0m           \u001b[1mLoss_D\u001b[0m           \u001b[1mLoss_G\u001b[0m   \u001b[1mEpoch\u001b[0m    \n",
       " \u001b[99m24/\u001b[93m24\u001b[0m\u001b[0m  \u001b[99m00:00:00<\u001b[93m00:00:00\u001b[0m\u001b[0m  \u001b[99m49.20it/s\u001b[0m  \u001b[99m-5.27639343653716e+17\u001b[0m  \u001b[99m-23.9206\u001b[0m   \u001b[99m279\u001b[0m     \n",
       " \u001b[1mStep\u001b[0m                                                                           \n",
       " \u001b[99m6696\u001b[0m                                                                           "
      ]
     },
     "metadata": {},
     "output_type": "display_data"
    },
    {
     "data": {
      "application/vnd.jupyter.widget-view+json": {
       "model_id": "b8b68cc4934a4e2ca52c075e566c9cbc",
       "version_major": 2,
       "version_minor": 0
      },
      "text/plain": [
       "IpythonBar(children=(HTML(value='  0.0%'), FloatProgress(value=0.0)))"
      ]
     },
     "metadata": {},
     "output_type": "display_data"
    },
    {
     "data": {
      "text/plain": [
       "\u001b[K\u001b[F\u001b[K\u001b[F\u001b[K\u001b[F \u001b[1mIters\u001b[0m    \u001b[1mElapsed Time\u001b[0m       \u001b[1mSpeed\u001b[0m            \u001b[1mLoss_D\u001b[0m           \u001b[1mLoss_G\u001b[0m   \u001b[1mEpoch\u001b[0m   \n",
       " \u001b[99m24/\u001b[93m24\u001b[0m\u001b[0m  \u001b[99m00:00:00<\u001b[93m00:00:00\u001b[0m\u001b[0m  \u001b[99m41.97it/s\u001b[0m  \u001b[99m-6.399506081403372e+17\u001b[0m  \u001b[99m-23.6196\u001b[0m   \u001b[99m280\u001b[0m    \n",
       " \u001b[1mStep\u001b[0m                                                                           \n",
       " \u001b[99m6720\u001b[0m                                                                           "
      ]
     },
     "metadata": {},
     "output_type": "display_data"
    },
    {
     "data": {
      "application/vnd.jupyter.widget-view+json": {
       "model_id": "3e5e12e2821241d4bdbb7ba63415db23",
       "version_major": 2,
       "version_minor": 0
      },
      "text/plain": [
       "IpythonBar(children=(HTML(value='  0.0%'), FloatProgress(value=0.0)))"
      ]
     },
     "metadata": {},
     "output_type": "display_data"
    },
    {
     "data": {
      "text/plain": [
       "\u001b[K\u001b[F\u001b[K\u001b[F\u001b[K\u001b[F \u001b[1mIters\u001b[0m    \u001b[1mElapsed Time\u001b[0m       \u001b[1mSpeed\u001b[0m            \u001b[1mLoss_D\u001b[0m           \u001b[1mLoss_G\u001b[0m   \u001b[1mEpoch\u001b[0m   \n",
       " \u001b[99m24/\u001b[93m24\u001b[0m\u001b[0m  \u001b[99m00:00:00<\u001b[93m00:00:00\u001b[0m\u001b[0m  \u001b[99m48.07it/s\u001b[0m  \u001b[99m-5.864797771336253e+17\u001b[0m  \u001b[99m-24.1323\u001b[0m   \u001b[99m281\u001b[0m    \n",
       " \u001b[1mStep\u001b[0m                                                                           \n",
       " \u001b[99m6744\u001b[0m                                                                           "
      ]
     },
     "metadata": {},
     "output_type": "display_data"
    },
    {
     "data": {
      "application/vnd.jupyter.widget-view+json": {
       "model_id": "ede1271c393b4ddfb4405dd5d49a21a5",
       "version_major": 2,
       "version_minor": 0
      },
      "text/plain": [
       "IpythonBar(children=(HTML(value='  0.0%'), FloatProgress(value=0.0)))"
      ]
     },
     "metadata": {},
     "output_type": "display_data"
    },
    {
     "data": {
      "text/plain": [
       "\u001b[K\u001b[F\u001b[K\u001b[F\u001b[K\u001b[F \u001b[1mIters\u001b[0m    \u001b[1mElapsed Time\u001b[0m       \u001b[1mSpeed\u001b[0m            \u001b[1mLoss_D\u001b[0m           \u001b[1mLoss_G\u001b[0m   \u001b[1mEpoch\u001b[0m   \n",
       " \u001b[99m24/\u001b[93m24\u001b[0m\u001b[0m  \u001b[99m00:00:00<\u001b[93m00:00:00\u001b[0m\u001b[0m  \u001b[99m48.86it/s\u001b[0m  \u001b[99m-5.922797009701437e+17\u001b[0m  \u001b[99m-23.7198\u001b[0m   \u001b[99m282\u001b[0m    \n",
       " \u001b[1mStep\u001b[0m                                                                           \n",
       " \u001b[99m6768\u001b[0m                                                                           "
      ]
     },
     "metadata": {},
     "output_type": "display_data"
    },
    {
     "data": {
      "application/vnd.jupyter.widget-view+json": {
       "model_id": "0a655d2cfff94b26bc6afd2025db5f9c",
       "version_major": 2,
       "version_minor": 0
      },
      "text/plain": [
       "IpythonBar(children=(HTML(value='  0.0%'), FloatProgress(value=0.0)))"
      ]
     },
     "metadata": {},
     "output_type": "display_data"
    },
    {
     "data": {
      "text/plain": [
       "\u001b[K\u001b[F\u001b[K\u001b[F\u001b[K\u001b[F \u001b[1mIters\u001b[0m    \u001b[1mElapsed Time\u001b[0m       \u001b[1mSpeed\u001b[0m            \u001b[1mLoss_D\u001b[0m           \u001b[1mLoss_G\u001b[0m   \u001b[1mEpoch\u001b[0m   \n",
       " \u001b[99m24/\u001b[93m24\u001b[0m\u001b[0m  \u001b[99m00:00:00<\u001b[93m00:00:00\u001b[0m\u001b[0m  \u001b[99m48.38it/s\u001b[0m  \u001b[99m-5.597057412843438e+17\u001b[0m  \u001b[99m-23.7607\u001b[0m   \u001b[99m283\u001b[0m    \n",
       " \u001b[1mStep\u001b[0m                                                                           \n",
       " \u001b[99m6792\u001b[0m                                                                           "
      ]
     },
     "metadata": {},
     "output_type": "display_data"
    },
    {
     "data": {
      "application/vnd.jupyter.widget-view+json": {
       "model_id": "1bd7589cedb94296a93ffd8a0048accd",
       "version_major": 2,
       "version_minor": 0
      },
      "text/plain": [
       "IpythonBar(children=(HTML(value='  0.0%'), FloatProgress(value=0.0)))"
      ]
     },
     "metadata": {},
     "output_type": "display_data"
    },
    {
     "data": {
      "text/plain": [
       "\u001b[K\u001b[F\u001b[K\u001b[F\u001b[K\u001b[F \u001b[1mIters\u001b[0m    \u001b[1mElapsed Time\u001b[0m       \u001b[1mSpeed\u001b[0m            \u001b[1mLoss_D\u001b[0m          \u001b[1mLoss_G\u001b[0m   \u001b[1mEpoch\u001b[0m    \n",
       " \u001b[99m24/\u001b[93m24\u001b[0m\u001b[0m  \u001b[99m00:00:00<\u001b[93m00:00:00\u001b[0m\u001b[0m  \u001b[99m49.26it/s\u001b[0m  \u001b[99m-5.303966439382712e+17\u001b[0m  \u001b[99m-23.514\u001b[0m   \u001b[99m284\u001b[0m     \n",
       " \u001b[1mStep\u001b[0m                                                                           \n",
       " \u001b[99m6816\u001b[0m                                                                           "
      ]
     },
     "metadata": {},
     "output_type": "display_data"
    },
    {
     "data": {
      "application/vnd.jupyter.widget-view+json": {
       "model_id": "907c04b52c6140b287663ed9deff3729",
       "version_major": 2,
       "version_minor": 0
      },
      "text/plain": [
       "IpythonBar(children=(HTML(value='  0.0%'), FloatProgress(value=0.0)))"
      ]
     },
     "metadata": {},
     "output_type": "display_data"
    },
    {
     "data": {
      "text/plain": [
       "\u001b[K\u001b[F\u001b[K\u001b[F\u001b[K\u001b[F \u001b[1mIters\u001b[0m    \u001b[1mElapsed Time\u001b[0m       \u001b[1mSpeed\u001b[0m           \u001b[1mLoss_D\u001b[0m           \u001b[1mLoss_G\u001b[0m   \u001b[1mEpoch\u001b[0m    \n",
       " \u001b[99m24/\u001b[93m24\u001b[0m\u001b[0m  \u001b[99m00:00:00<\u001b[93m00:00:00\u001b[0m\u001b[0m  \u001b[99m41.62it/s\u001b[0m  \u001b[99m-5.95400114969772e+17\u001b[0m  \u001b[99m-23.8077\u001b[0m   \u001b[99m285\u001b[0m     \n",
       " \u001b[1mStep\u001b[0m                                                                           \n",
       " \u001b[99m6840\u001b[0m                                                                           "
      ]
     },
     "metadata": {},
     "output_type": "display_data"
    },
    {
     "data": {
      "application/vnd.jupyter.widget-view+json": {
       "model_id": "3d653fcb640a4b39bfb15ab858b2340d",
       "version_major": 2,
       "version_minor": 0
      },
      "text/plain": [
       "IpythonBar(children=(HTML(value='  0.0%'), FloatProgress(value=0.0)))"
      ]
     },
     "metadata": {},
     "output_type": "display_data"
    },
    {
     "data": {
      "text/plain": [
       "\u001b[K\u001b[F\u001b[K\u001b[F\u001b[K\u001b[F \u001b[1mIters\u001b[0m    \u001b[1mElapsed Time\u001b[0m       \u001b[1mSpeed\u001b[0m            \u001b[1mLoss_D\u001b[0m           \u001b[1mLoss_G\u001b[0m   \u001b[1mEpoch\u001b[0m   \n",
       " \u001b[99m24/\u001b[93m24\u001b[0m\u001b[0m  \u001b[99m00:00:00<\u001b[93m00:00:00\u001b[0m\u001b[0m  \u001b[99m48.01it/s\u001b[0m  \u001b[99m-7.504851992754258e+17\u001b[0m  \u001b[99m-23.6961\u001b[0m   \u001b[99m286\u001b[0m    \n",
       " \u001b[1mStep\u001b[0m                                                                           \n",
       " \u001b[99m6864\u001b[0m                                                                           "
      ]
     },
     "metadata": {},
     "output_type": "display_data"
    },
    {
     "data": {
      "application/vnd.jupyter.widget-view+json": {
       "model_id": "2cc025685ae746ebbee71185878afe52",
       "version_major": 2,
       "version_minor": 0
      },
      "text/plain": [
       "IpythonBar(children=(HTML(value='  0.0%'), FloatProgress(value=0.0)))"
      ]
     },
     "metadata": {},
     "output_type": "display_data"
    },
    {
     "data": {
      "text/plain": [
       "\u001b[K\u001b[F\u001b[K\u001b[F\u001b[K\u001b[F \u001b[1mIters\u001b[0m    \u001b[1mElapsed Time\u001b[0m       \u001b[1mSpeed\u001b[0m           \u001b[1mLoss_D\u001b[0m           \u001b[1mLoss_G\u001b[0m   \u001b[1mEpoch\u001b[0m    \n",
       " \u001b[99m24/\u001b[93m24\u001b[0m\u001b[0m  \u001b[99m00:00:00<\u001b[93m00:00:00\u001b[0m\u001b[0m  \u001b[99m48.44it/s\u001b[0m  \u001b[99m-8.02212685876822e+17\u001b[0m  \u001b[99m-24.2098\u001b[0m   \u001b[99m287\u001b[0m     \n",
       " \u001b[1mStep\u001b[0m                                                                           \n",
       " \u001b[99m6888\u001b[0m                                                                           "
      ]
     },
     "metadata": {},
     "output_type": "display_data"
    },
    {
     "data": {
      "application/vnd.jupyter.widget-view+json": {
       "model_id": "58bc7efbd7fe47b7a57fa80f34b9ef15",
       "version_major": 2,
       "version_minor": 0
      },
      "text/plain": [
       "IpythonBar(children=(HTML(value='  0.0%'), FloatProgress(value=0.0)))"
      ]
     },
     "metadata": {},
     "output_type": "display_data"
    },
    {
     "data": {
      "text/plain": [
       "\u001b[K\u001b[F\u001b[K\u001b[F\u001b[K\u001b[F \u001b[1mIters\u001b[0m    \u001b[1mElapsed Time\u001b[0m       \u001b[1mSpeed\u001b[0m            \u001b[1mLoss_D\u001b[0m            \u001b[1mLoss_G\u001b[0m   \u001b[1mEpoch\u001b[0m  \n",
       " \u001b[99m24/\u001b[93m24\u001b[0m\u001b[0m  \u001b[99m00:00:00<\u001b[93m00:00:00\u001b[0m\u001b[0m  \u001b[99m48.31it/s\u001b[0m  \u001b[99m-5.6087252927984435e+17\u001b[0m  \u001b[99m-24.0218\u001b[0m   \u001b[99m288\u001b[0m   \n",
       " \u001b[1mStep\u001b[0m                                                                           \n",
       " \u001b[99m6912\u001b[0m                                                                           "
      ]
     },
     "metadata": {},
     "output_type": "display_data"
    },
    {
     "data": {
      "application/vnd.jupyter.widget-view+json": {
       "model_id": "c4c12ded49074b509e94429c15d73ce2",
       "version_major": 2,
       "version_minor": 0
      },
      "text/plain": [
       "IpythonBar(children=(HTML(value='  0.0%'), FloatProgress(value=0.0)))"
      ]
     },
     "metadata": {},
     "output_type": "display_data"
    },
    {
     "data": {
      "text/plain": [
       "\u001b[K\u001b[F\u001b[K\u001b[F\u001b[K\u001b[F \u001b[1mIters\u001b[0m    \u001b[1mElapsed Time\u001b[0m       \u001b[1mSpeed\u001b[0m            \u001b[1mLoss_D\u001b[0m           \u001b[1mLoss_G\u001b[0m   \u001b[1mEpoch\u001b[0m   \n",
       " \u001b[99m24/\u001b[93m24\u001b[0m\u001b[0m  \u001b[99m00:00:00<\u001b[93m00:00:00\u001b[0m\u001b[0m  \u001b[99m49.40it/s\u001b[0m  \u001b[99m-4.794055208898396e+17\u001b[0m  \u001b[99m-24.7764\u001b[0m   \u001b[99m289\u001b[0m    \n",
       " \u001b[1mStep\u001b[0m                                                                           \n",
       " \u001b[99m6936\u001b[0m                                                                           "
      ]
     },
     "metadata": {},
     "output_type": "display_data"
    },
    {
     "data": {
      "application/vnd.jupyter.widget-view+json": {
       "model_id": "249b9e5270444a3da0aba17cb4b8b163",
       "version_major": 2,
       "version_minor": 0
      },
      "text/plain": [
       "IpythonBar(children=(HTML(value='  0.0%'), FloatProgress(value=0.0)))"
      ]
     },
     "metadata": {},
     "output_type": "display_data"
    },
    {
     "data": {
      "text/plain": [
       "\u001b[K\u001b[F\u001b[K\u001b[F\u001b[K\u001b[F \u001b[1mIters\u001b[0m    \u001b[1mElapsed Time\u001b[0m       \u001b[1mSpeed\u001b[0m            \u001b[1mLoss_D\u001b[0m           \u001b[1mLoss_G\u001b[0m   \u001b[1mEpoch\u001b[0m   \n",
       " \u001b[99m24/\u001b[93m24\u001b[0m\u001b[0m  \u001b[99m00:00:00<\u001b[93m00:00:00\u001b[0m\u001b[0m  \u001b[99m41.73it/s\u001b[0m  \u001b[99m-6.569942753214464e+17\u001b[0m  \u001b[99m-24.5936\u001b[0m   \u001b[99m290\u001b[0m    \n",
       " \u001b[1mStep\u001b[0m                                                                           \n",
       " \u001b[99m6960\u001b[0m                                                                           "
      ]
     },
     "metadata": {},
     "output_type": "display_data"
    },
    {
     "data": {
      "application/vnd.jupyter.widget-view+json": {
       "model_id": "3e6e4b36217f4bdaa96ac672327b1da1",
       "version_major": 2,
       "version_minor": 0
      },
      "text/plain": [
       "IpythonBar(children=(HTML(value='  0.0%'), FloatProgress(value=0.0)))"
      ]
     },
     "metadata": {},
     "output_type": "display_data"
    },
    {
     "data": {
      "text/plain": [
       "\u001b[K\u001b[F\u001b[K\u001b[F\u001b[K\u001b[F \u001b[1mIters\u001b[0m    \u001b[1mElapsed Time\u001b[0m       \u001b[1mSpeed\u001b[0m            \u001b[1mLoss_D\u001b[0m           \u001b[1mLoss_G\u001b[0m   \u001b[1mEpoch\u001b[0m   \n",
       " \u001b[99m24/\u001b[93m24\u001b[0m\u001b[0m  \u001b[99m00:00:00<\u001b[93m00:00:00\u001b[0m\u001b[0m  \u001b[99m46.42it/s\u001b[0m  \u001b[99m-6.918261164946227e+17\u001b[0m  \u001b[99m-24.1789\u001b[0m   \u001b[99m291\u001b[0m    \n",
       " \u001b[1mStep\u001b[0m                                                                           \n",
       " \u001b[99m6984\u001b[0m                                                                           "
      ]
     },
     "metadata": {},
     "output_type": "display_data"
    },
    {
     "data": {
      "application/vnd.jupyter.widget-view+json": {
       "model_id": "ed70f24cd82a488dbd6950c4454aff8c",
       "version_major": 2,
       "version_minor": 0
      },
      "text/plain": [
       "IpythonBar(children=(HTML(value='  0.0%'), FloatProgress(value=0.0)))"
      ]
     },
     "metadata": {},
     "output_type": "display_data"
    },
    {
     "data": {
      "text/plain": [
       "\u001b[K\u001b[F\u001b[K\u001b[F\u001b[K\u001b[F \u001b[1mIters\u001b[0m    \u001b[1mElapsed Time\u001b[0m       \u001b[1mSpeed\u001b[0m            \u001b[1mLoss_D\u001b[0m           \u001b[1mLoss_G\u001b[0m   \u001b[1mEpoch\u001b[0m   \n",
       " \u001b[99m24/\u001b[93m24\u001b[0m\u001b[0m  \u001b[99m00:00:00<\u001b[93m00:00:00\u001b[0m\u001b[0m  \u001b[99m48.73it/s\u001b[0m  \u001b[99m-5.900604741884314e+17\u001b[0m  \u001b[99m-24.6672\u001b[0m   \u001b[99m292\u001b[0m    \n",
       " \u001b[1mStep\u001b[0m                                                                           \n",
       " \u001b[99m7008\u001b[0m                                                                           "
      ]
     },
     "metadata": {},
     "output_type": "display_data"
    },
    {
     "data": {
      "application/vnd.jupyter.widget-view+json": {
       "model_id": "74533a9103dd49aa80f48da60bcefd80",
       "version_major": 2,
       "version_minor": 0
      },
      "text/plain": [
       "IpythonBar(children=(HTML(value='  0.0%'), FloatProgress(value=0.0)))"
      ]
     },
     "metadata": {},
     "output_type": "display_data"
    },
    {
     "data": {
      "text/plain": [
       "\u001b[K\u001b[F\u001b[K\u001b[F\u001b[K\u001b[F \u001b[1mIters\u001b[0m    \u001b[1mElapsed Time\u001b[0m       \u001b[1mSpeed\u001b[0m            \u001b[1mLoss_D\u001b[0m           \u001b[1mLoss_G\u001b[0m   \u001b[1mEpoch\u001b[0m   \n",
       " \u001b[99m24/\u001b[93m24\u001b[0m\u001b[0m  \u001b[99m00:00:00<\u001b[93m00:00:00\u001b[0m\u001b[0m  \u001b[99m47.01it/s\u001b[0m  \u001b[99m-5.523923053324534e+17\u001b[0m  \u001b[99m-24.8692\u001b[0m   \u001b[99m293\u001b[0m    \n",
       " \u001b[1mStep\u001b[0m                                                                           \n",
       " \u001b[99m7032\u001b[0m                                                                           "
      ]
     },
     "metadata": {},
     "output_type": "display_data"
    },
    {
     "data": {
      "application/vnd.jupyter.widget-view+json": {
       "model_id": "91cb412312fa409b944813bfd805e881",
       "version_major": 2,
       "version_minor": 0
      },
      "text/plain": [
       "IpythonBar(children=(HTML(value='  0.0%'), FloatProgress(value=0.0)))"
      ]
     },
     "metadata": {},
     "output_type": "display_data"
    },
    {
     "data": {
      "text/plain": [
       "\u001b[K\u001b[F\u001b[K\u001b[F\u001b[K\u001b[F \u001b[1mIters\u001b[0m    \u001b[1mElapsed Time\u001b[0m       \u001b[1mSpeed\u001b[0m            \u001b[1mLoss_D\u001b[0m           \u001b[1mLoss_G\u001b[0m   \u001b[1mEpoch\u001b[0m   \n",
       " \u001b[99m24/\u001b[93m24\u001b[0m\u001b[0m  \u001b[99m00:00:00<\u001b[93m00:00:00\u001b[0m\u001b[0m  \u001b[99m49.12it/s\u001b[0m  \u001b[99m-6.971171038864343e+17\u001b[0m  \u001b[99m-24.6621\u001b[0m   \u001b[99m294\u001b[0m    \n",
       " \u001b[1mStep\u001b[0m                                                                           \n",
       " \u001b[99m7056\u001b[0m                                                                           "
      ]
     },
     "metadata": {},
     "output_type": "display_data"
    },
    {
     "data": {
      "application/vnd.jupyter.widget-view+json": {
       "model_id": "dc12ec1bd2964c44b6be8c28b3e49691",
       "version_major": 2,
       "version_minor": 0
      },
      "text/plain": [
       "IpythonBar(children=(HTML(value='  0.0%'), FloatProgress(value=0.0)))"
      ]
     },
     "metadata": {},
     "output_type": "display_data"
    },
    {
     "data": {
      "text/plain": [
       "\u001b[K\u001b[F\u001b[K\u001b[F\u001b[K\u001b[F \u001b[1mIters\u001b[0m    \u001b[1mElapsed Time\u001b[0m       \u001b[1mSpeed\u001b[0m            \u001b[1mLoss_D\u001b[0m           \u001b[1mLoss_G\u001b[0m   \u001b[1mEpoch\u001b[0m   \n",
       " \u001b[99m24/\u001b[93m24\u001b[0m\u001b[0m  \u001b[99m00:00:00<\u001b[93m00:00:00\u001b[0m\u001b[0m  \u001b[99m41.69it/s\u001b[0m  \u001b[99m-5.856141866046587e+17\u001b[0m  \u001b[99m-24.2985\u001b[0m   \u001b[99m295\u001b[0m    \n",
       " \u001b[1mStep\u001b[0m                                                                           \n",
       " \u001b[99m7080\u001b[0m                                                                           "
      ]
     },
     "metadata": {},
     "output_type": "display_data"
    },
    {
     "data": {
      "application/vnd.jupyter.widget-view+json": {
       "model_id": "768b9a66c94840d4916ba12f68824140",
       "version_major": 2,
       "version_minor": 0
      },
      "text/plain": [
       "IpythonBar(children=(HTML(value='  0.0%'), FloatProgress(value=0.0)))"
      ]
     },
     "metadata": {},
     "output_type": "display_data"
    },
    {
     "data": {
      "text/plain": [
       "\u001b[K\u001b[F\u001b[K\u001b[F\u001b[K\u001b[F \u001b[1mIters\u001b[0m    \u001b[1mElapsed Time\u001b[0m       \u001b[1mSpeed\u001b[0m            \u001b[1mLoss_D\u001b[0m           \u001b[1mLoss_G\u001b[0m   \u001b[1mEpoch\u001b[0m   \n",
       " \u001b[99m24/\u001b[93m24\u001b[0m\u001b[0m  \u001b[99m00:00:00<\u001b[93m00:00:00\u001b[0m\u001b[0m  \u001b[99m46.45it/s\u001b[0m  \u001b[99m-6.388387270067487e+17\u001b[0m  \u001b[99m-24.5059\u001b[0m   \u001b[99m296\u001b[0m    \n",
       " \u001b[1mStep\u001b[0m                                                                           \n",
       " \u001b[99m7104\u001b[0m                                                                           "
      ]
     },
     "metadata": {},
     "output_type": "display_data"
    },
    {
     "data": {
      "application/vnd.jupyter.widget-view+json": {
       "model_id": "3373a64002444d86a090c0527a33c5c0",
       "version_major": 2,
       "version_minor": 0
      },
      "text/plain": [
       "IpythonBar(children=(HTML(value='  0.0%'), FloatProgress(value=0.0)))"
      ]
     },
     "metadata": {},
     "output_type": "display_data"
    },
    {
     "data": {
      "text/plain": [
       "\u001b[K\u001b[F\u001b[K\u001b[F\u001b[K\u001b[F \u001b[1mIters\u001b[0m    \u001b[1mElapsed Time\u001b[0m       \u001b[1mSpeed\u001b[0m            \u001b[1mLoss_D\u001b[0m           \u001b[1mLoss_G\u001b[0m   \u001b[1mEpoch\u001b[0m   \n",
       " \u001b[99m24/\u001b[93m24\u001b[0m\u001b[0m  \u001b[99m00:00:00<\u001b[93m00:00:00\u001b[0m\u001b[0m  \u001b[99m49.23it/s\u001b[0m  \u001b[99m-5.064717519542026e+17\u001b[0m  \u001b[99m-25.1231\u001b[0m   \u001b[99m297\u001b[0m    \n",
       " \u001b[1mStep\u001b[0m                                                                           \n",
       " \u001b[99m7128\u001b[0m                                                                           "
      ]
     },
     "metadata": {},
     "output_type": "display_data"
    },
    {
     "data": {
      "application/vnd.jupyter.widget-view+json": {
       "model_id": "431c744926cc4f1d96a797f9bb2bb5ef",
       "version_major": 2,
       "version_minor": 0
      },
      "text/plain": [
       "IpythonBar(children=(HTML(value='  0.0%'), FloatProgress(value=0.0)))"
      ]
     },
     "metadata": {},
     "output_type": "display_data"
    },
    {
     "data": {
      "text/plain": [
       "\u001b[K\u001b[F\u001b[K\u001b[F\u001b[K\u001b[F \u001b[1mIters\u001b[0m    \u001b[1mElapsed Time\u001b[0m       \u001b[1mSpeed\u001b[0m            \u001b[1mLoss_D\u001b[0m           \u001b[1mLoss_G\u001b[0m   \u001b[1mEpoch\u001b[0m   \n",
       " \u001b[99m24/\u001b[93m24\u001b[0m\u001b[0m  \u001b[99m00:00:00<\u001b[93m00:00:00\u001b[0m\u001b[0m  \u001b[99m48.34it/s\u001b[0m  \u001b[99m-5.914065512987361e+17\u001b[0m  \u001b[99m-25.0361\u001b[0m   \u001b[99m298\u001b[0m    \n",
       " \u001b[1mStep\u001b[0m                                                                           \n",
       " \u001b[99m7152\u001b[0m                                                                           "
      ]
     },
     "metadata": {},
     "output_type": "display_data"
    },
    {
     "data": {
      "application/vnd.jupyter.widget-view+json": {
       "model_id": "0b90051c28374f048f2bc773398f2127",
       "version_major": 2,
       "version_minor": 0
      },
      "text/plain": [
       "IpythonBar(children=(HTML(value='  0.0%'), FloatProgress(value=0.0)))"
      ]
     },
     "metadata": {},
     "output_type": "display_data"
    },
    {
     "data": {
      "text/plain": [
       "\u001b[K\u001b[F\u001b[K\u001b[F\u001b[K\u001b[F \u001b[1mIters\u001b[0m    \u001b[1mElapsed Time\u001b[0m       \u001b[1mSpeed\u001b[0m           \u001b[1mLoss_D\u001b[0m           \u001b[1mLoss_G\u001b[0m   \u001b[1mEpoch\u001b[0m    \n",
       " \u001b[99m24/\u001b[93m24\u001b[0m\u001b[0m  \u001b[99m00:00:00<\u001b[93m00:00:00\u001b[0m\u001b[0m  \u001b[99m48.21it/s\u001b[0m  \u001b[99m-6.20798489974014e+17\u001b[0m  \u001b[99m-25.5795\u001b[0m   \u001b[99m299\u001b[0m     \n",
       " \u001b[1mStep\u001b[0m                                                                           \n",
       " \u001b[99m7176\u001b[0m                                                                           "
      ]
     },
     "metadata": {},
     "output_type": "display_data"
    },
    {
     "data": {
      "application/vnd.jupyter.widget-view+json": {
       "model_id": "9a9e71e37a254f65920b64848b62f529",
       "version_major": 2,
       "version_minor": 0
      },
      "text/plain": [
       "IpythonBar(children=(HTML(value='  0.0%'), FloatProgress(value=0.0)))"
      ]
     },
     "metadata": {},
     "output_type": "display_data"
    },
    {
     "data": {
      "text/plain": [
       "\u001b[K\u001b[F\u001b[K\u001b[F\u001b[K\u001b[F \u001b[1mIters\u001b[0m    \u001b[1mElapsed Time\u001b[0m       \u001b[1mSpeed\u001b[0m           \u001b[1mLoss_D\u001b[0m           \u001b[1mLoss_G\u001b[0m   \u001b[1mEpoch\u001b[0m    \n",
       " \u001b[99m24/\u001b[93m24\u001b[0m\u001b[0m  \u001b[99m00:00:00<\u001b[93m00:00:00\u001b[0m\u001b[0m  \u001b[99m42.26it/s\u001b[0m  \u001b[99m-6.22357941059584e+17\u001b[0m  \u001b[99m-24.9303\u001b[0m   \u001b[99m300\u001b[0m     \n",
       " \u001b[1mStep\u001b[0m                                                                           \n",
       " \u001b[99m7200\u001b[0m                                                                           "
      ]
     },
     "metadata": {},
     "output_type": "display_data"
    },
    {
     "data": {
      "application/vnd.jupyter.widget-view+json": {
       "model_id": "62cf133135744d58933d2b5512eef03e",
       "version_major": 2,
       "version_minor": 0
      },
      "text/plain": [
       "IpythonBar(children=(HTML(value='  0.0%'), FloatProgress(value=0.0)))"
      ]
     },
     "metadata": {},
     "output_type": "display_data"
    },
    {
     "data": {
      "text/plain": [
       "\u001b[K\u001b[F\u001b[K\u001b[F\u001b[K\u001b[F \u001b[1mIters\u001b[0m    \u001b[1mElapsed Time\u001b[0m       \u001b[1mSpeed\u001b[0m            \u001b[1mLoss_D\u001b[0m           \u001b[1mLoss_G\u001b[0m   \u001b[1mEpoch\u001b[0m   \n",
       " \u001b[99m24/\u001b[93m24\u001b[0m\u001b[0m  \u001b[99m00:00:00<\u001b[93m00:00:00\u001b[0m\u001b[0m  \u001b[99m47.56it/s\u001b[0m  \u001b[99m-6.167234937230459e+17\u001b[0m  \u001b[99m-26.0556\u001b[0m   \u001b[99m301\u001b[0m    \n",
       " \u001b[1mStep\u001b[0m                                                                           \n",
       " \u001b[99m7224\u001b[0m                                                                           "
      ]
     },
     "metadata": {},
     "output_type": "display_data"
    },
    {
     "data": {
      "application/vnd.jupyter.widget-view+json": {
       "model_id": "4980d607393f43aa8da97e5a336175f6",
       "version_major": 2,
       "version_minor": 0
      },
      "text/plain": [
       "IpythonBar(children=(HTML(value='  0.0%'), FloatProgress(value=0.0)))"
      ]
     },
     "metadata": {},
     "output_type": "display_data"
    },
    {
     "data": {
      "text/plain": [
       "\u001b[K\u001b[F\u001b[K\u001b[F\u001b[K\u001b[F \u001b[1mIters\u001b[0m    \u001b[1mElapsed Time\u001b[0m       \u001b[1mSpeed\u001b[0m            \u001b[1mLoss_D\u001b[0m           \u001b[1mLoss_G\u001b[0m   \u001b[1mEpoch\u001b[0m   \n",
       " \u001b[99m24/\u001b[93m24\u001b[0m\u001b[0m  \u001b[99m00:00:00<\u001b[93m00:00:00\u001b[0m\u001b[0m  \u001b[99m49.40it/s\u001b[0m  \u001b[99m-5.842872135088865e+17\u001b[0m  \u001b[99m-25.1507\u001b[0m   \u001b[99m302\u001b[0m    \n",
       " \u001b[1mStep\u001b[0m                                                                           \n",
       " \u001b[99m7248\u001b[0m                                                                           "
      ]
     },
     "metadata": {},
     "output_type": "display_data"
    },
    {
     "data": {
      "application/vnd.jupyter.widget-view+json": {
       "model_id": "597960f734344233a56aec08cf6765be",
       "version_major": 2,
       "version_minor": 0
      },
      "text/plain": [
       "IpythonBar(children=(HTML(value='  0.0%'), FloatProgress(value=0.0)))"
      ]
     },
     "metadata": {},
     "output_type": "display_data"
    },
    {
     "data": {
      "text/plain": [
       "\u001b[K\u001b[F\u001b[K\u001b[F\u001b[K\u001b[F \u001b[1mIters\u001b[0m    \u001b[1mElapsed Time\u001b[0m       \u001b[1mSpeed\u001b[0m            \u001b[1mLoss_D\u001b[0m          \u001b[1mLoss_G\u001b[0m   \u001b[1mEpoch\u001b[0m    \n",
       " \u001b[99m24/\u001b[93m24\u001b[0m\u001b[0m  \u001b[99m00:00:00<\u001b[93m00:00:00\u001b[0m\u001b[0m  \u001b[99m47.83it/s\u001b[0m  \u001b[99m-6.028430527755715e+17\u001b[0m  \u001b[99m-24.454\u001b[0m   \u001b[99m303\u001b[0m     \n",
       " \u001b[1mStep\u001b[0m                                                                           \n",
       " \u001b[99m7272\u001b[0m                                                                           "
      ]
     },
     "metadata": {},
     "output_type": "display_data"
    },
    {
     "data": {
      "application/vnd.jupyter.widget-view+json": {
       "model_id": "2fce2fe3bcde4f8f88144fbb503de910",
       "version_major": 2,
       "version_minor": 0
      },
      "text/plain": [
       "IpythonBar(children=(HTML(value='  0.0%'), FloatProgress(value=0.0)))"
      ]
     },
     "metadata": {},
     "output_type": "display_data"
    },
    {
     "data": {
      "text/plain": [
       "\u001b[K\u001b[F\u001b[K\u001b[F\u001b[K\u001b[F \u001b[1mIters\u001b[0m    \u001b[1mElapsed Time\u001b[0m       \u001b[1mSpeed\u001b[0m            \u001b[1mLoss_D\u001b[0m           \u001b[1mLoss_G\u001b[0m   \u001b[1mEpoch\u001b[0m   \n",
       " \u001b[99m24/\u001b[93m24\u001b[0m\u001b[0m  \u001b[99m00:00:00<\u001b[93m00:00:00\u001b[0m\u001b[0m  \u001b[99m44.93it/s\u001b[0m  \u001b[99m-4.729385027329065e+17\u001b[0m  \u001b[99m-25.4046\u001b[0m   \u001b[99m304\u001b[0m    \n",
       " \u001b[1mStep\u001b[0m                                                                           \n",
       " \u001b[99m7296\u001b[0m                                                                           "
      ]
     },
     "metadata": {},
     "output_type": "display_data"
    },
    {
     "data": {
      "application/vnd.jupyter.widget-view+json": {
       "model_id": "2aa9023db3f64f569a03a2ead4024e98",
       "version_major": 2,
       "version_minor": 0
      },
      "text/plain": [
       "IpythonBar(children=(HTML(value='  0.0%'), FloatProgress(value=0.0)))"
      ]
     },
     "metadata": {},
     "output_type": "display_data"
    },
    {
     "data": {
      "text/plain": [
       "\u001b[K\u001b[F\u001b[K\u001b[F\u001b[K\u001b[F \u001b[1mIters\u001b[0m    \u001b[1mElapsed Time\u001b[0m       \u001b[1mSpeed\u001b[0m            \u001b[1mLoss_D\u001b[0m          \u001b[1mLoss_G\u001b[0m   \u001b[1mEpoch\u001b[0m    \n",
       " \u001b[99m24/\u001b[93m24\u001b[0m\u001b[0m  \u001b[99m00:00:00<\u001b[93m00:00:00\u001b[0m\u001b[0m  \u001b[99m41.14it/s\u001b[0m  \u001b[99m-5.886884898353971e+17\u001b[0m  \u001b[99m-25.429\u001b[0m   \u001b[99m305\u001b[0m     \n",
       " \u001b[1mStep\u001b[0m                                                                           \n",
       " \u001b[99m7320\u001b[0m                                                                           "
      ]
     },
     "metadata": {},
     "output_type": "display_data"
    },
    {
     "data": {
      "application/vnd.jupyter.widget-view+json": {
       "model_id": "e07387b6b7ce4963b28a281bbb8a7c4f",
       "version_major": 2,
       "version_minor": 0
      },
      "text/plain": [
       "IpythonBar(children=(HTML(value='  0.0%'), FloatProgress(value=0.0)))"
      ]
     },
     "metadata": {},
     "output_type": "display_data"
    },
    {
     "data": {
      "text/plain": [
       "\u001b[K\u001b[F\u001b[K\u001b[F\u001b[K\u001b[F \u001b[1mIters\u001b[0m    \u001b[1mElapsed Time\u001b[0m       \u001b[1mSpeed\u001b[0m            \u001b[1mLoss_D\u001b[0m           \u001b[1mLoss_G\u001b[0m   \u001b[1mEpoch\u001b[0m   \n",
       " \u001b[99m24/\u001b[93m24\u001b[0m\u001b[0m  \u001b[99m00:00:00<\u001b[93m00:00:00\u001b[0m\u001b[0m  \u001b[99m47.15it/s\u001b[0m  \u001b[99m-6.001116597337457e+17\u001b[0m  \u001b[99m-25.7081\u001b[0m   \u001b[99m306\u001b[0m    \n",
       " \u001b[1mStep\u001b[0m                                                                           \n",
       " \u001b[99m7344\u001b[0m                                                                           "
      ]
     },
     "metadata": {},
     "output_type": "display_data"
    },
    {
     "data": {
      "application/vnd.jupyter.widget-view+json": {
       "model_id": "5596ae298cc049958e1363dc3bbbdb3a",
       "version_major": 2,
       "version_minor": 0
      },
      "text/plain": [
       "IpythonBar(children=(HTML(value='  0.0%'), FloatProgress(value=0.0)))"
      ]
     },
     "metadata": {},
     "output_type": "display_data"
    },
    {
     "data": {
      "text/plain": [
       "\u001b[K\u001b[F\u001b[K\u001b[F\u001b[K\u001b[F \u001b[1mIters\u001b[0m    \u001b[1mElapsed Time\u001b[0m       \u001b[1mSpeed\u001b[0m            \u001b[1mLoss_D\u001b[0m           \u001b[1mLoss_G\u001b[0m   \u001b[1mEpoch\u001b[0m   \n",
       " \u001b[99m24/\u001b[93m24\u001b[0m\u001b[0m  \u001b[99m00:00:00<\u001b[93m00:00:00\u001b[0m\u001b[0m  \u001b[99m48.81it/s\u001b[0m  \u001b[99m-5.784052386171453e+17\u001b[0m  \u001b[99m-26.1134\u001b[0m   \u001b[99m307\u001b[0m    \n",
       " \u001b[1mStep\u001b[0m                                                                           \n",
       " \u001b[99m7368\u001b[0m                                                                           "
      ]
     },
     "metadata": {},
     "output_type": "display_data"
    },
    {
     "data": {
      "application/vnd.jupyter.widget-view+json": {
       "model_id": "f9468c97fc6f4f67ad8e503859509629",
       "version_major": 2,
       "version_minor": 0
      },
      "text/plain": [
       "IpythonBar(children=(HTML(value='  0.0%'), FloatProgress(value=0.0)))"
      ]
     },
     "metadata": {},
     "output_type": "display_data"
    },
    {
     "data": {
      "text/plain": [
       "\u001b[K\u001b[F\u001b[K\u001b[F\u001b[K\u001b[F \u001b[1mIters\u001b[0m    \u001b[1mElapsed Time\u001b[0m       \u001b[1mSpeed\u001b[0m            \u001b[1mLoss_D\u001b[0m           \u001b[1mLoss_G\u001b[0m   \u001b[1mEpoch\u001b[0m   \n",
       " \u001b[99m24/\u001b[93m24\u001b[0m\u001b[0m  \u001b[99m00:00:00<\u001b[93m00:00:00\u001b[0m\u001b[0m  \u001b[99m47.98it/s\u001b[0m  \u001b[99m-6.070366588433859e+17\u001b[0m  \u001b[99m-26.0416\u001b[0m   \u001b[99m308\u001b[0m    \n",
       " \u001b[1mStep\u001b[0m                                                                           \n",
       " \u001b[99m7392\u001b[0m                                                                           "
      ]
     },
     "metadata": {},
     "output_type": "display_data"
    },
    {
     "data": {
      "application/vnd.jupyter.widget-view+json": {
       "model_id": "3515cab3e8e2430981c1df4a602cde8c",
       "version_major": 2,
       "version_minor": 0
      },
      "text/plain": [
       "IpythonBar(children=(HTML(value='  0.0%'), FloatProgress(value=0.0)))"
      ]
     },
     "metadata": {},
     "output_type": "display_data"
    },
    {
     "data": {
      "text/plain": [
       "\u001b[K\u001b[F\u001b[K\u001b[F\u001b[K\u001b[F \u001b[1mIters\u001b[0m    \u001b[1mElapsed Time\u001b[0m       \u001b[1mSpeed\u001b[0m           \u001b[1mLoss_D\u001b[0m           \u001b[1mLoss_G\u001b[0m   \u001b[1mEpoch\u001b[0m    \n",
       " \u001b[99m24/\u001b[93m24\u001b[0m\u001b[0m  \u001b[99m00:00:00<\u001b[93m00:00:00\u001b[0m\u001b[0m  \u001b[99m45.67it/s\u001b[0m  \u001b[99m-5.97707165242753e+17\u001b[0m  \u001b[99m-26.0426\u001b[0m   \u001b[99m309\u001b[0m     \n",
       " \u001b[1mStep\u001b[0m                                                                           \n",
       " \u001b[99m7416\u001b[0m                                                                           "
      ]
     },
     "metadata": {},
     "output_type": "display_data"
    },
    {
     "data": {
      "application/vnd.jupyter.widget-view+json": {
       "model_id": "4964ded7796244bdb6773afab3eb6245",
       "version_major": 2,
       "version_minor": 0
      },
      "text/plain": [
       "IpythonBar(children=(HTML(value='  0.0%'), FloatProgress(value=0.0)))"
      ]
     },
     "metadata": {},
     "output_type": "display_data"
    },
    {
     "data": {
      "text/plain": [
       "\u001b[K\u001b[F\u001b[K\u001b[F\u001b[K\u001b[F \u001b[1mIters\u001b[0m    \u001b[1mElapsed Time\u001b[0m       \u001b[1mSpeed\u001b[0m            \u001b[1mLoss_D\u001b[0m           \u001b[1mLoss_G\u001b[0m   \u001b[1mEpoch\u001b[0m   \n",
       " \u001b[99m24/\u001b[93m24\u001b[0m\u001b[0m  \u001b[99m00:00:00<\u001b[93m00:00:00\u001b[0m\u001b[0m  \u001b[99m39.06it/s\u001b[0m  \u001b[99m-6.216440831352504e+17\u001b[0m  \u001b[99m-26.3125\u001b[0m   \u001b[99m310\u001b[0m    \n",
       " \u001b[1mStep\u001b[0m                                                                           \n",
       " \u001b[99m7440\u001b[0m                                                                           "
      ]
     },
     "metadata": {},
     "output_type": "display_data"
    },
    {
     "data": {
      "application/vnd.jupyter.widget-view+json": {
       "model_id": "db3a9641d4a7484b8e97cb87ea4a37ce",
       "version_major": 2,
       "version_minor": 0
      },
      "text/plain": [
       "IpythonBar(children=(HTML(value='  0.0%'), FloatProgress(value=0.0)))"
      ]
     },
     "metadata": {},
     "output_type": "display_data"
    },
    {
     "data": {
      "text/plain": [
       "\u001b[K\u001b[F\u001b[K\u001b[F\u001b[K\u001b[F \u001b[1mIters\u001b[0m    \u001b[1mElapsed Time\u001b[0m       \u001b[1mSpeed\u001b[0m            \u001b[1mLoss_D\u001b[0m           \u001b[1mLoss_G\u001b[0m   \u001b[1mEpoch\u001b[0m   \n",
       " \u001b[99m24/\u001b[93m24\u001b[0m\u001b[0m  \u001b[99m00:00:00<\u001b[93m00:00:00\u001b[0m\u001b[0m  \u001b[99m45.01it/s\u001b[0m  \u001b[99m-4.896450665208873e+17\u001b[0m  \u001b[99m-26.2985\u001b[0m   \u001b[99m311\u001b[0m    \n",
       " \u001b[1mStep\u001b[0m                                                                           \n",
       " \u001b[99m7464\u001b[0m                                                                           "
      ]
     },
     "metadata": {},
     "output_type": "display_data"
    },
    {
     "data": {
      "application/vnd.jupyter.widget-view+json": {
       "model_id": "352e427dd4b1494b8fc71bf2aa4fbda3",
       "version_major": 2,
       "version_minor": 0
      },
      "text/plain": [
       "IpythonBar(children=(HTML(value='  0.0%'), FloatProgress(value=0.0)))"
      ]
     },
     "metadata": {},
     "output_type": "display_data"
    },
    {
     "data": {
      "text/plain": [
       "\u001b[K\u001b[F\u001b[K\u001b[F\u001b[K\u001b[F \u001b[1mIters\u001b[0m    \u001b[1mElapsed Time\u001b[0m       \u001b[1mSpeed\u001b[0m           \u001b[1mLoss_D\u001b[0m           \u001b[1mLoss_G\u001b[0m   \u001b[1mEpoch\u001b[0m    \n",
       " \u001b[99m24/\u001b[93m24\u001b[0m\u001b[0m  \u001b[99m00:00:00<\u001b[93m00:00:00\u001b[0m\u001b[0m  \u001b[99m45.50it/s\u001b[0m  \u001b[99m-5.92796059118338e+17\u001b[0m  \u001b[99m-25.8123\u001b[0m   \u001b[99m312\u001b[0m     \n",
       " \u001b[1mStep\u001b[0m                                                                           \n",
       " \u001b[99m7488\u001b[0m                                                                           "
      ]
     },
     "metadata": {},
     "output_type": "display_data"
    },
    {
     "data": {
      "application/vnd.jupyter.widget-view+json": {
       "model_id": "7f8715cb022c4b479ca0a3d1c868f30e",
       "version_major": 2,
       "version_minor": 0
      },
      "text/plain": [
       "IpythonBar(children=(HTML(value='  0.0%'), FloatProgress(value=0.0)))"
      ]
     },
     "metadata": {},
     "output_type": "display_data"
    },
    {
     "data": {
      "text/plain": [
       "\u001b[K\u001b[F\u001b[K\u001b[F\u001b[K\u001b[F \u001b[1mIters\u001b[0m    \u001b[1mElapsed Time\u001b[0m       \u001b[1mSpeed\u001b[0m            \u001b[1mLoss_D\u001b[0m           \u001b[1mLoss_G\u001b[0m   \u001b[1mEpoch\u001b[0m   \n",
       " \u001b[99m24/\u001b[93m24\u001b[0m\u001b[0m  \u001b[99m00:00:00<\u001b[93m00:00:00\u001b[0m\u001b[0m  \u001b[99m44.94it/s\u001b[0m  \u001b[99m-5.650984335017247e+17\u001b[0m  \u001b[99m-26.1662\u001b[0m   \u001b[99m313\u001b[0m    \n",
       " \u001b[1mStep\u001b[0m                                                                           \n",
       " \u001b[99m7512\u001b[0m                                                                           "
      ]
     },
     "metadata": {},
     "output_type": "display_data"
    },
    {
     "data": {
      "application/vnd.jupyter.widget-view+json": {
       "model_id": "7839ad3ff6174d59a204950690a7dc05",
       "version_major": 2,
       "version_minor": 0
      },
      "text/plain": [
       "IpythonBar(children=(HTML(value='  0.0%'), FloatProgress(value=0.0)))"
      ]
     },
     "metadata": {},
     "output_type": "display_data"
    },
    {
     "data": {
      "text/plain": [
       "\u001b[K\u001b[F\u001b[K\u001b[F\u001b[K\u001b[F \u001b[1mIters\u001b[0m    \u001b[1mElapsed Time\u001b[0m       \u001b[1mSpeed\u001b[0m            \u001b[1mLoss_D\u001b[0m           \u001b[1mLoss_G\u001b[0m   \u001b[1mEpoch\u001b[0m   \n",
       " \u001b[99m24/\u001b[93m24\u001b[0m\u001b[0m  \u001b[99m00:00:00<\u001b[93m00:00:00\u001b[0m\u001b[0m  \u001b[99m46.76it/s\u001b[0m  \u001b[99m-6.255491361202504e+17\u001b[0m  \u001b[99m-26.4439\u001b[0m   \u001b[99m314\u001b[0m    \n",
       " \u001b[1mStep\u001b[0m                                                                           \n",
       " \u001b[99m7536\u001b[0m                                                                           "
      ]
     },
     "metadata": {},
     "output_type": "display_data"
    },
    {
     "data": {
      "application/vnd.jupyter.widget-view+json": {
       "model_id": "18dfbfaf32d64947846f57fdc80f442c",
       "version_major": 2,
       "version_minor": 0
      },
      "text/plain": [
       "IpythonBar(children=(HTML(value='  0.0%'), FloatProgress(value=0.0)))"
      ]
     },
     "metadata": {},
     "output_type": "display_data"
    },
    {
     "data": {
      "text/plain": [
       "\u001b[K\u001b[F\u001b[K\u001b[F\u001b[K\u001b[F \u001b[1mIters\u001b[0m    \u001b[1mElapsed Time\u001b[0m       \u001b[1mSpeed\u001b[0m            \u001b[1mLoss_D\u001b[0m           \u001b[1mLoss_G\u001b[0m   \u001b[1mEpoch\u001b[0m   \n",
       " \u001b[99m24/\u001b[93m24\u001b[0m\u001b[0m  \u001b[99m00:00:00<\u001b[93m00:00:00\u001b[0m\u001b[0m  \u001b[99m40.97it/s\u001b[0m  \u001b[99m-6.695480180510556e+17\u001b[0m  \u001b[99m-26.5459\u001b[0m   \u001b[99m315\u001b[0m    \n",
       " \u001b[1mStep\u001b[0m                                                                           \n",
       " \u001b[99m7560\u001b[0m                                                                           "
      ]
     },
     "metadata": {},
     "output_type": "display_data"
    },
    {
     "data": {
      "application/vnd.jupyter.widget-view+json": {
       "model_id": "63459d511c934cfd98cf56de095cd9b0",
       "version_major": 2,
       "version_minor": 0
      },
      "text/plain": [
       "IpythonBar(children=(HTML(value='  0.0%'), FloatProgress(value=0.0)))"
      ]
     },
     "metadata": {},
     "output_type": "display_data"
    },
    {
     "data": {
      "text/plain": [
       "\u001b[K\u001b[F\u001b[K\u001b[F\u001b[K\u001b[F \u001b[1mIters\u001b[0m    \u001b[1mElapsed Time\u001b[0m       \u001b[1mSpeed\u001b[0m            \u001b[1mLoss_D\u001b[0m            \u001b[1mLoss_G\u001b[0m   \u001b[1mEpoch\u001b[0m  \n",
       " \u001b[99m24/\u001b[93m24\u001b[0m\u001b[0m  \u001b[99m00:00:00<\u001b[93m00:00:00\u001b[0m\u001b[0m  \u001b[99m47.66it/s\u001b[0m  \u001b[99m-5.2433812871079526e+17\u001b[0m  \u001b[99m-26.3059\u001b[0m   \u001b[99m316\u001b[0m   \n",
       " \u001b[1mStep\u001b[0m                                                                           \n",
       " \u001b[99m7584\u001b[0m                                                                           "
      ]
     },
     "metadata": {},
     "output_type": "display_data"
    },
    {
     "data": {
      "application/vnd.jupyter.widget-view+json": {
       "model_id": "e994b5c31a71482fa61717ea04431276",
       "version_major": 2,
       "version_minor": 0
      },
      "text/plain": [
       "IpythonBar(children=(HTML(value='  0.0%'), FloatProgress(value=0.0)))"
      ]
     },
     "metadata": {},
     "output_type": "display_data"
    },
    {
     "data": {
      "text/plain": [
       "\u001b[K\u001b[F\u001b[K\u001b[F\u001b[K\u001b[F \u001b[1mIters\u001b[0m    \u001b[1mElapsed Time\u001b[0m       \u001b[1mSpeed\u001b[0m            \u001b[1mLoss_D\u001b[0m           \u001b[1mLoss_G\u001b[0m   \u001b[1mEpoch\u001b[0m   \n",
       " \u001b[99m24/\u001b[93m24\u001b[0m\u001b[0m  \u001b[99m00:00:00<\u001b[93m00:00:00\u001b[0m\u001b[0m  \u001b[99m45.94it/s\u001b[0m  \u001b[99m-4.823599086336737e+17\u001b[0m  \u001b[99m-26.5397\u001b[0m   \u001b[99m317\u001b[0m    \n",
       " \u001b[1mStep\u001b[0m                                                                           \n",
       " \u001b[99m7608\u001b[0m                                                                           "
      ]
     },
     "metadata": {},
     "output_type": "display_data"
    },
    {
     "data": {
      "application/vnd.jupyter.widget-view+json": {
       "model_id": "b5802078b38d46d4ac181e9d9c4cf90f",
       "version_major": 2,
       "version_minor": 0
      },
      "text/plain": [
       "IpythonBar(children=(HTML(value='  0.0%'), FloatProgress(value=0.0)))"
      ]
     },
     "metadata": {},
     "output_type": "display_data"
    },
    {
     "data": {
      "text/plain": [
       "\u001b[K\u001b[F\u001b[K\u001b[F\u001b[K\u001b[F \u001b[1mIters\u001b[0m    \u001b[1mElapsed Time\u001b[0m       \u001b[1mSpeed\u001b[0m            \u001b[1mLoss_D\u001b[0m           \u001b[1mLoss_G\u001b[0m   \u001b[1mEpoch\u001b[0m   \n",
       " \u001b[99m24/\u001b[93m24\u001b[0m\u001b[0m  \u001b[99m00:00:00<\u001b[93m00:00:00\u001b[0m\u001b[0m  \u001b[99m47.97it/s\u001b[0m  \u001b[99m-5.683024447448023e+17\u001b[0m  \u001b[99m-26.0876\u001b[0m   \u001b[99m318\u001b[0m    \n",
       " \u001b[1mStep\u001b[0m                                                                           \n",
       " \u001b[99m7632\u001b[0m                                                                           "
      ]
     },
     "metadata": {},
     "output_type": "display_data"
    },
    {
     "data": {
      "application/vnd.jupyter.widget-view+json": {
       "model_id": "53da841098f44e0b93ad9d10b568e51b",
       "version_major": 2,
       "version_minor": 0
      },
      "text/plain": [
       "IpythonBar(children=(HTML(value='  0.0%'), FloatProgress(value=0.0)))"
      ]
     },
     "metadata": {},
     "output_type": "display_data"
    },
    {
     "data": {
      "text/plain": [
       "\u001b[K\u001b[F\u001b[K\u001b[F\u001b[K\u001b[F \u001b[1mIters\u001b[0m    \u001b[1mElapsed Time\u001b[0m       \u001b[1mSpeed\u001b[0m            \u001b[1mLoss_D\u001b[0m           \u001b[1mLoss_G\u001b[0m   \u001b[1mEpoch\u001b[0m   \n",
       " \u001b[99m24/\u001b[93m24\u001b[0m\u001b[0m  \u001b[99m00:00:00<\u001b[93m00:00:00\u001b[0m\u001b[0m  \u001b[99m44.60it/s\u001b[0m  \u001b[99m-5.703858131210076e+17\u001b[0m  \u001b[99m-26.3863\u001b[0m   \u001b[99m319\u001b[0m    \n",
       " \u001b[1mStep\u001b[0m                                                                           \n",
       " \u001b[99m7656\u001b[0m                                                                           "
      ]
     },
     "metadata": {},
     "output_type": "display_data"
    },
    {
     "data": {
      "application/vnd.jupyter.widget-view+json": {
       "model_id": "b8cce768d8f44d188b931c1fbff186bd",
       "version_major": 2,
       "version_minor": 0
      },
      "text/plain": [
       "IpythonBar(children=(HTML(value='  0.0%'), FloatProgress(value=0.0)))"
      ]
     },
     "metadata": {},
     "output_type": "display_data"
    },
    {
     "data": {
      "text/plain": [
       "\u001b[K\u001b[F\u001b[K\u001b[F\u001b[K\u001b[F \u001b[1mIters\u001b[0m    \u001b[1mElapsed Time\u001b[0m       \u001b[1mSpeed\u001b[0m            \u001b[1mLoss_D\u001b[0m           \u001b[1mLoss_G\u001b[0m   \u001b[1mEpoch\u001b[0m   \n",
       " \u001b[99m24/\u001b[93m24\u001b[0m\u001b[0m  \u001b[99m00:00:00<\u001b[93m00:00:00\u001b[0m\u001b[0m  \u001b[99m40.00it/s\u001b[0m  \u001b[99m-6.748212070983926e+17\u001b[0m  \u001b[99m-25.9637\u001b[0m   \u001b[99m320\u001b[0m    \n",
       " \u001b[1mStep\u001b[0m                                                                           \n",
       " \u001b[99m7680\u001b[0m                                                                           "
      ]
     },
     "metadata": {},
     "output_type": "display_data"
    },
    {
     "data": {
      "application/vnd.jupyter.widget-view+json": {
       "model_id": "6b85bb52ea7d408997173af4fa7d9169",
       "version_major": 2,
       "version_minor": 0
      },
      "text/plain": [
       "IpythonBar(children=(HTML(value='  0.0%'), FloatProgress(value=0.0)))"
      ]
     },
     "metadata": {},
     "output_type": "display_data"
    },
    {
     "data": {
      "text/plain": [
       "\u001b[K\u001b[F\u001b[K\u001b[F\u001b[K\u001b[F \u001b[1mIters\u001b[0m    \u001b[1mElapsed Time\u001b[0m       \u001b[1mSpeed\u001b[0m            \u001b[1mLoss_D\u001b[0m           \u001b[1mLoss_G\u001b[0m   \u001b[1mEpoch\u001b[0m   \n",
       " \u001b[99m24/\u001b[93m24\u001b[0m\u001b[0m  \u001b[99m00:00:00<\u001b[93m00:00:00\u001b[0m\u001b[0m  \u001b[99m44.92it/s\u001b[0m  \u001b[99m-4.862892883134382e+17\u001b[0m  \u001b[99m-26.7463\u001b[0m   \u001b[99m321\u001b[0m    \n",
       " \u001b[1mStep\u001b[0m                                                                           \n",
       " \u001b[99m7704\u001b[0m                                                                           "
      ]
     },
     "metadata": {},
     "output_type": "display_data"
    },
    {
     "data": {
      "application/vnd.jupyter.widget-view+json": {
       "model_id": "7cf17ef618f84c58afaf8e1d8fcee1f8",
       "version_major": 2,
       "version_minor": 0
      },
      "text/plain": [
       "IpythonBar(children=(HTML(value='  0.0%'), FloatProgress(value=0.0)))"
      ]
     },
     "metadata": {},
     "output_type": "display_data"
    },
    {
     "data": {
      "text/plain": [
       "\u001b[K\u001b[F\u001b[K\u001b[F\u001b[K\u001b[F \u001b[1mIters\u001b[0m    \u001b[1mElapsed Time\u001b[0m       \u001b[1mSpeed\u001b[0m            \u001b[1mLoss_D\u001b[0m           \u001b[1mLoss_G\u001b[0m   \u001b[1mEpoch\u001b[0m   \n",
       " \u001b[99m24/\u001b[93m24\u001b[0m\u001b[0m  \u001b[99m00:00:00<\u001b[93m00:00:00\u001b[0m\u001b[0m  \u001b[99m49.38it/s\u001b[0m  \u001b[99m-5.278425471464243e+17\u001b[0m  \u001b[99m-26.3858\u001b[0m   \u001b[99m322\u001b[0m    \n",
       " \u001b[1mStep\u001b[0m                                                                           \n",
       " \u001b[99m7728\u001b[0m                                                                           "
      ]
     },
     "metadata": {},
     "output_type": "display_data"
    },
    {
     "data": {
      "application/vnd.jupyter.widget-view+json": {
       "model_id": "b3f9d1051ef04df08e7827cf3f6a9065",
       "version_major": 2,
       "version_minor": 0
      },
      "text/plain": [
       "IpythonBar(children=(HTML(value='  0.0%'), FloatProgress(value=0.0)))"
      ]
     },
     "metadata": {},
     "output_type": "display_data"
    },
    {
     "data": {
      "text/plain": [
       "\u001b[K\u001b[F\u001b[K\u001b[F\u001b[K\u001b[F \u001b[1mIters\u001b[0m    \u001b[1mElapsed Time\u001b[0m       \u001b[1mSpeed\u001b[0m            \u001b[1mLoss_D\u001b[0m           \u001b[1mLoss_G\u001b[0m   \u001b[1mEpoch\u001b[0m   \n",
       " \u001b[99m24/\u001b[93m24\u001b[0m\u001b[0m  \u001b[99m00:00:00<\u001b[93m00:00:00\u001b[0m\u001b[0m  \u001b[99m47.69it/s\u001b[0m  \u001b[99m-7.234354952452178e+17\u001b[0m  \u001b[99m-26.6356\u001b[0m   \u001b[99m323\u001b[0m    \n",
       " \u001b[1mStep\u001b[0m                                                                           \n",
       " \u001b[99m7752\u001b[0m                                                                           "
      ]
     },
     "metadata": {},
     "output_type": "display_data"
    },
    {
     "data": {
      "application/vnd.jupyter.widget-view+json": {
       "model_id": "4616bd61fa8b4d919c95037d472003b0",
       "version_major": 2,
       "version_minor": 0
      },
      "text/plain": [
       "IpythonBar(children=(HTML(value='  0.0%'), FloatProgress(value=0.0)))"
      ]
     },
     "metadata": {},
     "output_type": "display_data"
    },
    {
     "data": {
      "text/plain": [
       "\u001b[K\u001b[F\u001b[K\u001b[F\u001b[K\u001b[F \u001b[1mIters\u001b[0m    \u001b[1mElapsed Time\u001b[0m       \u001b[1mSpeed\u001b[0m            \u001b[1mLoss_D\u001b[0m           \u001b[1mLoss_G\u001b[0m   \u001b[1mEpoch\u001b[0m   \n",
       " \u001b[99m24/\u001b[93m24\u001b[0m\u001b[0m  \u001b[99m00:00:00<\u001b[93m00:00:00\u001b[0m\u001b[0m  \u001b[99m48.35it/s\u001b[0m  \u001b[99m-5.1559842001924915e+17\u001b[0m  \u001b[99m-26.512\u001b[0m   \u001b[99m324\u001b[0m    \n",
       " \u001b[1mStep\u001b[0m                                                                           \n",
       " \u001b[99m7776\u001b[0m                                                                           "
      ]
     },
     "metadata": {},
     "output_type": "display_data"
    },
    {
     "data": {
      "application/vnd.jupyter.widget-view+json": {
       "model_id": "999ac326117c412cac1ceadecd536e2a",
       "version_major": 2,
       "version_minor": 0
      },
      "text/plain": [
       "IpythonBar(children=(HTML(value='  0.0%'), FloatProgress(value=0.0)))"
      ]
     },
     "metadata": {},
     "output_type": "display_data"
    },
    {
     "data": {
      "text/plain": [
       "\u001b[K\u001b[F\u001b[K\u001b[F\u001b[K\u001b[F \u001b[1mIters\u001b[0m    \u001b[1mElapsed Time\u001b[0m       \u001b[1mSpeed\u001b[0m            \u001b[1mLoss_D\u001b[0m           \u001b[1mLoss_G\u001b[0m   \u001b[1mEpoch\u001b[0m   \n",
       " \u001b[99m24/\u001b[93m24\u001b[0m\u001b[0m  \u001b[99m00:00:00<\u001b[93m00:00:00\u001b[0m\u001b[0m  \u001b[99m41.82it/s\u001b[0m  \u001b[99m-6.680326848695501e+17\u001b[0m  \u001b[99m-26.7956\u001b[0m   \u001b[99m325\u001b[0m    \n",
       " \u001b[1mStep\u001b[0m                                                                           \n",
       " \u001b[99m7800\u001b[0m                                                                           "
      ]
     },
     "metadata": {},
     "output_type": "display_data"
    },
    {
     "data": {
      "application/vnd.jupyter.widget-view+json": {
       "model_id": "2150ec18f7ad4e2587bac500828209d0",
       "version_major": 2,
       "version_minor": 0
      },
      "text/plain": [
       "IpythonBar(children=(HTML(value='  0.0%'), FloatProgress(value=0.0)))"
      ]
     },
     "metadata": {},
     "output_type": "display_data"
    },
    {
     "data": {
      "text/plain": [
       "\u001b[K\u001b[F\u001b[K\u001b[F\u001b[K\u001b[F \u001b[1mIters\u001b[0m    \u001b[1mElapsed Time\u001b[0m       \u001b[1mSpeed\u001b[0m           \u001b[1mLoss_D\u001b[0m           \u001b[1mLoss_G\u001b[0m   \u001b[1mEpoch\u001b[0m    \n",
       " \u001b[99m24/\u001b[93m24\u001b[0m\u001b[0m  \u001b[99m00:00:00<\u001b[93m00:00:00\u001b[0m\u001b[0m  \u001b[99m48.22it/s\u001b[0m  \u001b[99m-5.46807129860735e+17\u001b[0m  \u001b[99m-27.1846\u001b[0m   \u001b[99m326\u001b[0m     \n",
       " \u001b[1mStep\u001b[0m                                                                           \n",
       " \u001b[99m7824\u001b[0m                                                                           "
      ]
     },
     "metadata": {},
     "output_type": "display_data"
    },
    {
     "data": {
      "application/vnd.jupyter.widget-view+json": {
       "model_id": "6f7d91da25554585af5c7499aabfb9c0",
       "version_major": 2,
       "version_minor": 0
      },
      "text/plain": [
       "IpythonBar(children=(HTML(value='  0.0%'), FloatProgress(value=0.0)))"
      ]
     },
     "metadata": {},
     "output_type": "display_data"
    },
    {
     "data": {
      "text/plain": [
       "\u001b[K\u001b[F\u001b[K\u001b[F\u001b[K\u001b[F \u001b[1mIters\u001b[0m    \u001b[1mElapsed Time\u001b[0m       \u001b[1mSpeed\u001b[0m            \u001b[1mLoss_D\u001b[0m          \u001b[1mLoss_G\u001b[0m  \u001b[1mEpoch\u001b[0m     \n",
       " \u001b[99m24/\u001b[93m24\u001b[0m\u001b[0m  \u001b[99m00:00:00<\u001b[93m00:00:00\u001b[0m\u001b[0m  \u001b[99m48.43it/s\u001b[0m  \u001b[99m-5.965304816426025e+17\u001b[0m  \u001b[99m-27.68\u001b[0m   \u001b[99m327\u001b[0m      \n",
       " \u001b[1mStep\u001b[0m                                                                           \n",
       " \u001b[99m7848\u001b[0m                                                                           "
      ]
     },
     "metadata": {},
     "output_type": "display_data"
    },
    {
     "data": {
      "application/vnd.jupyter.widget-view+json": {
       "model_id": "1c8c1910e4794bda9673bbf0219b49ac",
       "version_major": 2,
       "version_minor": 0
      },
      "text/plain": [
       "IpythonBar(children=(HTML(value='  0.0%'), FloatProgress(value=0.0)))"
      ]
     },
     "metadata": {},
     "output_type": "display_data"
    },
    {
     "data": {
      "text/plain": [
       "\u001b[K\u001b[F\u001b[K\u001b[F\u001b[K\u001b[F \u001b[1mIters\u001b[0m    \u001b[1mElapsed Time\u001b[0m       \u001b[1mSpeed\u001b[0m           \u001b[1mLoss_D\u001b[0m           \u001b[1mLoss_G\u001b[0m   \u001b[1mEpoch\u001b[0m    \n",
       " \u001b[99m24/\u001b[93m24\u001b[0m\u001b[0m  \u001b[99m00:00:00<\u001b[93m00:00:00\u001b[0m\u001b[0m  \u001b[99m44.23it/s\u001b[0m  \u001b[99m-6.18412824619647e+17\u001b[0m  \u001b[99m-27.4544\u001b[0m   \u001b[99m328\u001b[0m     \n",
       " \u001b[1mStep\u001b[0m                                                                           \n",
       " \u001b[99m7872\u001b[0m                                                                           "
      ]
     },
     "metadata": {},
     "output_type": "display_data"
    },
    {
     "data": {
      "application/vnd.jupyter.widget-view+json": {
       "model_id": "7dbb2ed4b00949d09544d354673c0a3f",
       "version_major": 2,
       "version_minor": 0
      },
      "text/plain": [
       "IpythonBar(children=(HTML(value='  0.0%'), FloatProgress(value=0.0)))"
      ]
     },
     "metadata": {},
     "output_type": "display_data"
    },
    {
     "data": {
      "text/plain": [
       "\u001b[K\u001b[F\u001b[K\u001b[F\u001b[K\u001b[F \u001b[1mIters\u001b[0m    \u001b[1mElapsed Time\u001b[0m       \u001b[1mSpeed\u001b[0m           \u001b[1mLoss_D\u001b[0m           \u001b[1mLoss_G\u001b[0m   \u001b[1mEpoch\u001b[0m    \n",
       " \u001b[99m24/\u001b[93m24\u001b[0m\u001b[0m  \u001b[99m00:00:00<\u001b[93m00:00:00\u001b[0m\u001b[0m  \u001b[99m48.47it/s\u001b[0m  \u001b[99m-5.70657461212545e+17\u001b[0m  \u001b[99m-26.9126\u001b[0m   \u001b[99m329\u001b[0m     \n",
       " \u001b[1mStep\u001b[0m                                                                           \n",
       " \u001b[99m7896\u001b[0m                                                                           "
      ]
     },
     "metadata": {},
     "output_type": "display_data"
    },
    {
     "data": {
      "application/vnd.jupyter.widget-view+json": {
       "model_id": "96cc5848e7ea4ad5a32dab7c6912bd78",
       "version_major": 2,
       "version_minor": 0
      },
      "text/plain": [
       "IpythonBar(children=(HTML(value='  0.0%'), FloatProgress(value=0.0)))"
      ]
     },
     "metadata": {},
     "output_type": "display_data"
    },
    {
     "data": {
      "text/plain": [
       "\u001b[K\u001b[F\u001b[K\u001b[F\u001b[K\u001b[F \u001b[1mIters\u001b[0m    \u001b[1mElapsed Time\u001b[0m       \u001b[1mSpeed\u001b[0m            \u001b[1mLoss_D\u001b[0m           \u001b[1mLoss_G\u001b[0m   \u001b[1mEpoch\u001b[0m   \n",
       " \u001b[99m24/\u001b[93m24\u001b[0m\u001b[0m  \u001b[99m00:00:00<\u001b[93m00:00:00\u001b[0m\u001b[0m  \u001b[99m41.17it/s\u001b[0m  \u001b[99m-6.638804479267308e+17\u001b[0m  \u001b[99m-27.1444\u001b[0m   \u001b[99m330\u001b[0m    \n",
       " \u001b[1mStep\u001b[0m                                                                           \n",
       " \u001b[99m7920\u001b[0m                                                                           "
      ]
     },
     "metadata": {},
     "output_type": "display_data"
    },
    {
     "data": {
      "application/vnd.jupyter.widget-view+json": {
       "model_id": "dfb9093a2ca14fd6971093e822d558ca",
       "version_major": 2,
       "version_minor": 0
      },
      "text/plain": [
       "IpythonBar(children=(HTML(value='  0.0%'), FloatProgress(value=0.0)))"
      ]
     },
     "metadata": {},
     "output_type": "display_data"
    },
    {
     "data": {
      "text/plain": [
       "\u001b[K\u001b[F\u001b[K\u001b[F\u001b[K\u001b[F \u001b[1mIters\u001b[0m    \u001b[1mElapsed Time\u001b[0m       \u001b[1mSpeed\u001b[0m            \u001b[1mLoss_D\u001b[0m           \u001b[1mLoss_G\u001b[0m   \u001b[1mEpoch\u001b[0m   \n",
       " \u001b[99m24/\u001b[93m24\u001b[0m\u001b[0m  \u001b[99m00:00:00<\u001b[93m00:00:00\u001b[0m\u001b[0m  \u001b[99m45.41it/s\u001b[0m  \u001b[99m-7.125424961098875e+17\u001b[0m  \u001b[99m-27.2665\u001b[0m   \u001b[99m331\u001b[0m    \n",
       " \u001b[1mStep\u001b[0m                                                                           \n",
       " \u001b[99m7944\u001b[0m                                                                           "
      ]
     },
     "metadata": {},
     "output_type": "display_data"
    },
    {
     "data": {
      "application/vnd.jupyter.widget-view+json": {
       "model_id": "4a1bd999fd0d4ba59c7b3bccbd26508a",
       "version_major": 2,
       "version_minor": 0
      },
      "text/plain": [
       "IpythonBar(children=(HTML(value='  0.0%'), FloatProgress(value=0.0)))"
      ]
     },
     "metadata": {},
     "output_type": "display_data"
    },
    {
     "data": {
      "text/plain": [
       "\u001b[K\u001b[F\u001b[K\u001b[F\u001b[K\u001b[F \u001b[1mIters\u001b[0m    \u001b[1mElapsed Time\u001b[0m       \u001b[1mSpeed\u001b[0m           \u001b[1mLoss_D\u001b[0m           \u001b[1mLoss_G\u001b[0m   \u001b[1mEpoch\u001b[0m    \n",
       " \u001b[99m24/\u001b[93m24\u001b[0m\u001b[0m  \u001b[99m00:00:00<\u001b[93m00:00:00\u001b[0m\u001b[0m  \u001b[99m48.32it/s\u001b[0m  \u001b[99m-5.13594800595796e+17\u001b[0m  \u001b[99m-26.7835\u001b[0m   \u001b[99m332\u001b[0m     \n",
       " \u001b[1mStep\u001b[0m                                                                           \n",
       " \u001b[99m7968\u001b[0m                                                                           "
      ]
     },
     "metadata": {},
     "output_type": "display_data"
    },
    {
     "data": {
      "application/vnd.jupyter.widget-view+json": {
       "model_id": "5f39c27fb345450483ee867d147eea8a",
       "version_major": 2,
       "version_minor": 0
      },
      "text/plain": [
       "IpythonBar(children=(HTML(value='  0.0%'), FloatProgress(value=0.0)))"
      ]
     },
     "metadata": {},
     "output_type": "display_data"
    },
    {
     "data": {
      "text/plain": [
       "\u001b[K\u001b[F\u001b[K\u001b[F\u001b[K\u001b[F \u001b[1mIters\u001b[0m    \u001b[1mElapsed Time\u001b[0m       \u001b[1mSpeed\u001b[0m            \u001b[1mLoss_D\u001b[0m           \u001b[1mLoss_G\u001b[0m   \u001b[1mEpoch\u001b[0m   \n",
       " \u001b[99m24/\u001b[93m24\u001b[0m\u001b[0m  \u001b[99m00:00:00<\u001b[93m00:00:00\u001b[0m\u001b[0m  \u001b[99m48.38it/s\u001b[0m  \u001b[99m-4.9101756626999706e+17\u001b[0m  \u001b[99m-26.928\u001b[0m   \u001b[99m333\u001b[0m    \n",
       " \u001b[1mStep\u001b[0m                                                                           \n",
       " \u001b[99m7992\u001b[0m                                                                           "
      ]
     },
     "metadata": {},
     "output_type": "display_data"
    },
    {
     "data": {
      "application/vnd.jupyter.widget-view+json": {
       "model_id": "d8e7c82179974cb088aa9605daca2da6",
       "version_major": 2,
       "version_minor": 0
      },
      "text/plain": [
       "IpythonBar(children=(HTML(value='  0.0%'), FloatProgress(value=0.0)))"
      ]
     },
     "metadata": {},
     "output_type": "display_data"
    },
    {
     "data": {
      "text/plain": [
       "\u001b[K\u001b[F\u001b[K\u001b[F\u001b[K\u001b[F \u001b[1mIters\u001b[0m    \u001b[1mElapsed Time\u001b[0m       \u001b[1mSpeed\u001b[0m            \u001b[1mLoss_D\u001b[0m          \u001b[1mLoss_G\u001b[0m   \u001b[1mEpoch\u001b[0m    \n",
       " \u001b[99m24/\u001b[93m24\u001b[0m\u001b[0m  \u001b[99m00:00:00<\u001b[93m00:00:00\u001b[0m\u001b[0m  \u001b[99m48.46it/s\u001b[0m  \u001b[99m-7.437372902573343e+17\u001b[0m  \u001b[99m-26.982\u001b[0m   \u001b[99m334\u001b[0m     \n",
       " \u001b[1mStep\u001b[0m                                                                           \n",
       " \u001b[99m8016\u001b[0m                                                                           "
      ]
     },
     "metadata": {},
     "output_type": "display_data"
    },
    {
     "data": {
      "application/vnd.jupyter.widget-view+json": {
       "model_id": "0f276665823d4504a5f78c4929005627",
       "version_major": 2,
       "version_minor": 0
      },
      "text/plain": [
       "IpythonBar(children=(HTML(value='  0.0%'), FloatProgress(value=0.0)))"
      ]
     },
     "metadata": {},
     "output_type": "display_data"
    },
    {
     "data": {
      "text/plain": [
       "\u001b[K\u001b[F\u001b[K\u001b[F\u001b[K\u001b[F \u001b[1mIters\u001b[0m    \u001b[1mElapsed Time\u001b[0m       \u001b[1mSpeed\u001b[0m            \u001b[1mLoss_D\u001b[0m           \u001b[1mLoss_G\u001b[0m   \u001b[1mEpoch\u001b[0m   \n",
       " \u001b[99m24/\u001b[93m24\u001b[0m\u001b[0m  \u001b[99m00:00:00<\u001b[93m00:00:00\u001b[0m\u001b[0m  \u001b[99m41.87it/s\u001b[0m  \u001b[99m-5.844186738678825e+17\u001b[0m  \u001b[99m-27.1419\u001b[0m   \u001b[99m335\u001b[0m    \n",
       " \u001b[1mStep\u001b[0m                                                                           \n",
       " \u001b[99m8040\u001b[0m                                                                           "
      ]
     },
     "metadata": {},
     "output_type": "display_data"
    },
    {
     "data": {
      "application/vnd.jupyter.widget-view+json": {
       "model_id": "1268bd71a2c74ee69ff4c0025c030f18",
       "version_major": 2,
       "version_minor": 0
      },
      "text/plain": [
       "IpythonBar(children=(HTML(value='  0.0%'), FloatProgress(value=0.0)))"
      ]
     },
     "metadata": {},
     "output_type": "display_data"
    },
    {
     "data": {
      "text/plain": [
       "\u001b[K\u001b[F\u001b[K\u001b[F\u001b[K\u001b[F \u001b[1mIters\u001b[0m    \u001b[1mElapsed Time\u001b[0m       \u001b[1mSpeed\u001b[0m            \u001b[1mLoss_D\u001b[0m           \u001b[1mLoss_G\u001b[0m   \u001b[1mEpoch\u001b[0m   \n",
       " \u001b[99m24/\u001b[93m24\u001b[0m\u001b[0m  \u001b[99m00:00:00<\u001b[93m00:00:00\u001b[0m\u001b[0m  \u001b[99m45.15it/s\u001b[0m  \u001b[99m-5.923683490951332e+17\u001b[0m  \u001b[99m-27.0555\u001b[0m   \u001b[99m336\u001b[0m    \n",
       " \u001b[1mStep\u001b[0m                                                                           \n",
       " \u001b[99m8064\u001b[0m                                                                           "
      ]
     },
     "metadata": {},
     "output_type": "display_data"
    },
    {
     "data": {
      "application/vnd.jupyter.widget-view+json": {
       "model_id": "1b248f9b2fe849c0846545fbe4d08371",
       "version_major": 2,
       "version_minor": 0
      },
      "text/plain": [
       "IpythonBar(children=(HTML(value='  0.0%'), FloatProgress(value=0.0)))"
      ]
     },
     "metadata": {},
     "output_type": "display_data"
    },
    {
     "data": {
      "text/plain": [
       "\u001b[K\u001b[F\u001b[K\u001b[F\u001b[K\u001b[F \u001b[1mIters\u001b[0m    \u001b[1mElapsed Time\u001b[0m       \u001b[1mSpeed\u001b[0m            \u001b[1mLoss_D\u001b[0m           \u001b[1mLoss_G\u001b[0m   \u001b[1mEpoch\u001b[0m   \n",
       " \u001b[99m24/\u001b[93m24\u001b[0m\u001b[0m  \u001b[99m00:00:00<\u001b[93m00:00:00\u001b[0m\u001b[0m  \u001b[99m48.32it/s\u001b[0m  \u001b[99m-6.976544214750331e+17\u001b[0m  \u001b[99m-27.0009\u001b[0m   \u001b[99m337\u001b[0m    \n",
       " \u001b[1mStep\u001b[0m                                                                           \n",
       " \u001b[99m8088\u001b[0m                                                                           "
      ]
     },
     "metadata": {},
     "output_type": "display_data"
    },
    {
     "data": {
      "application/vnd.jupyter.widget-view+json": {
       "model_id": "ae0078b82f4f4b56abb0a3b0745410b6",
       "version_major": 2,
       "version_minor": 0
      },
      "text/plain": [
       "IpythonBar(children=(HTML(value='  0.0%'), FloatProgress(value=0.0)))"
      ]
     },
     "metadata": {},
     "output_type": "display_data"
    },
    {
     "data": {
      "text/plain": [
       "\u001b[K\u001b[F\u001b[K\u001b[F\u001b[K\u001b[F \u001b[1mIters\u001b[0m    \u001b[1mElapsed Time\u001b[0m       \u001b[1mSpeed\u001b[0m            \u001b[1mLoss_D\u001b[0m           \u001b[1mLoss_G\u001b[0m   \u001b[1mEpoch\u001b[0m   \n",
       " \u001b[99m24/\u001b[93m24\u001b[0m\u001b[0m  \u001b[99m00:00:00<\u001b[93m00:00:00\u001b[0m\u001b[0m  \u001b[99m47.96it/s\u001b[0m  \u001b[99m-6.202516890976256e+17\u001b[0m  \u001b[99m-27.6512\u001b[0m   \u001b[99m338\u001b[0m    \n",
       " \u001b[1mStep\u001b[0m                                                                           \n",
       " \u001b[99m8112\u001b[0m                                                                           "
      ]
     },
     "metadata": {},
     "output_type": "display_data"
    },
    {
     "data": {
      "application/vnd.jupyter.widget-view+json": {
       "model_id": "06cc8ca63fc6415da9a0cf4ccab5af2f",
       "version_major": 2,
       "version_minor": 0
      },
      "text/plain": [
       "IpythonBar(children=(HTML(value='  0.0%'), FloatProgress(value=0.0)))"
      ]
     },
     "metadata": {},
     "output_type": "display_data"
    },
    {
     "data": {
      "text/plain": [
       "\u001b[K\u001b[F\u001b[K\u001b[F\u001b[K\u001b[F \u001b[1mIters\u001b[0m    \u001b[1mElapsed Time\u001b[0m       \u001b[1mSpeed\u001b[0m            \u001b[1mLoss_D\u001b[0m           \u001b[1mLoss_G\u001b[0m   \u001b[1mEpoch\u001b[0m   \n",
       " \u001b[99m24/\u001b[93m24\u001b[0m\u001b[0m  \u001b[99m00:00:00<\u001b[93m00:00:00\u001b[0m\u001b[0m  \u001b[99m48.33it/s\u001b[0m  \u001b[99m-5.093164290534277e+17\u001b[0m  \u001b[99m-26.9866\u001b[0m   \u001b[99m339\u001b[0m    \n",
       " \u001b[1mStep\u001b[0m                                                                           \n",
       " \u001b[99m8136\u001b[0m                                                                           "
      ]
     },
     "metadata": {},
     "output_type": "display_data"
    },
    {
     "data": {
      "application/vnd.jupyter.widget-view+json": {
       "model_id": "c600c0b137ab420a80f60a1c00e5ffb6",
       "version_major": 2,
       "version_minor": 0
      },
      "text/plain": [
       "IpythonBar(children=(HTML(value='  0.0%'), FloatProgress(value=0.0)))"
      ]
     },
     "metadata": {},
     "output_type": "display_data"
    },
    {
     "data": {
      "text/plain": [
       "\u001b[K\u001b[F\u001b[K\u001b[F\u001b[K\u001b[F \u001b[1mIters\u001b[0m    \u001b[1mElapsed Time\u001b[0m       \u001b[1mSpeed\u001b[0m           \u001b[1mLoss_D\u001b[0m           \u001b[1mLoss_G\u001b[0m   \u001b[1mEpoch\u001b[0m    \n",
       " \u001b[99m24/\u001b[93m24\u001b[0m\u001b[0m  \u001b[99m00:00:00<\u001b[93m00:00:00\u001b[0m\u001b[0m  \u001b[99m40.67it/s\u001b[0m  \u001b[99m-6.28066880308904e+17\u001b[0m  \u001b[99m-27.2212\u001b[0m   \u001b[99m340\u001b[0m     \n",
       " \u001b[1mStep\u001b[0m                                                                           \n",
       " \u001b[99m8160\u001b[0m                                                                           "
      ]
     },
     "metadata": {},
     "output_type": "display_data"
    },
    {
     "data": {
      "application/vnd.jupyter.widget-view+json": {
       "model_id": "e10a50925d5d4af99d0b080191a9ebbe",
       "version_major": 2,
       "version_minor": 0
      },
      "text/plain": [
       "IpythonBar(children=(HTML(value='  0.0%'), FloatProgress(value=0.0)))"
      ]
     },
     "metadata": {},
     "output_type": "display_data"
    },
    {
     "data": {
      "text/plain": [
       "\u001b[K\u001b[F\u001b[K\u001b[F\u001b[K\u001b[F \u001b[1mIters\u001b[0m    \u001b[1mElapsed Time\u001b[0m       \u001b[1mSpeed\u001b[0m          \u001b[1mLoss_D\u001b[0m          \u001b[1mLoss_G\u001b[0m   \u001b[1mEpoch\u001b[0m      \n",
       " \u001b[99m24/\u001b[93m24\u001b[0m\u001b[0m  \u001b[99m00:00:00<\u001b[93m00:00:00\u001b[0m\u001b[0m  \u001b[99m46.89it/s\u001b[0m  \u001b[99m-5.969608717254e+17\u001b[0m  \u001b[99m-26.9227\u001b[0m   \u001b[99m341\u001b[0m       \n",
       " \u001b[1mStep\u001b[0m                                                                           \n",
       " \u001b[99m8184\u001b[0m                                                                           "
      ]
     },
     "metadata": {},
     "output_type": "display_data"
    },
    {
     "data": {
      "application/vnd.jupyter.widget-view+json": {
       "model_id": "55eb4d85277c4bde845d946e98d56f09",
       "version_major": 2,
       "version_minor": 0
      },
      "text/plain": [
       "IpythonBar(children=(HTML(value='  0.0%'), FloatProgress(value=0.0)))"
      ]
     },
     "metadata": {},
     "output_type": "display_data"
    },
    {
     "data": {
      "text/plain": [
       "\u001b[K\u001b[F\u001b[K\u001b[F\u001b[K\u001b[F \u001b[1mIters\u001b[0m    \u001b[1mElapsed Time\u001b[0m       \u001b[1mSpeed\u001b[0m            \u001b[1mLoss_D\u001b[0m           \u001b[1mLoss_G\u001b[0m   \u001b[1mEpoch\u001b[0m   \n",
       " \u001b[99m24/\u001b[93m24\u001b[0m\u001b[0m  \u001b[99m00:00:00<\u001b[93m00:00:00\u001b[0m\u001b[0m  \u001b[99m45.26it/s\u001b[0m  \u001b[99m-6.264418708425277e+17\u001b[0m  \u001b[99m-27.3276\u001b[0m   \u001b[99m342\u001b[0m    \n",
       " \u001b[1mStep\u001b[0m                                                                           \n",
       " \u001b[99m8208\u001b[0m                                                                           "
      ]
     },
     "metadata": {},
     "output_type": "display_data"
    },
    {
     "data": {
      "application/vnd.jupyter.widget-view+json": {
       "model_id": "0751cad555d24eed82e83f597b0a1628",
       "version_major": 2,
       "version_minor": 0
      },
      "text/plain": [
       "IpythonBar(children=(HTML(value='  0.0%'), FloatProgress(value=0.0)))"
      ]
     },
     "metadata": {},
     "output_type": "display_data"
    },
    {
     "data": {
      "text/plain": [
       "\u001b[K\u001b[F\u001b[K\u001b[F\u001b[K\u001b[F \u001b[1mIters\u001b[0m    \u001b[1mElapsed Time\u001b[0m       \u001b[1mSpeed\u001b[0m           \u001b[1mLoss_D\u001b[0m           \u001b[1mLoss_G\u001b[0m   \u001b[1mEpoch\u001b[0m    \n",
       " \u001b[99m24/\u001b[93m24\u001b[0m\u001b[0m  \u001b[99m00:00:00<\u001b[93m00:00:00\u001b[0m\u001b[0m  \u001b[99m48.47it/s\u001b[0m  \u001b[99m-5.98255615386583e+17\u001b[0m  \u001b[99m-27.1116\u001b[0m   \u001b[99m343\u001b[0m     \n",
       " \u001b[1mStep\u001b[0m                                                                           \n",
       " \u001b[99m8232\u001b[0m                                                                           "
      ]
     },
     "metadata": {},
     "output_type": "display_data"
    },
    {
     "data": {
      "application/vnd.jupyter.widget-view+json": {
       "model_id": "3cd3ad470f184860b82dcac95a9e937d",
       "version_major": 2,
       "version_minor": 0
      },
      "text/plain": [
       "IpythonBar(children=(HTML(value='  0.0%'), FloatProgress(value=0.0)))"
      ]
     },
     "metadata": {},
     "output_type": "display_data"
    },
    {
     "data": {
      "text/plain": [
       "\u001b[K\u001b[F\u001b[K\u001b[F\u001b[K\u001b[F \u001b[1mIters\u001b[0m    \u001b[1mElapsed Time\u001b[0m       \u001b[1mSpeed\u001b[0m            \u001b[1mLoss_D\u001b[0m           \u001b[1mLoss_G\u001b[0m   \u001b[1mEpoch\u001b[0m   \n",
       " \u001b[99m24/\u001b[93m24\u001b[0m\u001b[0m  \u001b[99m00:00:00<\u001b[93m00:00:00\u001b[0m\u001b[0m  \u001b[99m46.41it/s\u001b[0m  \u001b[99m-6.371171666755584e+17\u001b[0m  \u001b[99m-27.3052\u001b[0m   \u001b[99m344\u001b[0m    \n",
       " \u001b[1mStep\u001b[0m                                                                           \n",
       " \u001b[99m8256\u001b[0m                                                                           "
      ]
     },
     "metadata": {},
     "output_type": "display_data"
    },
    {
     "data": {
      "application/vnd.jupyter.widget-view+json": {
       "model_id": "504de2c7b9a84105a97e494e72d06e8a",
       "version_major": 2,
       "version_minor": 0
      },
      "text/plain": [
       "IpythonBar(children=(HTML(value='  0.0%'), FloatProgress(value=0.0)))"
      ]
     },
     "metadata": {},
     "output_type": "display_data"
    },
    {
     "data": {
      "text/plain": [
       "\u001b[K\u001b[F\u001b[K\u001b[F\u001b[K\u001b[F \u001b[1mIters\u001b[0m    \u001b[1mElapsed Time\u001b[0m       \u001b[1mSpeed\u001b[0m            \u001b[1mLoss_D\u001b[0m            \u001b[1mLoss_G\u001b[0m   \u001b[1mEpoch\u001b[0m  \n",
       " \u001b[99m24/\u001b[93m24\u001b[0m\u001b[0m  \u001b[99m00:00:00<\u001b[93m00:00:00\u001b[0m\u001b[0m  \u001b[99m41.25it/s\u001b[0m  \u001b[99m-5.3727199322596966e+17\u001b[0m  \u001b[99m-27.1795\u001b[0m   \u001b[99m345\u001b[0m   \n",
       " \u001b[1mStep\u001b[0m                                                                           \n",
       " \u001b[99m8280\u001b[0m                                                                           "
      ]
     },
     "metadata": {},
     "output_type": "display_data"
    },
    {
     "data": {
      "application/vnd.jupyter.widget-view+json": {
       "model_id": "892d3a8ef55549d9b3da0a391f74cc25",
       "version_major": 2,
       "version_minor": 0
      },
      "text/plain": [
       "IpythonBar(children=(HTML(value='  0.0%'), FloatProgress(value=0.0)))"
      ]
     },
     "metadata": {},
     "output_type": "display_data"
    },
    {
     "data": {
      "text/plain": [
       "\u001b[K\u001b[F\u001b[K\u001b[F\u001b[K\u001b[F \u001b[1mIters\u001b[0m    \u001b[1mElapsed Time\u001b[0m       \u001b[1mSpeed\u001b[0m            \u001b[1mLoss_D\u001b[0m           \u001b[1mLoss_G\u001b[0m   \u001b[1mEpoch\u001b[0m   \n",
       " \u001b[99m24/\u001b[93m24\u001b[0m\u001b[0m  \u001b[99m00:00:00<\u001b[93m00:00:00\u001b[0m\u001b[0m  \u001b[99m47.27it/s\u001b[0m  \u001b[99m-5.677680820937032e+17\u001b[0m  \u001b[99m-27.8078\u001b[0m   \u001b[99m346\u001b[0m    \n",
       " \u001b[1mStep\u001b[0m                                                                           \n",
       " \u001b[99m8304\u001b[0m                                                                           "
      ]
     },
     "metadata": {},
     "output_type": "display_data"
    },
    {
     "data": {
      "application/vnd.jupyter.widget-view+json": {
       "model_id": "829da25f6d8744da9975c68ca81f2c6e",
       "version_major": 2,
       "version_minor": 0
      },
      "text/plain": [
       "IpythonBar(children=(HTML(value='  0.0%'), FloatProgress(value=0.0)))"
      ]
     },
     "metadata": {},
     "output_type": "display_data"
    },
    {
     "data": {
      "text/plain": [
       "\u001b[K\u001b[F\u001b[K\u001b[F\u001b[K\u001b[F \u001b[1mIters\u001b[0m    \u001b[1mElapsed Time\u001b[0m       \u001b[1mSpeed\u001b[0m            \u001b[1mLoss_D\u001b[0m           \u001b[1mLoss_G\u001b[0m   \u001b[1mEpoch\u001b[0m   \n",
       " \u001b[99m24/\u001b[93m24\u001b[0m\u001b[0m  \u001b[99m00:00:00<\u001b[93m00:00:00\u001b[0m\u001b[0m  \u001b[99m47.28it/s\u001b[0m  \u001b[99m-6.038054003277824e+17\u001b[0m  \u001b[99m-27.7186\u001b[0m   \u001b[99m347\u001b[0m    \n",
       " \u001b[1mStep\u001b[0m                                                                           \n",
       " \u001b[99m8328\u001b[0m                                                                           "
      ]
     },
     "metadata": {},
     "output_type": "display_data"
    },
    {
     "data": {
      "application/vnd.jupyter.widget-view+json": {
       "model_id": "a660ced9b8e4417ea1b26f504c9c7df9",
       "version_major": 2,
       "version_minor": 0
      },
      "text/plain": [
       "IpythonBar(children=(HTML(value='  0.0%'), FloatProgress(value=0.0)))"
      ]
     },
     "metadata": {},
     "output_type": "display_data"
    },
    {
     "data": {
      "text/plain": [
       "\u001b[K\u001b[F\u001b[K\u001b[F\u001b[K\u001b[F \u001b[1mIters\u001b[0m    \u001b[1mElapsed Time\u001b[0m       \u001b[1mSpeed\u001b[0m            \u001b[1mLoss_D\u001b[0m           \u001b[1mLoss_G\u001b[0m   \u001b[1mEpoch\u001b[0m   \n",
       " \u001b[99m24/\u001b[93m24\u001b[0m\u001b[0m  \u001b[99m00:00:00<\u001b[93m00:00:00\u001b[0m\u001b[0m  \u001b[99m46.74it/s\u001b[0m  \u001b[99m-5.964792856324342e+17\u001b[0m  \u001b[99m-27.5559\u001b[0m   \u001b[99m348\u001b[0m    \n",
       " \u001b[1mStep\u001b[0m                                                                           \n",
       " \u001b[99m8352\u001b[0m                                                                           "
      ]
     },
     "metadata": {},
     "output_type": "display_data"
    },
    {
     "data": {
      "application/vnd.jupyter.widget-view+json": {
       "model_id": "3348fed142fc4e2cb158a9375a43dea2",
       "version_major": 2,
       "version_minor": 0
      },
      "text/plain": [
       "IpythonBar(children=(HTML(value='  0.0%'), FloatProgress(value=0.0)))"
      ]
     },
     "metadata": {},
     "output_type": "display_data"
    },
    {
     "data": {
      "text/plain": [
       "\u001b[K\u001b[F\u001b[K\u001b[F\u001b[K\u001b[F \u001b[1mIters\u001b[0m    \u001b[1mElapsed Time\u001b[0m       \u001b[1mSpeed\u001b[0m            \u001b[1mLoss_D\u001b[0m            \u001b[1mLoss_G\u001b[0m   \u001b[1mEpoch\u001b[0m  \n",
       " \u001b[99m24/\u001b[93m24\u001b[0m\u001b[0m  \u001b[99m00:00:00<\u001b[93m00:00:00\u001b[0m\u001b[0m  \u001b[99m48.47it/s\u001b[0m  \u001b[99m-4.9161178358533325e+17\u001b[0m  \u001b[99m-27.9036\u001b[0m   \u001b[99m349\u001b[0m   \n",
       " \u001b[1mStep\u001b[0m                                                                           \n",
       " \u001b[99m8376\u001b[0m                                                                           "
      ]
     },
     "metadata": {},
     "output_type": "display_data"
    },
    {
     "data": {
      "application/vnd.jupyter.widget-view+json": {
       "model_id": "621d34a711a44541b27b7c214866d49b",
       "version_major": 2,
       "version_minor": 0
      },
      "text/plain": [
       "IpythonBar(children=(HTML(value='  0.0%'), FloatProgress(value=0.0)))"
      ]
     },
     "metadata": {},
     "output_type": "display_data"
    },
    {
     "data": {
      "text/plain": [
       "\u001b[K\u001b[F\u001b[K\u001b[F\u001b[K\u001b[F \u001b[1mIters\u001b[0m    \u001b[1mElapsed Time\u001b[0m       \u001b[1mSpeed\u001b[0m            \u001b[1mLoss_D\u001b[0m           \u001b[1mLoss_G\u001b[0m   \u001b[1mEpoch\u001b[0m   \n",
       " \u001b[99m24/\u001b[93m24\u001b[0m\u001b[0m  \u001b[99m00:00:00<\u001b[93m00:00:00\u001b[0m\u001b[0m  \u001b[99m41.78it/s\u001b[0m  \u001b[99m-5.5977528539480064e+17\u001b[0m  \u001b[99m-27.654\u001b[0m   \u001b[99m350\u001b[0m    \n",
       " \u001b[1mStep\u001b[0m                                                                           \n",
       " \u001b[99m8400\u001b[0m                                                                           "
      ]
     },
     "metadata": {},
     "output_type": "display_data"
    },
    {
     "data": {
      "application/vnd.jupyter.widget-view+json": {
       "model_id": "a79d37cc094d4fe398dbe8ee820b083a",
       "version_major": 2,
       "version_minor": 0
      },
      "text/plain": [
       "IpythonBar(children=(HTML(value='  0.0%'), FloatProgress(value=0.0)))"
      ]
     },
     "metadata": {},
     "output_type": "display_data"
    },
    {
     "data": {
      "text/plain": [
       "\u001b[K\u001b[F\u001b[K\u001b[F\u001b[K\u001b[F \u001b[1mIters\u001b[0m    \u001b[1mElapsed Time\u001b[0m       \u001b[1mSpeed\u001b[0m            \u001b[1mLoss_D\u001b[0m          \u001b[1mLoss_G\u001b[0m   \u001b[1mEpoch\u001b[0m    \n",
       " \u001b[99m24/\u001b[93m24\u001b[0m\u001b[0m  \u001b[99m00:00:00<\u001b[93m00:00:00\u001b[0m\u001b[0m  \u001b[99m48.37it/s\u001b[0m  \u001b[99m-6.682009101485998e+17\u001b[0m  \u001b[99m-27.098\u001b[0m   \u001b[99m351\u001b[0m     \n",
       " \u001b[1mStep\u001b[0m                                                                           \n",
       " \u001b[99m8424\u001b[0m                                                                           "
      ]
     },
     "metadata": {},
     "output_type": "display_data"
    },
    {
     "data": {
      "application/vnd.jupyter.widget-view+json": {
       "model_id": "caf874cda8c84e5a96b5aaa86e55128c",
       "version_major": 2,
       "version_minor": 0
      },
      "text/plain": [
       "IpythonBar(children=(HTML(value='  0.0%'), FloatProgress(value=0.0)))"
      ]
     },
     "metadata": {},
     "output_type": "display_data"
    },
    {
     "data": {
      "text/plain": [
       "\u001b[K\u001b[F\u001b[K\u001b[F\u001b[K\u001b[F \u001b[1mIters\u001b[0m    \u001b[1mElapsed Time\u001b[0m       \u001b[1mSpeed\u001b[0m            \u001b[1mLoss_D\u001b[0m           \u001b[1mLoss_G\u001b[0m   \u001b[1mEpoch\u001b[0m   \n",
       " \u001b[99m24/\u001b[93m24\u001b[0m\u001b[0m  \u001b[99m00:00:00<\u001b[93m00:00:00\u001b[0m\u001b[0m  \u001b[99m48.76it/s\u001b[0m  \u001b[99m-5.783953430124954e+17\u001b[0m  \u001b[99m-27.6479\u001b[0m   \u001b[99m352\u001b[0m    \n",
       " \u001b[1mStep\u001b[0m                                                                           \n",
       " \u001b[99m8448\u001b[0m                                                                           "
      ]
     },
     "metadata": {},
     "output_type": "display_data"
    },
    {
     "data": {
      "application/vnd.jupyter.widget-view+json": {
       "model_id": "974e6f70fae94ba7b0aa6d241f79dbd8",
       "version_major": 2,
       "version_minor": 0
      },
      "text/plain": [
       "IpythonBar(children=(HTML(value='  0.0%'), FloatProgress(value=0.0)))"
      ]
     },
     "metadata": {},
     "output_type": "display_data"
    },
    {
     "data": {
      "text/plain": [
       "\u001b[K\u001b[F\u001b[K\u001b[F\u001b[K\u001b[F \u001b[1mIters\u001b[0m    \u001b[1mElapsed Time\u001b[0m       \u001b[1mSpeed\u001b[0m            \u001b[1mLoss_D\u001b[0m           \u001b[1mLoss_G\u001b[0m   \u001b[1mEpoch\u001b[0m   \n",
       " \u001b[99m24/\u001b[93m24\u001b[0m\u001b[0m  \u001b[99m00:00:00<\u001b[93m00:00:00\u001b[0m\u001b[0m  \u001b[99m48.04it/s\u001b[0m  \u001b[99m-6.959877680057549e+17\u001b[0m  \u001b[99m-27.2889\u001b[0m   \u001b[99m353\u001b[0m    \n",
       " \u001b[1mStep\u001b[0m                                                                           \n",
       " \u001b[99m8472\u001b[0m                                                                           "
      ]
     },
     "metadata": {},
     "output_type": "display_data"
    },
    {
     "data": {
      "application/vnd.jupyter.widget-view+json": {
       "model_id": "e4c8b82743c84afa9f44a28f3eca221a",
       "version_major": 2,
       "version_minor": 0
      },
      "text/plain": [
       "IpythonBar(children=(HTML(value='  0.0%'), FloatProgress(value=0.0)))"
      ]
     },
     "metadata": {},
     "output_type": "display_data"
    },
    {
     "data": {
      "text/plain": [
       "\u001b[K\u001b[F\u001b[K\u001b[F\u001b[K\u001b[F \u001b[1mIters\u001b[0m    \u001b[1mElapsed Time\u001b[0m       \u001b[1mSpeed\u001b[0m           \u001b[1mLoss_D\u001b[0m          \u001b[1mLoss_G\u001b[0m   \u001b[1mEpoch\u001b[0m     \n",
       " \u001b[99m24/\u001b[93m24\u001b[0m\u001b[0m  \u001b[99m00:00:00<\u001b[93m00:00:00\u001b[0m\u001b[0m  \u001b[99m49.58it/s\u001b[0m  \u001b[99m-7.24053901816365e+17\u001b[0m  \u001b[99m-27.915\u001b[0m   \u001b[99m354\u001b[0m      \n",
       " \u001b[1mStep\u001b[0m                                                                           \n",
       " \u001b[99m8496\u001b[0m                                                                           "
      ]
     },
     "metadata": {},
     "output_type": "display_data"
    },
    {
     "data": {
      "application/vnd.jupyter.widget-view+json": {
       "model_id": "4fdc017f721147dba1bae14ba6f0dadf",
       "version_major": 2,
       "version_minor": 0
      },
      "text/plain": [
       "IpythonBar(children=(HTML(value='  0.0%'), FloatProgress(value=0.0)))"
      ]
     },
     "metadata": {},
     "output_type": "display_data"
    },
    {
     "data": {
      "text/plain": [
       "\u001b[K\u001b[F\u001b[K\u001b[F\u001b[K\u001b[F \u001b[1mIters\u001b[0m    \u001b[1mElapsed Time\u001b[0m       \u001b[1mSpeed\u001b[0m            \u001b[1mLoss_D\u001b[0m           \u001b[1mLoss_G\u001b[0m   \u001b[1mEpoch\u001b[0m   \n",
       " \u001b[99m24/\u001b[93m24\u001b[0m\u001b[0m  \u001b[99m00:00:00<\u001b[93m00:00:00\u001b[0m\u001b[0m  \u001b[99m39.01it/s\u001b[0m  \u001b[99m-6.097665400567235e+17\u001b[0m  \u001b[99m-27.6195\u001b[0m   \u001b[99m355\u001b[0m    \n",
       " \u001b[1mStep\u001b[0m                                                                           \n",
       " \u001b[99m8520\u001b[0m                                                                           "
      ]
     },
     "metadata": {},
     "output_type": "display_data"
    },
    {
     "data": {
      "application/vnd.jupyter.widget-view+json": {
       "model_id": "c1dce00375ef49b6af0a9349244fe121",
       "version_major": 2,
       "version_minor": 0
      },
      "text/plain": [
       "IpythonBar(children=(HTML(value='  0.0%'), FloatProgress(value=0.0)))"
      ]
     },
     "metadata": {},
     "output_type": "display_data"
    },
    {
     "data": {
      "text/plain": [
       "\u001b[K\u001b[F\u001b[K\u001b[F\u001b[K\u001b[F \u001b[1mIters\u001b[0m    \u001b[1mElapsed Time\u001b[0m       \u001b[1mSpeed\u001b[0m            \u001b[1mLoss_D\u001b[0m           \u001b[1mLoss_G\u001b[0m   \u001b[1mEpoch\u001b[0m   \n",
       " \u001b[99m24/\u001b[93m24\u001b[0m\u001b[0m  \u001b[99m00:00:00<\u001b[93m00:00:00\u001b[0m\u001b[0m  \u001b[99m47.82it/s\u001b[0m  \u001b[99m-6.576898538649682e+17\u001b[0m  \u001b[99m-28.5234\u001b[0m   \u001b[99m356\u001b[0m    \n",
       " \u001b[1mStep\u001b[0m                                                                           \n",
       " \u001b[99m8544\u001b[0m                                                                           "
      ]
     },
     "metadata": {},
     "output_type": "display_data"
    },
    {
     "data": {
      "application/vnd.jupyter.widget-view+json": {
       "model_id": "f16412376ada4dc7b93b5994baf4c83d",
       "version_major": 2,
       "version_minor": 0
      },
      "text/plain": [
       "IpythonBar(children=(HTML(value='  0.0%'), FloatProgress(value=0.0)))"
      ]
     },
     "metadata": {},
     "output_type": "display_data"
    },
    {
     "data": {
      "text/plain": [
       "\u001b[K\u001b[F\u001b[K\u001b[F\u001b[K\u001b[F \u001b[1mIters\u001b[0m    \u001b[1mElapsed Time\u001b[0m       \u001b[1mSpeed\u001b[0m            \u001b[1mLoss_D\u001b[0m           \u001b[1mLoss_G\u001b[0m   \u001b[1mEpoch\u001b[0m   \n",
       " \u001b[99m24/\u001b[93m24\u001b[0m\u001b[0m  \u001b[99m00:00:00<\u001b[93m00:00:00\u001b[0m\u001b[0m  \u001b[99m48.35it/s\u001b[0m  \u001b[99m-5.658306738860851e+17\u001b[0m  \u001b[99m-26.6857\u001b[0m   \u001b[99m357\u001b[0m    \n",
       " \u001b[1mStep\u001b[0m                                                                           \n",
       " \u001b[99m8568\u001b[0m                                                                           "
      ]
     },
     "metadata": {},
     "output_type": "display_data"
    },
    {
     "data": {
      "application/vnd.jupyter.widget-view+json": {
       "model_id": "8da7152e9e61477b80be524f568c65f9",
       "version_major": 2,
       "version_minor": 0
      },
      "text/plain": [
       "IpythonBar(children=(HTML(value='  0.0%'), FloatProgress(value=0.0)))"
      ]
     },
     "metadata": {},
     "output_type": "display_data"
    },
    {
     "data": {
      "text/plain": [
       "\u001b[K\u001b[F\u001b[K\u001b[F\u001b[K\u001b[F \u001b[1mIters\u001b[0m    \u001b[1mElapsed Time\u001b[0m       \u001b[1mSpeed\u001b[0m            \u001b[1mLoss_D\u001b[0m           \u001b[1mLoss_G\u001b[0m   \u001b[1mEpoch\u001b[0m   \n",
       " \u001b[99m24/\u001b[93m24\u001b[0m\u001b[0m  \u001b[99m00:00:00<\u001b[93m00:00:00\u001b[0m\u001b[0m  \u001b[99m47.97it/s\u001b[0m  \u001b[99m-4.596591166887035e+17\u001b[0m  \u001b[99m-27.3323\u001b[0m   \u001b[99m358\u001b[0m    \n",
       " \u001b[1mStep\u001b[0m                                                                           \n",
       " \u001b[99m8592\u001b[0m                                                                           "
      ]
     },
     "metadata": {},
     "output_type": "display_data"
    },
    {
     "data": {
      "application/vnd.jupyter.widget-view+json": {
       "model_id": "44697a0ab7af4cbaaea3fc355372e5b2",
       "version_major": 2,
       "version_minor": 0
      },
      "text/plain": [
       "IpythonBar(children=(HTML(value='  0.0%'), FloatProgress(value=0.0)))"
      ]
     },
     "metadata": {},
     "output_type": "display_data"
    },
    {
     "data": {
      "text/plain": [
       "\u001b[K\u001b[F\u001b[K\u001b[F\u001b[K\u001b[F \u001b[1mIters\u001b[0m    \u001b[1mElapsed Time\u001b[0m       \u001b[1mSpeed\u001b[0m            \u001b[1mLoss_D\u001b[0m           \u001b[1mLoss_G\u001b[0m   \u001b[1mEpoch\u001b[0m   \n",
       " \u001b[99m24/\u001b[93m24\u001b[0m\u001b[0m  \u001b[99m00:00:00<\u001b[93m00:00:00\u001b[0m\u001b[0m  \u001b[99m47.20it/s\u001b[0m  \u001b[99m-6.046489319047168e+17\u001b[0m  \u001b[99m-27.7267\u001b[0m   \u001b[99m359\u001b[0m    \n",
       " \u001b[1mStep\u001b[0m                                                                           \n",
       " \u001b[99m8616\u001b[0m                                                                           "
      ]
     },
     "metadata": {},
     "output_type": "display_data"
    },
    {
     "data": {
      "application/vnd.jupyter.widget-view+json": {
       "model_id": "8e747790614e40e2996b4295a909ddcb",
       "version_major": 2,
       "version_minor": 0
      },
      "text/plain": [
       "IpythonBar(children=(HTML(value='  0.0%'), FloatProgress(value=0.0)))"
      ]
     },
     "metadata": {},
     "output_type": "display_data"
    },
    {
     "data": {
      "text/plain": [
       "\u001b[K\u001b[F\u001b[K\u001b[F\u001b[K\u001b[F \u001b[1mIters\u001b[0m    \u001b[1mElapsed Time\u001b[0m       \u001b[1mSpeed\u001b[0m            \u001b[1mLoss_D\u001b[0m           \u001b[1mLoss_G\u001b[0m   \u001b[1mEpoch\u001b[0m   \n",
       " \u001b[99m24/\u001b[93m24\u001b[0m\u001b[0m  \u001b[99m00:00:00<\u001b[93m00:00:00\u001b[0m\u001b[0m  \u001b[99m41.88it/s\u001b[0m  \u001b[99m-6.703533415989248e+17\u001b[0m  \u001b[99m-27.3793\u001b[0m   \u001b[99m360\u001b[0m    \n",
       " \u001b[1mStep\u001b[0m                                                                           \n",
       " \u001b[99m8640\u001b[0m                                                                           "
      ]
     },
     "metadata": {},
     "output_type": "display_data"
    },
    {
     "data": {
      "application/vnd.jupyter.widget-view+json": {
       "model_id": "09925af786734e0e95e6705bcf479eb8",
       "version_major": 2,
       "version_minor": 0
      },
      "text/plain": [
       "IpythonBar(children=(HTML(value='  0.0%'), FloatProgress(value=0.0)))"
      ]
     },
     "metadata": {},
     "output_type": "display_data"
    },
    {
     "data": {
      "text/plain": [
       "\u001b[K\u001b[F\u001b[K\u001b[F\u001b[K\u001b[F \u001b[1mIters\u001b[0m    \u001b[1mElapsed Time\u001b[0m       \u001b[1mSpeed\u001b[0m            \u001b[1mLoss_D\u001b[0m           \u001b[1mLoss_G\u001b[0m   \u001b[1mEpoch\u001b[0m   \n",
       " \u001b[99m24/\u001b[93m24\u001b[0m\u001b[0m  \u001b[99m00:00:00<\u001b[93m00:00:00\u001b[0m\u001b[0m  \u001b[99m45.98it/s\u001b[0m  \u001b[99m-6.408583924280197e+17\u001b[0m  \u001b[99m-27.5336\u001b[0m   \u001b[99m361\u001b[0m    \n",
       " \u001b[1mStep\u001b[0m                                                                           \n",
       " \u001b[99m8664\u001b[0m                                                                           "
      ]
     },
     "metadata": {},
     "output_type": "display_data"
    },
    {
     "data": {
      "application/vnd.jupyter.widget-view+json": {
       "model_id": "a5a3e43e7b764015852c0191918f420d",
       "version_major": 2,
       "version_minor": 0
      },
      "text/plain": [
       "IpythonBar(children=(HTML(value='  0.0%'), FloatProgress(value=0.0)))"
      ]
     },
     "metadata": {},
     "output_type": "display_data"
    },
    {
     "data": {
      "text/plain": [
       "\u001b[K\u001b[F\u001b[K\u001b[F\u001b[K\u001b[F \u001b[1mIters\u001b[0m    \u001b[1mElapsed Time\u001b[0m       \u001b[1mSpeed\u001b[0m            \u001b[1mLoss_D\u001b[0m           \u001b[1mLoss_G\u001b[0m   \u001b[1mEpoch\u001b[0m   \n",
       " \u001b[99m24/\u001b[93m24\u001b[0m\u001b[0m  \u001b[99m00:00:00<\u001b[93m00:00:00\u001b[0m\u001b[0m  \u001b[99m47.63it/s\u001b[0m  \u001b[99m-6.298279543392174e+17\u001b[0m  \u001b[99m-27.5821\u001b[0m   \u001b[99m362\u001b[0m    \n",
       " \u001b[1mStep\u001b[0m                                                                           \n",
       " \u001b[99m8688\u001b[0m                                                                           "
      ]
     },
     "metadata": {},
     "output_type": "display_data"
    },
    {
     "data": {
      "application/vnd.jupyter.widget-view+json": {
       "model_id": "d56d94c267a04ed3a10d473a7744c849",
       "version_major": 2,
       "version_minor": 0
      },
      "text/plain": [
       "IpythonBar(children=(HTML(value='  0.0%'), FloatProgress(value=0.0)))"
      ]
     },
     "metadata": {},
     "output_type": "display_data"
    },
    {
     "data": {
      "text/plain": [
       "\u001b[K\u001b[F\u001b[K\u001b[F\u001b[K\u001b[F \u001b[1mIters\u001b[0m    \u001b[1mElapsed Time\u001b[0m       \u001b[1mSpeed\u001b[0m            \u001b[1mLoss_D\u001b[0m           \u001b[1mLoss_G\u001b[0m   \u001b[1mEpoch\u001b[0m   \n",
       " \u001b[99m24/\u001b[93m24\u001b[0m\u001b[0m  \u001b[99m00:00:00<\u001b[93m00:00:00\u001b[0m\u001b[0m  \u001b[99m48.02it/s\u001b[0m  \u001b[99m-5.855908219825684e+17\u001b[0m  \u001b[99m-28.1115\u001b[0m   \u001b[99m363\u001b[0m    \n",
       " \u001b[1mStep\u001b[0m                                                                           \n",
       " \u001b[99m8712\u001b[0m                                                                           "
      ]
     },
     "metadata": {},
     "output_type": "display_data"
    },
    {
     "data": {
      "application/vnd.jupyter.widget-view+json": {
       "model_id": "46ac90ff3b664bbca3b037150ab3a637",
       "version_major": 2,
       "version_minor": 0
      },
      "text/plain": [
       "IpythonBar(children=(HTML(value='  0.0%'), FloatProgress(value=0.0)))"
      ]
     },
     "metadata": {},
     "output_type": "display_data"
    },
    {
     "data": {
      "text/plain": [
       "\u001b[K\u001b[F\u001b[K\u001b[F\u001b[K\u001b[F \u001b[1mIters\u001b[0m    \u001b[1mElapsed Time\u001b[0m       \u001b[1mSpeed\u001b[0m            \u001b[1mLoss_D\u001b[0m           \u001b[1mLoss_G\u001b[0m   \u001b[1mEpoch\u001b[0m   \n",
       " \u001b[99m24/\u001b[93m24\u001b[0m\u001b[0m  \u001b[99m00:00:00<\u001b[93m00:00:00\u001b[0m\u001b[0m  \u001b[99m48.59it/s\u001b[0m  \u001b[99m-5.548990544048292e+17\u001b[0m  \u001b[99m-27.6778\u001b[0m   \u001b[99m364\u001b[0m    \n",
       " \u001b[1mStep\u001b[0m                                                                           \n",
       " \u001b[99m8736\u001b[0m                                                                           "
      ]
     },
     "metadata": {},
     "output_type": "display_data"
    },
    {
     "data": {
      "application/vnd.jupyter.widget-view+json": {
       "model_id": "23dc32e5b5da4596adefb630281bbae4",
       "version_major": 2,
       "version_minor": 0
      },
      "text/plain": [
       "IpythonBar(children=(HTML(value='  0.0%'), FloatProgress(value=0.0)))"
      ]
     },
     "metadata": {},
     "output_type": "display_data"
    },
    {
     "data": {
      "text/plain": [
       "\u001b[K\u001b[F\u001b[K\u001b[F\u001b[K\u001b[F \u001b[1mIters\u001b[0m    \u001b[1mElapsed Time\u001b[0m       \u001b[1mSpeed\u001b[0m            \u001b[1mLoss_D\u001b[0m           \u001b[1mLoss_G\u001b[0m   \u001b[1mEpoch\u001b[0m   \n",
       " \u001b[99m24/\u001b[93m24\u001b[0m\u001b[0m  \u001b[99m00:00:00<\u001b[93m00:00:00\u001b[0m\u001b[0m  \u001b[99m41.57it/s\u001b[0m  \u001b[99m-4.492429276427059e+17\u001b[0m  \u001b[99m-27.7825\u001b[0m   \u001b[99m365\u001b[0m    \n",
       " \u001b[1mStep\u001b[0m                                                                           \n",
       " \u001b[99m8760\u001b[0m                                                                           "
      ]
     },
     "metadata": {},
     "output_type": "display_data"
    },
    {
     "data": {
      "application/vnd.jupyter.widget-view+json": {
       "model_id": "d316ea52b6f94f4d88f53cc97902694e",
       "version_major": 2,
       "version_minor": 0
      },
      "text/plain": [
       "IpythonBar(children=(HTML(value='  0.0%'), FloatProgress(value=0.0)))"
      ]
     },
     "metadata": {},
     "output_type": "display_data"
    },
    {
     "data": {
      "text/plain": [
       "\u001b[K\u001b[F\u001b[K\u001b[F\u001b[K\u001b[F \u001b[1mIters\u001b[0m    \u001b[1mElapsed Time\u001b[0m       \u001b[1mSpeed\u001b[0m            \u001b[1mLoss_D\u001b[0m          \u001b[1mLoss_G\u001b[0m   \u001b[1mEpoch\u001b[0m    \n",
       " \u001b[99m24/\u001b[93m24\u001b[0m\u001b[0m  \u001b[99m00:00:00<\u001b[93m00:00:00\u001b[0m\u001b[0m  \u001b[99m47.94it/s\u001b[0m  \u001b[99m-6.232973363065651e+17\u001b[0m  \u001b[99m-27.833\u001b[0m   \u001b[99m366\u001b[0m     \n",
       " \u001b[1mStep\u001b[0m                                                                           \n",
       " \u001b[99m8784\u001b[0m                                                                           "
      ]
     },
     "metadata": {},
     "output_type": "display_data"
    },
    {
     "data": {
      "application/vnd.jupyter.widget-view+json": {
       "model_id": "8c06681b65774b51a28d577b725c84da",
       "version_major": 2,
       "version_minor": 0
      },
      "text/plain": [
       "IpythonBar(children=(HTML(value='  0.0%'), FloatProgress(value=0.0)))"
      ]
     },
     "metadata": {},
     "output_type": "display_data"
    },
    {
     "data": {
      "text/plain": [
       "\u001b[K\u001b[F\u001b[K\u001b[F\u001b[K\u001b[F \u001b[1mIters\u001b[0m    \u001b[1mElapsed Time\u001b[0m       \u001b[1mSpeed\u001b[0m            \u001b[1mLoss_D\u001b[0m           \u001b[1mLoss_G\u001b[0m   \u001b[1mEpoch\u001b[0m   \n",
       " \u001b[99m24/\u001b[93m24\u001b[0m\u001b[0m  \u001b[99m00:00:00<\u001b[93m00:00:00\u001b[0m\u001b[0m  \u001b[99m48.12it/s\u001b[0m  \u001b[99m-6.542718158115963e+17\u001b[0m  \u001b[99m-27.2946\u001b[0m   \u001b[99m367\u001b[0m    \n",
       " \u001b[1mStep\u001b[0m                                                                           \n",
       " \u001b[99m8808\u001b[0m                                                                           "
      ]
     },
     "metadata": {},
     "output_type": "display_data"
    },
    {
     "data": {
      "application/vnd.jupyter.widget-view+json": {
       "model_id": "0996ca896832439ba7c77af1dfc2bf6f",
       "version_major": 2,
       "version_minor": 0
      },
      "text/plain": [
       "IpythonBar(children=(HTML(value='  0.0%'), FloatProgress(value=0.0)))"
      ]
     },
     "metadata": {},
     "output_type": "display_data"
    },
    {
     "data": {
      "text/plain": [
       "\u001b[K\u001b[F\u001b[K\u001b[F\u001b[K\u001b[F \u001b[1mIters\u001b[0m    \u001b[1mElapsed Time\u001b[0m       \u001b[1mSpeed\u001b[0m            \u001b[1mLoss_D\u001b[0m           \u001b[1mLoss_G\u001b[0m   \u001b[1mEpoch\u001b[0m   \n",
       " \u001b[99m24/\u001b[93m24\u001b[0m\u001b[0m  \u001b[99m00:00:00<\u001b[93m00:00:00\u001b[0m\u001b[0m  \u001b[99m47.88it/s\u001b[0m  \u001b[99m-6.759394791433175e+17\u001b[0m  \u001b[99m-28.2748\u001b[0m   \u001b[99m368\u001b[0m    \n",
       " \u001b[1mStep\u001b[0m                                                                           \n",
       " \u001b[99m8832\u001b[0m                                                                           "
      ]
     },
     "metadata": {},
     "output_type": "display_data"
    },
    {
     "data": {
      "application/vnd.jupyter.widget-view+json": {
       "model_id": "2863c52ea556477cadd2da46be83a4a1",
       "version_major": 2,
       "version_minor": 0
      },
      "text/plain": [
       "IpythonBar(children=(HTML(value='  0.0%'), FloatProgress(value=0.0)))"
      ]
     },
     "metadata": {},
     "output_type": "display_data"
    },
    {
     "data": {
      "text/plain": [
       "\u001b[K\u001b[F\u001b[K\u001b[F\u001b[K\u001b[F \u001b[1mIters\u001b[0m    \u001b[1mElapsed Time\u001b[0m       \u001b[1mSpeed\u001b[0m            \u001b[1mLoss_D\u001b[0m            \u001b[1mLoss_G\u001b[0m   \u001b[1mEpoch\u001b[0m  \n",
       " \u001b[99m24/\u001b[93m24\u001b[0m\u001b[0m  \u001b[99m00:00:00<\u001b[93m00:00:00\u001b[0m\u001b[0m  \u001b[99m47.90it/s\u001b[0m  \u001b[99m-5.6457630291748454e+17\u001b[0m  \u001b[99m-28.3162\u001b[0m   \u001b[99m369\u001b[0m   \n",
       " \u001b[1mStep\u001b[0m                                                                           \n",
       " \u001b[99m8856\u001b[0m                                                                           "
      ]
     },
     "metadata": {},
     "output_type": "display_data"
    },
    {
     "data": {
      "application/vnd.jupyter.widget-view+json": {
       "model_id": "188ca049b70a43caa4cd26a9eda0f75b",
       "version_major": 2,
       "version_minor": 0
      },
      "text/plain": [
       "IpythonBar(children=(HTML(value='  0.0%'), FloatProgress(value=0.0)))"
      ]
     },
     "metadata": {},
     "output_type": "display_data"
    },
    {
     "data": {
      "text/plain": [
       "\u001b[K\u001b[F\u001b[K\u001b[F\u001b[K\u001b[F \u001b[1mIters\u001b[0m    \u001b[1mElapsed Time\u001b[0m       \u001b[1mSpeed\u001b[0m            \u001b[1mLoss_D\u001b[0m           \u001b[1mLoss_G\u001b[0m   \u001b[1mEpoch\u001b[0m   \n",
       " \u001b[99m24/\u001b[93m24\u001b[0m\u001b[0m  \u001b[99m00:00:00<\u001b[93m00:00:00\u001b[0m\u001b[0m  \u001b[99m41.67it/s\u001b[0m  \u001b[99m-5.653843752444232e+17\u001b[0m  \u001b[99m-28.4384\u001b[0m   \u001b[99m370\u001b[0m    \n",
       " \u001b[1mStep\u001b[0m                                                                           \n",
       " \u001b[99m8880\u001b[0m                                                                           "
      ]
     },
     "metadata": {},
     "output_type": "display_data"
    },
    {
     "data": {
      "application/vnd.jupyter.widget-view+json": {
       "model_id": "71e4eb0ebacd4722b332f96641e8b508",
       "version_major": 2,
       "version_minor": 0
      },
      "text/plain": [
       "IpythonBar(children=(HTML(value='  0.0%'), FloatProgress(value=0.0)))"
      ]
     },
     "metadata": {},
     "output_type": "display_data"
    },
    {
     "data": {
      "text/plain": [
       "\u001b[K\u001b[F\u001b[K\u001b[F\u001b[K\u001b[F \u001b[1mIters\u001b[0m    \u001b[1mElapsed Time\u001b[0m       \u001b[1mSpeed\u001b[0m            \u001b[1mLoss_D\u001b[0m          \u001b[1mLoss_G\u001b[0m   \u001b[1mEpoch\u001b[0m    \n",
       " \u001b[99m24/\u001b[93m24\u001b[0m\u001b[0m  \u001b[99m00:00:00<\u001b[93m00:00:00\u001b[0m\u001b[0m  \u001b[99m47.74it/s\u001b[0m  \u001b[99m-6.533036271038628e+17\u001b[0m  \u001b[99m-28.338\u001b[0m   \u001b[99m371\u001b[0m     \n",
       " \u001b[1mStep\u001b[0m                                                                           \n",
       " \u001b[99m8904\u001b[0m                                                                           "
      ]
     },
     "metadata": {},
     "output_type": "display_data"
    },
    {
     "data": {
      "application/vnd.jupyter.widget-view+json": {
       "model_id": "0dda7d925fa9467fbc929a2180661407",
       "version_major": 2,
       "version_minor": 0
      },
      "text/plain": [
       "IpythonBar(children=(HTML(value='  0.0%'), FloatProgress(value=0.0)))"
      ]
     },
     "metadata": {},
     "output_type": "display_data"
    },
    {
     "data": {
      "text/plain": [
       "\u001b[K\u001b[F\u001b[K\u001b[F\u001b[K\u001b[F \u001b[1mIters\u001b[0m    \u001b[1mElapsed Time\u001b[0m       \u001b[1mSpeed\u001b[0m            \u001b[1mLoss_D\u001b[0m           \u001b[1mLoss_G\u001b[0m   \u001b[1mEpoch\u001b[0m   \n",
       " \u001b[99m24/\u001b[93m24\u001b[0m\u001b[0m  \u001b[99m00:00:00<\u001b[93m00:00:00\u001b[0m\u001b[0m  \u001b[99m46.29it/s\u001b[0m  \u001b[99m-5.6405241998658765e+17\u001b[0m  \u001b[99m-27.798\u001b[0m   \u001b[99m372\u001b[0m    \n",
       " \u001b[1mStep\u001b[0m                                                                           \n",
       " \u001b[99m8928\u001b[0m                                                                           "
      ]
     },
     "metadata": {},
     "output_type": "display_data"
    },
    {
     "data": {
      "application/vnd.jupyter.widget-view+json": {
       "model_id": "e7c4959e90094f1c8e95c9bd005b8cd7",
       "version_major": 2,
       "version_minor": 0
      },
      "text/plain": [
       "IpythonBar(children=(HTML(value='  0.0%'), FloatProgress(value=0.0)))"
      ]
     },
     "metadata": {},
     "output_type": "display_data"
    },
    {
     "data": {
      "text/plain": [
       "\u001b[K\u001b[F\u001b[K\u001b[F\u001b[K\u001b[F \u001b[1mIters\u001b[0m    \u001b[1mElapsed Time\u001b[0m       \u001b[1mSpeed\u001b[0m            \u001b[1mLoss_D\u001b[0m           \u001b[1mLoss_G\u001b[0m   \u001b[1mEpoch\u001b[0m   \n",
       " \u001b[99m24/\u001b[93m24\u001b[0m\u001b[0m  \u001b[99m00:00:00<\u001b[93m00:00:00\u001b[0m\u001b[0m  \u001b[99m47.99it/s\u001b[0m  \u001b[99m-6.103092177645076e+17\u001b[0m  \u001b[99m-28.3996\u001b[0m   \u001b[99m373\u001b[0m    \n",
       " \u001b[1mStep\u001b[0m                                                                           \n",
       " \u001b[99m8952\u001b[0m                                                                           "
      ]
     },
     "metadata": {},
     "output_type": "display_data"
    },
    {
     "data": {
      "application/vnd.jupyter.widget-view+json": {
       "model_id": "623f52f2806546bf827bdf628e0ac54a",
       "version_major": 2,
       "version_minor": 0
      },
      "text/plain": [
       "IpythonBar(children=(HTML(value='  0.0%'), FloatProgress(value=0.0)))"
      ]
     },
     "metadata": {},
     "output_type": "display_data"
    },
    {
     "data": {
      "text/plain": [
       "\u001b[K\u001b[F\u001b[K\u001b[F\u001b[K\u001b[F \u001b[1mIters\u001b[0m    \u001b[1mElapsed Time\u001b[0m       \u001b[1mSpeed\u001b[0m            \u001b[1mLoss_D\u001b[0m           \u001b[1mLoss_G\u001b[0m   \u001b[1mEpoch\u001b[0m   \n",
       " \u001b[99m24/\u001b[93m24\u001b[0m\u001b[0m  \u001b[99m00:00:00<\u001b[93m00:00:00\u001b[0m\u001b[0m  \u001b[99m49.16it/s\u001b[0m  \u001b[99m-6.351083589316116e+17\u001b[0m  \u001b[99m-29.3709\u001b[0m   \u001b[99m374\u001b[0m    \n",
       " \u001b[1mStep\u001b[0m                                                                           \n",
       " \u001b[99m8976\u001b[0m                                                                           "
      ]
     },
     "metadata": {},
     "output_type": "display_data"
    },
    {
     "data": {
      "application/vnd.jupyter.widget-view+json": {
       "model_id": "23bfa2ed3fdb4d61ab2830c9e4273e8c",
       "version_major": 2,
       "version_minor": 0
      },
      "text/plain": [
       "IpythonBar(children=(HTML(value='  0.0%'), FloatProgress(value=0.0)))"
      ]
     },
     "metadata": {},
     "output_type": "display_data"
    },
    {
     "data": {
      "text/plain": [
       "\u001b[K\u001b[F\u001b[K\u001b[F\u001b[K\u001b[F \u001b[1mIters\u001b[0m    \u001b[1mElapsed Time\u001b[0m       \u001b[1mSpeed\u001b[0m            \u001b[1mLoss_D\u001b[0m            \u001b[1mLoss_G\u001b[0m   \u001b[1mEpoch\u001b[0m  \n",
       " \u001b[99m24/\u001b[93m24\u001b[0m\u001b[0m  \u001b[99m00:00:00<\u001b[93m00:00:00\u001b[0m\u001b[0m  \u001b[99m42.33it/s\u001b[0m  \u001b[99m-5.2040696232463565e+17\u001b[0m  \u001b[99m-28.4236\u001b[0m   \u001b[99m375\u001b[0m   \n",
       " \u001b[1mStep\u001b[0m                                                                           \n",
       " \u001b[99m9000\u001b[0m                                                                           "
      ]
     },
     "metadata": {},
     "output_type": "display_data"
    },
    {
     "data": {
      "application/vnd.jupyter.widget-view+json": {
       "model_id": "6ac1d1992717404ab826511b10355c95",
       "version_major": 2,
       "version_minor": 0
      },
      "text/plain": [
       "IpythonBar(children=(HTML(value='  0.0%'), FloatProgress(value=0.0)))"
      ]
     },
     "metadata": {},
     "output_type": "display_data"
    },
    {
     "data": {
      "text/plain": [
       "\u001b[K\u001b[F\u001b[K\u001b[F\u001b[K\u001b[F \u001b[1mIters\u001b[0m    \u001b[1mElapsed Time\u001b[0m       \u001b[1mSpeed\u001b[0m            \u001b[1mLoss_D\u001b[0m           \u001b[1mLoss_G\u001b[0m   \u001b[1mEpoch\u001b[0m   \n",
       " \u001b[99m24/\u001b[93m24\u001b[0m\u001b[0m  \u001b[99m00:00:00<\u001b[93m00:00:00\u001b[0m\u001b[0m  \u001b[99m48.89it/s\u001b[0m  \u001b[99m-5.969352393605775e+17\u001b[0m  \u001b[99m-28.2382\u001b[0m   \u001b[99m376\u001b[0m    \n",
       " \u001b[1mStep\u001b[0m                                                                           \n",
       " \u001b[99m9024\u001b[0m                                                                           "
      ]
     },
     "metadata": {},
     "output_type": "display_data"
    },
    {
     "data": {
      "application/vnd.jupyter.widget-view+json": {
       "model_id": "d4f5d28aca2c4dae825c9d7c7f43a0e7",
       "version_major": 2,
       "version_minor": 0
      },
      "text/plain": [
       "IpythonBar(children=(HTML(value='  0.0%'), FloatProgress(value=0.0)))"
      ]
     },
     "metadata": {},
     "output_type": "display_data"
    },
    {
     "data": {
      "text/plain": [
       "\u001b[K\u001b[F\u001b[K\u001b[F\u001b[K\u001b[F \u001b[1mIters\u001b[0m    \u001b[1mElapsed Time\u001b[0m       \u001b[1mSpeed\u001b[0m            \u001b[1mLoss_D\u001b[0m           \u001b[1mLoss_G\u001b[0m   \u001b[1mEpoch\u001b[0m   \n",
       " \u001b[99m24/\u001b[93m24\u001b[0m\u001b[0m  \u001b[99m00:00:00<\u001b[93m00:00:00\u001b[0m\u001b[0m  \u001b[99m47.48it/s\u001b[0m  \u001b[99m-5.579940078383268e+17\u001b[0m  \u001b[99m-27.8083\u001b[0m   \u001b[99m377\u001b[0m    \n",
       " \u001b[1mStep\u001b[0m                                                                           \n",
       " \u001b[99m9048\u001b[0m                                                                           "
      ]
     },
     "metadata": {},
     "output_type": "display_data"
    },
    {
     "data": {
      "application/vnd.jupyter.widget-view+json": {
       "model_id": "b6b3552b36404411a89ff08baab9e375",
       "version_major": 2,
       "version_minor": 0
      },
      "text/plain": [
       "IpythonBar(children=(HTML(value='  0.0%'), FloatProgress(value=0.0)))"
      ]
     },
     "metadata": {},
     "output_type": "display_data"
    },
    {
     "data": {
      "text/plain": [
       "\u001b[K\u001b[F\u001b[K\u001b[F\u001b[K\u001b[F \u001b[1mIters\u001b[0m    \u001b[1mElapsed Time\u001b[0m       \u001b[1mSpeed\u001b[0m            \u001b[1mLoss_D\u001b[0m           \u001b[1mLoss_G\u001b[0m   \u001b[1mEpoch\u001b[0m   \n",
       " \u001b[99m24/\u001b[93m24\u001b[0m\u001b[0m  \u001b[99m00:00:00<\u001b[93m00:00:00\u001b[0m\u001b[0m  \u001b[99m47.37it/s\u001b[0m  \u001b[99m-7.731275109456937e+17\u001b[0m  \u001b[99m-28.5803\u001b[0m   \u001b[99m378\u001b[0m    \n",
       " \u001b[1mStep\u001b[0m                                                                           \n",
       " \u001b[99m9072\u001b[0m                                                                           "
      ]
     },
     "metadata": {},
     "output_type": "display_data"
    },
    {
     "data": {
      "application/vnd.jupyter.widget-view+json": {
       "model_id": "702a562efccf4c16b25c366b4e16d9f1",
       "version_major": 2,
       "version_minor": 0
      },
      "text/plain": [
       "IpythonBar(children=(HTML(value='  0.0%'), FloatProgress(value=0.0)))"
      ]
     },
     "metadata": {},
     "output_type": "display_data"
    },
    {
     "data": {
      "text/plain": [
       "\u001b[K\u001b[F\u001b[K\u001b[F\u001b[K\u001b[F \u001b[1mIters\u001b[0m    \u001b[1mElapsed Time\u001b[0m       \u001b[1mSpeed\u001b[0m           \u001b[1mLoss_D\u001b[0m           \u001b[1mLoss_G\u001b[0m   \u001b[1mEpoch\u001b[0m    \n",
       " \u001b[99m24/\u001b[93m24\u001b[0m\u001b[0m  \u001b[99m00:00:00<\u001b[93m00:00:00\u001b[0m\u001b[0m  \u001b[99m48.65it/s\u001b[0m  \u001b[99m-5.95025044065747e+17\u001b[0m  \u001b[99m-27.9256\u001b[0m   \u001b[99m379\u001b[0m     \n",
       " \u001b[1mStep\u001b[0m                                                                           \n",
       " \u001b[99m9096\u001b[0m                                                                           "
      ]
     },
     "metadata": {},
     "output_type": "display_data"
    },
    {
     "data": {
      "application/vnd.jupyter.widget-view+json": {
       "model_id": "e7b1c7c69a5f4f309d9cdabc4cb8dcc7",
       "version_major": 2,
       "version_minor": 0
      },
      "text/plain": [
       "IpythonBar(children=(HTML(value='  0.0%'), FloatProgress(value=0.0)))"
      ]
     },
     "metadata": {},
     "output_type": "display_data"
    },
    {
     "data": {
      "text/plain": [
       "\u001b[K\u001b[F\u001b[K\u001b[F\u001b[K\u001b[F \u001b[1mIters\u001b[0m    \u001b[1mElapsed Time\u001b[0m       \u001b[1mSpeed\u001b[0m            \u001b[1mLoss_D\u001b[0m           \u001b[1mLoss_G\u001b[0m   \u001b[1mEpoch\u001b[0m   \n",
       " \u001b[99m24/\u001b[93m24\u001b[0m\u001b[0m  \u001b[99m00:00:00<\u001b[93m00:00:00\u001b[0m\u001b[0m  \u001b[99m40.60it/s\u001b[0m  \u001b[99m-5.226583498214605e+17\u001b[0m  \u001b[99m-28.4592\u001b[0m   \u001b[99m380\u001b[0m    \n",
       " \u001b[1mStep\u001b[0m                                                                           \n",
       " \u001b[99m9120\u001b[0m                                                                           "
      ]
     },
     "metadata": {},
     "output_type": "display_data"
    },
    {
     "data": {
      "application/vnd.jupyter.widget-view+json": {
       "model_id": "f17a121989d6478ebc12bf806398e2ca",
       "version_major": 2,
       "version_minor": 0
      },
      "text/plain": [
       "IpythonBar(children=(HTML(value='  0.0%'), FloatProgress(value=0.0)))"
      ]
     },
     "metadata": {},
     "output_type": "display_data"
    },
    {
     "data": {
      "text/plain": [
       "\u001b[K\u001b[F\u001b[K\u001b[F\u001b[K\u001b[F \u001b[1mIters\u001b[0m    \u001b[1mElapsed Time\u001b[0m       \u001b[1mSpeed\u001b[0m            \u001b[1mLoss_D\u001b[0m           \u001b[1mLoss_G\u001b[0m   \u001b[1mEpoch\u001b[0m   \n",
       " \u001b[99m24/\u001b[93m24\u001b[0m\u001b[0m  \u001b[99m00:00:00<\u001b[93m00:00:00\u001b[0m\u001b[0m  \u001b[99m47.39it/s\u001b[0m  \u001b[99m-6.235316010027581e+17\u001b[0m  \u001b[99m-28.6093\u001b[0m   \u001b[99m381\u001b[0m    \n",
       " \u001b[1mStep\u001b[0m                                                                           \n",
       " \u001b[99m9144\u001b[0m                                                                           "
      ]
     },
     "metadata": {},
     "output_type": "display_data"
    },
    {
     "data": {
      "application/vnd.jupyter.widget-view+json": {
       "model_id": "4e76a6cc8fbd41bfb1a94f4ad9825a69",
       "version_major": 2,
       "version_minor": 0
      },
      "text/plain": [
       "IpythonBar(children=(HTML(value='  0.0%'), FloatProgress(value=0.0)))"
      ]
     },
     "metadata": {},
     "output_type": "display_data"
    },
    {
     "data": {
      "text/plain": [
       "\u001b[K\u001b[F\u001b[K\u001b[F\u001b[K\u001b[F \u001b[1mIters\u001b[0m    \u001b[1mElapsed Time\u001b[0m       \u001b[1mSpeed\u001b[0m            \u001b[1mLoss_D\u001b[0m           \u001b[1mLoss_G\u001b[0m   \u001b[1mEpoch\u001b[0m   \n",
       " \u001b[99m24/\u001b[93m24\u001b[0m\u001b[0m  \u001b[99m00:00:00<\u001b[93m00:00:00\u001b[0m\u001b[0m  \u001b[99m48.67it/s\u001b[0m  \u001b[99m-5.702669971457311e+17\u001b[0m  \u001b[99m-28.5937\u001b[0m   \u001b[99m382\u001b[0m    \n",
       " \u001b[1mStep\u001b[0m                                                                           \n",
       " \u001b[99m9168\u001b[0m                                                                           "
      ]
     },
     "metadata": {},
     "output_type": "display_data"
    },
    {
     "data": {
      "application/vnd.jupyter.widget-view+json": {
       "model_id": "199ae343d6b7498493e69c68b3b9e1f4",
       "version_major": 2,
       "version_minor": 0
      },
      "text/plain": [
       "IpythonBar(children=(HTML(value='  0.0%'), FloatProgress(value=0.0)))"
      ]
     },
     "metadata": {},
     "output_type": "display_data"
    },
    {
     "data": {
      "text/plain": [
       "\u001b[K\u001b[F\u001b[K\u001b[F\u001b[K\u001b[F \u001b[1mIters\u001b[0m    \u001b[1mElapsed Time\u001b[0m       \u001b[1mSpeed\u001b[0m            \u001b[1mLoss_D\u001b[0m           \u001b[1mLoss_G\u001b[0m   \u001b[1mEpoch\u001b[0m   \n",
       " \u001b[99m24/\u001b[93m24\u001b[0m\u001b[0m  \u001b[99m00:00:00<\u001b[93m00:00:00\u001b[0m\u001b[0m  \u001b[99m48.05it/s\u001b[0m  \u001b[99m-7.194826135044096e+17\u001b[0m  \u001b[99m-28.8061\u001b[0m   \u001b[99m383\u001b[0m    \n",
       " \u001b[1mStep\u001b[0m                                                                           \n",
       " \u001b[99m9192\u001b[0m                                                                           "
      ]
     },
     "metadata": {},
     "output_type": "display_data"
    },
    {
     "data": {
      "application/vnd.jupyter.widget-view+json": {
       "model_id": "14252708d5564766a815fdce89fd6d32",
       "version_major": 2,
       "version_minor": 0
      },
      "text/plain": [
       "IpythonBar(children=(HTML(value='  0.0%'), FloatProgress(value=0.0)))"
      ]
     },
     "metadata": {},
     "output_type": "display_data"
    },
    {
     "data": {
      "text/plain": [
       "\u001b[K\u001b[F\u001b[K\u001b[F\u001b[K\u001b[F \u001b[1mIters\u001b[0m    \u001b[1mElapsed Time\u001b[0m       \u001b[1mSpeed\u001b[0m            \u001b[1mLoss_D\u001b[0m            \u001b[1mLoss_G\u001b[0m   \u001b[1mEpoch\u001b[0m  \n",
       " \u001b[99m24/\u001b[93m24\u001b[0m\u001b[0m  \u001b[99m00:00:00<\u001b[93m00:00:00\u001b[0m\u001b[0m  \u001b[99m48.13it/s\u001b[0m  \u001b[99m-5.2381630736420045e+17\u001b[0m  \u001b[99m-29.2397\u001b[0m   \u001b[99m384\u001b[0m   \n",
       " \u001b[1mStep\u001b[0m                                                                           \n",
       " \u001b[99m9216\u001b[0m                                                                           "
      ]
     },
     "metadata": {},
     "output_type": "display_data"
    },
    {
     "data": {
      "application/vnd.jupyter.widget-view+json": {
       "model_id": "6b60dce999e14268bc59b48abbf95a53",
       "version_major": 2,
       "version_minor": 0
      },
      "text/plain": [
       "IpythonBar(children=(HTML(value='  0.0%'), FloatProgress(value=0.0)))"
      ]
     },
     "metadata": {},
     "output_type": "display_data"
    },
    {
     "data": {
      "text/plain": [
       "\u001b[K\u001b[F\u001b[K\u001b[F\u001b[K\u001b[F \u001b[1mIters\u001b[0m    \u001b[1mElapsed Time\u001b[0m       \u001b[1mSpeed\u001b[0m           \u001b[1mLoss_D\u001b[0m           \u001b[1mLoss_G\u001b[0m   \u001b[1mEpoch\u001b[0m    \n",
       " \u001b[99m24/\u001b[93m24\u001b[0m\u001b[0m  \u001b[99m00:00:00<\u001b[93m00:00:00\u001b[0m\u001b[0m  \u001b[99m41.42it/s\u001b[0m  \u001b[99m-5.66323186375852e+17\u001b[0m  \u001b[99m-29.0906\u001b[0m   \u001b[99m385\u001b[0m     \n",
       " \u001b[1mStep\u001b[0m                                                                           \n",
       " \u001b[99m9240\u001b[0m                                                                           "
      ]
     },
     "metadata": {},
     "output_type": "display_data"
    },
    {
     "data": {
      "application/vnd.jupyter.widget-view+json": {
       "model_id": "92bda22d48fc43a6831c89f4257a87ca",
       "version_major": 2,
       "version_minor": 0
      },
      "text/plain": [
       "IpythonBar(children=(HTML(value='  0.0%'), FloatProgress(value=0.0)))"
      ]
     },
     "metadata": {},
     "output_type": "display_data"
    },
    {
     "data": {
      "text/plain": [
       "\u001b[K\u001b[F\u001b[K\u001b[F\u001b[K\u001b[F \u001b[1mIters\u001b[0m    \u001b[1mElapsed Time\u001b[0m       \u001b[1mSpeed\u001b[0m           \u001b[1mLoss_D\u001b[0m           \u001b[1mLoss_G\u001b[0m   \u001b[1mEpoch\u001b[0m    \n",
       " \u001b[99m24/\u001b[93m24\u001b[0m\u001b[0m  \u001b[99m00:00:00<\u001b[93m00:00:00\u001b[0m\u001b[0m  \u001b[99m48.09it/s\u001b[0m  \u001b[99m-5.84741586689065e+17\u001b[0m  \u001b[99m-28.5181\u001b[0m   \u001b[99m386\u001b[0m     \n",
       " \u001b[1mStep\u001b[0m                                                                           \n",
       " \u001b[99m9264\u001b[0m                                                                           "
      ]
     },
     "metadata": {},
     "output_type": "display_data"
    },
    {
     "data": {
      "application/vnd.jupyter.widget-view+json": {
       "model_id": "4edd4f68d91f4791aed0d16433436606",
       "version_major": 2,
       "version_minor": 0
      },
      "text/plain": [
       "IpythonBar(children=(HTML(value='  0.0%'), FloatProgress(value=0.0)))"
      ]
     },
     "metadata": {},
     "output_type": "display_data"
    },
    {
     "data": {
      "text/plain": [
       "\u001b[K\u001b[F\u001b[K\u001b[F\u001b[K\u001b[F \u001b[1mIters\u001b[0m    \u001b[1mElapsed Time\u001b[0m       \u001b[1mSpeed\u001b[0m            \u001b[1mLoss_D\u001b[0m           \u001b[1mLoss_G\u001b[0m   \u001b[1mEpoch\u001b[0m   \n",
       " \u001b[99m24/\u001b[93m24\u001b[0m\u001b[0m  \u001b[99m00:00:00<\u001b[93m00:00:00\u001b[0m\u001b[0m  \u001b[99m47.71it/s\u001b[0m  \u001b[99m-5.928568071357727e+17\u001b[0m  \u001b[99m-28.7404\u001b[0m   \u001b[99m387\u001b[0m    \n",
       " \u001b[1mStep\u001b[0m                                                                           \n",
       " \u001b[99m9288\u001b[0m                                                                           "
      ]
     },
     "metadata": {},
     "output_type": "display_data"
    },
    {
     "data": {
      "application/vnd.jupyter.widget-view+json": {
       "model_id": "055735c2553b44cbbee16ce5a27bc38f",
       "version_major": 2,
       "version_minor": 0
      },
      "text/plain": [
       "IpythonBar(children=(HTML(value='  0.0%'), FloatProgress(value=0.0)))"
      ]
     },
     "metadata": {},
     "output_type": "display_data"
    },
    {
     "data": {
      "text/plain": [
       "\u001b[K\u001b[F\u001b[K\u001b[F\u001b[K\u001b[F \u001b[1mIters\u001b[0m    \u001b[1mElapsed Time\u001b[0m       \u001b[1mSpeed\u001b[0m            \u001b[1mLoss_D\u001b[0m           \u001b[1mLoss_G\u001b[0m   \u001b[1mEpoch\u001b[0m   \n",
       " \u001b[99m24/\u001b[93m24\u001b[0m\u001b[0m  \u001b[99m00:00:00<\u001b[93m00:00:00\u001b[0m\u001b[0m  \u001b[99m45.56it/s\u001b[0m  \u001b[99m-6.362581044968817e+17\u001b[0m  \u001b[99m-28.5139\u001b[0m   \u001b[99m388\u001b[0m    \n",
       " \u001b[1mStep\u001b[0m                                                                           \n",
       " \u001b[99m9312\u001b[0m                                                                           "
      ]
     },
     "metadata": {},
     "output_type": "display_data"
    },
    {
     "data": {
      "application/vnd.jupyter.widget-view+json": {
       "model_id": "0d42594bfc394ba6ac9ce28d08972d54",
       "version_major": 2,
       "version_minor": 0
      },
      "text/plain": [
       "IpythonBar(children=(HTML(value='  0.0%'), FloatProgress(value=0.0)))"
      ]
     },
     "metadata": {},
     "output_type": "display_data"
    },
    {
     "data": {
      "text/plain": [
       "\u001b[K\u001b[F\u001b[K\u001b[F\u001b[K\u001b[F \u001b[1mIters\u001b[0m    \u001b[1mElapsed Time\u001b[0m       \u001b[1mSpeed\u001b[0m            \u001b[1mLoss_D\u001b[0m           \u001b[1mLoss_G\u001b[0m   \u001b[1mEpoch\u001b[0m   \n",
       " \u001b[99m24/\u001b[93m24\u001b[0m\u001b[0m  \u001b[99m00:00:00<\u001b[93m00:00:00\u001b[0m\u001b[0m  \u001b[99m46.99it/s\u001b[0m  \u001b[99m-6.247528148238336e+17\u001b[0m  \u001b[99m-28.7307\u001b[0m   \u001b[99m389\u001b[0m    \n",
       " \u001b[1mStep\u001b[0m                                                                           \n",
       " \u001b[99m9336\u001b[0m                                                                           "
      ]
     },
     "metadata": {},
     "output_type": "display_data"
    },
    {
     "data": {
      "application/vnd.jupyter.widget-view+json": {
       "model_id": "ca3a05fc0ebc418681666148fe968916",
       "version_major": 2,
       "version_minor": 0
      },
      "text/plain": [
       "IpythonBar(children=(HTML(value='  0.0%'), FloatProgress(value=0.0)))"
      ]
     },
     "metadata": {},
     "output_type": "display_data"
    },
    {
     "data": {
      "text/plain": [
       "\u001b[K\u001b[F\u001b[K\u001b[F\u001b[K\u001b[F \u001b[1mIters\u001b[0m    \u001b[1mElapsed Time\u001b[0m       \u001b[1mSpeed\u001b[0m           \u001b[1mLoss_D\u001b[0m           \u001b[1mLoss_G\u001b[0m   \u001b[1mEpoch\u001b[0m    \n",
       " \u001b[99m24/\u001b[93m24\u001b[0m\u001b[0m  \u001b[99m00:00:00<\u001b[93m00:00:00\u001b[0m\u001b[0m  \u001b[99m42.16it/s\u001b[0m  \u001b[99m-5.85059414268969e+17\u001b[0m  \u001b[99m-29.5922\u001b[0m   \u001b[99m390\u001b[0m     \n",
       " \u001b[1mStep\u001b[0m                                                                           \n",
       " \u001b[99m9360\u001b[0m                                                                           "
      ]
     },
     "metadata": {},
     "output_type": "display_data"
    },
    {
     "data": {
      "application/vnd.jupyter.widget-view+json": {
       "model_id": "aad1e981e0ff4a87b141c7f96e66e595",
       "version_major": 2,
       "version_minor": 0
      },
      "text/plain": [
       "IpythonBar(children=(HTML(value='  0.0%'), FloatProgress(value=0.0)))"
      ]
     },
     "metadata": {},
     "output_type": "display_data"
    },
    {
     "data": {
      "text/plain": [
       "\u001b[K\u001b[F\u001b[K\u001b[F\u001b[K\u001b[F \u001b[1mIters\u001b[0m    \u001b[1mElapsed Time\u001b[0m       \u001b[1mSpeed\u001b[0m            \u001b[1mLoss_D\u001b[0m          \u001b[1mLoss_G\u001b[0m   \u001b[1mEpoch\u001b[0m    \n",
       " \u001b[99m24/\u001b[93m24\u001b[0m\u001b[0m  \u001b[99m00:00:00<\u001b[93m00:00:00\u001b[0m\u001b[0m  \u001b[99m47.59it/s\u001b[0m  \u001b[99m-6.649126144673055e+17\u001b[0m  \u001b[99m-28.854\u001b[0m   \u001b[99m391\u001b[0m     \n",
       " \u001b[1mStep\u001b[0m                                                                           \n",
       " \u001b[99m9384\u001b[0m                                                                           "
      ]
     },
     "metadata": {},
     "output_type": "display_data"
    },
    {
     "data": {
      "application/vnd.jupyter.widget-view+json": {
       "model_id": "5d9f0e0549e24587b7e786d34f2b8322",
       "version_major": 2,
       "version_minor": 0
      },
      "text/plain": [
       "IpythonBar(children=(HTML(value='  0.0%'), FloatProgress(value=0.0)))"
      ]
     },
     "metadata": {},
     "output_type": "display_data"
    },
    {
     "data": {
      "text/plain": [
       "\u001b[K\u001b[F\u001b[K\u001b[F\u001b[K\u001b[F \u001b[1mIters\u001b[0m    \u001b[1mElapsed Time\u001b[0m       \u001b[1mSpeed\u001b[0m            \u001b[1mLoss_D\u001b[0m           \u001b[1mLoss_G\u001b[0m   \u001b[1mEpoch\u001b[0m   \n",
       " \u001b[99m24/\u001b[93m24\u001b[0m\u001b[0m  \u001b[99m00:00:00<\u001b[93m00:00:00\u001b[0m\u001b[0m  \u001b[99m47.74it/s\u001b[0m  \u001b[99m-7.460832357541478e+17\u001b[0m  \u001b[99m-28.6909\u001b[0m   \u001b[99m392\u001b[0m    \n",
       " \u001b[1mStep\u001b[0m                                                                           \n",
       " \u001b[99m9408\u001b[0m                                                                           "
      ]
     },
     "metadata": {},
     "output_type": "display_data"
    },
    {
     "data": {
      "application/vnd.jupyter.widget-view+json": {
       "model_id": "a3ff4761e0b04fc9905c2598b499d63a",
       "version_major": 2,
       "version_minor": 0
      },
      "text/plain": [
       "IpythonBar(children=(HTML(value='  0.0%'), FloatProgress(value=0.0)))"
      ]
     },
     "metadata": {},
     "output_type": "display_data"
    },
    {
     "data": {
      "text/plain": [
       "\u001b[K\u001b[F\u001b[K\u001b[F\u001b[K\u001b[F \u001b[1mIters\u001b[0m    \u001b[1mElapsed Time\u001b[0m       \u001b[1mSpeed\u001b[0m           \u001b[1mLoss_D\u001b[0m           \u001b[1mLoss_G\u001b[0m   \u001b[1mEpoch\u001b[0m    \n",
       " \u001b[99m24/\u001b[93m24\u001b[0m\u001b[0m  \u001b[99m00:00:00<\u001b[93m00:00:00\u001b[0m\u001b[0m  \u001b[99m47.46it/s\u001b[0m  \u001b[99m-5.57724936727167e+17\u001b[0m  \u001b[99m-28.2345\u001b[0m   \u001b[99m393\u001b[0m     \n",
       " \u001b[1mStep\u001b[0m                                                                           \n",
       " \u001b[99m9432\u001b[0m                                                                           "
      ]
     },
     "metadata": {},
     "output_type": "display_data"
    },
    {
     "data": {
      "application/vnd.jupyter.widget-view+json": {
       "model_id": "57e9e396b9cc49ea87ba270f10eedbdd",
       "version_major": 2,
       "version_minor": 0
      },
      "text/plain": [
       "IpythonBar(children=(HTML(value='  0.0%'), FloatProgress(value=0.0)))"
      ]
     },
     "metadata": {},
     "output_type": "display_data"
    },
    {
     "data": {
      "text/plain": [
       "\u001b[K\u001b[F\u001b[K\u001b[F\u001b[K\u001b[F \u001b[1mIters\u001b[0m    \u001b[1mElapsed Time\u001b[0m       \u001b[1mSpeed\u001b[0m            \u001b[1mLoss_D\u001b[0m           \u001b[1mLoss_G\u001b[0m   \u001b[1mEpoch\u001b[0m   \n",
       " \u001b[99m24/\u001b[93m24\u001b[0m\u001b[0m  \u001b[99m00:00:00<\u001b[93m00:00:00\u001b[0m\u001b[0m  \u001b[99m48.59it/s\u001b[0m  \u001b[99m-6.650652404251361e+17\u001b[0m  \u001b[99m-28.6733\u001b[0m   \u001b[99m394\u001b[0m    \n",
       " \u001b[1mStep\u001b[0m                                                                           \n",
       " \u001b[99m9456\u001b[0m                                                                           "
      ]
     },
     "metadata": {},
     "output_type": "display_data"
    },
    {
     "data": {
      "application/vnd.jupyter.widget-view+json": {
       "model_id": "8e3a30efaf7c4de28caf18845023c8b2",
       "version_major": 2,
       "version_minor": 0
      },
      "text/plain": [
       "IpythonBar(children=(HTML(value='  0.0%'), FloatProgress(value=0.0)))"
      ]
     },
     "metadata": {},
     "output_type": "display_data"
    },
    {
     "data": {
      "text/plain": [
       "\u001b[K\u001b[F\u001b[K\u001b[F\u001b[K\u001b[F \u001b[1mIters\u001b[0m    \u001b[1mElapsed Time\u001b[0m       \u001b[1mSpeed\u001b[0m            \u001b[1mLoss_D\u001b[0m           \u001b[1mLoss_G\u001b[0m   \u001b[1mEpoch\u001b[0m   \n",
       " \u001b[99m24/\u001b[93m24\u001b[0m\u001b[0m  \u001b[99m00:00:00<\u001b[93m00:00:00\u001b[0m\u001b[0m  \u001b[99m39.45it/s\u001b[0m  \u001b[99m-5.794395354614989e+17\u001b[0m  \u001b[99m-28.6386\u001b[0m   \u001b[99m395\u001b[0m    \n",
       " \u001b[1mStep\u001b[0m                                                                           \n",
       " \u001b[99m9480\u001b[0m                                                                           "
      ]
     },
     "metadata": {},
     "output_type": "display_data"
    },
    {
     "data": {
      "application/vnd.jupyter.widget-view+json": {
       "model_id": "3108f66aa5c64199970e50d8f75514f7",
       "version_major": 2,
       "version_minor": 0
      },
      "text/plain": [
       "IpythonBar(children=(HTML(value='  0.0%'), FloatProgress(value=0.0)))"
      ]
     },
     "metadata": {},
     "output_type": "display_data"
    },
    {
     "data": {
      "text/plain": [
       "\u001b[K\u001b[F\u001b[K\u001b[F\u001b[K\u001b[F \u001b[1mIters\u001b[0m    \u001b[1mElapsed Time\u001b[0m       \u001b[1mSpeed\u001b[0m            \u001b[1mLoss_D\u001b[0m           \u001b[1mLoss_G\u001b[0m   \u001b[1mEpoch\u001b[0m   \n",
       " \u001b[99m24/\u001b[93m24\u001b[0m\u001b[0m  \u001b[99m00:00:00<\u001b[93m00:00:00\u001b[0m\u001b[0m  \u001b[99m48.05it/s\u001b[0m  \u001b[99m-4.868899652595876e+17\u001b[0m  \u001b[99m-28.8432\u001b[0m   \u001b[99m396\u001b[0m    \n",
       " \u001b[1mStep\u001b[0m                                                                           \n",
       " \u001b[99m9504\u001b[0m                                                                           "
      ]
     },
     "metadata": {},
     "output_type": "display_data"
    },
    {
     "data": {
      "application/vnd.jupyter.widget-view+json": {
       "model_id": "99c436a02cf94b0aa5b1e8cacdbdcea5",
       "version_major": 2,
       "version_minor": 0
      },
      "text/plain": [
       "IpythonBar(children=(HTML(value='  0.0%'), FloatProgress(value=0.0)))"
      ]
     },
     "metadata": {},
     "output_type": "display_data"
    },
    {
     "data": {
      "text/plain": [
       "\u001b[K\u001b[F\u001b[K\u001b[F\u001b[K\u001b[F \u001b[1mIters\u001b[0m    \u001b[1mElapsed Time\u001b[0m       \u001b[1mSpeed\u001b[0m            \u001b[1mLoss_D\u001b[0m           \u001b[1mLoss_G\u001b[0m   \u001b[1mEpoch\u001b[0m   \n",
       " \u001b[99m24/\u001b[93m24\u001b[0m\u001b[0m  \u001b[99m00:00:00<\u001b[93m00:00:00\u001b[0m\u001b[0m  \u001b[99m46.16it/s\u001b[0m  \u001b[99m-6.228609676292915e+17\u001b[0m  \u001b[99m-28.6577\u001b[0m   \u001b[99m397\u001b[0m    \n",
       " \u001b[1mStep\u001b[0m                                                                           \n",
       " \u001b[99m9528\u001b[0m                                                                           "
      ]
     },
     "metadata": {},
     "output_type": "display_data"
    },
    {
     "data": {
      "application/vnd.jupyter.widget-view+json": {
       "model_id": "172accf073634e5c834995f97e675678",
       "version_major": 2,
       "version_minor": 0
      },
      "text/plain": [
       "IpythonBar(children=(HTML(value='  0.0%'), FloatProgress(value=0.0)))"
      ]
     },
     "metadata": {},
     "output_type": "display_data"
    },
    {
     "data": {
      "text/plain": [
       "\u001b[K\u001b[F\u001b[K\u001b[F\u001b[K\u001b[F \u001b[1mIters\u001b[0m    \u001b[1mElapsed Time\u001b[0m       \u001b[1mSpeed\u001b[0m            \u001b[1mLoss_D\u001b[0m            \u001b[1mLoss_G\u001b[0m   \u001b[1mEpoch\u001b[0m  \n",
       " \u001b[99m24/\u001b[93m24\u001b[0m\u001b[0m  \u001b[99m00:00:00<\u001b[93m00:00:00\u001b[0m\u001b[0m  \u001b[99m47.28it/s\u001b[0m  \u001b[99m-5.1715824906194125e+17\u001b[0m  \u001b[99m-28.9461\u001b[0m   \u001b[99m398\u001b[0m   \n",
       " \u001b[1mStep\u001b[0m                                                                           \n",
       " \u001b[99m9552\u001b[0m                                                                           "
      ]
     },
     "metadata": {},
     "output_type": "display_data"
    },
    {
     "data": {
      "application/vnd.jupyter.widget-view+json": {
       "model_id": "8c4a4d2911c14fe080465c29362be8c4",
       "version_major": 2,
       "version_minor": 0
      },
      "text/plain": [
       "IpythonBar(children=(HTML(value='  0.0%'), FloatProgress(value=0.0)))"
      ]
     },
     "metadata": {},
     "output_type": "display_data"
    },
    {
     "data": {
      "text/plain": [
       "\u001b[K\u001b[F\u001b[K\u001b[F\u001b[K\u001b[F \u001b[1mIters\u001b[0m    \u001b[1mElapsed Time\u001b[0m       \u001b[1mSpeed\u001b[0m            \u001b[1mLoss_D\u001b[0m           \u001b[1mLoss_G\u001b[0m   \u001b[1mEpoch\u001b[0m   \n",
       " \u001b[99m24/\u001b[93m24\u001b[0m\u001b[0m  \u001b[99m00:00:00<\u001b[93m00:00:00\u001b[0m\u001b[0m  \u001b[99m49.13it/s\u001b[0m  \u001b[99m-5.839963926833398e+17\u001b[0m  \u001b[99m-28.8515\u001b[0m   \u001b[99m399\u001b[0m    \n",
       " \u001b[1mStep\u001b[0m                                                                           \n",
       " \u001b[99m9576\u001b[0m                                                                           "
      ]
     },
     "metadata": {},
     "output_type": "display_data"
    },
    {
     "data": {
      "application/vnd.jupyter.widget-view+json": {
       "model_id": "4b9003568658489499533dc1ad38cf78",
       "version_major": 2,
       "version_minor": 0
      },
      "text/plain": [
       "IpythonBar(children=(HTML(value='  0.0%'), FloatProgress(value=0.0)))"
      ]
     },
     "metadata": {},
     "output_type": "display_data"
    },
    {
     "data": {
      "text/plain": [
       "\u001b[K\u001b[F\u001b[K\u001b[F\u001b[K\u001b[F \u001b[1mIters\u001b[0m    \u001b[1mElapsed Time\u001b[0m       \u001b[1mSpeed\u001b[0m            \u001b[1mLoss_D\u001b[0m          \u001b[1mLoss_G\u001b[0m   \u001b[1mEpoch\u001b[0m    \n",
       " \u001b[99m24/\u001b[93m24\u001b[0m\u001b[0m  \u001b[99m00:00:00<\u001b[93m00:00:00\u001b[0m\u001b[0m  \u001b[99m41.61it/s\u001b[0m  \u001b[99m-5.972668108358287e+17\u001b[0m  \u001b[99m-29.135\u001b[0m   \u001b[99m400\u001b[0m     \n",
       " \u001b[1mStep\u001b[0m                                                                           \n",
       " \u001b[99m9600\u001b[0m                                                                           "
      ]
     },
     "metadata": {},
     "output_type": "display_data"
    },
    {
     "data": {
      "application/vnd.jupyter.widget-view+json": {
       "model_id": "842665606e6a4b3a8af05d86f8907afd",
       "version_major": 2,
       "version_minor": 0
      },
      "text/plain": [
       "IpythonBar(children=(HTML(value='  0.0%'), FloatProgress(value=0.0)))"
      ]
     },
     "metadata": {},
     "output_type": "display_data"
    },
    {
     "data": {
      "text/plain": [
       "\u001b[K\u001b[F\u001b[K\u001b[F\u001b[K\u001b[F \u001b[1mIters\u001b[0m    \u001b[1mElapsed Time\u001b[0m       \u001b[1mSpeed\u001b[0m            \u001b[1mLoss_D\u001b[0m            \u001b[1mLoss_G\u001b[0m   \u001b[1mEpoch\u001b[0m  \n",
       " \u001b[99m24/\u001b[93m24\u001b[0m\u001b[0m  \u001b[99m00:00:00<\u001b[93m00:00:00\u001b[0m\u001b[0m  \u001b[99m48.06it/s\u001b[0m  \u001b[99m-5.1170041078061466e+17\u001b[0m  \u001b[99m-30.1623\u001b[0m   \u001b[99m401\u001b[0m   \n",
       " \u001b[1mStep\u001b[0m                                                                           \n",
       " \u001b[99m9624\u001b[0m                                                                           "
      ]
     },
     "metadata": {},
     "output_type": "display_data"
    },
    {
     "data": {
      "application/vnd.jupyter.widget-view+json": {
       "model_id": "a9a7ddea498b4519a48a2238745be799",
       "version_major": 2,
       "version_minor": 0
      },
      "text/plain": [
       "IpythonBar(children=(HTML(value='  0.0%'), FloatProgress(value=0.0)))"
      ]
     },
     "metadata": {},
     "output_type": "display_data"
    },
    {
     "data": {
      "text/plain": [
       "\u001b[K\u001b[F\u001b[K\u001b[F\u001b[K\u001b[F \u001b[1mIters\u001b[0m    \u001b[1mElapsed Time\u001b[0m       \u001b[1mSpeed\u001b[0m            \u001b[1mLoss_D\u001b[0m          \u001b[1mLoss_G\u001b[0m   \u001b[1mEpoch\u001b[0m    \n",
       " \u001b[99m24/\u001b[93m24\u001b[0m\u001b[0m  \u001b[99m00:00:00<\u001b[93m00:00:00\u001b[0m\u001b[0m  \u001b[99m48.62it/s\u001b[0m  \u001b[99m-5.579615722453074e+17\u001b[0m  \u001b[99m-29.491\u001b[0m   \u001b[99m402\u001b[0m     \n",
       " \u001b[1mStep\u001b[0m                                                                           \n",
       " \u001b[99m9648\u001b[0m                                                                           "
      ]
     },
     "metadata": {},
     "output_type": "display_data"
    },
    {
     "data": {
      "application/vnd.jupyter.widget-view+json": {
       "model_id": "597d0fc6691c43598b7e5b6f8467b939",
       "version_major": 2,
       "version_minor": 0
      },
      "text/plain": [
       "IpythonBar(children=(HTML(value='  0.0%'), FloatProgress(value=0.0)))"
      ]
     },
     "metadata": {},
     "output_type": "display_data"
    },
    {
     "data": {
      "text/plain": [
       "\u001b[K\u001b[F\u001b[K\u001b[F\u001b[K\u001b[F \u001b[1mIters\u001b[0m    \u001b[1mElapsed Time\u001b[0m       \u001b[1mSpeed\u001b[0m            \u001b[1mLoss_D\u001b[0m          \u001b[1mLoss_G\u001b[0m  \u001b[1mEpoch\u001b[0m     \n",
       " \u001b[99m24/\u001b[93m24\u001b[0m\u001b[0m  \u001b[99m00:00:00<\u001b[93m00:00:00\u001b[0m\u001b[0m  \u001b[99m47.00it/s\u001b[0m  \u001b[99m-5.329340418972713e+17\u001b[0m  \u001b[99m-29.7\u001b[0m    \u001b[99m403\u001b[0m      \n",
       " \u001b[1mStep\u001b[0m                                                                           \n",
       " \u001b[99m9672\u001b[0m                                                                           "
      ]
     },
     "metadata": {},
     "output_type": "display_data"
    },
    {
     "data": {
      "application/vnd.jupyter.widget-view+json": {
       "model_id": "7d0ff8db2a314e50b55361122d32c4c1",
       "version_major": 2,
       "version_minor": 0
      },
      "text/plain": [
       "IpythonBar(children=(HTML(value='  0.0%'), FloatProgress(value=0.0)))"
      ]
     },
     "metadata": {},
     "output_type": "display_data"
    },
    {
     "data": {
      "text/plain": [
       "\u001b[K\u001b[F\u001b[K\u001b[F\u001b[K\u001b[F \u001b[1mIters\u001b[0m    \u001b[1mElapsed Time\u001b[0m       \u001b[1mSpeed\u001b[0m            \u001b[1mLoss_D\u001b[0m           \u001b[1mLoss_G\u001b[0m   \u001b[1mEpoch\u001b[0m   \n",
       " \u001b[99m24/\u001b[93m24\u001b[0m\u001b[0m  \u001b[99m00:00:00<\u001b[93m00:00:00\u001b[0m\u001b[0m  \u001b[99m48.99it/s\u001b[0m  \u001b[99m-7.009405868525486e+17\u001b[0m  \u001b[99m-30.0222\u001b[0m   \u001b[99m404\u001b[0m    \n",
       " \u001b[1mStep\u001b[0m                                                                           \n",
       " \u001b[99m9696\u001b[0m                                                                           "
      ]
     },
     "metadata": {},
     "output_type": "display_data"
    },
    {
     "data": {
      "application/vnd.jupyter.widget-view+json": {
       "model_id": "4f9f55bb794240a4b21bebc1243e021a",
       "version_major": 2,
       "version_minor": 0
      },
      "text/plain": [
       "IpythonBar(children=(HTML(value='  0.0%'), FloatProgress(value=0.0)))"
      ]
     },
     "metadata": {},
     "output_type": "display_data"
    },
    {
     "data": {
      "text/plain": [
       "\u001b[K\u001b[F\u001b[K\u001b[F\u001b[K\u001b[F \u001b[1mIters\u001b[0m    \u001b[1mElapsed Time\u001b[0m       \u001b[1mSpeed\u001b[0m            \u001b[1mLoss_D\u001b[0m           \u001b[1mLoss_G\u001b[0m   \u001b[1mEpoch\u001b[0m   \n",
       " \u001b[99m24/\u001b[93m24\u001b[0m\u001b[0m  \u001b[99m00:00:00<\u001b[93m00:00:00\u001b[0m\u001b[0m  \u001b[99m41.81it/s\u001b[0m  \u001b[99m-6.141834844239299e+17\u001b[0m  \u001b[99m-29.3759\u001b[0m   \u001b[99m405\u001b[0m    \n",
       " \u001b[1mStep\u001b[0m                                                                           \n",
       " \u001b[99m9720\u001b[0m                                                                           "
      ]
     },
     "metadata": {},
     "output_type": "display_data"
    },
    {
     "data": {
      "application/vnd.jupyter.widget-view+json": {
       "model_id": "408d5d46cac24f0e9056a54fc9dff193",
       "version_major": 2,
       "version_minor": 0
      },
      "text/plain": [
       "IpythonBar(children=(HTML(value='  0.0%'), FloatProgress(value=0.0)))"
      ]
     },
     "metadata": {},
     "output_type": "display_data"
    },
    {
     "data": {
      "text/plain": [
       "\u001b[K\u001b[F\u001b[K\u001b[F\u001b[K\u001b[F \u001b[1mIters\u001b[0m    \u001b[1mElapsed Time\u001b[0m       \u001b[1mSpeed\u001b[0m            \u001b[1mLoss_D\u001b[0m           \u001b[1mLoss_G\u001b[0m   \u001b[1mEpoch\u001b[0m   \n",
       " \u001b[99m24/\u001b[93m24\u001b[0m\u001b[0m  \u001b[99m00:00:00<\u001b[93m00:00:00\u001b[0m\u001b[0m  \u001b[99m33.47it/s\u001b[0m  \u001b[99m-5.728261448191181e+17\u001b[0m  \u001b[99m-29.8515\u001b[0m   \u001b[99m406\u001b[0m    \n",
       " \u001b[1mStep\u001b[0m                                                                           \n",
       " \u001b[99m9744\u001b[0m                                                                           "
      ]
     },
     "metadata": {},
     "output_type": "display_data"
    },
    {
     "data": {
      "application/vnd.jupyter.widget-view+json": {
       "model_id": "c1165816e0364f219b71620877db6667",
       "version_major": 2,
       "version_minor": 0
      },
      "text/plain": [
       "IpythonBar(children=(HTML(value='  0.0%'), FloatProgress(value=0.0)))"
      ]
     },
     "metadata": {},
     "output_type": "display_data"
    },
    {
     "data": {
      "text/plain": [
       "\u001b[K\u001b[F\u001b[K\u001b[F\u001b[K\u001b[F \u001b[1mIters\u001b[0m    \u001b[1mElapsed Time\u001b[0m       \u001b[1mSpeed\u001b[0m            \u001b[1mLoss_D\u001b[0m           \u001b[1mLoss_G\u001b[0m   \u001b[1mEpoch\u001b[0m   \n",
       " \u001b[99m24/\u001b[93m24\u001b[0m\u001b[0m  \u001b[99m00:00:00<\u001b[93m00:00:00\u001b[0m\u001b[0m  \u001b[99m47.61it/s\u001b[0m  \u001b[99m-5.418272698998456e+17\u001b[0m  \u001b[99m-29.3671\u001b[0m   \u001b[99m407\u001b[0m    \n",
       " \u001b[1mStep\u001b[0m                                                                           \n",
       " \u001b[99m9768\u001b[0m                                                                           "
      ]
     },
     "metadata": {},
     "output_type": "display_data"
    },
    {
     "data": {
      "application/vnd.jupyter.widget-view+json": {
       "model_id": "dc99ac85de614846b93b27dd916dfc79",
       "version_major": 2,
       "version_minor": 0
      },
      "text/plain": [
       "IpythonBar(children=(HTML(value='  0.0%'), FloatProgress(value=0.0)))"
      ]
     },
     "metadata": {},
     "output_type": "display_data"
    },
    {
     "data": {
      "text/plain": [
       "\u001b[K\u001b[F\u001b[K\u001b[F\u001b[K\u001b[F \u001b[1mIters\u001b[0m    \u001b[1mElapsed Time\u001b[0m       \u001b[1mSpeed\u001b[0m            \u001b[1mLoss_D\u001b[0m           \u001b[1mLoss_G\u001b[0m   \u001b[1mEpoch\u001b[0m   \n",
       " \u001b[99m24/\u001b[93m24\u001b[0m\u001b[0m  \u001b[99m00:00:00<\u001b[93m00:00:00\u001b[0m\u001b[0m  \u001b[99m48.33it/s\u001b[0m  \u001b[99m-5.913893714295521e+17\u001b[0m  \u001b[99m-29.7871\u001b[0m   \u001b[99m408\u001b[0m    \n",
       " \u001b[1mStep\u001b[0m                                                                           \n",
       " \u001b[99m9792\u001b[0m                                                                           "
      ]
     },
     "metadata": {},
     "output_type": "display_data"
    },
    {
     "data": {
      "application/vnd.jupyter.widget-view+json": {
       "model_id": "d2458a7ad9124270af9afea1a4917acb",
       "version_major": 2,
       "version_minor": 0
      },
      "text/plain": [
       "IpythonBar(children=(HTML(value='  0.0%'), FloatProgress(value=0.0)))"
      ]
     },
     "metadata": {},
     "output_type": "display_data"
    },
    {
     "data": {
      "text/plain": [
       "\u001b[K\u001b[F\u001b[K\u001b[F\u001b[K\u001b[F \u001b[1mIters\u001b[0m    \u001b[1mElapsed Time\u001b[0m       \u001b[1mSpeed\u001b[0m            \u001b[1mLoss_D\u001b[0m          \u001b[1mLoss_G\u001b[0m   \u001b[1mEpoch\u001b[0m    \n",
       " \u001b[99m24/\u001b[93m24\u001b[0m\u001b[0m  \u001b[99m00:00:00<\u001b[93m00:00:00\u001b[0m\u001b[0m  \u001b[99m49.31it/s\u001b[0m  \u001b[99m-6.418136618741268e+17\u001b[0m  \u001b[99m-30.213\u001b[0m   \u001b[99m409\u001b[0m     \n",
       " \u001b[1mStep\u001b[0m                                                                           \n",
       " \u001b[99m9816\u001b[0m                                                                           "
      ]
     },
     "metadata": {},
     "output_type": "display_data"
    },
    {
     "data": {
      "application/vnd.jupyter.widget-view+json": {
       "model_id": "ac35670503864f7abd19839b5ace76d0",
       "version_major": 2,
       "version_minor": 0
      },
      "text/plain": [
       "IpythonBar(children=(HTML(value='  0.0%'), FloatProgress(value=0.0)))"
      ]
     },
     "metadata": {},
     "output_type": "display_data"
    },
    {
     "data": {
      "text/plain": [
       "\u001b[K\u001b[F\u001b[K\u001b[F\u001b[K\u001b[F \u001b[1mIters\u001b[0m    \u001b[1mElapsed Time\u001b[0m       \u001b[1mSpeed\u001b[0m            \u001b[1mLoss_D\u001b[0m          \u001b[1mLoss_G\u001b[0m   \u001b[1mEpoch\u001b[0m    \n",
       " \u001b[99m24/\u001b[93m24\u001b[0m\u001b[0m  \u001b[99m00:00:00<\u001b[93m00:00:00\u001b[0m\u001b[0m  \u001b[99m41.77it/s\u001b[0m  \u001b[99m-5.084280236581847e+17\u001b[0m  \u001b[99m-30.182\u001b[0m   \u001b[99m410\u001b[0m     \n",
       " \u001b[1mStep\u001b[0m                                                                           \n",
       " \u001b[99m9840\u001b[0m                                                                           "
      ]
     },
     "metadata": {},
     "output_type": "display_data"
    },
    {
     "data": {
      "application/vnd.jupyter.widget-view+json": {
       "model_id": "d9414648a5d04a9b85e6cda0bdd6b2eb",
       "version_major": 2,
       "version_minor": 0
      },
      "text/plain": [
       "IpythonBar(children=(HTML(value='  0.0%'), FloatProgress(value=0.0)))"
      ]
     },
     "metadata": {},
     "output_type": "display_data"
    },
    {
     "data": {
      "text/plain": [
       "\u001b[K\u001b[F\u001b[K\u001b[F\u001b[K\u001b[F \u001b[1mIters\u001b[0m    \u001b[1mElapsed Time\u001b[0m       \u001b[1mSpeed\u001b[0m            \u001b[1mLoss_D\u001b[0m          \u001b[1mLoss_G\u001b[0m   \u001b[1mEpoch\u001b[0m    \n",
       " \u001b[99m24/\u001b[93m24\u001b[0m\u001b[0m  \u001b[99m00:00:00<\u001b[93m00:00:00\u001b[0m\u001b[0m  \u001b[99m47.08it/s\u001b[0m  \u001b[99m-5.534355013490442e+17\u001b[0m  \u001b[99m-30.381\u001b[0m   \u001b[99m411\u001b[0m     \n",
       " \u001b[1mStep\u001b[0m                                                                           \n",
       " \u001b[99m9864\u001b[0m                                                                           "
      ]
     },
     "metadata": {},
     "output_type": "display_data"
    },
    {
     "data": {
      "application/vnd.jupyter.widget-view+json": {
       "model_id": "f29e7cd9a0404746a81ad7ec6f741ff2",
       "version_major": 2,
       "version_minor": 0
      },
      "text/plain": [
       "IpythonBar(children=(HTML(value='  0.0%'), FloatProgress(value=0.0)))"
      ]
     },
     "metadata": {},
     "output_type": "display_data"
    },
    {
     "data": {
      "text/plain": [
       "\u001b[K\u001b[F\u001b[K\u001b[F\u001b[K\u001b[F \u001b[1mIters\u001b[0m    \u001b[1mElapsed Time\u001b[0m       \u001b[1mSpeed\u001b[0m            \u001b[1mLoss_D\u001b[0m           \u001b[1mLoss_G\u001b[0m   \u001b[1mEpoch\u001b[0m   \n",
       " \u001b[99m24/\u001b[93m24\u001b[0m\u001b[0m  \u001b[99m00:00:00<\u001b[93m00:00:00\u001b[0m\u001b[0m  \u001b[99m48.99it/s\u001b[0m  \u001b[99m-5.972758818067579e+17\u001b[0m  \u001b[99m-29.8442\u001b[0m   \u001b[99m412\u001b[0m    \n",
       " \u001b[1mStep\u001b[0m                                                                           \n",
       " \u001b[99m9888\u001b[0m                                                                           "
      ]
     },
     "metadata": {},
     "output_type": "display_data"
    },
    {
     "data": {
      "application/vnd.jupyter.widget-view+json": {
       "model_id": "2df174c5e8064db9a1ebe20f8eb2ac93",
       "version_major": 2,
       "version_minor": 0
      },
      "text/plain": [
       "IpythonBar(children=(HTML(value='  0.0%'), FloatProgress(value=0.0)))"
      ]
     },
     "metadata": {},
     "output_type": "display_data"
    },
    {
     "data": {
      "text/plain": [
       "\u001b[K\u001b[F\u001b[K\u001b[F\u001b[K\u001b[F \u001b[1mIters\u001b[0m    \u001b[1mElapsed Time\u001b[0m       \u001b[1mSpeed\u001b[0m            \u001b[1mLoss_D\u001b[0m          \u001b[1mLoss_G\u001b[0m   \u001b[1mEpoch\u001b[0m    \n",
       " \u001b[99m24/\u001b[93m24\u001b[0m\u001b[0m  \u001b[99m00:00:00<\u001b[93m00:00:00\u001b[0m\u001b[0m  \u001b[99m47.07it/s\u001b[0m  \u001b[99m-6.218784852703969e+17\u001b[0m  \u001b[99m-30.215\u001b[0m   \u001b[99m413\u001b[0m     \n",
       " \u001b[1mStep\u001b[0m                                                                           \n",
       " \u001b[99m9912\u001b[0m                                                                           "
      ]
     },
     "metadata": {},
     "output_type": "display_data"
    },
    {
     "data": {
      "application/vnd.jupyter.widget-view+json": {
       "model_id": "8dd6ee320e6f459580097ca0952540d2",
       "version_major": 2,
       "version_minor": 0
      },
      "text/plain": [
       "IpythonBar(children=(HTML(value='  0.0%'), FloatProgress(value=0.0)))"
      ]
     },
     "metadata": {},
     "output_type": "display_data"
    },
    {
     "data": {
      "text/plain": [
       "\u001b[K\u001b[F\u001b[K\u001b[F\u001b[K\u001b[F \u001b[1mIters\u001b[0m    \u001b[1mElapsed Time\u001b[0m       \u001b[1mSpeed\u001b[0m            \u001b[1mLoss_D\u001b[0m          \u001b[1mLoss_G\u001b[0m   \u001b[1mEpoch\u001b[0m    \n",
       " \u001b[99m24/\u001b[93m24\u001b[0m\u001b[0m  \u001b[99m00:00:00<\u001b[93m00:00:00\u001b[0m\u001b[0m  \u001b[99m47.85it/s\u001b[0m  \u001b[99m-5.602150213264343e+17\u001b[0m  \u001b[99m-30.761\u001b[0m   \u001b[99m414\u001b[0m     \n",
       " \u001b[1mStep\u001b[0m                                                                           \n",
       " \u001b[99m9936\u001b[0m                                                                           "
      ]
     },
     "metadata": {},
     "output_type": "display_data"
    },
    {
     "data": {
      "application/vnd.jupyter.widget-view+json": {
       "model_id": "6ff0787f2a4141f286bc29e9f71aa889",
       "version_major": 2,
       "version_minor": 0
      },
      "text/plain": [
       "IpythonBar(children=(HTML(value='  0.0%'), FloatProgress(value=0.0)))"
      ]
     },
     "metadata": {},
     "output_type": "display_data"
    },
    {
     "data": {
      "text/plain": [
       "\u001b[K\u001b[F\u001b[K\u001b[F\u001b[K\u001b[F \u001b[1mIters\u001b[0m    \u001b[1mElapsed Time\u001b[0m       \u001b[1mSpeed\u001b[0m           \u001b[1mLoss_D\u001b[0m          \u001b[1mLoss_G\u001b[0m  \u001b[1mEpoch\u001b[0m      \n",
       " \u001b[99m24/\u001b[93m24\u001b[0m\u001b[0m  \u001b[99m00:00:00<\u001b[93m00:00:00\u001b[0m\u001b[0m  \u001b[99m41.37it/s\u001b[0m  \u001b[99m-5.71538582343254e+17\u001b[0m  \u001b[99m-30.02\u001b[0m   \u001b[99m415\u001b[0m       \n",
       " \u001b[1mStep\u001b[0m                                                                           \n",
       " \u001b[99m9960\u001b[0m                                                                           "
      ]
     },
     "metadata": {},
     "output_type": "display_data"
    },
    {
     "data": {
      "application/vnd.jupyter.widget-view+json": {
       "model_id": "14bbf29a43294ad9bf661f7450633b8d",
       "version_major": 2,
       "version_minor": 0
      },
      "text/plain": [
       "IpythonBar(children=(HTML(value='  0.0%'), FloatProgress(value=0.0)))"
      ]
     },
     "metadata": {},
     "output_type": "display_data"
    },
    {
     "data": {
      "text/plain": [
       "\u001b[K\u001b[F\u001b[K\u001b[F\u001b[K\u001b[F \u001b[1mIters\u001b[0m    \u001b[1mElapsed Time\u001b[0m       \u001b[1mSpeed\u001b[0m            \u001b[1mLoss_D\u001b[0m           \u001b[1mLoss_G\u001b[0m   \u001b[1mEpoch\u001b[0m   \n",
       " \u001b[99m24/\u001b[93m24\u001b[0m\u001b[0m  \u001b[99m00:00:00<\u001b[93m00:00:00\u001b[0m\u001b[0m  \u001b[99m47.72it/s\u001b[0m  \u001b[99m-6.198131213970964e+17\u001b[0m  \u001b[99m-31.0847\u001b[0m   \u001b[99m416\u001b[0m    \n",
       " \u001b[1mStep\u001b[0m                                                                           \n",
       " \u001b[99m9984\u001b[0m                                                                           "
      ]
     },
     "metadata": {},
     "output_type": "display_data"
    },
    {
     "data": {
      "application/vnd.jupyter.widget-view+json": {
       "model_id": "a4a2fcef84bd4db1982d016b771847bb",
       "version_major": 2,
       "version_minor": 0
      },
      "text/plain": [
       "IpythonBar(children=(HTML(value='  0.0%'), FloatProgress(value=0.0)))"
      ]
     },
     "metadata": {},
     "output_type": "display_data"
    },
    {
     "data": {
      "text/plain": [
       "\u001b[K\u001b[F\u001b[K\u001b[F\u001b[K\u001b[F \u001b[1mIters\u001b[0m    \u001b[1mElapsed Time\u001b[0m       \u001b[1mSpeed\u001b[0m            \u001b[1mLoss_D\u001b[0m           \u001b[1mLoss_G\u001b[0m   \u001b[1mEpoch\u001b[0m   \n",
       " \u001b[99m24/\u001b[93m24\u001b[0m\u001b[0m  \u001b[99m00:00:00<\u001b[93m00:00:00\u001b[0m\u001b[0m  \u001b[99m47.62it/s\u001b[0m  \u001b[99m-5.374926858255073e+17\u001b[0m  \u001b[99m-30.7101\u001b[0m   \u001b[99m417\u001b[0m    \n",
       " \u001b[1mStep\u001b[0m                                                                           \n",
       " \u001b[99m10008\u001b[0m                                                                          "
      ]
     },
     "metadata": {},
     "output_type": "display_data"
    },
    {
     "data": {
      "application/vnd.jupyter.widget-view+json": {
       "model_id": "0f7215afc2294f7eb86fcd2977036c48",
       "version_major": 2,
       "version_minor": 0
      },
      "text/plain": [
       "IpythonBar(children=(HTML(value='  0.0%'), FloatProgress(value=0.0)))"
      ]
     },
     "metadata": {},
     "output_type": "display_data"
    },
    {
     "data": {
      "text/plain": [
       "\u001b[K\u001b[F\u001b[K\u001b[F\u001b[K\u001b[F \u001b[1mIters\u001b[0m    \u001b[1mElapsed Time\u001b[0m       \u001b[1mSpeed\u001b[0m            \u001b[1mLoss_D\u001b[0m           \u001b[1mLoss_G\u001b[0m   \u001b[1mEpoch\u001b[0m   \n",
       " \u001b[99m24/\u001b[93m24\u001b[0m\u001b[0m  \u001b[99m00:00:00<\u001b[93m00:00:00\u001b[0m\u001b[0m  \u001b[99m48.12it/s\u001b[0m  \u001b[99m-5.981704032354304e+17\u001b[0m  \u001b[99m-30.6961\u001b[0m   \u001b[99m418\u001b[0m    \n",
       " \u001b[1mStep\u001b[0m                                                                           \n",
       " \u001b[99m10032\u001b[0m                                                                          "
      ]
     },
     "metadata": {},
     "output_type": "display_data"
    },
    {
     "data": {
      "application/vnd.jupyter.widget-view+json": {
       "model_id": "6719529399a74f058edacd279f779baa",
       "version_major": 2,
       "version_minor": 0
      },
      "text/plain": [
       "IpythonBar(children=(HTML(value='  0.0%'), FloatProgress(value=0.0)))"
      ]
     },
     "metadata": {},
     "output_type": "display_data"
    },
    {
     "data": {
      "text/plain": [
       "\u001b[K\u001b[F\u001b[K\u001b[F\u001b[K\u001b[F \u001b[1mIters\u001b[0m    \u001b[1mElapsed Time\u001b[0m       \u001b[1mSpeed\u001b[0m            \u001b[1mLoss_D\u001b[0m           \u001b[1mLoss_G\u001b[0m   \u001b[1mEpoch\u001b[0m   \n",
       " \u001b[99m24/\u001b[93m24\u001b[0m\u001b[0m  \u001b[99m00:00:00<\u001b[93m00:00:00\u001b[0m\u001b[0m  \u001b[99m47.88it/s\u001b[0m  \u001b[99m-6.288453345413693e+17\u001b[0m  \u001b[99m-30.5328\u001b[0m   \u001b[99m419\u001b[0m    \n",
       " \u001b[1mStep\u001b[0m                                                                           \n",
       " \u001b[99m10056\u001b[0m                                                                          "
      ]
     },
     "metadata": {},
     "output_type": "display_data"
    },
    {
     "data": {
      "application/vnd.jupyter.widget-view+json": {
       "model_id": "6523edd26713428bbb1b5ea00eabcfdc",
       "version_major": 2,
       "version_minor": 0
      },
      "text/plain": [
       "IpythonBar(children=(HTML(value='  0.0%'), FloatProgress(value=0.0)))"
      ]
     },
     "metadata": {},
     "output_type": "display_data"
    },
    {
     "data": {
      "text/plain": [
       "\u001b[K\u001b[F\u001b[K\u001b[F\u001b[K\u001b[F \u001b[1mIters\u001b[0m    \u001b[1mElapsed Time\u001b[0m       \u001b[1mSpeed\u001b[0m            \u001b[1mLoss_D\u001b[0m           \u001b[1mLoss_G\u001b[0m   \u001b[1mEpoch\u001b[0m   \n",
       " \u001b[99m24/\u001b[93m24\u001b[0m\u001b[0m  \u001b[99m00:00:00<\u001b[93m00:00:00\u001b[0m\u001b[0m  \u001b[99m41.85it/s\u001b[0m  \u001b[99m-5.687944418384937e+17\u001b[0m  \u001b[99m-30.5756\u001b[0m   \u001b[99m420\u001b[0m    \n",
       " \u001b[1mStep\u001b[0m                                                                           \n",
       " \u001b[99m10080\u001b[0m                                                                          "
      ]
     },
     "metadata": {},
     "output_type": "display_data"
    },
    {
     "data": {
      "application/vnd.jupyter.widget-view+json": {
       "model_id": "f3a03827a7e1472fa6187333c4859695",
       "version_major": 2,
       "version_minor": 0
      },
      "text/plain": [
       "IpythonBar(children=(HTML(value='  0.0%'), FloatProgress(value=0.0)))"
      ]
     },
     "metadata": {},
     "output_type": "display_data"
    },
    {
     "data": {
      "text/plain": [
       "\u001b[K\u001b[F\u001b[K\u001b[F\u001b[K\u001b[F \u001b[1mIters\u001b[0m    \u001b[1mElapsed Time\u001b[0m       \u001b[1mSpeed\u001b[0m            \u001b[1mLoss_D\u001b[0m          \u001b[1mLoss_G\u001b[0m   \u001b[1mEpoch\u001b[0m    \n",
       " \u001b[99m24/\u001b[93m24\u001b[0m\u001b[0m  \u001b[99m00:00:00<\u001b[93m00:00:00\u001b[0m\u001b[0m  \u001b[99m48.34it/s\u001b[0m  \u001b[99m-6.309893822155325e+17\u001b[0m  \u001b[99m-30.509\u001b[0m   \u001b[99m421\u001b[0m     \n",
       " \u001b[1mStep\u001b[0m                                                                           \n",
       " \u001b[99m10104\u001b[0m                                                                          "
      ]
     },
     "metadata": {},
     "output_type": "display_data"
    },
    {
     "data": {
      "application/vnd.jupyter.widget-view+json": {
       "model_id": "31c0f4a5d7344c3dbd39ae07471d1dd3",
       "version_major": 2,
       "version_minor": 0
      },
      "text/plain": [
       "IpythonBar(children=(HTML(value='  0.0%'), FloatProgress(value=0.0)))"
      ]
     },
     "metadata": {},
     "output_type": "display_data"
    },
    {
     "data": {
      "text/plain": [
       "\u001b[K\u001b[F\u001b[K\u001b[F\u001b[K\u001b[F \u001b[1mIters\u001b[0m    \u001b[1mElapsed Time\u001b[0m       \u001b[1mSpeed\u001b[0m            \u001b[1mLoss_D\u001b[0m           \u001b[1mLoss_G\u001b[0m   \u001b[1mEpoch\u001b[0m   \n",
       " \u001b[99m24/\u001b[93m24\u001b[0m\u001b[0m  \u001b[99m00:00:00<\u001b[93m00:00:00\u001b[0m\u001b[0m  \u001b[99m48.55it/s\u001b[0m  \u001b[99m-5.386104768340951e+17\u001b[0m  \u001b[99m-30.4647\u001b[0m   \u001b[99m422\u001b[0m    \n",
       " \u001b[1mStep\u001b[0m                                                                           \n",
       " \u001b[99m10128\u001b[0m                                                                          "
      ]
     },
     "metadata": {},
     "output_type": "display_data"
    },
    {
     "data": {
      "application/vnd.jupyter.widget-view+json": {
       "model_id": "5e3a69fc9c5f4a3a82827c922f554aee",
       "version_major": 2,
       "version_minor": 0
      },
      "text/plain": [
       "IpythonBar(children=(HTML(value='  0.0%'), FloatProgress(value=0.0)))"
      ]
     },
     "metadata": {},
     "output_type": "display_data"
    },
    {
     "data": {
      "text/plain": [
       "\u001b[K\u001b[F\u001b[K\u001b[F\u001b[K\u001b[F \u001b[1mIters\u001b[0m    \u001b[1mElapsed Time\u001b[0m       \u001b[1mSpeed\u001b[0m            \u001b[1mLoss_D\u001b[0m           \u001b[1mLoss_G\u001b[0m   \u001b[1mEpoch\u001b[0m   \n",
       " \u001b[99m24/\u001b[93m24\u001b[0m\u001b[0m  \u001b[99m00:00:00<\u001b[93m00:00:00\u001b[0m\u001b[0m  \u001b[99m45.42it/s\u001b[0m  \u001b[99m-5.347638010445824e+17\u001b[0m  \u001b[99m-30.1153\u001b[0m   \u001b[99m423\u001b[0m    \n",
       " \u001b[1mStep\u001b[0m                                                                           \n",
       " \u001b[99m10152\u001b[0m                                                                          "
      ]
     },
     "metadata": {},
     "output_type": "display_data"
    },
    {
     "data": {
      "application/vnd.jupyter.widget-view+json": {
       "model_id": "8ce7904c4d7341a4ab8795dcc6fe4b33",
       "version_major": 2,
       "version_minor": 0
      },
      "text/plain": [
       "IpythonBar(children=(HTML(value='  0.0%'), FloatProgress(value=0.0)))"
      ]
     },
     "metadata": {},
     "output_type": "display_data"
    },
    {
     "data": {
      "text/plain": [
       "\u001b[K\u001b[F\u001b[K\u001b[F\u001b[K\u001b[F \u001b[1mIters\u001b[0m    \u001b[1mElapsed Time\u001b[0m       \u001b[1mSpeed\u001b[0m            \u001b[1mLoss_D\u001b[0m           \u001b[1mLoss_G\u001b[0m   \u001b[1mEpoch\u001b[0m   \n",
       " \u001b[99m24/\u001b[93m24\u001b[0m\u001b[0m  \u001b[99m00:00:00<\u001b[93m00:00:00\u001b[0m\u001b[0m  \u001b[99m47.30it/s\u001b[0m  \u001b[99m-6.211392698591478e+17\u001b[0m  \u001b[99m-30.6502\u001b[0m   \u001b[99m424\u001b[0m    \n",
       " \u001b[1mStep\u001b[0m                                                                           \n",
       " \u001b[99m10176\u001b[0m                                                                          "
      ]
     },
     "metadata": {},
     "output_type": "display_data"
    },
    {
     "data": {
      "application/vnd.jupyter.widget-view+json": {
       "model_id": "f94004e8aa644d3c900f91a1f52099f3",
       "version_major": 2,
       "version_minor": 0
      },
      "text/plain": [
       "IpythonBar(children=(HTML(value='  0.0%'), FloatProgress(value=0.0)))"
      ]
     },
     "metadata": {},
     "output_type": "display_data"
    },
    {
     "data": {
      "text/plain": [
       "\u001b[K\u001b[F\u001b[K\u001b[F\u001b[K\u001b[F \u001b[1mIters\u001b[0m    \u001b[1mElapsed Time\u001b[0m       \u001b[1mSpeed\u001b[0m            \u001b[1mLoss_D\u001b[0m          \u001b[1mLoss_G\u001b[0m   \u001b[1mEpoch\u001b[0m    \n",
       " \u001b[99m24/\u001b[93m24\u001b[0m\u001b[0m  \u001b[99m00:00:00<\u001b[93m00:00:00\u001b[0m\u001b[0m  \u001b[99m41.28it/s\u001b[0m  \u001b[99m-6.760209804427264e+17\u001b[0m  \u001b[99m-30.229\u001b[0m   \u001b[99m425\u001b[0m     \n",
       " \u001b[1mStep\u001b[0m                                                                           \n",
       " \u001b[99m10200\u001b[0m                                                                          "
      ]
     },
     "metadata": {},
     "output_type": "display_data"
    },
    {
     "data": {
      "application/vnd.jupyter.widget-view+json": {
       "model_id": "8f6f6d0aca0a45e69db0b7199e71a960",
       "version_major": 2,
       "version_minor": 0
      },
      "text/plain": [
       "IpythonBar(children=(HTML(value='  0.0%'), FloatProgress(value=0.0)))"
      ]
     },
     "metadata": {},
     "output_type": "display_data"
    },
    {
     "data": {
      "text/plain": [
       "\u001b[K\u001b[F\u001b[K\u001b[F\u001b[K\u001b[F \u001b[1mIters\u001b[0m    \u001b[1mElapsed Time\u001b[0m       \u001b[1mSpeed\u001b[0m            \u001b[1mLoss_D\u001b[0m            \u001b[1mLoss_G\u001b[0m   \u001b[1mEpoch\u001b[0m  \n",
       " \u001b[99m24/\u001b[93m24\u001b[0m\u001b[0m  \u001b[99m00:00:00<\u001b[93m00:00:00\u001b[0m\u001b[0m  \u001b[99m47.85it/s\u001b[0m  \u001b[99m-5.7184424657577574e+17\u001b[0m  \u001b[99m-30.2799\u001b[0m   \u001b[99m426\u001b[0m   \n",
       " \u001b[1mStep\u001b[0m                                                                           \n",
       " \u001b[99m10224\u001b[0m                                                                          "
      ]
     },
     "metadata": {},
     "output_type": "display_data"
    },
    {
     "data": {
      "application/vnd.jupyter.widget-view+json": {
       "model_id": "6a2ced866efb4a2fb076e563572eeb38",
       "version_major": 2,
       "version_minor": 0
      },
      "text/plain": [
       "IpythonBar(children=(HTML(value='  0.0%'), FloatProgress(value=0.0)))"
      ]
     },
     "metadata": {},
     "output_type": "display_data"
    },
    {
     "data": {
      "text/plain": [
       "\u001b[K\u001b[F\u001b[K\u001b[F\u001b[K\u001b[F \u001b[1mIters\u001b[0m    \u001b[1mElapsed Time\u001b[0m       \u001b[1mSpeed\u001b[0m            \u001b[1mLoss_D\u001b[0m           \u001b[1mLoss_G\u001b[0m   \u001b[1mEpoch\u001b[0m   \n",
       " \u001b[99m24/\u001b[93m24\u001b[0m\u001b[0m  \u001b[99m00:00:00<\u001b[93m00:00:00\u001b[0m\u001b[0m  \u001b[99m48.98it/s\u001b[0m  \u001b[99m-7.128841006287421e+17\u001b[0m  \u001b[99m-30.5158\u001b[0m   \u001b[99m427\u001b[0m    \n",
       " \u001b[1mStep\u001b[0m                                                                           \n",
       " \u001b[99m10248\u001b[0m                                                                          "
      ]
     },
     "metadata": {},
     "output_type": "display_data"
    },
    {
     "data": {
      "application/vnd.jupyter.widget-view+json": {
       "model_id": "20ecc7e35e21458087833ee207aa1f19",
       "version_major": 2,
       "version_minor": 0
      },
      "text/plain": [
       "IpythonBar(children=(HTML(value='  0.0%'), FloatProgress(value=0.0)))"
      ]
     },
     "metadata": {},
     "output_type": "display_data"
    },
    {
     "data": {
      "text/plain": [
       "\u001b[K\u001b[F\u001b[K\u001b[F\u001b[K\u001b[F \u001b[1mIters\u001b[0m    \u001b[1mElapsed Time\u001b[0m       \u001b[1mSpeed\u001b[0m            \u001b[1mLoss_D\u001b[0m           \u001b[1mLoss_G\u001b[0m   \u001b[1mEpoch\u001b[0m   \n",
       " \u001b[99m24/\u001b[93m24\u001b[0m\u001b[0m  \u001b[99m00:00:00<\u001b[93m00:00:00\u001b[0m\u001b[0m  \u001b[99m48.06it/s\u001b[0m  \u001b[99m-5.713770915729244e+17\u001b[0m  \u001b[99m-30.5326\u001b[0m   \u001b[99m428\u001b[0m    \n",
       " \u001b[1mStep\u001b[0m                                                                           \n",
       " \u001b[99m10272\u001b[0m                                                                          "
      ]
     },
     "metadata": {},
     "output_type": "display_data"
    },
    {
     "data": {
      "application/vnd.jupyter.widget-view+json": {
       "model_id": "e2a9b79630b74660a1d1c1d26d3ead3e",
       "version_major": 2,
       "version_minor": 0
      },
      "text/plain": [
       "IpythonBar(children=(HTML(value='  0.0%'), FloatProgress(value=0.0)))"
      ]
     },
     "metadata": {},
     "output_type": "display_data"
    },
    {
     "data": {
      "text/plain": [
       "\u001b[K\u001b[F\u001b[K\u001b[F\u001b[K\u001b[F \u001b[1mIters\u001b[0m    \u001b[1mElapsed Time\u001b[0m       \u001b[1mSpeed\u001b[0m           \u001b[1mLoss_D\u001b[0m           \u001b[1mLoss_G\u001b[0m   \u001b[1mEpoch\u001b[0m    \n",
       " \u001b[99m24/\u001b[93m24\u001b[0m\u001b[0m  \u001b[99m00:00:00<\u001b[93m00:00:00\u001b[0m\u001b[0m  \u001b[99m45.51it/s\u001b[0m  \u001b[99m-6.11093169555112e+17\u001b[0m  \u001b[99m-31.0671\u001b[0m   \u001b[99m429\u001b[0m     \n",
       " \u001b[1mStep\u001b[0m                                                                           \n",
       " \u001b[99m10296\u001b[0m                                                                          "
      ]
     },
     "metadata": {},
     "output_type": "display_data"
    },
    {
     "data": {
      "application/vnd.jupyter.widget-view+json": {
       "model_id": "cb4d2092cb1e4a4ba08eefc2c582c02e",
       "version_major": 2,
       "version_minor": 0
      },
      "text/plain": [
       "IpythonBar(children=(HTML(value='  0.0%'), FloatProgress(value=0.0)))"
      ]
     },
     "metadata": {},
     "output_type": "display_data"
    },
    {
     "data": {
      "text/plain": [
       "\u001b[K\u001b[F\u001b[K\u001b[F\u001b[K\u001b[F \u001b[1mIters\u001b[0m    \u001b[1mElapsed Time\u001b[0m       \u001b[1mSpeed\u001b[0m            \u001b[1mLoss_D\u001b[0m           \u001b[1mLoss_G\u001b[0m   \u001b[1mEpoch\u001b[0m   \n",
       " \u001b[99m24/\u001b[93m24\u001b[0m\u001b[0m  \u001b[99m00:00:00<\u001b[93m00:00:00\u001b[0m\u001b[0m  \u001b[99m41.89it/s\u001b[0m  \u001b[99m-6.791976756938015e+17\u001b[0m  \u001b[99m-30.8792\u001b[0m   \u001b[99m430\u001b[0m    \n",
       " \u001b[1mStep\u001b[0m                                                                           \n",
       " \u001b[99m10320\u001b[0m                                                                          "
      ]
     },
     "metadata": {},
     "output_type": "display_data"
    },
    {
     "data": {
      "application/vnd.jupyter.widget-view+json": {
       "model_id": "5bf164f66b2241d5973ee88f361d0852",
       "version_major": 2,
       "version_minor": 0
      },
      "text/plain": [
       "IpythonBar(children=(HTML(value='  0.0%'), FloatProgress(value=0.0)))"
      ]
     },
     "metadata": {},
     "output_type": "display_data"
    },
    {
     "data": {
      "text/plain": [
       "\u001b[K\u001b[F\u001b[K\u001b[F\u001b[K\u001b[F \u001b[1mIters\u001b[0m    \u001b[1mElapsed Time\u001b[0m       \u001b[1mSpeed\u001b[0m            \u001b[1mLoss_D\u001b[0m           \u001b[1mLoss_G\u001b[0m   \u001b[1mEpoch\u001b[0m   \n",
       " \u001b[99m24/\u001b[93m24\u001b[0m\u001b[0m  \u001b[99m00:00:00<\u001b[93m00:00:00\u001b[0m\u001b[0m  \u001b[99m47.13it/s\u001b[0m  \u001b[99m-5.643839227423621e+17\u001b[0m  \u001b[99m-30.9311\u001b[0m   \u001b[99m431\u001b[0m    \n",
       " \u001b[1mStep\u001b[0m                                                                           \n",
       " \u001b[99m10344\u001b[0m                                                                          "
      ]
     },
     "metadata": {},
     "output_type": "display_data"
    },
    {
     "data": {
      "application/vnd.jupyter.widget-view+json": {
       "model_id": "41f23c1f342747eb9aea7fb3a9e24fd6",
       "version_major": 2,
       "version_minor": 0
      },
      "text/plain": [
       "IpythonBar(children=(HTML(value='  0.0%'), FloatProgress(value=0.0)))"
      ]
     },
     "metadata": {},
     "output_type": "display_data"
    },
    {
     "data": {
      "text/plain": [
       "\u001b[K\u001b[F\u001b[K\u001b[F\u001b[K\u001b[F \u001b[1mIters\u001b[0m    \u001b[1mElapsed Time\u001b[0m       \u001b[1mSpeed\u001b[0m            \u001b[1mLoss_D\u001b[0m          \u001b[1mLoss_G\u001b[0m   \u001b[1mEpoch\u001b[0m    \n",
       " \u001b[99m24/\u001b[93m24\u001b[0m\u001b[0m  \u001b[99m00:00:00<\u001b[93m00:00:00\u001b[0m\u001b[0m  \u001b[99m48.01it/s\u001b[0m  \u001b[99m-5.437453335747625e+17\u001b[0m  \u001b[99m-30.514\u001b[0m   \u001b[99m432\u001b[0m     \n",
       " \u001b[1mStep\u001b[0m                                                                           \n",
       " \u001b[99m10368\u001b[0m                                                                          "
      ]
     },
     "metadata": {},
     "output_type": "display_data"
    },
    {
     "data": {
      "application/vnd.jupyter.widget-view+json": {
       "model_id": "cd21166cb8d0459f9ff4e89d07df2e03",
       "version_major": 2,
       "version_minor": 0
      },
      "text/plain": [
       "IpythonBar(children=(HTML(value='  0.0%'), FloatProgress(value=0.0)))"
      ]
     },
     "metadata": {},
     "output_type": "display_data"
    },
    {
     "data": {
      "text/plain": [
       "\u001b[K\u001b[F\u001b[K\u001b[F\u001b[K\u001b[F \u001b[1mIters\u001b[0m    \u001b[1mElapsed Time\u001b[0m       \u001b[1mSpeed\u001b[0m            \u001b[1mLoss_D\u001b[0m           \u001b[1mLoss_G\u001b[0m   \u001b[1mEpoch\u001b[0m   \n",
       " \u001b[99m24/\u001b[93m24\u001b[0m\u001b[0m  \u001b[99m00:00:00<\u001b[93m00:00:00\u001b[0m\u001b[0m  \u001b[99m47.92it/s\u001b[0m  \u001b[99m-5.661360632406999e+17\u001b[0m  \u001b[99m-30.1466\u001b[0m   \u001b[99m433\u001b[0m    \n",
       " \u001b[1mStep\u001b[0m                                                                           \n",
       " \u001b[99m10392\u001b[0m                                                                          "
      ]
     },
     "metadata": {},
     "output_type": "display_data"
    },
    {
     "data": {
      "application/vnd.jupyter.widget-view+json": {
       "model_id": "fb9de233d7fd49cfb5c75a3016b55d45",
       "version_major": 2,
       "version_minor": 0
      },
      "text/plain": [
       "IpythonBar(children=(HTML(value='  0.0%'), FloatProgress(value=0.0)))"
      ]
     },
     "metadata": {},
     "output_type": "display_data"
    },
    {
     "data": {
      "text/plain": [
       "\u001b[K\u001b[F\u001b[K\u001b[F\u001b[K\u001b[F \u001b[1mIters\u001b[0m    \u001b[1mElapsed Time\u001b[0m       \u001b[1mSpeed\u001b[0m            \u001b[1mLoss_D\u001b[0m           \u001b[1mLoss_G\u001b[0m   \u001b[1mEpoch\u001b[0m   \n",
       " \u001b[99m24/\u001b[93m24\u001b[0m\u001b[0m  \u001b[99m00:00:00<\u001b[93m00:00:00\u001b[0m\u001b[0m  \u001b[99m48.85it/s\u001b[0m  \u001b[99m-7.304473557734523e+17\u001b[0m  \u001b[99m-30.8896\u001b[0m   \u001b[99m434\u001b[0m    \n",
       " \u001b[1mStep\u001b[0m                                                                           \n",
       " \u001b[99m10416\u001b[0m                                                                          "
      ]
     },
     "metadata": {},
     "output_type": "display_data"
    },
    {
     "data": {
      "application/vnd.jupyter.widget-view+json": {
       "model_id": "c0cd879c42c64dd49c71fc880916b76f",
       "version_major": 2,
       "version_minor": 0
      },
      "text/plain": [
       "IpythonBar(children=(HTML(value='  0.0%'), FloatProgress(value=0.0)))"
      ]
     },
     "metadata": {},
     "output_type": "display_data"
    },
    {
     "data": {
      "text/plain": [
       "\u001b[K\u001b[F\u001b[K\u001b[F\u001b[K\u001b[F \u001b[1mIters\u001b[0m    \u001b[1mElapsed Time\u001b[0m       \u001b[1mSpeed\u001b[0m            \u001b[1mLoss_D\u001b[0m           \u001b[1mLoss_G\u001b[0m   \u001b[1mEpoch\u001b[0m   \n",
       " \u001b[99m24/\u001b[93m24\u001b[0m\u001b[0m  \u001b[99m00:00:00<\u001b[93m00:00:00\u001b[0m\u001b[0m  \u001b[99m41.89it/s\u001b[0m  \u001b[99m-6.385784176288727e+17\u001b[0m  \u001b[99m-29.7093\u001b[0m   \u001b[99m435\u001b[0m    \n",
       " \u001b[1mStep\u001b[0m                                                                           \n",
       " \u001b[99m10440\u001b[0m                                                                          "
      ]
     },
     "metadata": {},
     "output_type": "display_data"
    },
    {
     "data": {
      "application/vnd.jupyter.widget-view+json": {
       "model_id": "89f1089857c9433e9c0a27951f962cd6",
       "version_major": 2,
       "version_minor": 0
      },
      "text/plain": [
       "IpythonBar(children=(HTML(value='  0.0%'), FloatProgress(value=0.0)))"
      ]
     },
     "metadata": {},
     "output_type": "display_data"
    },
    {
     "data": {
      "text/plain": [
       "\u001b[K\u001b[F\u001b[K\u001b[F\u001b[K\u001b[F \u001b[1mIters\u001b[0m    \u001b[1mElapsed Time\u001b[0m       \u001b[1mSpeed\u001b[0m            \u001b[1mLoss_D\u001b[0m           \u001b[1mLoss_G\u001b[0m   \u001b[1mEpoch\u001b[0m   \n",
       " \u001b[99m24/\u001b[93m24\u001b[0m\u001b[0m  \u001b[99m00:00:00<\u001b[93m00:00:00\u001b[0m\u001b[0m  \u001b[99m47.67it/s\u001b[0m  \u001b[99m-7.659266031369585e+17\u001b[0m  \u001b[99m-30.4143\u001b[0m   \u001b[99m436\u001b[0m    \n",
       " \u001b[1mStep\u001b[0m                                                                           \n",
       " \u001b[99m10464\u001b[0m                                                                          "
      ]
     },
     "metadata": {},
     "output_type": "display_data"
    },
    {
     "data": {
      "application/vnd.jupyter.widget-view+json": {
       "model_id": "a0e1e96fec834c3c9e45c6010aadbe43",
       "version_major": 2,
       "version_minor": 0
      },
      "text/plain": [
       "IpythonBar(children=(HTML(value='  0.0%'), FloatProgress(value=0.0)))"
      ]
     },
     "metadata": {},
     "output_type": "display_data"
    },
    {
     "data": {
      "text/plain": [
       "\u001b[K\u001b[F\u001b[K\u001b[F\u001b[K\u001b[F \u001b[1mIters\u001b[0m    \u001b[1mElapsed Time\u001b[0m       \u001b[1mSpeed\u001b[0m            \u001b[1mLoss_D\u001b[0m           \u001b[1mLoss_G\u001b[0m   \u001b[1mEpoch\u001b[0m   \n",
       " \u001b[99m24/\u001b[93m24\u001b[0m\u001b[0m  \u001b[99m00:00:00<\u001b[93m00:00:00\u001b[0m\u001b[0m  \u001b[99m44.78it/s\u001b[0m  \u001b[99m-6.007878593848279e+17\u001b[0m  \u001b[99m-30.1261\u001b[0m   \u001b[99m437\u001b[0m    \n",
       " \u001b[1mStep\u001b[0m                                                                           \n",
       " \u001b[99m10488\u001b[0m                                                                          "
      ]
     },
     "metadata": {},
     "output_type": "display_data"
    },
    {
     "data": {
      "application/vnd.jupyter.widget-view+json": {
       "model_id": "676a929762e9452e9c122f5626590e01",
       "version_major": 2,
       "version_minor": 0
      },
      "text/plain": [
       "IpythonBar(children=(HTML(value='  0.0%'), FloatProgress(value=0.0)))"
      ]
     },
     "metadata": {},
     "output_type": "display_data"
    },
    {
     "data": {
      "text/plain": [
       "\u001b[K\u001b[F\u001b[K\u001b[F\u001b[K\u001b[F \u001b[1mIters\u001b[0m    \u001b[1mElapsed Time\u001b[0m       \u001b[1mSpeed\u001b[0m            \u001b[1mLoss_D\u001b[0m           \u001b[1mLoss_G\u001b[0m   \u001b[1mEpoch\u001b[0m   \n",
       " \u001b[99m24/\u001b[93m24\u001b[0m\u001b[0m  \u001b[99m00:00:00<\u001b[93m00:00:00\u001b[0m\u001b[0m  \u001b[99m46.02it/s\u001b[0m  \u001b[99m-7.441659623532134e+17\u001b[0m  \u001b[99m-31.2371\u001b[0m   \u001b[99m438\u001b[0m    \n",
       " \u001b[1mStep\u001b[0m                                                                           \n",
       " \u001b[99m10512\u001b[0m                                                                          "
      ]
     },
     "metadata": {},
     "output_type": "display_data"
    },
    {
     "data": {
      "application/vnd.jupyter.widget-view+json": {
       "model_id": "9e5b130ef5dc42b6b261d049edfb6012",
       "version_major": 2,
       "version_minor": 0
      },
      "text/plain": [
       "IpythonBar(children=(HTML(value='  0.0%'), FloatProgress(value=0.0)))"
      ]
     },
     "metadata": {},
     "output_type": "display_data"
    },
    {
     "data": {
      "text/plain": [
       "\u001b[K\u001b[F\u001b[K\u001b[F\u001b[K\u001b[F \u001b[1mIters\u001b[0m    \u001b[1mElapsed Time\u001b[0m       \u001b[1mSpeed\u001b[0m            \u001b[1mLoss_D\u001b[0m           \u001b[1mLoss_G\u001b[0m   \u001b[1mEpoch\u001b[0m   \n",
       " \u001b[99m24/\u001b[93m24\u001b[0m\u001b[0m  \u001b[99m00:00:00<\u001b[93m00:00:00\u001b[0m\u001b[0m  \u001b[99m46.27it/s\u001b[0m  \u001b[99m-5.554134540479365e+17\u001b[0m  \u001b[99m-30.6024\u001b[0m   \u001b[99m439\u001b[0m    \n",
       " \u001b[1mStep\u001b[0m                                                                           \n",
       " \u001b[99m10536\u001b[0m                                                                          "
      ]
     },
     "metadata": {},
     "output_type": "display_data"
    },
    {
     "data": {
      "application/vnd.jupyter.widget-view+json": {
       "model_id": "ac539409477e4d2893074a69eb7968c5",
       "version_major": 2,
       "version_minor": 0
      },
      "text/plain": [
       "IpythonBar(children=(HTML(value='  0.0%'), FloatProgress(value=0.0)))"
      ]
     },
     "metadata": {},
     "output_type": "display_data"
    },
    {
     "data": {
      "text/plain": [
       "None"
      ]
     },
     "metadata": {},
     "output_type": "display_data"
    }
   ],
   "source": [
    "steps = 0\n",
    "for e, epoch in enumerate(range(n_epoch)):\n",
    "    progress_bar = qqdm(dataloader)\n",
    "    for i, data in enumerate(progress_bar):\n",
    "        mid_data = data\n",
    "        # print(mid_data.size())\n",
    "        mid_data = mid_data.cuda()\n",
    "        bs = mid_data.size(0)\n",
    "\n",
    "        # ============================================\n",
    "        #  Train D\n",
    "        # ============================================\n",
    "        z = Variable(torch.randn(bs, 1, z_dim)).cuda()\n",
    "        r_data = Variable(mid_data).cuda()\n",
    "        f_data = G(z)\n",
    "        # print(f_data)\n",
    "        # \"\"\" Medium: Use WGAN Loss. \"\"\"\n",
    "        # Label\n",
    "        r_label = torch.ones((bs)).cuda()\n",
    "        f_label = torch.zeros((bs)).cuda()\n",
    "\n",
    "        # Model forwarding\n",
    "        r_logit = D(r_data.detach())\n",
    "        f_logit = D(f_data.detach())\n",
    "        # print('r_logit: {}'.format(r_logit))\n",
    "        # print('f_logit: {}'.format(f_logit))\n",
    "        # print('r_logit size {}, f_logit size{}'.format(r_logit.size(), f_logit.size()))\n",
    "        # print('r_logit size {}, r_label size{}'.format(r_logit.size(), r_label.size()))\n",
    "        # # Compute the loss for the discriminator\n",
    "        # r_loss = criterion(r_logit, r_label) \n",
    "        # f_loss = criterion(f_logit, f_label)\n",
    "        # # loss_D = (r_loss + f_loss) / 2\n",
    "\n",
    "        # WGAN Loss\n",
    "        loss_D = -torch.mean(D(r_data)) + torch.mean(D(f_data))\n",
    "\n",
    "        # Model backwarding\n",
    "        D.zero_grad()\n",
    "        loss_D.backward()\n",
    "\n",
    "        # Updata the discriminator\n",
    "        opt_D.step()\n",
    "\n",
    "        \"\"\" Medium: Clip weights of discriminator. \"\"\"\n",
    "        for p in D.parameters():\n",
    "            p.data.clamp_(-clip_value, clip_value)\n",
    "        \n",
    "        # ============================================\n",
    "        #  Train G\n",
    "        # ============================================\n",
    "        if steps % n_critic == 0:\n",
    "            # Generate some fake data\n",
    "            z = Variable(torch.randn(bs, 1, z_dim)).cuda()\n",
    "            f_data = G(z)\n",
    "\n",
    "            # Model forearding\n",
    "            f_logit = D(f_data)\n",
    "\n",
    "            # WGAN Loss\n",
    "            loss_G = -torch.mean(D(f_data))\n",
    "\n",
    "            # Model backwarding\n",
    "            G.zero_grad()\n",
    "            loss_G.backward()\n",
    "\n",
    "            # Updata the generator\n",
    "            opt_G.step()\n",
    "        \n",
    "        steps += 1\n",
    "\n",
    "        # Set the info of the progress bar\n",
    "        #   Note that the value of the GAN loss is not directly related to\n",
    "        #   the quality of the generated images.\n",
    "        progress_bar.set_infos({\n",
    "            'Loss_D': round(loss_D.item(), 4),\n",
    "            'Loss_G': round(loss_G.item(), 4),\n",
    "            'Epoch': e+1,\n",
    "            'Step': steps,\n",
    "        })\n",
    "\n",
    "        G.eval()\n",
    "        f_data_sample = G(z_sample).data\n",
    "        G.train()\n",
    "\n",
    "        if (e+1) % 5 == 0 or e == 0:\n",
    "            # Save the checkpoints\n",
    "            torch.save(G.state_dict(), os.path.join(ckpt_dir, 'G.pth'))\n",
    "            torch.save(D.state_dict(), os.path.join(ckpt_dir, 'D.pth'))"
   ]
  },
  {
   "cell_type": "code",
   "execution_count": null,
   "metadata": {},
   "outputs": [],
   "source": []
  }
 ],
 "metadata": {
  "interpreter": {
   "hash": "de5b82254768225213474ab4669cea3d52fe6b864ad6c9d79489ae1089fd4498"
  },
  "kernelspec": {
   "display_name": "Python 3.7.10 64-bit ('pytorch': conda)",
   "name": "python3"
  },
  "language_info": {
   "codemirror_mode": {
    "name": "ipython",
    "version": 3
   },
   "file_extension": ".py",
   "mimetype": "text/x-python",
   "name": "python",
   "nbconvert_exporter": "python",
   "pygments_lexer": "ipython3",
   "version": "3.7.10"
  },
  "orig_nbformat": 4
 },
 "nbformat": 4,
 "nbformat_minor": 2
}
